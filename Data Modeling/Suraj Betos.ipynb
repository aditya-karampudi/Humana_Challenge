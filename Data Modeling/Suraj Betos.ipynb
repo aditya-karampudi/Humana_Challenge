{
 "cells": [
  {
   "cell_type": "code",
   "execution_count": 1,
   "metadata": {},
   "outputs": [
    {
     "name": "stderr",
     "output_type": "stream",
     "text": [
      "/root/anaconda3/lib/python3.8/site-packages/IPython/core/interactiveshell.py:3071: DtypeWarning: Columns (80,193) have mixed types.Specify dtype option on import or set low_memory=False.\n",
      "  has_raised = await self.run_ast_nodes(code_ast.body, cell_name,\n"
     ]
    }
   ],
   "source": [
    "from matplotlib import pyplot as plt\n",
    "import numpy as np\n",
    "import pandas as pd\n",
    "df= pd.read_csv('2020_Competition_Training (1).csv')\n",
    "\n",
    "# df = pd.read_csv('2020_Competition_Holdout .csv')\n",
    "# df['transportation_issues'] = 0"
   ]
  },
  {
   "cell_type": "markdown",
   "metadata": {},
   "source": [
    "# 2. PROCEDURES\n",
    "Why are NA values present in Procedure. Some of the procedures are important in understanding"
   ]
  },
  {
   "cell_type": "code",
   "execution_count": 2,
   "metadata": {},
   "outputs": [],
   "source": [
    "#betos - Berenson-Eggers Type of Service (BETOS) categories are used to analyze Medicare costs. Created to know how expenditures\n",
    "#are growing across categories\n",
    "#contains seven main categories\n",
    "# Evaluation and Management\n",
    "# Procedures\n",
    "# Imaging\n",
    "# Tests\n",
    "# Durable Medical Equipment\n",
    "# Other\n",
    "# Exceptions/Unclassified\n",
    "#A person can be given multiple betos services for eg- he/she might be tested for imaging and then suggest a medical\n",
    "#equipment\n",
    "\n",
    "#The analysis we can come up with is the combination of betos happening eg- heart attack - ambulance, screening, surgery etc\n",
    "#maybe apriori\n",
    "\n",
    "\n",
    "#Drug GPI - 100 attributes can be taken by a person - sheet name - GPI - indicates if the person is using the drug\n",
    "#count ct is the number of tablets/no. of times/the amount of dose of the drug is used by the person\n",
    "#per "
   ]
  },
  {
   "cell_type": "code",
   "execution_count": 3,
   "metadata": {},
   "outputs": [],
   "source": [
    "betos_df= df.filter(items=['person_id_syn',\n",
    "'transportation_issues',\n",
    "'betos_d1c_ind',\n",
    "'betos_d1c_pmpm_ct',\n",
    "'betos_d1d_ind',\n",
    "'betos_d1d_pmpm_ct',\n",
    "'betos_m1b_ind',\n",
    "'betos_m1b_pmpm_ct',\n",
    "'betos_m2c_ind',\n",
    "'betos_m2c_pmpm_ct',\n",
    "'betos_m5b_ind',\n",
    "'betos_m5b_pmpm_ct',\n",
    "'betos_m5c_ind',\n",
    "'betos_m5c_pmpm_ct',\n",
    "'betos_m5d_ind',\n",
    "'betos_m5d_pmpm_ct',\n",
    "'betos_o1a_ind',\n",
    "'betos_o1a_pmpm_ct',\n",
    "'betos_o1b_ind',\n",
    "'betos_o1b_pmpm_ct',\n",
    "'betos_o1e_ind',\n",
    "'betos_o1e_pmpm_ct',\n",
    "'betos_o1g_ind',\n",
    "'betos_o1g_pmpm_ct',\n",
    "'betos_t1a_ind',\n",
    "'betos_t1a_pmpm_ct',\n",
    "'betos_t1b_ind',\n",
    "'betos_t1b_pmpm_ct',\n",
    "'betos_t1e_ind',\n",
    "'betos_t1e_pmpm_ct',\n",
    "'betos_t1h_ind',\n",
    "'betos_t1h_pmpm_ct',\n",
    "'betos_t2a_ind',\n",
    "'betos_t2a_pmpm_ct',\n",
    "'betos_y2_ind',\n",
    "'betos_y2_pmpm_ct'\n",
    "])"
   ]
  },
  {
   "cell_type": "markdown",
   "metadata": {},
   "source": [
    "# 1. EVALUATION AND MANAGEMENT\n"
   ]
  },
  {
   "cell_type": "code",
   "execution_count": 4,
   "metadata": {},
   "outputs": [],
   "source": [
    "# 1. M1A OFFICE VISITS - NEW\n",
    "# 2. M1B OFFICE VISITS - ESTABLISHED\n",
    "# 3. M2A HOSPITAL VISIT - INITIAL\n",
    "# 4. M2B HOSPITAL VISIT - SUBSEQUENT\n",
    "# 5. M2C HOSPITAL VISIT - CRITICAL CARE\n",
    "# 6. M3 EMERGENCY ROOM VISIT\n",
    "# 7. M4A HOME VISIT\n",
    "# 8. M4B NURSING HOME VISIT\n",
    "# 9. M5A SPECIALIST - PATHOLOGY\n",
    "# 10.M5B SPECIALIST - PSYCHIATRY\n",
    "# 11.M5C SPECIALIST - OPHTHALMOLOGY\n",
    "# 12.M5D SPECIALIST - OTHER\n",
    "# 13.M6 CONSULTATIONS\n"
   ]
  },
  {
   "cell_type": "code",
   "execution_count": 5,
   "metadata": {},
   "outputs": [
    {
     "name": "stdout",
     "output_type": "stream",
     "text": [
      "The sum of pmpm in  betos_m1b_pmpm_ct 45311.621672346\n",
      "Maximum value in the column betos_m1b_pmpm_ct 6.25\n",
      "number of non -zeros in  betos_m1b_ind 65023\n",
      "percentage of patients having betos_m1b_ind issue and do not have transportation issue is 0.8555126647493964\n",
      "====================================================================================================\n",
      "The sum of pmpm in  betos_m2c_pmpm_ct 437.042686646\n",
      "Maximum value in the column betos_m2c_pmpm_ct 1.75\n",
      "number of non -zeros in  betos_m2c_ind 2351\n",
      "percentage of patients having betos_m2c_ind issue and do not have transportation issue is 0.7741386643981285\n",
      "====================================================================================================\n",
      "The sum of pmpm in  betos_m5b_pmpm_ct 1534.455509214\n",
      "Maximum value in the column betos_m5b_pmpm_ct 4.909091\n",
      "number of non -zeros in  betos_m5b_ind 4240\n",
      "percentage of patients having betos_m5b_ind issue and do not have transportation issue is 0.7429245283018868\n",
      "====================================================================================================\n",
      "The sum of pmpm in  betos_m5c_pmpm_ct 4649.778789565999\n",
      "Maximum value in the column betos_m5c_pmpm_ct 1.4166666\n",
      "number of non -zeros in  betos_m5c_ind 30509\n",
      "percentage of patients having betos_m5c_ind issue and do not have transportation issue is 0.8736438428004851\n",
      "====================================================================================================\n",
      "The sum of pmpm in  betos_m5d_pmpm_ct 7002.512363022\n",
      "Maximum value in the column betos_m5d_pmpm_ct 3.6953641999999998\n",
      "number of non -zeros in  betos_m5d_ind 35911\n",
      "percentage of patients having betos_m5d_ind issue and do not have transportation issue is 0.865055275542313\n",
      "====================================================================================================\n",
      "2    28524\n",
      "3    18284\n",
      "1    17994\n",
      "0     2757\n",
      "4     1925\n",
      "5       88\n",
      "Name: EVAL_ind_sum, dtype: int64\n",
      "percentage of people having EVAL issue 0.9603719887310987\n",
      "percentage of people had atleast 1 eval and have transportation issues  0.14456334655391756\n"
     ]
    }
   ],
   "source": [
    "EVAL_columns = [s for s in betos_df if 'betos_m' in s]\n",
    "\n",
    "\n",
    "# 'betos_m1b_ind',\n",
    "# 'betos_m1b_pmpm_ct',\n",
    "# 'betos_m2c_ind',\n",
    "# 'betos_m2c_pmpm_ct',\n",
    "# 'betos_m5b_ind',\n",
    "# 'betos_m5b_pmpm_ct',\n",
    "# 'betos_m5c_ind',\n",
    "# 'betos_m5c_pmpm_ct',\n",
    "# 'betos_m5d_ind',\n",
    "# 'betos_m5d_pmpm_ct',\n",
    "\n",
    "\n",
    "EVAL_ind_columns = [s for s in EVAL_columns if 'ind' in s] #only ind columns\n",
    "EVAL_pmpm_columns = [s for s in EVAL_columns if 'pmpm' in s] #only pmpm columns\n",
    "\n",
    "total_EVAL_pmpm = 0\n",
    "total_EVAL_ind = 0\n",
    "\n",
    "for i,j in zip(EVAL_ind_columns, EVAL_pmpm_columns):\n",
    "    total_EVAL_pmpm += betos_df[betos_df[j] != 0][j].sum()\n",
    "    total_EVAL_ind += (betos_df[i] != 0).sum()\n",
    "    print(\"The sum of pmpm in \",j,betos_df[betos_df[j] != 0][j].sum())\n",
    "    print(\"Maximum value in the column\",j, betos_df[j].max())\n",
    "    print(\"number of non -zeros in \", i, (betos_df[i] != 0).sum())\n",
    "    if (betos_df[i] !=0).sum() ==0:\n",
    "        print(\"column \", i, \"is not usefulllllllllllllllllllllllllllllllllllllllllll\")\n",
    "    else:\n",
    "        print('percentage of patients having',i, 'issue and do not have transportation issue is',betos_df[betos_df[i] ==1].transportation_issues.value_counts()[0]/betos_df[betos_df[i] ==1].shape[0])\n",
    "#     sns.distplot(betos_df[j])\n",
    "#     plt.show()\n",
    "    print('='*100)\n",
    "\n",
    "\n",
    "\n",
    "#row wise addition of the indices columns only to know if a patient has multiple CONGENITAL ANOMALIES\n",
    "betos_df['EVAL_ind_sum'] = betos_df[[c for c in betos_df.columns if c in EVAL_ind_columns]].sum(axis=1)\n",
    "betos_df['EVAL_pmpm_sum'] = betos_df[[c for c in betos_df.columns if c in EVAL_pmpm_columns]].sum(axis=1)\n",
    "print(betos_df.EVAL_ind_sum.value_counts())\n",
    "#15 patients having 2 congenital anomalies\n",
    "\n",
    "\n",
    "print(\"percentage of people having EVAL issue\",(betos_df[betos_df.EVAL_ind_sum>0].shape[0]/betos_df.shape[0]))\n",
    "\n",
    "print(\"percentage of people had atleast 1 eval and have transportation issues \",\\\n",
    "      (1 - betos_df[betos_df.EVAL_ind_sum>0].transportation_issues.value_counts()[0]/betos_df[betos_df.EVAL_ind_sum>0].shape[0]))"
   ]
  },
  {
   "cell_type": "markdown",
   "metadata": {},
   "source": [
    "# Procedures _ NO columns"
   ]
  },
  {
   "cell_type": "markdown",
   "metadata": {},
   "source": [
    "# Imaging - No columns"
   ]
  },
  {
   "cell_type": "markdown",
   "metadata": {},
   "source": [
    "# Tests"
   ]
  },
  {
   "cell_type": "code",
   "execution_count": 6,
   "metadata": {},
   "outputs": [
    {
     "name": "stdout",
     "output_type": "stream",
     "text": [
      "The sum of pmpm in  betos_t1a_pmpm_ct 14187.458811614\n",
      "Maximum value in the column betos_t1a_pmpm_ct 3.9166667\n",
      "number of non -zeros in  betos_t1a_ind 54530\n",
      "percentage of patients having betos_t1a_ind issue and do not have transportation issue is 0.8619658903355951\n",
      "====================================================================================================\n",
      "The sum of pmpm in  betos_t1b_pmpm_ct 13000.393590912001\n",
      "Maximum value in the column betos_t1b_pmpm_ct 6.3333335\n",
      "number of non -zeros in  betos_t1b_ind 52900\n",
      "percentage of patients having betos_t1b_ind issue and do not have transportation issue is 0.8533081285444234\n",
      "====================================================================================================\n",
      "The sum of pmpm in  betos_t1e_pmpm_ct 1922.9203936109998\n",
      "Maximum value in the column betos_t1e_pmpm_ct 3.3333333\n",
      "number of non -zeros in  betos_t1e_ind 9058\n",
      "percentage of patients having betos_t1e_ind issue and do not have transportation issue is 0.8047030249503202\n",
      "====================================================================================================\n",
      "The sum of pmpm in  betos_t1h_pmpm_ct 22336.04649834\n",
      "Maximum value in the column betos_t1h_pmpm_ct 7.083333500000001\n",
      "number of non -zeros in  betos_t1h_ind 63212\n",
      "percentage of patients having betos_t1h_ind issue and do not have transportation issue is 0.8553122824780105\n",
      "====================================================================================================\n",
      "The sum of pmpm in  betos_t2a_pmpm_ct 5988.949839459\n",
      "Maximum value in the column betos_t2a_pmpm_ct 2.7301137000000004\n",
      "number of non -zeros in  betos_t2a_ind 27967\n",
      "percentage of patients having betos_t2a_ind issue and do not have transportation issue is 0.8346980369721457\n",
      "====================================================================================================\n",
      "3    25671\n",
      "4    20338\n",
      "2    10285\n",
      "5     4878\n",
      "1     4342\n",
      "0     4058\n",
      "Name: TEST_ind_sum, dtype: int64\n",
      "percentage of people having TEST issue 0.9416719369861438\n",
      "percentage of people had atleast 1 eval and have transportation issues  0.14511402143053398\n"
     ]
    }
   ],
   "source": [
    "TEST_columns = [s for s in betos_df if 'betos_t' in s]\n",
    "\n",
    "\n",
    "# ['betos_t1a_ind',\n",
    "#  'betos_t1a_pmpm_ct',\n",
    "#  'betos_t1b_ind',\n",
    "#  'betos_t1b_pmpm_ct',\n",
    "#  'betos_t1e_ind',\n",
    "#  'betos_t1e_pmpm_ct',\n",
    "#  'betos_t1h_ind',\n",
    "#  'betos_t1h_pmpm_ct',\n",
    "#  'betos_t2a_ind',\n",
    "#  'betos_t2a_pmpm_ct']\n",
    "\n",
    "TEST_ind_columns = [s for s in TEST_columns if 'ind' in s] #only ind columns\n",
    "TEST_pmpm_columns = [s for s in TEST_columns if 'pmpm' in s] #only pmpm columns\n",
    "\n",
    "total_TEST_pmpm = 0\n",
    "total_TEST_ind = 0\n",
    "\n",
    "for i,j in zip(TEST_ind_columns, TEST_pmpm_columns):\n",
    "    total_TEST_pmpm += betos_df[betos_df[j] != 0][j].sum()\n",
    "    total_TEST_ind += (betos_df[i] != 0).sum()\n",
    "    print(\"The sum of pmpm in \",j,betos_df[betos_df[j] != 0][j].sum())\n",
    "    print(\"Maximum value in the column\",j, betos_df[j].max())\n",
    "    print(\"number of non -zeros in \", i, (betos_df[i] != 0).sum())\n",
    "    if (betos_df[i] !=0).sum() ==0:\n",
    "        print(\"column \", i, \"is not usefulllllllllllllllllllllllllllllllllllllllllll\")\n",
    "    else:\n",
    "        print('percentage of patients having',i, 'issue and do not have transportation issue is',betos_df[betos_df[i] ==1].transportation_issues.value_counts()[0]/betos_df[betos_df[i] ==1].shape[0])\n",
    "#     sns.distplot(betos_df[j])\n",
    "#     plt.show()\n",
    "    print('='*100)\n",
    "\n",
    "\n",
    "\n",
    "#row wise addition of the indices columns only to know if a patient has multiple CONGENITAL ANOMALIES\n",
    "betos_df['TEST_ind_sum'] = betos_df[[c for c in betos_df.columns if c in TEST_ind_columns]].sum(axis=1)\n",
    "betos_df['TEST_pmpm_sum'] = betos_df[[c for c in betos_df.columns if c in TEST_pmpm_columns]].sum(axis=1)\n",
    "print(betos_df.TEST_ind_sum.value_counts())\n",
    "#15 patients having 2 congenital anomalies\n",
    "\n",
    "print(\"percentage of people having TEST issue\",(betos_df[betos_df.TEST_ind_sum>0].shape[0]/betos_df.shape[0]))\n",
    "\n",
    "print(\"percentage of people had atleast 1 eval and have transportation issues \",\\\n",
    "      (1 - betos_df[betos_df.TEST_ind_sum>0].transportation_issues.value_counts()[0]/betos_df[betos_df.TEST_ind_sum>0].shape[0]))"
   ]
  },
  {
   "cell_type": "markdown",
   "metadata": {},
   "source": [
    "# 5. DURABLE MEDICAL EQUIPMENT\n"
   ]
  },
  {
   "cell_type": "code",
   "execution_count": 7,
   "metadata": {},
   "outputs": [
    {
     "name": "stdout",
     "output_type": "stream",
     "text": [
      "The sum of pmpm in  betos_d1c_pmpm_ct 2749.9355319489996\n",
      "Maximum value in the column betos_d1c_pmpm_ct 2.2582781\n",
      "number of non -zeros in  betos_d1c_ind 3165\n",
      "percentage of patients having betos_d1c_ind issue and do not have transportation issue is 0.7819905213270142\n",
      "====================================================================================================\n",
      "The sum of pmpm in  betos_d1d_pmpm_ct 500.738941967\n",
      "Maximum value in the column betos_d1d_pmpm_ct 1.5057143\n",
      "number of non -zeros in  betos_d1d_ind 1073\n",
      "percentage of patients having betos_d1d_ind issue and do not have transportation issue is 0.7306616961789375\n",
      "====================================================================================================\n",
      "0    65487\n",
      "1     3932\n",
      "2      153\n",
      "Name: DUR_ind_sum, dtype: int64\n",
      "percentage of people having DUR issue 0.058716150175357903\n",
      "percentage of people had atleast 1 dur and have transportation issues  0.22545899632802935\n"
     ]
    }
   ],
   "source": [
    "DUR_columns = [s for s in betos_df if 'betos_d' in s]\n",
    "\n",
    "\n",
    "# ['betos_d1c_ind', 'betos_d1c_pmpm_ct', 'betos_d1d_ind', 'betos_d1d_pmpm_ct']\n",
    "\n",
    "DUR_ind_columns = [s for s in DUR_columns if 'ind' in s] #only ind columns\n",
    "DUR_pmpm_columns = [s for s in DUR_columns if 'pmpm' in s] #only pmpm columns\n",
    "\n",
    "total_DUR_pmpm = 0\n",
    "total_DUR_ind = 0\n",
    "\n",
    "for i,j in zip(DUR_ind_columns, DUR_pmpm_columns):\n",
    "    total_DUR_pmpm += betos_df[betos_df[j] != 0][j].sum()\n",
    "    total_DUR_ind += (betos_df[i] != 0).sum()\n",
    "    print(\"The sum of pmpm in \",j,betos_df[betos_df[j] != 0][j].sum())\n",
    "    print(\"Maximum value in the column\",j, betos_df[j].max())\n",
    "    print(\"number of non -zeros in \", i, (betos_df[i] != 0).sum())\n",
    "    if (betos_df[i] !=0).sum() ==0:\n",
    "        print(\"column \", i, \"is not usefulllllllllllllllllllllllllllllllllllllllllll\")\n",
    "    else:\n",
    "        print('percentage of patients having',i, 'issue and do not have transportation issue is',betos_df[betos_df[i] ==1].transportation_issues.value_counts()[0]/betos_df[betos_df[i] ==1].shape[0])\n",
    "#     sns.distplot(betos_df[j])\n",
    "#     plt.show()\n",
    "    print('='*100)\n",
    "\n",
    "\n",
    "\n",
    "#row wise addition of the indices columns only to know if a patient has multiple CONGENITAL ANOMALIES\n",
    "betos_df['DUR_ind_sum'] = betos_df[[c for c in betos_df.columns if c in DUR_ind_columns]].sum(axis=1)\n",
    "betos_df['DUR_pmpm_sum'] = betos_df[[c for c in betos_df.columns if c in DUR_pmpm_columns]].sum(axis=1)\n",
    "print(betos_df.DUR_ind_sum.value_counts())\n",
    "#15 patients having 2 congenital anomalies\n",
    "\n",
    "print(\"percentage of people having DUR issue\",(betos_df[betos_df.DUR_ind_sum>0].shape[0]/betos_df.shape[0]))\n",
    "\n",
    "print(\"percentage of people had atleast 1 dur and have transportation issues \",(1 - betos_df[betos_df.DUR_ind_sum>0].transportation_issues.value_counts()[0]/betos_df[betos_df.DUR_ind_sum>0].shape[0]))"
   ]
  },
  {
   "cell_type": "code",
   "execution_count": null,
   "metadata": {},
   "outputs": [],
   "source": []
  },
  {
   "cell_type": "markdown",
   "metadata": {},
   "source": [
    "# 6. OTHER\n"
   ]
  },
  {
   "cell_type": "code",
   "execution_count": 8,
   "metadata": {},
   "outputs": [
    {
     "name": "stdout",
     "output_type": "stream",
     "text": [
      "The sum of pmpm in  betos_o1a_pmpm_ct 4506.683410694\n",
      "Maximum value in the column betos_o1a_pmpm_ct 19.25\n",
      "number of non -zeros in  betos_o1a_ind 9545\n",
      "percentage of patients having betos_o1a_ind issue and do not have transportation issue is 0.699214248297538\n",
      "====================================================================================================\n",
      "The sum of pmpm in  betos_o1b_pmpm_ct 1571.4169631510001\n",
      "Maximum value in the column betos_o1b_pmpm_ct 4.2352943\n",
      "number of non -zeros in  betos_o1b_ind 2198\n",
      "percentage of patients having betos_o1b_ind issue and do not have transportation issue is 0.9076433121019108\n",
      "====================================================================================================\n",
      "The sum of pmpm in  betos_o1e_pmpm_ct 8453.388529156\n",
      "Maximum value in the column betos_o1e_pmpm_ct 12.0\n",
      "number of non -zeros in  betos_o1e_ind 29850\n",
      "percentage of patients having betos_o1e_ind issue and do not have transportation issue is 0.8310217755443886\n",
      "====================================================================================================\n",
      "The sum of pmpm in  betos_o1g_pmpm_ct 2416.5415619309997\n",
      "Maximum value in the column betos_o1g_pmpm_ct 0.700565\n",
      "number of non -zeros in  betos_o1g_ind 23188\n",
      "percentage of patients having betos_o1g_ind issue and do not have transportation issue is 0.8657495256166983\n",
      "====================================================================================================\n",
      "1    28024\n",
      "0    24670\n",
      "2    13943\n",
      "3     2869\n",
      "4       66\n",
      "Name: OTH_ind_sum, dtype: int64\n",
      "percentage of people having OTH issue 0.6454033231759904\n",
      "percentage of people had atleast 1 dur and have transportation issues  0.1588793372232863\n"
     ]
    }
   ],
   "source": [
    "OTH_columns = [s for s in betos_df if 'betos_o' in s]\n",
    "\n",
    "\n",
    "# ['betos_o1a_ind',\n",
    "#  'betos_o1a_pmpm_ct',\n",
    "#  'betos_o1b_ind',\n",
    "#  'betos_o1b_pmpm_ct',\n",
    "#  'betos_o1e_ind',\n",
    "#  'betos_o1e_pmpm_ct',\n",
    "#  'betos_o1g_ind',\n",
    "#  'betos_o1g_pmpm_ct']\n",
    "\n",
    "OTH_ind_columns = [s for s in OTH_columns if 'ind' in s] #only ind columns\n",
    "OTH_pmpm_columns = [s for s in OTH_columns if 'pmpm' in s] #only pmpm columns\n",
    "\n",
    "total_OTH_pmpm = 0\n",
    "total_OTH_ind = 0\n",
    "\n",
    "for i,j in zip(OTH_ind_columns, OTH_pmpm_columns):\n",
    "    total_OTH_pmpm += betos_df[betos_df[j] != 0][j].sum()\n",
    "    total_OTH_ind += (betos_df[i] != 0).sum()\n",
    "    print(\"The sum of pmpm in \",j,betos_df[betos_df[j] != 0][j].sum())\n",
    "    print(\"Maximum value in the column\",j, betos_df[j].max())\n",
    "    print(\"number of non -zeros in \", i, (betos_df[i] != 0).sum())\n",
    "    if (betos_df[i] !=0).sum() ==0:\n",
    "        print(\"column \", i, \"is not usefulllllllllllllllllllllllllllllllllllllllllll\")\n",
    "    else:\n",
    "        print('percentage of patients having',i, 'issue and do not have transportation issue is',betos_df[betos_df[i] ==1].transportation_issues.value_counts()[0]/betos_df[betos_df[i] ==1].shape[0])\n",
    "#     sns.distplot(betos_df[j])\n",
    "#     plt.show()\n",
    "    print('='*100)\n",
    "\n",
    "\n",
    "\n",
    "#row wise addition of the indices columns only to know if a patient has multiple CONGENITAL ANOMALIES\n",
    "betos_df['OTH_ind_sum'] = betos_df[[c for c in betos_df.columns if c in OTH_ind_columns]].sum(axis=1)\n",
    "betos_df['OTH_pmpm_sum'] = betos_df[[c for c in betos_df.columns if c in OTH_pmpm_columns]].sum(axis=1)\n",
    "print(betos_df.OTH_ind_sum.value_counts())\n",
    "#15 patients having 2 congenital anomalies\n",
    "\n",
    "print(\"percentage of people having OTH issue\",(betos_df[betos_df.OTH_ind_sum>0].shape[0]/betos_df.shape[0]))\n",
    "\n",
    "print(\"percentage of people had atleast 1 dur and have transportation issues \",(1 - betos_df[betos_df.OTH_ind_sum>0].transportation_issues.value_counts()[0]/betos_df[betos_df.OTH_ind_sum>0].shape[0]))"
   ]
  },
  {
   "cell_type": "markdown",
   "metadata": {},
   "source": [
    "# 7. EXCEPTIONS/UNCLASSIFIED\n"
   ]
  },
  {
   "cell_type": "code",
   "execution_count": 9,
   "metadata": {},
   "outputs": [
    {
     "name": "stdout",
     "output_type": "stream",
     "text": [
      "The sum of pmpm in  betos_y2_pmpm_ct 4292.7569314190005\n",
      "Maximum value in the column betos_y2_pmpm_ct 8.666667\n",
      "number of non -zeros in  betos_y2_ind 4293\n",
      "percentage of patients having betos_y2_ind issue and do not have transportation issue is 0.757745166550198\n",
      "====================================================================================================\n",
      "0    65279\n",
      "1     4293\n",
      "Name: EXC_ind_sum, dtype: int64\n",
      "percentage of people having EXC issue 0.06170585867877882\n",
      "percentage of people had atleast 1 dur and have transportation issues  0.24225483344980203\n"
     ]
    }
   ],
   "source": [
    "EXC_columns = [s for s in betos_df if 'betos_y' in s]\n",
    "\n",
    "# ['betos_y2_ind', 'betos_y2_pmpm_ct']\n",
    "\n",
    "EXC_ind_columns = [s for s in EXC_columns if 'ind' in s] #only ind columns\n",
    "EXC_pmpm_columns = [s for s in EXC_columns if 'pmpm' in s] #only pmpm columns\n",
    "\n",
    "total_EXC_pmpm = 0\n",
    "total_EXC_ind = 0\n",
    "\n",
    "for i,j in zip(EXC_ind_columns, EXC_pmpm_columns):\n",
    "    total_EXC_pmpm += betos_df[betos_df[j] != 0][j].sum()\n",
    "    total_EXC_ind += (betos_df[i] != 0).sum()\n",
    "    print(\"The sum of pmpm in \",j,betos_df[betos_df[j] != 0][j].sum())\n",
    "    print(\"Maximum value in the column\",j, betos_df[j].max())\n",
    "    print(\"number of non -zeros in \", i, (betos_df[i] != 0).sum())\n",
    "    if (betos_df[i] !=0).sum() ==0:\n",
    "        print(\"column \", i, \"is not usefulllllllllllllllllllllllllllllllllllllllllll\")\n",
    "    else:\n",
    "        print('percentage of patients having',i, 'issue and do not have transportation issue is',betos_df[betos_df[i] ==1].transportation_issues.value_counts()[0]/betos_df[betos_df[i] ==1].shape[0])\n",
    "#     sns.distplot(betos_df[j])\n",
    "#     plt.show()\n",
    "    print('='*100)\n",
    "\n",
    "\n",
    "\n",
    "#row wise addition of the indices columns only to know if a patient has multiple CONGENITAL ANOMALIES\n",
    "betos_df['EXC_ind_sum'] = betos_df[[c for c in betos_df.columns if c in EXC_ind_columns]].sum(axis=1)\n",
    "betos_df['EXC_pmpm_sum'] = betos_df[[c for c in betos_df.columns if c in EXC_pmpm_columns]].sum(axis=1)\n",
    "print(betos_df.EXC_ind_sum.value_counts())\n",
    "#15 patients having 2 congenital anomalies\n",
    "\n",
    "print(\"percentage of people having EXC issue\",(betos_df[betos_df.EXC_ind_sum>0].shape[0]/betos_df.shape[0]))\n",
    "\n",
    "print(\"percentage of people had atleast 1 dur and have transportation issues \",(1 - betos_df[betos_df.EXC_ind_sum>0].transportation_issues.value_counts()[0]/betos_df[betos_df.EXC_ind_sum>0].shape[0]))"
   ]
  },
  {
   "cell_type": "code",
   "execution_count": null,
   "metadata": {},
   "outputs": [],
   "source": []
  },
  {
   "cell_type": "markdown",
   "metadata": {},
   "source": [
    "## Taking a subset of Only SUMMED attributes"
   ]
  },
  {
   "cell_type": "code",
   "execution_count": 10,
   "metadata": {},
   "outputs": [],
   "source": [
    "df_sum = [s for s in betos_df if 'sum' in s]\n",
    "betos_df_sum_ind = betos_df[[c for c in [s for s in betos_df if 'ind' in s] if c in df_sum]]\n",
    "betos_df_sum_pmpm = betos_df[[c for c in [s for s in betos_df if 'pmpm' in s] if c in df_sum]]\n",
    "df_summarized = pd.concat([betos_df_sum_ind,betos_df_sum_pmpm],axis=1)"
   ]
  },
  {
   "cell_type": "code",
   "execution_count": 11,
   "metadata": {},
   "outputs": [
    {
     "data": {
      "text/plain": [
       "['EVAL_pmpm_sum',\n",
       " 'TEST_pmpm_sum',\n",
       " 'DUR_pmpm_sum',\n",
       " 'OTH_pmpm_sum',\n",
       " 'EXC_pmpm_sum']"
      ]
     },
     "execution_count": 11,
     "metadata": {},
     "output_type": "execute_result"
    }
   ],
   "source": [
    "[s for s in df_sum if 'pmpm' in s]"
   ]
  },
  {
   "cell_type": "code",
   "execution_count": 12,
   "metadata": {},
   "outputs": [],
   "source": [
    "df_visualize = pd.concat([betos_df_sum_pmpm,df[['transportation_issues']]],axis=1)\n",
    "import seaborn as sns"
   ]
  },
  {
   "cell_type": "code",
   "execution_count": 13,
   "metadata": {},
   "outputs": [],
   "source": [
    "df_visualize = df_visualize.groupby('transportation_issues').sum().transpose().reset_index()\n",
    "df_visualize.columns = ['test','no_issue','issue']\n",
    "\n",
    "df_visualize = pd.melt(df_visualize, id_vars=['test'])"
   ]
  },
  {
   "cell_type": "code",
   "execution_count": 14,
   "metadata": {},
   "outputs": [],
   "source": [
    "def plot_categorical(df):\n",
    "    fig,ax = plt.subplots()\n",
    "    fig.set_size_inches(18,7)\n",
    "    ax = sns.countplot(x=i, hue=\"variable\", data=df)\n",
    "    for p in ax.patches:\n",
    "        ax.annotate(format(p.get_height(), '.2f'), (p.get_x() + p.get_width() / 1.9, p.get_height()), ha = 'center', va = 'center', xytext = (0, 10), textcoords = 'offset points')\n",
    "    plt.show()\n",
    "    "
   ]
  },
  {
   "cell_type": "code",
   "execution_count": 15,
   "metadata": {},
   "outputs": [
    {
     "data": {
      "text/html": [
       "<div>\n",
       "<style scoped>\n",
       "    .dataframe tbody tr th:only-of-type {\n",
       "        vertical-align: middle;\n",
       "    }\n",
       "\n",
       "    .dataframe tbody tr th {\n",
       "        vertical-align: top;\n",
       "    }\n",
       "\n",
       "    .dataframe thead th {\n",
       "        text-align: right;\n",
       "    }\n",
       "</style>\n",
       "<table border=\"1\" class=\"dataframe\">\n",
       "  <thead>\n",
       "    <tr style=\"text-align: right;\">\n",
       "      <th></th>\n",
       "      <th>test</th>\n",
       "      <th>variable</th>\n",
       "      <th>value</th>\n",
       "    </tr>\n",
       "  </thead>\n",
       "  <tbody>\n",
       "    <tr>\n",
       "      <th>0</th>\n",
       "      <td>EVAL_pmpm_sum</td>\n",
       "      <td>no_issue</td>\n",
       "      <td>49269.773245</td>\n",
       "    </tr>\n",
       "    <tr>\n",
       "      <th>1</th>\n",
       "      <td>TEST_pmpm_sum</td>\n",
       "      <td>no_issue</td>\n",
       "      <td>47806.391081</td>\n",
       "    </tr>\n",
       "    <tr>\n",
       "      <th>2</th>\n",
       "      <td>DUR_pmpm_sum</td>\n",
       "      <td>no_issue</td>\n",
       "      <td>2514.960616</td>\n",
       "    </tr>\n",
       "    <tr>\n",
       "      <th>3</th>\n",
       "      <td>OTH_pmpm_sum</td>\n",
       "      <td>no_issue</td>\n",
       "      <td>12982.036707</td>\n",
       "    </tr>\n",
       "    <tr>\n",
       "      <th>4</th>\n",
       "      <td>EXC_pmpm_sum</td>\n",
       "      <td>no_issue</td>\n",
       "      <td>3174.813510</td>\n",
       "    </tr>\n",
       "    <tr>\n",
       "      <th>5</th>\n",
       "      <td>EVAL_pmpm_sum</td>\n",
       "      <td>issue</td>\n",
       "      <td>9665.637776</td>\n",
       "    </tr>\n",
       "    <tr>\n",
       "      <th>6</th>\n",
       "      <td>TEST_pmpm_sum</td>\n",
       "      <td>issue</td>\n",
       "      <td>9629.378053</td>\n",
       "    </tr>\n",
       "    <tr>\n",
       "      <th>7</th>\n",
       "      <td>DUR_pmpm_sum</td>\n",
       "      <td>issue</td>\n",
       "      <td>735.713858</td>\n",
       "    </tr>\n",
       "    <tr>\n",
       "      <th>8</th>\n",
       "      <td>OTH_pmpm_sum</td>\n",
       "      <td>issue</td>\n",
       "      <td>3965.993758</td>\n",
       "    </tr>\n",
       "    <tr>\n",
       "      <th>9</th>\n",
       "      <td>EXC_pmpm_sum</td>\n",
       "      <td>issue</td>\n",
       "      <td>1117.943421</td>\n",
       "    </tr>\n",
       "  </tbody>\n",
       "</table>\n",
       "</div>"
      ],
      "text/plain": [
       "            test  variable         value\n",
       "0  EVAL_pmpm_sum  no_issue  49269.773245\n",
       "1  TEST_pmpm_sum  no_issue  47806.391081\n",
       "2   DUR_pmpm_sum  no_issue   2514.960616\n",
       "3   OTH_pmpm_sum  no_issue  12982.036707\n",
       "4   EXC_pmpm_sum  no_issue   3174.813510\n",
       "5  EVAL_pmpm_sum     issue   9665.637776\n",
       "6  TEST_pmpm_sum     issue   9629.378053\n",
       "7   DUR_pmpm_sum     issue    735.713858\n",
       "8   OTH_pmpm_sum     issue   3965.993758\n",
       "9   EXC_pmpm_sum     issue   1117.943421"
      ]
     },
     "execution_count": 15,
     "metadata": {},
     "output_type": "execute_result"
    }
   ],
   "source": [
    "df_visualize"
   ]
  },
  {
   "cell_type": "code",
   "execution_count": 16,
   "metadata": {},
   "outputs": [],
   "source": [
    "df_visualize.to_csv(\"df_viz_betos.csv\",index=False)"
   ]
  },
  {
   "cell_type": "code",
   "execution_count": null,
   "metadata": {},
   "outputs": [],
   "source": []
  },
  {
   "cell_type": "code",
   "execution_count": 17,
   "metadata": {
    "scrolled": false
   },
   "outputs": [
    {
     "data": {
      "text/plain": [
       "<seaborn.axisgrid.FacetGrid at 0x7f7d9ca4a7f0>"
      ]
     },
     "execution_count": 17,
     "metadata": {},
     "output_type": "execute_result"
    },
    {
     "data": {
      "image/png": "[encoded data removed]",
      "text/plain": [
       "<Figure size 842.4x451.44 with 1 Axes>"
      ]
     },
     "metadata": {
      "needs_background": "light"
     },
     "output_type": "display_data"
    }
   ],
   "source": [
    "# fig,ax = plt.subplots()\n",
    "# fig.set_size_inches(18,7)\n",
    "import seaborn as sns\n",
    "sns.catplot(x='test', y=\"value\", hue=\"variable\", kind=\"bar\", data=df_visualize, height=6.27, aspect=(11.7/6.27),legend_out = False)\n"
   ]
  },
  {
   "cell_type": "code",
   "execution_count": 18,
   "metadata": {},
   "outputs": [
    {
     "data": {
      "text/html": [
       "<div>\n",
       "<style scoped>\n",
       "    .dataframe tbody tr th:only-of-type {\n",
       "        vertical-align: middle;\n",
       "    }\n",
       "\n",
       "    .dataframe tbody tr th {\n",
       "        vertical-align: top;\n",
       "    }\n",
       "\n",
       "    .dataframe thead th {\n",
       "        text-align: right;\n",
       "    }\n",
       "</style>\n",
       "<table border=\"1\" class=\"dataframe\">\n",
       "  <thead>\n",
       "    <tr style=\"text-align: right;\">\n",
       "      <th></th>\n",
       "      <th>test</th>\n",
       "      <th>variable</th>\n",
       "      <th>value</th>\n",
       "    </tr>\n",
       "  </thead>\n",
       "  <tbody>\n",
       "    <tr>\n",
       "      <th>0</th>\n",
       "      <td>EVAL_pmpm_sum</td>\n",
       "      <td>no_issue</td>\n",
       "      <td>49269.773245</td>\n",
       "    </tr>\n",
       "    <tr>\n",
       "      <th>1</th>\n",
       "      <td>TEST_pmpm_sum</td>\n",
       "      <td>no_issue</td>\n",
       "      <td>47806.391081</td>\n",
       "    </tr>\n",
       "    <tr>\n",
       "      <th>2</th>\n",
       "      <td>DUR_pmpm_sum</td>\n",
       "      <td>no_issue</td>\n",
       "      <td>2514.960616</td>\n",
       "    </tr>\n",
       "    <tr>\n",
       "      <th>3</th>\n",
       "      <td>OTH_pmpm_sum</td>\n",
       "      <td>no_issue</td>\n",
       "      <td>12982.036707</td>\n",
       "    </tr>\n",
       "    <tr>\n",
       "      <th>4</th>\n",
       "      <td>EXC_pmpm_sum</td>\n",
       "      <td>no_issue</td>\n",
       "      <td>3174.813510</td>\n",
       "    </tr>\n",
       "    <tr>\n",
       "      <th>5</th>\n",
       "      <td>EVAL_pmpm_sum</td>\n",
       "      <td>issue</td>\n",
       "      <td>9665.637776</td>\n",
       "    </tr>\n",
       "    <tr>\n",
       "      <th>6</th>\n",
       "      <td>TEST_pmpm_sum</td>\n",
       "      <td>issue</td>\n",
       "      <td>9629.378053</td>\n",
       "    </tr>\n",
       "    <tr>\n",
       "      <th>7</th>\n",
       "      <td>DUR_pmpm_sum</td>\n",
       "      <td>issue</td>\n",
       "      <td>735.713858</td>\n",
       "    </tr>\n",
       "    <tr>\n",
       "      <th>8</th>\n",
       "      <td>OTH_pmpm_sum</td>\n",
       "      <td>issue</td>\n",
       "      <td>3965.993758</td>\n",
       "    </tr>\n",
       "    <tr>\n",
       "      <th>9</th>\n",
       "      <td>EXC_pmpm_sum</td>\n",
       "      <td>issue</td>\n",
       "      <td>1117.943421</td>\n",
       "    </tr>\n",
       "  </tbody>\n",
       "</table>\n",
       "</div>"
      ],
      "text/plain": [
       "            test  variable         value\n",
       "0  EVAL_pmpm_sum  no_issue  49269.773245\n",
       "1  TEST_pmpm_sum  no_issue  47806.391081\n",
       "2   DUR_pmpm_sum  no_issue   2514.960616\n",
       "3   OTH_pmpm_sum  no_issue  12982.036707\n",
       "4   EXC_pmpm_sum  no_issue   3174.813510\n",
       "5  EVAL_pmpm_sum     issue   9665.637776\n",
       "6  TEST_pmpm_sum     issue   9629.378053\n",
       "7   DUR_pmpm_sum     issue    735.713858\n",
       "8   OTH_pmpm_sum     issue   3965.993758\n",
       "9   EXC_pmpm_sum     issue   1117.943421"
      ]
     },
     "execution_count": 18,
     "metadata": {},
     "output_type": "execute_result"
    }
   ],
   "source": [
    "df_visualize"
   ]
  },
  {
   "cell_type": "markdown",
   "metadata": {},
   "source": [
    "## creating attribute on whether the person used a betos service or not"
   ]
  },
  {
   "cell_type": "code",
   "execution_count": 19,
   "metadata": {},
   "outputs": [
    {
     "name": "stdout",
     "output_type": "stream",
     "text": [
      "EVAL_ind_sum EVAL__\n",
      "TEST_ind_sum TEST__\n",
      "DUR_ind_sum DUR__\n",
      "OTH_ind_sum OTH__\n",
      "EXC_ind_sum EXC__\n"
     ]
    }
   ],
   "source": [
    "disease_names = betos_df_sum_ind.columns\n",
    "import re\n",
    "remove_lower = lambda text: re.sub('[a-z]', '', text)\n",
    "betos_issue = [remove_lower(x) for x in disease_names]\n",
    "df_medical_issue = pd.DataFrame(columns=betos_issue)\n",
    "\n",
    "df_betos_final = pd.concat([df_summarized,df_medical_issue],axis=1)\n",
    "\n",
    "indices_columns = list(betos_df_sum_ind.columns)\n",
    "for i,j in zip(indices_columns, betos_issue):\n",
    "    print(i,j)\n",
    "    df_betos_final.loc[df_betos_final[i] >0, j] = 1\n",
    "    df_betos_final[j] = df_betos_final[j].fillna(0)   \n"
   ]
  },
  {
   "cell_type": "markdown",
   "metadata": {},
   "source": [
    "## Summing all the summed attributes"
   ]
  },
  {
   "cell_type": "code",
   "execution_count": 20,
   "metadata": {},
   "outputs": [],
   "source": [
    "ind_total_sum = [s for s in df_betos_final if 'ind_sum' in s]\n",
    "pmpm_total_sum = [s for s in df_sum if 'pmpm' in s]\n",
    "yes_no_sum = [s for s in df_betos_final if '__' in s]\n",
    "\n",
    "df_betos_final['yes_no_sum'] = df_betos_final[yes_no_sum].sum(axis=1)\n",
    "df_betos_final['ind_total_sum'] = df_betos_final[ind_total_sum].sum(axis=1)\n",
    "df_betos_final['pmpm_total_sum'] = df_betos_final[pmpm_total_sum].sum(axis=1)\n"
   ]
  },
  {
   "cell_type": "code",
   "execution_count": 84,
   "metadata": {},
   "outputs": [
    {
     "data": {
      "image/png": "[encoded data removed]",
      "text/plain": [
       "<Figure size 900x360 with 1 Axes>"
      ]
     },
     "metadata": {
      "needs_background": "light"
     },
     "output_type": "display_data"
    }
   ],
   "source": [
    "df_visualize = pd.concat([df_betos_final[pmpm_total_sum],df[['transportation_issues']]],axis=1)\n",
    "df_visualize = df_visualize.groupby(['transportation_issues']).sum().transpose()\n",
    "df_visualize.reset_index(drop=False,inplace=True)\n",
    "df_visualize.columns = ['sum_columns','no_issues','issues']\n",
    "\n",
    "df_visualize = df_visualize.melt(['sum_columns'])\n",
    "\n",
    "ax = sns.catplot(x=\"sum_columns\", y=\"value\", hue=\"variable\", kind=\"bar\",height=5, \n",
    "            aspect=2.5, data=df_visualize,legend_out=False)\n",
    "# ax.title(\"asdf\")"
   ]
  },
  {
   "cell_type": "code",
   "execution_count": 78,
   "metadata": {},
   "outputs": [
    {
     "data": {
      "text/plain": [
       "<seaborn.axisgrid.FacetGrid at 0x7f7d97b34130>"
      ]
     },
     "execution_count": 78,
     "metadata": {},
     "output_type": "execute_result"
    },
    {
     "data": {
      "image/png": "[encoded data removed]",
      "text/plain": [
       "<Figure size 900x360 with 1 Axes>"
      ]
     },
     "metadata": {
      "needs_background": "light"
     },
     "output_type": "display_data"
    }
   ],
   "source": [
    "df_visualize['avg_value'] = 0\n",
    "\n",
    "for index, row in df_visualize.iterrows():\n",
    "    if row['variable'] == 'no_issues':\n",
    "        df_visualize.loc[index,'avg_value'] = row['value']/59375\n",
    "    else:\n",
    "        df_visualize.loc[index,'avg_value'] = row['value']/10197\n",
    "    \n",
    "\n",
    "sns.catplot(x=\"sum_columns\", y=\"avg_value\", hue=\"variable\", kind=\"bar\",height=5, \n",
    "            aspect=2.5, data=df_visualize,legend_out=False)"
   ]
  },
  {
   "cell_type": "code",
   "execution_count": 23,
   "metadata": {},
   "outputs": [
    {
     "data": {
      "text/html": [
       "<div>\n",
       "<style scoped>\n",
       "    .dataframe tbody tr th:only-of-type {\n",
       "        vertical-align: middle;\n",
       "    }\n",
       "\n",
       "    .dataframe tbody tr th {\n",
       "        vertical-align: top;\n",
       "    }\n",
       "\n",
       "    .dataframe thead th {\n",
       "        text-align: right;\n",
       "    }\n",
       "</style>\n",
       "<table border=\"1\" class=\"dataframe\">\n",
       "  <thead>\n",
       "    <tr style=\"text-align: right;\">\n",
       "      <th></th>\n",
       "      <th>person_id_syn</th>\n",
       "      <th>transportation_issues</th>\n",
       "      <th>src_platform_cd</th>\n",
       "      <th>sex_cd</th>\n",
       "      <th>est_age</th>\n",
       "      <th>smoker_current_ind</th>\n",
       "      <th>smoker_former_ind</th>\n",
       "      <th>lang_spoken_cd</th>\n",
       "      <th>mabh_seg</th>\n",
       "      <th>cci_score</th>\n",
       "      <th>...</th>\n",
       "      <th>submcc_rar_scl_ind</th>\n",
       "      <th>rx_gpi2_74_ind</th>\n",
       "      <th>rx_gpi2_89_ind</th>\n",
       "      <th>rx_gpi2_96_ind</th>\n",
       "      <th>submcc_rsk_obe_ind</th>\n",
       "      <th>rx_gpi2_22_ind</th>\n",
       "      <th>submcc_rsk_synx_ind</th>\n",
       "      <th>submcc_rsk_coag_ind</th>\n",
       "      <th>submcc_rsk_othr_ind</th>\n",
       "      <th>submcc_rsk_chol_ind</th>\n",
       "    </tr>\n",
       "  </thead>\n",
       "  <tbody>\n",
       "    <tr>\n",
       "      <th>62022</th>\n",
       "      <td>d97e73MOSe86T74L0Y5A8Ifb</td>\n",
       "      <td>0</td>\n",
       "      <td>EM</td>\n",
       "      <td>F</td>\n",
       "      <td>60</td>\n",
       "      <td>0</td>\n",
       "      <td>1</td>\n",
       "      <td>ENG</td>\n",
       "      <td>C5</td>\n",
       "      <td>9.0</td>\n",
       "      <td>...</td>\n",
       "      <td>0</td>\n",
       "      <td>0</td>\n",
       "      <td>0</td>\n",
       "      <td>0</td>\n",
       "      <td>0</td>\n",
       "      <td>1</td>\n",
       "      <td>0</td>\n",
       "      <td>0</td>\n",
       "      <td>0</td>\n",
       "      <td>1</td>\n",
       "    </tr>\n",
       "  </tbody>\n",
       "</table>\n",
       "<p>1 rows × 826 columns</p>\n",
       "</div>"
      ],
      "text/plain": [
       "                  person_id_syn  transportation_issues src_platform_cd sex_cd  \\\n",
       "62022  d97e73MOSe86T74L0Y5A8Ifb                      0              EM      F   \n",
       "\n",
       "       est_age  smoker_current_ind  smoker_former_ind lang_spoken_cd mabh_seg  \\\n",
       "62022       60                   0                  1            ENG       C5   \n",
       "\n",
       "       cci_score  ...  submcc_rar_scl_ind  rx_gpi2_74_ind  rx_gpi2_89_ind  \\\n",
       "62022        9.0  ...                   0               0               0   \n",
       "\n",
       "       rx_gpi2_96_ind  submcc_rsk_obe_ind  rx_gpi2_22_ind  \\\n",
       "62022               0                   0               1   \n",
       "\n",
       "       submcc_rsk_synx_ind  submcc_rsk_coag_ind  submcc_rsk_othr_ind  \\\n",
       "62022                    0                    0                    0   \n",
       "\n",
       "       submcc_rsk_chol_ind  \n",
       "62022                    1  \n",
       "\n",
       "[1 rows x 826 columns]"
      ]
     },
     "execution_count": 23,
     "metadata": {},
     "output_type": "execute_result"
    }
   ],
   "source": [
    "df[df.person_id_syn == 'd97e73MOSe86T74L0Y5A8Ifb']"
   ]
  },
  {
   "cell_type": "code",
   "execution_count": 26,
   "metadata": {
    "scrolled": true
   },
   "outputs": [],
   "source": [
    "df_visualize = df_betos_final.groupby(['betos_o1a_ind','transportation_issues']).size().transpose()"
   ]
  },
  {
   "cell_type": "code",
   "execution_count": null,
   "metadata": {},
   "outputs": [],
   "source": []
  },
  {
   "cell_type": "code",
   "execution_count": null,
   "metadata": {},
   "outputs": [],
   "source": []
  },
  {
   "cell_type": "code",
   "execution_count": null,
   "metadata": {},
   "outputs": [],
   "source": []
  },
  {
   "cell_type": "code",
   "execution_count": null,
   "metadata": {},
   "outputs": [],
   "source": []
  },
  {
   "cell_type": "markdown",
   "metadata": {},
   "source": [
    "## bringing percentage of tests done in each category"
   ]
  },
  {
   "cell_type": "code",
   "execution_count": 98,
   "metadata": {},
   "outputs": [],
   "source": [
    "# df_betos_final['EVAL_ind_perc'] = df_betos_final.EVAL_ind_sum/(len(EVAL_columns)/2)\n",
    "# df_betos_final['TEST_ind_perc'] = df_betos_final.TEST_ind_sum/(len(TEST_columns)/2)\n",
    "# df_betos_final['DUR_ind_perc'] = df_betos_final.DUR_ind_sum/(len(DUR_columns)/2)\n",
    "# df_betos_final['OTH_ind_perc'] = df_betos_final.OTH_ind_sum/(len(OTH_columns)/2)\n",
    "# df_betos_final['EXC_ind_perc'] = df_betos_final.EXC_ind_sum/(len(EXC_columns)/2)"
   ]
  },
  {
   "cell_type": "markdown",
   "metadata": {},
   "source": [
    "### Adding the transportation and person_id"
   ]
  },
  {
   "cell_type": "code",
   "execution_count": 99,
   "metadata": {},
   "outputs": [],
   "source": [
    "df_betos_final['transportation_issues'] = df.transportation_issues\n",
    "df_betos_final['person_id_syn'] = df.person_id_syn\n",
    "\n",
    "categorical_columns = [s for s in df_betos_final if '__' in s]\n",
    "categorical_columns_featured = categorical_columns + ['transportation_issues']\n",
    "\n",
    "for var in categorical_columns_featured:\n",
    "    df_betos_final[var] = df_betos_final[var].astype(\"category\")\n",
    "    \n",
    "numerical_columns_featured = df_betos_final.select_dtypes(exclude='category').columns"
   ]
  },
  {
   "cell_type": "markdown",
   "metadata": {},
   "source": [
    "# For original data"
   ]
  },
  {
   "cell_type": "code",
   "execution_count": 100,
   "metadata": {},
   "outputs": [],
   "source": [
    "# df= pd.read_csv('2020_Competition_Training (1).csv')\n",
    "betos_df= df.filter(items=['person_id_syn',\n",
    "'transportation_issues',\n",
    "'betos_d1c_ind',\n",
    "'betos_d1c_pmpm_ct',\n",
    "'betos_d1d_ind',\n",
    "'betos_d1d_pmpm_ct',\n",
    "'betos_m1b_ind',\n",
    "'betos_m1b_pmpm_ct',\n",
    "'betos_m2c_ind',\n",
    "'betos_m2c_pmpm_ct',\n",
    "'betos_m5b_ind',\n",
    "'betos_m5b_pmpm_ct',\n",
    "'betos_m5c_ind',\n",
    "'betos_m5c_pmpm_ct',\n",
    "'betos_m5d_ind',\n",
    "'betos_m5d_pmpm_ct',\n",
    "'betos_o1a_ind',\n",
    "'betos_o1a_pmpm_ct',\n",
    "'betos_o1b_ind',\n",
    "'betos_o1b_pmpm_ct',\n",
    "'betos_o1e_ind',\n",
    "'betos_o1e_pmpm_ct',\n",
    "'betos_o1g_ind',\n",
    "'betos_o1g_pmpm_ct',\n",
    "'betos_t1a_ind',\n",
    "'betos_t1a_pmpm_ct',\n",
    "'betos_t1b_ind',\n",
    "'betos_t1b_pmpm_ct',\n",
    "'betos_t1e_ind',\n",
    "'betos_t1e_pmpm_ct',\n",
    "'betos_t1h_ind',\n",
    "'betos_t1h_pmpm_ct',\n",
    "'betos_t2a_ind',\n",
    "'betos_t2a_pmpm_ct',\n",
    "'betos_y2_ind',\n",
    "'betos_y2_pmpm_ct'])"
   ]
  },
  {
   "cell_type": "code",
   "execution_count": 101,
   "metadata": {},
   "outputs": [],
   "source": [
    "categorical_columns = [s for s in betos_df if '_ind' in s]\n",
    "categorical_columns = categorical_columns + ['transportation_issues']\n",
    "\n",
    "for var in categorical_columns:\n",
    "    betos_df[var] = betos_df[var].astype(\"category\")\n",
    "\n",
    "numerical_columns = betos_df.select_dtypes(exclude='category').columns\n"
   ]
  },
  {
   "cell_type": "code",
   "execution_count": 102,
   "metadata": {},
   "outputs": [],
   "source": [
    "categorical_columns = categorical_columns+categorical_columns_featured\n",
    "numerical_columns = numerical_columns_featured.append(numerical_columns)"
   ]
  },
  {
   "cell_type": "code",
   "execution_count": 103,
   "metadata": {},
   "outputs": [],
   "source": [
    "def subset_data(df):\n",
    "    df_no_issue = df[df.transportation_issues == 0]\n",
    "    df_issue = df[df.transportation_issues == 1]\n",
    "\n",
    "    df_no_issue_sample = df_no_issue.sample(n=10197)\n",
    "    df_model_sample = pd.concat([df_no_issue_sample, df_issue])\n",
    "    return df_model_sample"
   ]
  },
  {
   "cell_type": "code",
   "execution_count": 104,
   "metadata": {},
   "outputs": [],
   "source": [
    "betos_df = betos_df.drop([\"transportation_issues\",'person_id_syn'],axis=1)\n",
    "df_all = pd.concat([df_betos_final,betos_df],axis=1)"
   ]
  },
  {
   "cell_type": "code",
   "execution_count": 105,
   "metadata": {},
   "outputs": [],
   "source": [
    "ind_total_sum = [s for s in df_betos_final if 'ind_sum' in s]\n",
    "pmpm_total_sum = [s for s in df_sum if 'pmpm' in s]\n",
    "yes_no_sum = [s for s in df_betos_final if '__' in s]\n"
   ]
  },
  {
   "cell_type": "code",
   "execution_count": 106,
   "metadata": {},
   "outputs": [],
   "source": [
    "# log_df_betos = pd.concat([df_all[ind_total_sum],df_all[yes_no_sum]],axis=1)\n",
    "# log_df_betos = pd.concat([log_df_betos,df[['transportation_issues','person_id_syn']]],axis=1)\n",
    "\n",
    "# log_df_betos.to_csv(\"log_df_betos.csv\",index=False)"
   ]
  },
  {
   "cell_type": "code",
   "execution_count": null,
   "metadata": {},
   "outputs": [],
   "source": []
  },
  {
   "cell_type": "code",
   "execution_count": 107,
   "metadata": {},
   "outputs": [],
   "source": [
    "# df_model_sample = subset_data(betos_df)\n",
    "# df_model_sample = subset_data(df_betos_final)\n",
    "df_model_sample = subset_data(df_all)"
   ]
  },
  {
   "cell_type": "code",
   "execution_count": 108,
   "metadata": {},
   "outputs": [],
   "source": [
    "def train_test_split(df):\n",
    "    import pandas as pd\n",
    "    from sklearn.model_selection import train_test_split\n",
    "    from sklearn.linear_model import LogisticRegression\n",
    "    from sklearn import metrics\n",
    "    import seaborn as sn\n",
    "    import matplotlib.pyplot as plt\n",
    "    y = df['transportation_issues']\n",
    "    X = df.drop(columns=['transportation_issues','person_id_syn'])\n",
    "    X_train,X_test,y_train,y_test = train_test_split(X,y,test_size=0.25,random_state=0)\n",
    "    X_train.reset_index(inplace=True, drop=True)\n",
    "    X_test.reset_index(inplace=True, drop=True)\n",
    "    y_train.reset_index(inplace=True, drop=True)\n",
    "    y_test.reset_index(inplace=True, drop=True)\n",
    "    return X_train, X_test, y_train, y_test"
   ]
  },
  {
   "cell_type": "code",
   "execution_count": 109,
   "metadata": {},
   "outputs": [],
   "source": [
    "X_train, X_test, y_train, y_test = train_test_split(df_model_sample)"
   ]
  },
  {
   "cell_type": "code",
   "execution_count": 110,
   "metadata": {},
   "outputs": [
    {
     "data": {
      "text/plain": [
       "(10197, 54)"
      ]
     },
     "execution_count": 110,
     "metadata": {},
     "output_type": "execute_result"
    }
   ],
   "source": [
    "df_model_sample.shape"
   ]
  },
  {
   "cell_type": "code",
   "execution_count": 111,
   "metadata": {},
   "outputs": [],
   "source": [
    "def standardization_encoding(df,df_train,df_test, numerical_columns,categorical_columns):\n",
    "    categorical_columns = list(filter(lambda w: w not in ['transportation_issues'], list(categorical_columns)))\n",
    "    numerical_columns = list(filter(lambda w: w not in ['person_id_syn'], list(numerical_columns)))\n",
    "#     print(categorical_columns, numerical_columns)\n",
    "\n",
    "    \n",
    "    from sklearn.preprocessing import LabelEncoder\n",
    "    labelencoder = LabelEncoder()\n",
    "    from collections import defaultdict\n",
    "    d = defaultdict(LabelEncoder)\n",
    "    # Encoding the variable\n",
    "    from collections import defaultdict\n",
    "    d = defaultdict(LabelEncoder)\n",
    "    \n",
    "    # Encoding the variable\n",
    "    cat_model_sample = df[categorical_columns].apply(lambda x: d[x.name].fit_transform(x))\n",
    "    \n",
    "    df_train_num = df_train[numerical_columns].values #returns a numpy array\n",
    "    min_max_scaler = preprocessing.MinMaxScaler()\n",
    "    df_scaled_train = min_max_scaler.fit_transform(df_train_num)\n",
    "    df_train_num_min_max = pd.DataFrame(df_scaled_train,columns=numerical_columns)\n",
    "    cat_model_sample = df_train[categorical_columns].apply(lambda x: d[x.name].transform(x))\n",
    "    df_train = pd.concat([df_train_num_min_max, cat_model_sample],axis=1)\n",
    "    \n",
    "    cat_model_sample = df_test[categorical_columns].apply(lambda x: d[x.name].transform(x))  \n",
    "    df_test_num = df_test[numerical_columns].values\n",
    "    df_scaled_test = min_max_scaler.transform(df_test_num)\n",
    "    df_test_num_min_max = pd.DataFrame(df_scaled_test,columns=numerical_columns)\n",
    "    \n",
    "    df_test = pd.concat([df_test_num_min_max, cat_model_sample],axis=1)\n",
    "    \n",
    "    \n",
    "    return df_train, df_test"
   ]
  },
  {
   "cell_type": "code",
   "execution_count": null,
   "metadata": {},
   "outputs": [],
   "source": []
  },
  {
   "cell_type": "code",
   "execution_count": 112,
   "metadata": {},
   "outputs": [],
   "source": [
    "from sklearn.preprocessing import LabelEncoder\n",
    "from sklearn import preprocessing\n",
    "\n",
    "X_train,X_test = standardization_encoding(df_all,X_train,X_test, numerical_columns, categorical_columns)\n",
    "# X_train,X_test = standardization_encoding(X_train,X_test, numerical_columns_featured, categorical_columns_featured)"
   ]
  },
  {
   "cell_type": "code",
   "execution_count": 113,
   "metadata": {},
   "outputs": [
    {
     "data": {
      "text/plain": [
       "(7647, 52)"
      ]
     },
     "execution_count": 113,
     "metadata": {},
     "output_type": "execute_result"
    }
   ],
   "source": [
    "X_train.shape"
   ]
  },
  {
   "cell_type": "code",
   "execution_count": 114,
   "metadata": {},
   "outputs": [],
   "source": [
    "# X_train.drop(X_train[[c for c in [s for s in X_train if '_perc' in s] if c in X_train]].columns,axis=1,inplace=True)\n",
    "# X_test.drop(X_test[[c for c in [s for s in X_test if '_perc' in s] if c in X_test]].columns,axis=1,inplace=True)"
   ]
  },
  {
   "cell_type": "code",
   "execution_count": 115,
   "metadata": {},
   "outputs": [],
   "source": [
    "#top 12 features\n",
    "\n",
    "top_featured = ['betos_o1a_ind',\n",
    " 'betos_m5b_ind',\n",
    " 'betos_m5d_ind',\n",
    " 'betos_t1a_ind',\n",
    " 'betos_o1a_pmpm_ct',\n",
    " 'betos_d1d_ind',\n",
    " 'EXC_ind_sum',\n",
    " 'betos_o1b_ind',\n",
    " 'betos_m1b_ind',\n",
    " 'DUR_ind_sum',\n",
    " 'EVAL_ind_sum',\n",
    " 'betos_m5b_pmpm_ct',\n",
    " 'yes_no_sum']"
   ]
  },
  {
   "cell_type": "code",
   "execution_count": 116,
   "metadata": {},
   "outputs": [],
   "source": [
    "# X_train=X_train[top_featured_columns]\n",
    "# X_test = X_test[top_featured_columns]"
   ]
  },
  {
   "cell_type": "code",
   "execution_count": 117,
   "metadata": {},
   "outputs": [],
   "source": [
    "# df_betos_export = pd.concat([df_all[top_featured],df[['person_id_syn']]],axis=1)\n",
    "# df_betos_export.columns = [str(col) + '_betos' for col in df_betos_export.columns]\n",
    "# df_betos_export.to_pickle(\"df_betos_suraj.pkl\")"
   ]
  },
  {
   "cell_type": "code",
   "execution_count": 119,
   "metadata": {},
   "outputs": [],
   "source": [
    "df_betos_test = pd.concat([df_all[top_featured],df[['person_id_syn']]],axis=1)\n",
    "df_betos_test.columns = [str(col) + '_betos' for col in df_betos_test.columns]\n",
    "df_betos_test.to_pickle(\"df_betos_test_suraj.pkl\")"
   ]
  },
  {
   "cell_type": "code",
   "execution_count": null,
   "metadata": {},
   "outputs": [],
   "source": []
  },
  {
   "cell_type": "code",
   "execution_count": 70,
   "metadata": {},
   "outputs": [
    {
     "name": "stdout",
     "output_type": "stream",
     "text": [
      "Accuracy:  0.614041969013532\n",
      "Accuracy:  0.6151683556717882\n"
     ]
    },
    {
     "name": "stderr",
     "output_type": "stream",
     "text": [
      "/root/anaconda3/lib/python3.8/site-packages/sklearn/linear_model/_logistic.py:762: ConvergenceWarning: lbfgs failed to converge (status=1):\n",
      "STOP: TOTAL NO. of ITERATIONS REACHED LIMIT.\n",
      "\n",
      "Increase the number of iterations (max_iter) or scale the data as shown in:\n",
      "    https://scikit-learn.org/stable/modules/preprocessing.html\n",
      "Please also refer to the documentation for alternative solver options:\n",
      "    https://scikit-learn.org/stable/modules/linear_model.html#logistic-regression\n",
      "  n_iter_i = _check_optimize_result(\n"
     ]
    }
   ],
   "source": [
    "from sklearn.model_selection import train_test_split\n",
    "from sklearn.linear_model import LogisticRegression\n",
    "from sklearn import metrics\n",
    "import seaborn as sn\n",
    "import matplotlib.pyplot as plt\n",
    "from sklearn.preprocessing import StandardScaler\n",
    "\n",
    "logistic_regression= LogisticRegression()\n",
    "logistic_regression.fit(X_train,y_train)\n",
    "y_pred_test=logistic_regression.predict(X_test)\n",
    "y_pred_train=logistic_regression.predict(X_train)\n",
    "\n",
    "print('Accuracy: ',metrics.accuracy_score(y_test, y_pred_test))\n",
    "\n",
    "print('Accuracy: ',metrics.accuracy_score(y_train, y_pred_train))"
   ]
  },
  {
   "cell_type": "code",
   "execution_count": 71,
   "metadata": {},
   "outputs": [
    {
     "name": "stdout",
     "output_type": "stream",
     "text": [
      "0.6173759560698177\n",
      "0.7092513893429225\n"
     ]
    }
   ],
   "source": [
    "from sklearn.ensemble import RandomForestClassifier\n",
    "from sklearn.metrics import classification_report\n",
    "import seaborn as sns\n",
    "from sklearn.metrics import confusion_matrix\n",
    "RF_clf = RandomForestClassifier(n_estimators=300,max_depth=10)\n",
    "RF_clf.fit(X_train, y_train)\n",
    "\n",
    "\n",
    "y_rf_pred_test = RF_clf.predict(X_test)\n",
    "y_rf_pred_train = RF_clf.predict(X_train)\n",
    "\n",
    "print(metrics.accuracy_score(y_test, y_rf_pred_test))\n",
    "# print(classification_report(y_test, y_rf_pred_test))\n",
    "\n",
    "print(metrics.accuracy_score(y_train, y_rf_pred_train))"
   ]
  },
  {
   "cell_type": "code",
   "execution_count": 72,
   "metadata": {
    "scrolled": false
   },
   "outputs": [
    {
     "name": "stdout",
     "output_type": "stream",
     "text": [
      "Fitting 5 folds for each of 1 candidates, totalling 5 fits\n"
     ]
    },
    {
     "name": "stderr",
     "output_type": "stream",
     "text": [
      "/root/anaconda3/lib/python3.8/site-packages/sklearn/utils/validation.py:68: FutureWarning: Pass scoring=roc_auc, n_jobs=-1 as keyword args. From version 0.25 passing these as positional arguments will result in an error\n",
      "  warnings.warn(\"Pass {} as keyword args. From version 0.25 \"\n",
      "[Parallel(n_jobs=-1)]: Using backend LokyBackend with 8 concurrent workers.\n",
      "[Parallel(n_jobs=-1)]: Done   2 out of   5 | elapsed:    3.3s remaining:    4.9s\n",
      "[Parallel(n_jobs=-1)]: Done   3 out of   5 | elapsed:    3.6s remaining:    2.4s\n",
      "[Parallel(n_jobs=-1)]: Done   5 out of   5 | elapsed:    3.9s remaining:    0.0s\n",
      "[Parallel(n_jobs=-1)]: Done   5 out of   5 | elapsed:    3.9s finished\n"
     ]
    },
    {
     "name": "stdout",
     "output_type": "stream",
     "text": [
      "0.6007060207883899\n",
      "0.7169009480222295\n"
     ]
    },
    {
     "data": {
      "text/plain": [
       "<Figure size 1440x1080 with 0 Axes>"
      ]
     },
     "metadata": {},
     "output_type": "display_data"
    },
    {
     "data": {
      "image/png": "[encoded data removed]",
      "text/plain": [
       "<Figure size 432x288 with 2 Axes>"
      ]
     },
     "metadata": {},
     "output_type": "display_data"
    },
    {
     "data": {
      "image/png": "[encoded data removed]",
      "text/plain": [
       "<Figure size 432x288 with 1 Axes>"
      ]
     },
     "metadata": {},
     "output_type": "display_data"
    },
    {
     "data": {
      "text/plain": [
       "<matplotlib.axes._subplots.AxesSubplot at 0x7fc8184ef460>"
      ]
     },
     "execution_count": 72,
     "metadata": {},
     "output_type": "execute_result"
    },
    {
     "data": {
      "image/png": "[encoded data removed]",
      "text/plain": [
       "<Figure size 432x288 with 1 Axes>"
      ]
     },
     "metadata": {},
     "output_type": "display_data"
    },
    {
     "data": {
      "image/png": "[encoded data removed]",
      "text/plain": [
       "<Figure size 595.44x1080 with 1 Axes>"
      ]
     },
     "metadata": {},
     "output_type": "display_data"
    }
   ],
   "source": [
    "\n",
    "# Hyperparameter tuning grid\n",
    "params = {'min_child_weight': [5],\n",
    "        'gamma': [1.5],\n",
    "        'subsample': [0.8],\n",
    "        'colsample_bytree': [0.8],\n",
    "        'max_depth': [4]}\n",
    "\n",
    "from sklearn.model_selection import GridSearchCV\n",
    "from xgboost.sklearn import XGBClassifier\n",
    "# Initialize XGBoost model, use growth tree algorithm similar to lightgbm\n",
    "bst = XGBClassifier(n_jobs=-1,grow_policy='lossguide',tree_method ='hist',n_estimators=150)\n",
    "# Gridsearch on parameter grid, use AUC to determine the best model\n",
    "cv = GridSearchCV(bst,params,'roc_auc',-1, verbose=10)\n",
    "# Fit model on the training data, track logloss on training and testing set\n",
    "cv.fit(X_train, y_train,eval_metric='logloss',eval_set=[(X_train,y_train),(X_test,y_test)],verbose=False)\n",
    "\n",
    "import cf_matrix\n",
    "from cf_matrix import make_confusion_matrix\n",
    "from sklearn.metrics import confusion_matrix,accuracy_score\n",
    "\n",
    "y_xg_pred_test = cv.best_estimator_.predict(X_test)\n",
    "y_xg_pred_train = cv.best_estimator_.predict(X_train)\n",
    "\n",
    "print(metrics.accuracy_score(y_test, y_xg_pred_test))\n",
    "print(metrics.accuracy_score(y_train, y_xg_pred_train))\n",
    "\n",
    "\n",
    "cm = confusion_matrix(y_test, y_xg_pred_test)\n",
    "plt.figure(figsize=(20,15))\n",
    "sns.set(font_scale=1.4) # for label size\n",
    "make_confusion_matrix(cm, group_names=['no- issue','issue'],categories=['no-issue','issue'], cmap='binary')\n",
    "b, t = plt.ylim() # discover the values for bottom and top\n",
    "b += 0.5 # Add 0.5 to the bottom\n",
    "t -= 0.5 # Subtract 0.5 from the top\n",
    "plt.ylim(b, t) \n",
    "plt.show()\n",
    "\n",
    "import joblib\n",
    "\n",
    "# Print out the best parameters\n",
    "cv.best_params_\n",
    "\n",
    "#save model\n",
    "joblib.dump(cv.best_estimator_, 'xgb.model')\n",
    "\n",
    "\n",
    "#load saved model\n",
    "xgb = joblib.load('xgb.model')\n",
    "\n",
    "\n",
    "import sklearn.metrics as metrics\n",
    "# calculate the fpr and tpr for all thresholds of the classification\n",
    "probs = xgb.predict_proba(X_test)\n",
    "preds = probs[:,1]\n",
    "# preds = [1]*17119\n",
    "fpr, tpr, threshold = metrics.roc_curve(y_test, preds)\n",
    "roc_auc = metrics.auc(fpr, tpr)\n",
    "# method I: plt\n",
    "import matplotlib.pyplot as plt\n",
    "plt.title('Receiver Operating Characteristic')\n",
    "plt.plot(fpr, tpr, 'b', label = 'AUC = %0.2f' % roc_auc)\n",
    "plt.legend(loc = 'lower right')\n",
    "plt.plot([0, 1], [0, 1],'r--')\n",
    "plt.xlim([0, 1])\n",
    "plt.ylim([0, 1])\n",
    "plt.ylabel('True Positive Rate')\n",
    "plt.xlabel('False Positive Rate')\n",
    "plt.show()\n",
    "\n",
    "\n",
    "# retrieve performance metrics\n",
    "results = xgb.evals_result()\n",
    "epochs = len(results['validation_0']['logloss'])\n",
    "x_axis = range(0, epochs)\n",
    "# plot log loss\n",
    "fig, ax = plt.subplots()\n",
    "ax.plot(x_axis, results['validation_0']['logloss'], label='Train')\n",
    "ax.plot(x_axis, results['validation_1']['logloss'], label='Test')\n",
    "ax.legend()\n",
    "plt.ylabel('Log Loss')\n",
    "plt.title('XGBoost Log Loss');\n",
    "\n",
    "# Feature importance plot\n",
    "feature_importance = pd.DataFrame({'feature':xgb.get_booster().feature_names, 'importance':xgb.feature_importances_}).sort_values('importance',ascending=False).reset_index().drop(columns='index')\n",
    "fig, ax = plt.subplots()\n",
    "fig.set_size_inches(8.27,15)\n",
    "plt.title('Feature Importance Plot')\n",
    "sns.barplot(x='importance',y='feature',ax=ax,data=feature_importance[:50])"
   ]
  },
  {
   "cell_type": "code",
   "execution_count": 73,
   "metadata": {
    "scrolled": true
   },
   "outputs": [
    {
     "data": {
      "text/html": [
       "<div>\n",
       "<style scoped>\n",
       "    .dataframe tbody tr th:only-of-type {\n",
       "        vertical-align: middle;\n",
       "    }\n",
       "\n",
       "    .dataframe tbody tr th {\n",
       "        vertical-align: top;\n",
       "    }\n",
       "\n",
       "    .dataframe thead th {\n",
       "        text-align: right;\n",
       "    }\n",
       "</style>\n",
       "<table border=\"1\" class=\"dataframe\">\n",
       "  <thead>\n",
       "    <tr style=\"text-align: right;\">\n",
       "      <th></th>\n",
       "      <th>feature</th>\n",
       "      <th>importance</th>\n",
       "    </tr>\n",
       "  </thead>\n",
       "  <tbody>\n",
       "    <tr>\n",
       "      <th>0</th>\n",
       "      <td>betos_o1a_ind</td>\n",
       "      <td>0.408019</td>\n",
       "    </tr>\n",
       "    <tr>\n",
       "      <th>1</th>\n",
       "      <td>betos_m5b_ind</td>\n",
       "      <td>0.081365</td>\n",
       "    </tr>\n",
       "    <tr>\n",
       "      <th>2</th>\n",
       "      <td>betos_m5d_ind</td>\n",
       "      <td>0.028979</td>\n",
       "    </tr>\n",
       "    <tr>\n",
       "      <th>3</th>\n",
       "      <td>betos_t1a_ind</td>\n",
       "      <td>0.028897</td>\n",
       "    </tr>\n",
       "    <tr>\n",
       "      <th>4</th>\n",
       "      <td>betos_o1a_pmpm_ct</td>\n",
       "      <td>0.028016</td>\n",
       "    </tr>\n",
       "    <tr>\n",
       "      <th>5</th>\n",
       "      <td>betos_d1d_ind</td>\n",
       "      <td>0.023981</td>\n",
       "    </tr>\n",
       "    <tr>\n",
       "      <th>6</th>\n",
       "      <td>EXC_ind_sum</td>\n",
       "      <td>0.019629</td>\n",
       "    </tr>\n",
       "    <tr>\n",
       "      <th>7</th>\n",
       "      <td>betos_o1b_ind</td>\n",
       "      <td>0.016908</td>\n",
       "    </tr>\n",
       "    <tr>\n",
       "      <th>8</th>\n",
       "      <td>betos_m1b_ind</td>\n",
       "      <td>0.016253</td>\n",
       "    </tr>\n",
       "    <tr>\n",
       "      <th>9</th>\n",
       "      <td>DUR_ind_sum</td>\n",
       "      <td>0.014807</td>\n",
       "    </tr>\n",
       "    <tr>\n",
       "      <th>10</th>\n",
       "      <td>EVAL_ind_sum</td>\n",
       "      <td>0.013855</td>\n",
       "    </tr>\n",
       "    <tr>\n",
       "      <th>11</th>\n",
       "      <td>betos_m5b_pmpm_ct</td>\n",
       "      <td>0.013731</td>\n",
       "    </tr>\n",
       "    <tr>\n",
       "      <th>12</th>\n",
       "      <td>yes_no_sum</td>\n",
       "      <td>0.013610</td>\n",
       "    </tr>\n",
       "    <tr>\n",
       "      <th>13</th>\n",
       "      <td>betos_y2_pmpm_ct</td>\n",
       "      <td>0.012005</td>\n",
       "    </tr>\n",
       "    <tr>\n",
       "      <th>14</th>\n",
       "      <td>betos_m5c_pmpm_ct</td>\n",
       "      <td>0.011849</td>\n",
       "    </tr>\n",
       "    <tr>\n",
       "      <th>15</th>\n",
       "      <td>betos_o1e_pmpm_ct</td>\n",
       "      <td>0.011681</td>\n",
       "    </tr>\n",
       "    <tr>\n",
       "      <th>16</th>\n",
       "      <td>ind_total_sum</td>\n",
       "      <td>0.011486</td>\n",
       "    </tr>\n",
       "    <tr>\n",
       "      <th>17</th>\n",
       "      <td>EXC_pmpm_sum</td>\n",
       "      <td>0.011138</td>\n",
       "    </tr>\n",
       "    <tr>\n",
       "      <th>18</th>\n",
       "      <td>betos_m5c_ind</td>\n",
       "      <td>0.010952</td>\n",
       "    </tr>\n",
       "    <tr>\n",
       "      <th>19</th>\n",
       "      <td>OTH_pmpm_sum</td>\n",
       "      <td>0.010898</td>\n",
       "    </tr>\n",
       "    <tr>\n",
       "      <th>20</th>\n",
       "      <td>betos_m1b_pmpm_ct</td>\n",
       "      <td>0.010893</td>\n",
       "    </tr>\n",
       "    <tr>\n",
       "      <th>21</th>\n",
       "      <td>betos_t2a_pmpm_ct</td>\n",
       "      <td>0.010624</td>\n",
       "    </tr>\n",
       "    <tr>\n",
       "      <th>22</th>\n",
       "      <td>betos_m5d_pmpm_ct</td>\n",
       "      <td>0.010588</td>\n",
       "    </tr>\n",
       "    <tr>\n",
       "      <th>23</th>\n",
       "      <td>pmpm_total_sum</td>\n",
       "      <td>0.010223</td>\n",
       "    </tr>\n",
       "    <tr>\n",
       "      <th>24</th>\n",
       "      <td>betos_t1a_pmpm_ct</td>\n",
       "      <td>0.010206</td>\n",
       "    </tr>\n",
       "    <tr>\n",
       "      <th>25</th>\n",
       "      <td>EVAL_pmpm_sum</td>\n",
       "      <td>0.009916</td>\n",
       "    </tr>\n",
       "    <tr>\n",
       "      <th>26</th>\n",
       "      <td>betos_t2a_ind</td>\n",
       "      <td>0.009794</td>\n",
       "    </tr>\n",
       "    <tr>\n",
       "      <th>27</th>\n",
       "      <td>betos_o1b_pmpm_ct</td>\n",
       "      <td>0.009776</td>\n",
       "    </tr>\n",
       "    <tr>\n",
       "      <th>28</th>\n",
       "      <td>betos_o1g_pmpm_ct</td>\n",
       "      <td>0.009723</td>\n",
       "    </tr>\n",
       "    <tr>\n",
       "      <th>29</th>\n",
       "      <td>betos_t1b_pmpm_ct</td>\n",
       "      <td>0.009393</td>\n",
       "    </tr>\n",
       "    <tr>\n",
       "      <th>30</th>\n",
       "      <td>betos_t1h_pmpm_ct</td>\n",
       "      <td>0.009366</td>\n",
       "    </tr>\n",
       "    <tr>\n",
       "      <th>31</th>\n",
       "      <td>betos_t1e_pmpm_ct</td>\n",
       "      <td>0.009281</td>\n",
       "    </tr>\n",
       "    <tr>\n",
       "      <th>32</th>\n",
       "      <td>TEST_pmpm_sum</td>\n",
       "      <td>0.009211</td>\n",
       "    </tr>\n",
       "    <tr>\n",
       "      <th>33</th>\n",
       "      <td>TEST_ind_sum</td>\n",
       "      <td>0.008499</td>\n",
       "    </tr>\n",
       "    <tr>\n",
       "      <th>34</th>\n",
       "      <td>DUR_pmpm_sum</td>\n",
       "      <td>0.008398</td>\n",
       "    </tr>\n",
       "    <tr>\n",
       "      <th>35</th>\n",
       "      <td>betos_m2c_pmpm_ct</td>\n",
       "      <td>0.008235</td>\n",
       "    </tr>\n",
       "    <tr>\n",
       "      <th>36</th>\n",
       "      <td>OTH_ind_sum</td>\n",
       "      <td>0.008057</td>\n",
       "    </tr>\n",
       "    <tr>\n",
       "      <th>37</th>\n",
       "      <td>betos_o1e_ind</td>\n",
       "      <td>0.007814</td>\n",
       "    </tr>\n",
       "    <tr>\n",
       "      <th>38</th>\n",
       "      <td>betos_o1g_ind</td>\n",
       "      <td>0.007721</td>\n",
       "    </tr>\n",
       "    <tr>\n",
       "      <th>39</th>\n",
       "      <td>betos_t1h_ind</td>\n",
       "      <td>0.007708</td>\n",
       "    </tr>\n",
       "    <tr>\n",
       "      <th>40</th>\n",
       "      <td>betos_d1c_pmpm_ct</td>\n",
       "      <td>0.007643</td>\n",
       "    </tr>\n",
       "    <tr>\n",
       "      <th>41</th>\n",
       "      <td>betos_t1b_ind</td>\n",
       "      <td>0.007398</td>\n",
       "    </tr>\n",
       "    <tr>\n",
       "      <th>42</th>\n",
       "      <td>betos_d1d_pmpm_ct</td>\n",
       "      <td>0.006714</td>\n",
       "    </tr>\n",
       "    <tr>\n",
       "      <th>43</th>\n",
       "      <td>OTH__</td>\n",
       "      <td>0.004759</td>\n",
       "    </tr>\n",
       "    <tr>\n",
       "      <th>44</th>\n",
       "      <td>EVAL__</td>\n",
       "      <td>0.000000</td>\n",
       "    </tr>\n",
       "    <tr>\n",
       "      <th>45</th>\n",
       "      <td>DUR__</td>\n",
       "      <td>0.000000</td>\n",
       "    </tr>\n",
       "    <tr>\n",
       "      <th>46</th>\n",
       "      <td>TEST__</td>\n",
       "      <td>0.000000</td>\n",
       "    </tr>\n",
       "    <tr>\n",
       "      <th>47</th>\n",
       "      <td>betos_d1c_ind</td>\n",
       "      <td>0.000000</td>\n",
       "    </tr>\n",
       "    <tr>\n",
       "      <th>48</th>\n",
       "      <td>betos_y2_ind</td>\n",
       "      <td>0.000000</td>\n",
       "    </tr>\n",
       "    <tr>\n",
       "      <th>49</th>\n",
       "      <td>betos_t1e_ind</td>\n",
       "      <td>0.000000</td>\n",
       "    </tr>\n",
       "    <tr>\n",
       "      <th>50</th>\n",
       "      <td>betos_m2c_ind</td>\n",
       "      <td>0.000000</td>\n",
       "    </tr>\n",
       "    <tr>\n",
       "      <th>51</th>\n",
       "      <td>EXC__</td>\n",
       "      <td>0.000000</td>\n",
       "    </tr>\n",
       "  </tbody>\n",
       "</table>\n",
       "</div>"
      ],
      "text/plain": [
       "              feature  importance\n",
       "0       betos_o1a_ind    0.408019\n",
       "1       betos_m5b_ind    0.081365\n",
       "2       betos_m5d_ind    0.028979\n",
       "3       betos_t1a_ind    0.028897\n",
       "4   betos_o1a_pmpm_ct    0.028016\n",
       "5       betos_d1d_ind    0.023981\n",
       "6         EXC_ind_sum    0.019629\n",
       "7       betos_o1b_ind    0.016908\n",
       "8       betos_m1b_ind    0.016253\n",
       "9         DUR_ind_sum    0.014807\n",
       "10       EVAL_ind_sum    0.013855\n",
       "11  betos_m5b_pmpm_ct    0.013731\n",
       "12         yes_no_sum    0.013610\n",
       "13   betos_y2_pmpm_ct    0.012005\n",
       "14  betos_m5c_pmpm_ct    0.011849\n",
       "15  betos_o1e_pmpm_ct    0.011681\n",
       "16      ind_total_sum    0.011486\n",
       "17       EXC_pmpm_sum    0.011138\n",
       "18      betos_m5c_ind    0.010952\n",
       "19       OTH_pmpm_sum    0.010898\n",
       "20  betos_m1b_pmpm_ct    0.010893\n",
       "21  betos_t2a_pmpm_ct    0.010624\n",
       "22  betos_m5d_pmpm_ct    0.010588\n",
       "23     pmpm_total_sum    0.010223\n",
       "24  betos_t1a_pmpm_ct    0.010206\n",
       "25      EVAL_pmpm_sum    0.009916\n",
       "26      betos_t2a_ind    0.009794\n",
       "27  betos_o1b_pmpm_ct    0.009776\n",
       "28  betos_o1g_pmpm_ct    0.009723\n",
       "29  betos_t1b_pmpm_ct    0.009393\n",
       "30  betos_t1h_pmpm_ct    0.009366\n",
       "31  betos_t1e_pmpm_ct    0.009281\n",
       "32      TEST_pmpm_sum    0.009211\n",
       "33       TEST_ind_sum    0.008499\n",
       "34       DUR_pmpm_sum    0.008398\n",
       "35  betos_m2c_pmpm_ct    0.008235\n",
       "36        OTH_ind_sum    0.008057\n",
       "37      betos_o1e_ind    0.007814\n",
       "38      betos_o1g_ind    0.007721\n",
       "39      betos_t1h_ind    0.007708\n",
       "40  betos_d1c_pmpm_ct    0.007643\n",
       "41      betos_t1b_ind    0.007398\n",
       "42  betos_d1d_pmpm_ct    0.006714\n",
       "43              OTH__    0.004759\n",
       "44             EVAL__    0.000000\n",
       "45              DUR__    0.000000\n",
       "46             TEST__    0.000000\n",
       "47      betos_d1c_ind    0.000000\n",
       "48       betos_y2_ind    0.000000\n",
       "49      betos_t1e_ind    0.000000\n",
       "50      betos_m2c_ind    0.000000\n",
       "51              EXC__    0.000000"
      ]
     },
     "execution_count": 73,
     "metadata": {},
     "output_type": "execute_result"
    }
   ],
   "source": [
    "feature_importance"
   ]
  },
  {
   "cell_type": "code",
   "execution_count": 74,
   "metadata": {},
   "outputs": [
    {
     "data": {
      "text/plain": [
       "['betos_o1a_ind',\n",
       " 'betos_m5b_ind',\n",
       " 'betos_m5d_ind',\n",
       " 'betos_t1a_ind',\n",
       " 'betos_o1a_pmpm_ct',\n",
       " 'betos_d1d_ind',\n",
       " 'EXC_ind_sum',\n",
       " 'betos_o1b_ind',\n",
       " 'betos_m1b_ind',\n",
       " 'DUR_ind_sum',\n",
       " 'EVAL_ind_sum',\n",
       " 'betos_m5b_pmpm_ct',\n",
       " 'yes_no_sum',\n",
       " 'betos_y2_pmpm_ct',\n",
       " 'betos_m5c_pmpm_ct',\n",
       " 'betos_o1e_pmpm_ct',\n",
       " 'ind_total_sum',\n",
       " 'EXC_pmpm_sum',\n",
       " 'betos_m5c_ind',\n",
       " 'OTH_pmpm_sum',\n",
       " 'betos_m1b_pmpm_ct',\n",
       " 'betos_t2a_pmpm_ct',\n",
       " 'betos_m5d_pmpm_ct',\n",
       " 'pmpm_total_sum',\n",
       " 'betos_t1a_pmpm_ct',\n",
       " 'EVAL_pmpm_sum',\n",
       " 'betos_t2a_ind',\n",
       " 'betos_o1b_pmpm_ct',\n",
       " 'betos_o1g_pmpm_ct',\n",
       " 'betos_t1b_pmpm_ct',\n",
       " 'betos_t1h_pmpm_ct',\n",
       " 'betos_t1e_pmpm_ct',\n",
       " 'TEST_pmpm_sum',\n",
       " 'TEST_ind_sum',\n",
       " 'DUR_pmpm_sum',\n",
       " 'betos_m2c_pmpm_ct',\n",
       " 'OTH_ind_sum',\n",
       " 'betos_o1e_ind',\n",
       " 'betos_o1g_ind',\n",
       " 'betos_t1h_ind',\n",
       " 'betos_d1c_pmpm_ct',\n",
       " 'betos_t1b_ind',\n",
       " 'betos_d1d_pmpm_ct',\n",
       " 'OTH__']"
      ]
     },
     "execution_count": 74,
     "metadata": {},
     "output_type": "execute_result"
    }
   ],
   "source": [
    "top_featured_columns = list(feature_importance[feature_importance.importance>0.0].feature)\n",
    "\n",
    "top_featured_columns"
   ]
  },
  {
   "cell_type": "code",
   "execution_count": null,
   "metadata": {},
   "outputs": [],
   "source": []
  }
 ],
 "metadata": {
  "kernelspec": {
   "display_name": "Python 3",
   "language": "python",
   "name": "python3"
  },
  "language_info": {
   "codemirror_mode": {
    "name": "ipython",
    "version": 3
   },
   "file_extension": ".py",
   "mimetype": "text/x-python",
   "name": "python",
   "nbconvert_exporter": "python",
   "pygments_lexer": "ipython3",
   "version": "3.7.6"
  }
 },
 "nbformat": 4,
 "nbformat_minor": 4
}
