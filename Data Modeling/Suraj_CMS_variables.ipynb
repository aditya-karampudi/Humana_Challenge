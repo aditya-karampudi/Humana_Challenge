{
 "cells": [
  {
   "cell_type": "code",
   "execution_count": 1,
   "metadata": {},
   "outputs": [
    {
     "data": {
      "text/plain": [
       "'\\ncms_disabled_ind\\t Disability Indicator\\tCMS\\ncms_dual_eligible_ind\\t Dual Eligibility Indicator - eligible for both Medicare and Medicaid\\tCMS\\ncms_hospice_ind\\t Hospice Indicator\\tCMS\\n--- Patients are eligible for hospice care when the attending physician and hospice medical director make a clinical determination\\nthat life expectancy is six months or less, if the disease follows its usual course.\\ncms_low_income_ind\\t Low Income Subsidy Indicator from CMS\\tCMS\\ncms_ma_risk_score_nbr\\tCMS Medicare Advantage Risk Score\\tCMS\\n---The purpose of the risk adjustment system is to adequately cover the costs of providing covered benefits for Medicare Advantage enrollees, including those with complex conditions.\\ncms_partd_ra_factor_amt\\tCMS Medicare Part D Risk Adjustment Factor Amount\\tCMS\\n--- Part D payments made to Part D sponsors, including Medicare AdvantagePrescription Drug plans (MA-PDs) and standalone Prescription Drug Plans (PDPs)\\ncms_ra_factor_type_cd\\tCMS Risk Adjustment Factor Type\\tCMS\\ncms_risk_adj_payment_rate_a_amt\\tCMS Risk Adjustment Payment Rate A\\tCMS\\ncms_risk_adj_payment_rate_b_amt\\tCMS  Risk Adjustment Payment Rate B\\tCMS\\ncms_risk_adjustment_factor_a_amt\\tCMS Risk Adjustment Factor A Amount\\tCMS\\ncms_rx_risk_score_nbr\\tCMS Medicare Rx Risk Score\\tCMS\\ncms_tot_ma_payment_amt\\t Total Medicare Advantage Payment Amount\\tCMS\\ncms_tot_partd_payment_amt\\t Total PartD Payment Amount\\tCMS\\n\\n#CMS conditions indicator\\ncmsd2_can_unc_neo/plycyth/myelo_ind\\t Binary indicator for each of the CMS Level 2 diagnosis categories present in the reference table\\ncmsd2_eye_blindness_ind\\t Binary indicator for each of the CMS Level 2 diagnosis categories present in the reference table\\ncmsd2_gus_m_genital_ind\\t Binary indicator for each of the CMS Level 2 diagnosis categories present in the reference table\\ncmsd2_men_mad_ind\\t Binary indicator for each of the CMS Level 2 diagnosis categories present in the reference table\\ncmsd2_men_men_substance_ind\\t Binary indicator for each of the CMS Level 2 diagnosis categories present in the reference table\\ncmsd2_mus_polyarthropath_ind\\t Binary indicator for each of the CMS Level 2 diagnosis categories present in the reference table\\ncmsd2_mus_spondylopath_ind\\t Binary indicator for each of the CMS Level 2 diagnosis categories present in the reference table\\ncmsd2_skn_radiation_ind\\t Binary indicator for each of the CMS Level 2 diagnosis categories present in the reference table\\ncmsd2_sns_general_ind\\t Binary indicator for each of the CMS Level 2 diagnosis categories present in the reference table\\n\\n---CMS risk adjusts Part C payments made to Medicare\\nAdvantage (MA) plans and Program of All Inclusive Care for The Elderly (PACE)\\norganizations, and\\n'"
      ]
     },
     "execution_count": 1,
     "metadata": {},
     "output_type": "execute_result"
    }
   ],
   "source": [
    "'''\n",
    "cms_disabled_ind\t Disability Indicator\tCMS\n",
    "cms_dual_eligible_ind\t Dual Eligibility Indicator - eligible for both Medicare and Medicaid\tCMS\n",
    "cms_hospice_ind\t Hospice Indicator\tCMS\n",
    "--- Patients are eligible for hospice care when the attending physician and hospice medical director make a clinical determination\n",
    "that life expectancy is six months or less, if the disease follows its usual course.\n",
    "cms_low_income_ind\t Low Income Subsidy Indicator from CMS\tCMS\n",
    "cms_ma_risk_score_nbr\tCMS Medicare Advantage Risk Score\tCMS\n",
    "---The purpose of the risk adjustment system is to adequately cover the costs of providing covered benefits for Medicare Advantage enrollees, including those with complex conditions.\n",
    "cms_partd_ra_factor_amt\tCMS Medicare Part D Risk Adjustment Factor Amount\tCMS\n",
    "--- Part D payments made to Part D sponsors, including Medicare AdvantagePrescription Drug plans (MA-PDs) and standalone Prescription Drug Plans (PDPs)\n",
    "cms_ra_factor_type_cd\tCMS Risk Adjustment Factor Type\tCMS\n",
    "cms_risk_adj_payment_rate_a_amt\tCMS Risk Adjustment Payment Rate A\tCMS\n",
    "cms_risk_adj_payment_rate_b_amt\tCMS  Risk Adjustment Payment Rate B\tCMS\n",
    "cms_risk_adjustment_factor_a_amt\tCMS Risk Adjustment Factor A Amount\tCMS\n",
    "cms_rx_risk_score_nbr\tCMS Medicare Rx Risk Score\tCMS\n",
    "cms_tot_ma_payment_amt\t Total Medicare Advantage Payment Amount\tCMS\n",
    "cms_tot_partd_payment_amt\t Total PartD Payment Amount\tCMS\n",
    "\n",
    "#CMS conditions indicator\n",
    "cmsd2_can_unc_neo/plycyth/myelo_ind\t Binary indicator for each of the CMS Level 2 diagnosis categories present in the reference table\n",
    "cmsd2_eye_blindness_ind\t Binary indicator for each of the CMS Level 2 diagnosis categories present in the reference table\n",
    "cmsd2_gus_m_genital_ind\t Binary indicator for each of the CMS Level 2 diagnosis categories present in the reference table\n",
    "cmsd2_men_mad_ind\t Binary indicator for each of the CMS Level 2 diagnosis categories present in the reference table\n",
    "cmsd2_men_men_substance_ind\t Binary indicator for each of the CMS Level 2 diagnosis categories present in the reference table\n",
    "cmsd2_mus_polyarthropath_ind\t Binary indicator for each of the CMS Level 2 diagnosis categories present in the reference table\n",
    "cmsd2_mus_spondylopath_ind\t Binary indicator for each of the CMS Level 2 diagnosis categories present in the reference table\n",
    "cmsd2_skn_radiation_ind\t Binary indicator for each of the CMS Level 2 diagnosis categories present in the reference table\n",
    "cmsd2_sns_general_ind\t Binary indicator for each of the CMS Level 2 diagnosis categories present in the reference table\n",
    "\n",
    "---CMS risk adjusts Part C payments made to Medicare\n",
    "Advantage (MA) plans and Program of All Inclusive Care for The Elderly (PACE)\n",
    "organizations, and\n",
    "'''"
   ]
  },
  {
   "cell_type": "code",
   "execution_count": 2,
   "metadata": {},
   "outputs": [
    {
     "name": "stderr",
     "output_type": "stream",
     "text": [
      "/root/anaconda3/lib/python3.8/site-packages/IPython/core/interactiveshell.py:3071: DtypeWarning: Columns (80,193) have mixed types.Specify dtype option on import or set low_memory=False.\n",
      "  has_raised = await self.run_ast_nodes(code_ast.body, cell_name,\n"
     ]
    }
   ],
   "source": [
    "from matplotlib import pyplot as plt\n",
    "import numpy as np\n",
    "import pandas as pd\n",
    "import seaborn as sns\n",
    "df= pd.read_csv('2020_Competition_Training (1).csv')\n",
    "# df = pd.read_csv('2020_Competition_Holdout .csv')\n",
    "# df['transportation_issues'] = 0"
   ]
  },
  {
   "cell_type": "code",
   "execution_count": 3,
   "metadata": {},
   "outputs": [
    {
     "data": {
      "text/plain": [
       "(69572, 826)"
      ]
     },
     "execution_count": 3,
     "metadata": {},
     "output_type": "execute_result"
    }
   ],
   "source": [
    "df.shape"
   ]
  },
  {
   "cell_type": "code",
   "execution_count": 4,
   "metadata": {},
   "outputs": [],
   "source": [
    "def logistic(X_train, X_test,y_train, y_test):\n",
    "    logistic_regression= LogisticRegression()\n",
    "    logistic_regression.fit(X_train,y_train)\n",
    "    y_pred_test=logistic_regression.predict(X_test)\n",
    "    y_pred_train=logistic_regression.predict(X_train)\n",
    "    return logistic_regression,y_pred_train, y_pred_test\n",
    "    "
   ]
  },
  {
   "cell_type": "code",
   "execution_count": 5,
   "metadata": {},
   "outputs": [],
   "source": [
    "def xgboost_fn(X_train, X_test, y_train, y_test):\n",
    "    from sklearn import metrics\n",
    "    import matplotlib.pyplot as plt\n",
    "    # Hyperparameter tuning grid\n",
    "    params = {'min_child_weight': [5],\n",
    "            'gamma': [1.5],\n",
    "            'subsample': [0.8],\n",
    "            'colsample_bytree': [0.8],\n",
    "            'max_depth': [4]}\n",
    "\n",
    "    from sklearn.model_selection import GridSearchCV\n",
    "    from xgboost.sklearn import XGBClassifier\n",
    "    # Initialize XGBoost model, use growth tree algorithm similar to lightgbm\n",
    "    bst = XGBClassifier(n_jobs=-1,grow_policy='lossguide',tree_method ='hist',n_estimators=150)\n",
    "    # Gridsearch on parameter grid, use AUC to determine the best model\n",
    "    cv = GridSearchCV(bst,params,'roc_auc',-1, verbose=10)\n",
    "    # Fit model on the training data, track logloss on training and testing set\n",
    "    cv.fit(X_train, y_train,eval_metric='logloss',eval_set=[(X_train,y_train),(X_test,y_test)],verbose=False)\n",
    "\n",
    "    import cf_matrix\n",
    "    from cf_matrix import make_confusion_matrix\n",
    "    from sklearn.metrics import confusion_matrix,accuracy_score\n",
    "\n",
    "    y_xg_pred_test = cv.best_estimator_.predict(X_test)\n",
    "    y_xg_pred_train = cv.best_estimator_.predict(X_train)\n",
    "\n",
    "    print(metrics.accuracy_score(y_test, y_xg_pred_test))\n",
    "    print(metrics.accuracy_score(y_train, y_xg_pred_train))\n",
    "\n",
    "\n",
    "    cm = confusion_matrix(y_test, y_xg_pred_test)\n",
    "    plt.figure(figsize=(20,15))\n",
    "    sns.set(font_scale=1.4) # for label size\n",
    "    make_confusion_matrix(cm, group_names=['no- issue','issue'],categories=['no-issue','issue'], cmap='binary')\n",
    "    b, t = plt.ylim() # discover the values for bottom and top\n",
    "    b += 0.5 # Add 0.5 to the bottom\n",
    "    t -= 0.5 # Subtract 0.5 from the top\n",
    "    plt.ylim(b, t) \n",
    "    plt.show()\n",
    "\n",
    "    import joblib\n",
    "\n",
    "    # Print out the best parameters\n",
    "    cv.best_params_\n",
    "\n",
    "    #save model\n",
    "    joblib.dump(cv.best_estimator_, 'xgb.model')\n",
    "\n",
    "\n",
    "    #load saved model\n",
    "    xgb = joblib.load('xgb.model')\n",
    "\n",
    "\n",
    "    import sklearn.metrics as metrics\n",
    "    # calculate the fpr and tpr for all thresholds of the classification\n",
    "    probs = xgb.predict_proba(X_test)\n",
    "    preds = probs[:,1]\n",
    "    # preds = [1]*17119\n",
    "    fpr, tpr, threshold = metrics.roc_curve(y_test, preds)\n",
    "    roc_auc = metrics.auc(fpr, tpr)\n",
    "    # method I: plt\n",
    "    import matplotlib.pyplot as plt\n",
    "    plt.title('Receiver Operating Characteristic')\n",
    "    plt.plot(fpr, tpr, 'b', label = 'AUC = %0.2f' % roc_auc)\n",
    "    plt.legend(loc = 'lower right')\n",
    "    plt.plot([0, 1], [0, 1],'r--')\n",
    "    plt.xlim([0, 1])\n",
    "    plt.ylim([0, 1])\n",
    "    plt.ylabel('True Positive Rate')\n",
    "    plt.xlabel('False Positive Rate')\n",
    "    plt.show()\n",
    "\n",
    "\n",
    "    # retrieve performance metrics\n",
    "    results = xgb.evals_result()\n",
    "    epochs = len(results['validation_0']['logloss'])\n",
    "    x_axis = range(0, epochs)\n",
    "    # plot log loss\n",
    "    fig, ax = plt.subplots()\n",
    "    ax.plot(x_axis, results['validation_0']['logloss'], label='Train')\n",
    "    ax.plot(x_axis, results['validation_1']['logloss'], label='Test')\n",
    "    ax.legend()\n",
    "    plt.ylabel('Log Loss')\n",
    "    plt.title('XGBoost Log Loss');\n",
    "\n",
    "    # Feature importance plot\n",
    "    feature_importance = pd.DataFrame({'feature':xgb.get_booster().feature_names, 'importance':xgb.feature_importances_}).sort_values('importance',ascending=False).reset_index().drop(columns='index')\n",
    "    fig, ax = plt.subplots()\n",
    "    fig.set_size_inches(8.27,15)\n",
    "    plt.title('Feature Importance Plot')\n",
    "    sns.barplot(x='importance',y='feature',ax=ax,data=feature_importance[:50])\n",
    "    \n",
    "    return feature_importance\n",
    "    \n"
   ]
  },
  {
   "cell_type": "code",
   "execution_count": 6,
   "metadata": {},
   "outputs": [],
   "source": [
    "def train_test_split_fn(df):\n",
    "    y = df['transportation_issues']\n",
    "    X = df.drop(['transportation_issues','person_id_syn'],axis=1)\n",
    "\n",
    "    \n",
    "    from sklearn.model_selection import train_test_split\n",
    "    from sklearn.linear_model import LogisticRegression\n",
    "    from sklearn import metrics\n",
    "    import seaborn as sn\n",
    "    import matplotlib.pyplot as plt\n",
    "    from sklearn.preprocessing import StandardScaler\n",
    "\n",
    "    X_train,X_test,y_train,y_test = train_test_split(X,y,test_size=0.25,random_state=0)\n",
    "\n",
    "    X_train.reset_index(inplace=True,drop=True)\n",
    "    X_test.reset_index(inplace=True,drop=True)\n",
    "    y_train.reset_index(inplace=True,drop=True)\n",
    "    y_test.reset_index(inplace=True,drop=True)\n",
    "    \n",
    "    return X_train, X_test, y_train, y_test"
   ]
  },
  {
   "cell_type": "code",
   "execution_count": 7,
   "metadata": {},
   "outputs": [],
   "source": [
    "def label_encoder_fn(df, categorical_columns, numerical_columns):\n",
    "    from sklearn.preprocessing import LabelEncoder\n",
    "    labelencoder = LabelEncoder()\n",
    "    from collections import defaultdict\n",
    "    d = defaultdict(LabelEncoder)\n",
    "    from collections import defaultdict\n",
    "    d = defaultdict(LabelEncoder)\n",
    "    df_cat = df[categorical_columns].apply(lambda x: d[x.name].fit_transform(x))\n",
    "    df_num = df[numerical_columns]\n",
    "    df_all = pd.concat([df_num,df_cat],axis=1)\n",
    "    \n",
    "    return df_all"
   ]
  },
  {
   "cell_type": "code",
   "execution_count": 8,
   "metadata": {},
   "outputs": [],
   "source": [
    "#Centers for Medicare and Medicaid Services\n",
    "CMS_df= df.filter(items=['person_id_syn',\n",
    "'transportation_issues',\n",
    "'cms_disabled_ind',\n",
    "'cms_dual_eligible_ind',\n",
    "'cms_hospice_ind',\n",
    "'cms_low_income_ind',\n",
    "'cms_ma_risk_score_nbr',\n",
    "'cms_partd_ra_factor_amt',\n",
    "'cms_ra_factor_type_cd',\n",
    "'cms_risk_adj_payment_rate_a_amt',\n",
    "'cms_risk_adj_payment_rate_b_amt',\n",
    "'cms_risk_adjustment_factor_a_amt',\n",
    "'cms_rx_risk_score_nbr',\n",
    "'cms_tot_ma_payment_amt',\n",
    "'cms_tot_partd_payment_amt',\n",
    "'cmsd2_can_unc_neo/plycyth/myelo_ind',\n",
    "'cmsd2_eye_blindness_ind',\n",
    "'cmsd2_gus_m_genital_ind',\n",
    "'cmsd2_men_mad_ind',\n",
    "'cmsd2_men_men_substance_ind',\n",
    "'cmsd2_mus_polyarthropath_ind',\n",
    "'cmsd2_mus_spondylopath_ind',\n",
    "'cmsd2_skn_radiation_ind',\n",
    "'cmsd2_sns_general_ind'\n",
    "])\n"
   ]
  },
  {
   "cell_type": "markdown",
   "metadata": {},
   "source": [
    "# Execute for Train"
   ]
  },
  {
   "cell_type": "code",
   "execution_count": 9,
   "metadata": {},
   "outputs": [
    {
     "name": "stdout",
     "output_type": "stream",
     "text": [
      "1.1214192097264886\n",
      "1.0718098482313876\n",
      "398.0525458799205\n",
      "506.8921631065604\n",
      "1.1197219732304942\n",
      "1.0492775321696062\n",
      "999.8885503327182\n",
      "145.1992061924593\n"
     ]
    },
    {
     "name": "stderr",
     "output_type": "stream",
     "text": [
      "<ipython-input-9-e33394487f2e>:19: SettingWithCopyWarning: \n",
      "A value is trying to be set on a copy of a slice from a DataFrame.\n",
      "Try using .loc[row_indexer,col_indexer] = value instead\n",
      "\n",
      "See the caveats in the documentation: https://pandas.pydata.org/pandas-docs/stable/user_guide/indexing.html#returning-a-view-versus-a-copy\n",
      "  CMS_issues_df[i]=CMS_issues_df[i].fillna(CMS_issues_df[i].mean())\n"
     ]
    }
   ],
   "source": [
    "na_columns = ['cms_ma_risk_score_nbr',\n",
    " 'cms_partd_ra_factor_amt',\n",
    " 'cms_risk_adj_payment_rate_a_amt',\n",
    " 'cms_risk_adj_payment_rate_b_amt',\n",
    " 'cms_risk_adjustment_factor_a_amt',\n",
    " 'cms_rx_risk_score_nbr',\n",
    " 'cms_tot_ma_payment_amt',\n",
    " 'cms_tot_partd_payment_amt']\n",
    "\n",
    "na_impute_mean = []\n",
    "\n",
    "    \n",
    "CMS_issues_df = CMS_df[CMS_df.transportation_issues ==1]\n",
    "CMS_no_issues_df = CMS_df[CMS_df.transportation_issues ==0]\n",
    "\n",
    "for i in na_columns:\n",
    "    print(CMS_df[i].mean())\n",
    "    na_impute_mean.append(CMS_df[i].mean())\n",
    "    CMS_issues_df[i]=CMS_issues_df[i].fillna(CMS_issues_df[i].mean())\n",
    "\n",
    "CMS_df = pd.concat([CMS_issues_df, CMS_no_issues_df])\n",
    "\n",
    "CMS_df['cms_ra_factor_type_cd'] = CMS_df.cms_ra_factor_type_cd.astype('category')\n",
    "CMS_df.cms_ra_factor_type_cd.fillna(CMS_df.cms_ra_factor_type_cd.mode()[0])\n",
    "CMS_df.reset_index(inplace=True,drop=True)"
   ]
  },
  {
   "cell_type": "markdown",
   "metadata": {},
   "source": [
    "# Execute for test"
   ]
  },
  {
   "cell_type": "code",
   "execution_count": 10,
   "metadata": {},
   "outputs": [],
   "source": [
    "# na_columns = ['cms_ma_risk_score_nbr',\n",
    "#  'cms_partd_ra_factor_amt',\n",
    "#  'cms_risk_adj_payment_rate_a_amt',\n",
    "#  'cms_risk_adj_payment_rate_b_amt',\n",
    "#  'cms_risk_adjustment_factor_a_amt',\n",
    "#  'cms_rx_risk_score_nbr',\n",
    "#  'cms_tot_ma_payment_amt',\n",
    "#  'cms_tot_partd_payment_amt']\n",
    "\n",
    "\n",
    "\n",
    "# na_impute_mean = [1.1214192097264886,\n",
    "#  1.0718098482313876,\n",
    "#  398.0525458799205,\n",
    "#  506.8921631065604,\n",
    "#  1.1197219732304942,\n",
    "#  1.0492775321696062,\n",
    "#  999.8885503327182,\n",
    "#  145.1992061924593]\n",
    "\n",
    "# na_impute_cms_ra_factor_type_cd = 'CN'\n",
    "\n",
    "# for i,j in zip(na_columns, na_impute_mean):\n",
    "#     CMS_df[i]=CMS_df[i].fillna(j)\n",
    "\n",
    "# CMS_df['cms_ra_factor_type_cd'] = CMS_df.cms_ra_factor_type_cd.fillna(na_impute_cms_ra_factor_type_cd)"
   ]
  },
  {
   "cell_type": "code",
   "execution_count": null,
   "metadata": {},
   "outputs": [],
   "source": []
  },
  {
   "cell_type": "code",
   "execution_count": null,
   "metadata": {},
   "outputs": [],
   "source": []
  },
  {
   "cell_type": "code",
   "execution_count": 11,
   "metadata": {},
   "outputs": [],
   "source": [
    "\n",
    "\n",
    "categorical_columns = [s for s in CMS_df if '_ind' in s]\n",
    "# categorical_columns.append('cms_ra_factor_type_cd')\n",
    "categorical_columns.append('transportation_issues')\n",
    "\n",
    "\n",
    "CMS_df['cms_ra_factor_type_cd'].replace('*',np.NaN,inplace=True)"
   ]
  },
  {
   "cell_type": "code",
   "execution_count": 12,
   "metadata": {},
   "outputs": [],
   "source": [
    "for i in categorical_columns:\n",
    "    CMS_df[i] = CMS_df[i].astype('category')"
   ]
  },
  {
   "cell_type": "code",
   "execution_count": 13,
   "metadata": {},
   "outputs": [],
   "source": [
    "numeric_columns = CMS_df.select_dtypes(exclude='category').columns"
   ]
  },
  {
   "cell_type": "code",
   "execution_count": 14,
   "metadata": {
    "scrolled": true
   },
   "outputs": [
    {
     "name": "stdout",
     "output_type": "stream",
     "text": [
      "cms_disabled_ind\n",
      "percentage of  cms_disabled_ind as Yes is 0.30207554763410566\n",
      "percentage of YES and Transportation Issue 0.07002817225320532\n",
      "------------------------------\n",
      "cms_dual_eligible_ind\n",
      "percentage of  cms_dual_eligible_ind as Yes is 0.16444834128672453\n",
      "percentage of YES and Transportation Issue 0.04471626516414649\n",
      "------------------------------\n",
      "cms_hospice_ind\n",
      "percentage of  cms_hospice_ind as Yes is 0.0005174495486690048\n",
      "percentage of YES and Transportation Issue 7.18679928706951e-05\n",
      "------------------------------\n",
      "cms_low_income_ind\n",
      "percentage of  cms_low_income_ind as Yes is 0.23756683723336974\n",
      "percentage of YES and Transportation Issue 0.06077157477145978\n",
      "------------------------------\n",
      "cmsd2_can_unc_neo/plycyth/myelo_ind\n",
      "percentage of  cmsd2_can_unc_neo/plycyth/myelo_ind as Yes is 0.09316966595756913\n",
      "percentage of YES and Transportation Issue 0.00983154142471109\n",
      "------------------------------\n",
      "cmsd2_eye_blindness_ind\n",
      "percentage of  cmsd2_eye_blindness_ind as Yes is 0.0822169838440752\n",
      "percentage of YES and Transportation Issue 0.013539929856838958\n",
      "------------------------------\n",
      "cmsd2_gus_m_genital_ind\n",
      "percentage of  cmsd2_gus_m_genital_ind as Yes is 0.1628528718449951\n",
      "percentage of YES and Transportation Issue 0.01924624849077215\n",
      "------------------------------\n",
      "cmsd2_men_mad_ind\n",
      "percentage of  cmsd2_men_mad_ind as Yes is 0.2663140343816478\n",
      "percentage of YES and Transportation Issue 0.05729316391651814\n",
      "------------------------------\n",
      "cmsd2_men_men_substance_ind\n",
      "percentage of  cmsd2_men_men_substance_ind as Yes is 0.19009084114298855\n",
      "percentage of YES and Transportation Issue 0.04428505720692232\n",
      "------------------------------\n",
      "cmsd2_mus_polyarthropath_ind\n",
      "percentage of  cmsd2_mus_polyarthropath_ind as Yes is 0.11970332892542977\n",
      "percentage of YES and Transportation Issue 0.02007991720807221\n",
      "------------------------------\n",
      "cmsd2_mus_spondylopath_ind\n",
      "percentage of  cmsd2_mus_spondylopath_ind as Yes is 0.18757546139251424\n",
      "percentage of YES and Transportation Issue 0.03366296786063359\n",
      "------------------------------\n",
      "cmsd2_skn_radiation_ind\n",
      "percentage of  cmsd2_skn_radiation_ind as Yes is 0.10259874662220433\n",
      "percentage of YES and Transportation Issue 0.0077617432300350715\n",
      "------------------------------\n",
      "cmsd2_sns_general_ind\n",
      "percentage of  cmsd2_sns_general_ind as Yes is 0.4398177427700799\n",
      "percentage of YES and Transportation Issue 0.0812539527396079\n",
      "------------------------------\n",
      "transportation_issues\n",
      "percentage of  transportation_issues as Yes is 0.1465675846604956\n",
      "percentage of YES and Transportation Issue 0.1465675846604956\n",
      "------------------------------\n"
     ]
    }
   ],
   "source": [
    "for i in categorical_columns:\n",
    "    print(i)\n",
    "#     prov_df[i] = prov_df[i].astype('category')\n",
    "    df_one = CMS_df[CMS_df[i]==1]\n",
    "    print(\"percentage of \",i, 'as Yes is', df_one.shape[0]/CMS_df.shape[0])\n",
    "    print(\"percentage of YES and Transportation Issue\", df_one[df_one.transportation_issues ==1].shape[0]/CMS_df.shape[0])\n",
    "    print('-'*30)\n",
    "    \n",
    "level_1_col  = [s for s in CMS_df.columns if 'cms_' in s]\n",
    "level_1_col = [s for s in level_1_col if '_ind' in s]\n",
    "\n",
    "level_2_col = [s for s in CMS_df.columns if 'cmsd2' in s]\n",
    "level_2_col = [s for s in level_2_col if '_ind' in s]\n",
    "\n",
    "\n",
    "\n",
    "CMS_df['CMS_ind_sum'] = CMS_df[level_1_col].sum(axis=1)\n",
    "CMS_df.loc[CMS_df.CMS_ind_sum > 0, 'CMS_yes_no'] =1\n",
    "CMS_df['CMS_yes_no'] = CMS_df.CMS_yes_no.fillna(0)\n",
    "CMS_df['CMS_yes_no'] = CMS_df['CMS_yes_no'].astype('category')\n",
    "\n",
    "CMS_df['CMS2_ind_sum'] = CMS_df[level_2_col].sum(axis=1)\n",
    "CMS_df.loc[CMS_df.CMS2_ind_sum > 0, 'CMS2_yes_no'] =1\n",
    "CMS_df['CMS2_yes_no'] = CMS_df.CMS2_yes_no.fillna(0)\n",
    "CMS_df['CMS2_yes_no'] = CMS_df['CMS2_yes_no'].astype('category')\n"
   ]
  },
  {
   "cell_type": "code",
   "execution_count": 15,
   "metadata": {},
   "outputs": [],
   "source": [
    "def data_viz(df_visualize):\n",
    "    df_visualize = df_visualize.groupby(['transportation_issues']).sum().transpose()\n",
    "    df_visualize.reset_index(drop=False,inplace=True)\n",
    "    df_visualize.columns = ['sum_columns','no_issues','issues']\n",
    "\n",
    "    df_visualize = df_visualize.melt(['sum_columns'])\n",
    "    \n",
    "    df_visualize['avg_value'] = 0\n",
    "\n",
    "    for index, row in df_visualize.iterrows():\n",
    "        if row['variable'] == 'no_issues':\n",
    "            df_visualize.loc[index,'avg_value'] = row['value']/59375\n",
    "        else:\n",
    "            df_visualize.loc[index,'avg_value'] = row['value']/10197\n",
    "    \n",
    "    return df_visualize"
   ]
  },
  {
   "cell_type": "code",
   "execution_count": 16,
   "metadata": {},
   "outputs": [
    {
     "data": {
      "image/png": "[encoded data removed]",
      "text/plain": [
       "<Figure size 900x360 with 1 Axes>"
      ]
     },
     "metadata": {
      "needs_background": "light"
     },
     "output_type": "display_data"
    }
   ],
   "source": [
    "CMS_df_encoded = label_encoder_fn(CMS_df, categorical_columns, numeric_columns)\n",
    "# level_1_col.append('CMS_ind_sum')\n",
    "df_viz = pd.concat([CMS_df_encoded[level_1_col],df[['transportation_issues']]],axis=1)\n",
    "\n",
    "df_viz_1 = data_viz(df_viz)\n",
    "\n",
    "ax = sns.catplot(x=\"sum_columns\", y=\"value\", hue=\"variable\", kind=\"bar\",height=5, \n",
    "            aspect=2.5, data=df_viz_1,legend_out=False)"
   ]
  },
  {
   "cell_type": "code",
   "execution_count": 46,
   "metadata": {},
   "outputs": [
    {
     "data": {
      "image/png": "[encoded data removed]",
      "text/plain": [
       "<Figure size 1080x360 with 1 Axes>"
      ]
     },
     "metadata": {
      "needs_background": "light"
     },
     "output_type": "display_data"
    }
   ],
   "source": [
    "CMS_df_encoded = label_encoder_fn(CMS_df, categorical_columns, numeric_columns)\n",
    "# level_1_col.append('CMS_ind_sum')\n",
    "df_viz = pd.concat([CMS_df_encoded[level_2_col],df[['transportation_issues']]],axis=1)\n",
    "\n",
    "\n",
    "df_viz = df_viz.groupby(['transportation_issues']).sum().transpose()\n",
    "df_viz.reset_index(drop=False,inplace=True)\n",
    "df_viz.columns = ['sum_columns','no_issues','issues']\n",
    "df_viz['total'] = df_viz.no_issues + df_viz.issues\n",
    "df_viz = df_viz.sort_values('total',ascending=False)\n",
    "df_viz = df_viz.head(5)\n",
    "df_viz.drop('total',inplace=True, axis=1)\n",
    "df_viz_1 = df_viz.melt(['sum_columns'])\n",
    "# df_viz_1.sort_values('value',ascending=False)\n",
    "\n",
    "# df_viz_1 = data_viz(df_viz)\n",
    "df_viz_1['avg_value'] = 0\n",
    "\n",
    "for index, row in df_viz_1.iterrows():\n",
    "    if row['variable'] == 'no_issues':\n",
    "        df_viz_1.loc[index,'avg_value'] = row['value']/59375\n",
    "    else:\n",
    "        df_viz_1.loc[index,'avg_value'] = row['value']/10197\n",
    "\n",
    "ax = sns.catplot(x=\"sum_columns\", y=\"value\", hue=\"variable\", kind=\"bar\",height=5, \n",
    "            aspect=3, data=df_viz_1,legend_out=False)"
   ]
  },
  {
   "cell_type": "code",
   "execution_count": null,
   "metadata": {},
   "outputs": [],
   "source": []
  },
  {
   "cell_type": "code",
   "execution_count": null,
   "metadata": {},
   "outputs": [],
   "source": []
  },
  {
   "cell_type": "code",
   "execution_count": null,
   "metadata": {},
   "outputs": [],
   "source": []
  },
  {
   "cell_type": "code",
   "execution_count": 31,
   "metadata": {},
   "outputs": [],
   "source": []
  },
  {
   "cell_type": "code",
   "execution_count": null,
   "metadata": {},
   "outputs": [],
   "source": []
  },
  {
   "cell_type": "code",
   "execution_count": 14,
   "metadata": {
    "scrolled": true
   },
   "outputs": [
    {
     "name": "stdout",
     "output_type": "stream",
     "text": [
      "Fitting 5 folds for each of 1 candidates, totalling 5 fits\n"
     ]
    },
    {
     "name": "stderr",
     "output_type": "stream",
     "text": [
      "/root/anaconda3/lib/python3.8/site-packages/sklearn/utils/validation.py:68: FutureWarning: Pass scoring=roc_auc, n_jobs=-1 as keyword args. From version 0.25 passing these as positional arguments will result in an error\n",
      "  warnings.warn(\"Pass {} as keyword args. From version 0.25 \"\n",
      "[Parallel(n_jobs=-1)]: Using backend LokyBackend with 8 concurrent workers.\n",
      "[Parallel(n_jobs=-1)]: Done   2 out of   5 | elapsed:    5.3s remaining:    7.9s\n",
      "[Parallel(n_jobs=-1)]: Done   3 out of   5 | elapsed:    5.4s remaining:    3.6s\n",
      "[Parallel(n_jobs=-1)]: Done   5 out of   5 | elapsed:    6.7s remaining:    0.0s\n",
      "[Parallel(n_jobs=-1)]: Done   5 out of   5 | elapsed:    6.7s finished\n"
     ]
    },
    {
     "name": "stdout",
     "output_type": "stream",
     "text": [
      "0.848214799057092\n",
      "0.8612276969662125\n"
     ]
    },
    {
     "data": {
      "text/plain": [
       "<Figure size 1440x1080 with 0 Axes>"
      ]
     },
     "metadata": {},
     "output_type": "display_data"
    },
    {
     "data": {
      "image/png": "[encoded data removed]",
      "text/plain": [
       "<Figure size 432x288 with 2 Axes>"
      ]
     },
     "metadata": {},
     "output_type": "display_data"
    },
    {
     "data": {
      "image/png": "[encoded data removed]",
      "text/plain": [
       "<Figure size 432x288 with 1 Axes>"
      ]
     },
     "metadata": {},
     "output_type": "display_data"
    },
    {
     "data": {
      "image/png": "[encoded data removed]",
      "text/plain": [
       "<Figure size 432x288 with 1 Axes>"
      ]
     },
     "metadata": {},
     "output_type": "display_data"
    },
    {
     "data": {
      "image/png": "[encoded data removed]",
      "text/plain": [
       "<Figure size 595.44x1080 with 1 Axes>"
      ]
     },
     "metadata": {},
     "output_type": "display_data"
    }
   ],
   "source": [
    "# categorical_columns.append('cms_ra_factor_type_cd')\n",
    "\n",
    "CMS_df_encoded = label_encoder_fn(CMS_df, categorical_columns, numeric_columns)\n",
    "\n",
    "X_train, X_test, y_train, y_test = train_test_split_fn(CMS_df_encoded)\n",
    "\n",
    "\n",
    "top_featured_columns=['cms_disabled_ind',\n",
    " 'cms_tot_partd_payment_amt',\n",
    " 'cms_low_income_ind',\n",
    " 'cms_rx_risk_score_nbr',\n",
    " 'cmsd2_men_men_substance_ind',\n",
    " 'cmsd2_men_mad_ind',\n",
    " 'cmsd2_skn_radiation_ind',\n",
    " 'cmsd2_sns_general_ind',\n",
    " 'cms_dual_eligible_ind',\n",
    " 'cms_risk_adj_payment_rate_b_amt',\n",
    " 'cms_partd_ra_factor_amt',\n",
    " 'cmsd2_can_unc_neo/plycyth/myelo_ind',\n",
    " 'cms_tot_ma_payment_amt',\n",
    " 'cms_ma_risk_score_nbr']\n",
    "\n",
    "X_train=X_train[top_featured_columns]\n",
    "X_test=X_test[top_featured_columns]\n",
    "\n",
    "\n",
    "feature_importance = xgboost_fn(X_train, X_test, y_train, y_test)"
   ]
  },
  {
   "cell_type": "code",
   "execution_count": 91,
   "metadata": {},
   "outputs": [],
   "source": [
    "top_featured_columns = list(feature_importance[feature_importance.importance>0.025].feature)\n",
    "\n",
    "top_featured_columns.append('transportation_issues')\n",
    "top_featured_columns.append('person_id_syn')\n"
   ]
  },
  {
   "cell_type": "code",
   "execution_count": 50,
   "metadata": {},
   "outputs": [],
   "source": [
    "top_featured_columns=['cms_disabled_ind',\n",
    " 'cms_tot_partd_payment_amt',\n",
    " 'cms_low_income_ind',\n",
    " 'cms_rx_risk_score_nbr',\n",
    " 'cmsd2_men_men_substance_ind',\n",
    " 'cmsd2_men_mad_ind',\n",
    " 'cmsd2_skn_radiation_ind',\n",
    " 'cmsd2_sns_general_ind',\n",
    " 'cms_dual_eligible_ind',\n",
    " 'cms_risk_adj_payment_rate_b_amt',\n",
    " 'cms_partd_ra_factor_amt',\n",
    " 'cmsd2_can_unc_neo/plycyth/myelo_ind',\n",
    " 'cms_tot_ma_payment_amt',\n",
    " 'cms_ma_risk_score_nbr','person_id_syn']"
   ]
  },
  {
   "cell_type": "markdown",
   "metadata": {},
   "source": [
    "# For train"
   ]
  },
  {
   "cell_type": "code",
   "execution_count": 32,
   "metadata": {},
   "outputs": [],
   "source": [
    "# final_df = CMS_df[top_featured_columns]\n",
    "# final_df = final_df.rename(columns = {'person_id_syn':'person_id_syn_cms','cmsd2_can_unc_neo/plycyth/myelo_ind':'cmsd2_can_unc_neo'})\n",
    "# final_df.to_pickle(\"df_suraj_cms.pkl\")"
   ]
  },
  {
   "cell_type": "code",
   "execution_count": null,
   "metadata": {},
   "outputs": [],
   "source": []
  },
  {
   "cell_type": "markdown",
   "metadata": {},
   "source": [
    "# for Test"
   ]
  },
  {
   "cell_type": "code",
   "execution_count": 51,
   "metadata": {},
   "outputs": [],
   "source": [
    "final_test_df = CMS_df[top_featured_columns]\n",
    "\n",
    "final_test_df = final_test_df.rename(columns = {'person_id_syn':'person_id_syn_cms','cmsd2_can_unc_neo/plycyth/myelo_ind':'cmsd2_can_unc_neo'})\n",
    "#final_test_df.drop('transportation_issues',axis=1).to_pickle(\"df_suraj_test_cms.pkl\")\n",
    "final_test_df.to_pickle(\"df_suraj_test_cms.pkl\")"
   ]
  },
  {
   "cell_type": "code",
   "execution_count": null,
   "metadata": {},
   "outputs": [],
   "source": []
  },
  {
   "cell_type": "code",
   "execution_count": 21,
   "metadata": {},
   "outputs": [],
   "source": [
    "final_df.drop('transportation_issues',axis=1).to_csv(\"log_df_cms.csv\",index=False)"
   ]
  },
  {
   "cell_type": "code",
   "execution_count": 18,
   "metadata": {},
   "outputs": [],
   "source": [
    "#df_viz_1.to_csv(\"df_viz_cms.csv\")"
   ]
  },
  {
   "cell_type": "code",
   "execution_count": 17,
   "metadata": {},
   "outputs": [
    {
     "data": {
      "text/html": [
       "<div>\n",
       "<style scoped>\n",
       "    .dataframe tbody tr th:only-of-type {\n",
       "        vertical-align: middle;\n",
       "    }\n",
       "\n",
       "    .dataframe tbody tr th {\n",
       "        vertical-align: top;\n",
       "    }\n",
       "\n",
       "    .dataframe thead th {\n",
       "        text-align: right;\n",
       "    }\n",
       "</style>\n",
       "<table border=\"1\" class=\"dataframe\">\n",
       "  <thead>\n",
       "    <tr style=\"text-align: right;\">\n",
       "      <th></th>\n",
       "      <th>sum_columns</th>\n",
       "      <th>variable</th>\n",
       "      <th>value</th>\n",
       "      <th>avg_value</th>\n",
       "    </tr>\n",
       "  </thead>\n",
       "  <tbody>\n",
       "    <tr>\n",
       "      <th>0</th>\n",
       "      <td>cms_disabled_ind</td>\n",
       "      <td>no_issues</td>\n",
       "      <td>17904</td>\n",
       "      <td>0.301541</td>\n",
       "    </tr>\n",
       "    <tr>\n",
       "      <th>1</th>\n",
       "      <td>cms_dual_eligible_ind</td>\n",
       "      <td>no_issues</td>\n",
       "      <td>9759</td>\n",
       "      <td>0.164362</td>\n",
       "    </tr>\n",
       "    <tr>\n",
       "      <th>2</th>\n",
       "      <td>cms_hospice_ind</td>\n",
       "      <td>no_issues</td>\n",
       "      <td>32</td>\n",
       "      <td>0.000539</td>\n",
       "    </tr>\n",
       "    <tr>\n",
       "      <th>3</th>\n",
       "      <td>cms_low_income_ind</td>\n",
       "      <td>no_issues</td>\n",
       "      <td>14117</td>\n",
       "      <td>0.237760</td>\n",
       "    </tr>\n",
       "    <tr>\n",
       "      <th>4</th>\n",
       "      <td>cms_disabled_ind</td>\n",
       "      <td>issues</td>\n",
       "      <td>3112</td>\n",
       "      <td>0.305188</td>\n",
       "    </tr>\n",
       "  </tbody>\n",
       "</table>\n",
       "</div>"
      ],
      "text/plain": [
       "             sum_columns   variable  value  avg_value\n",
       "0       cms_disabled_ind  no_issues  17904   0.301541\n",
       "1  cms_dual_eligible_ind  no_issues   9759   0.164362\n",
       "2        cms_hospice_ind  no_issues     32   0.000539\n",
       "3     cms_low_income_ind  no_issues  14117   0.237760\n",
       "4       cms_disabled_ind     issues   3112   0.305188"
      ]
     },
     "execution_count": 17,
     "metadata": {},
     "output_type": "execute_result"
    }
   ],
   "source": [
    "df_viz_1.head()"
   ]
  },
  {
   "cell_type": "code",
   "execution_count": null,
   "metadata": {},
   "outputs": [],
   "source": []
  },
  {
   "cell_type": "code",
   "execution_count": null,
   "metadata": {},
   "outputs": [],
   "source": []
  },
  {
   "cell_type": "code",
   "execution_count": null,
   "metadata": {},
   "outputs": [],
   "source": []
  },
  {
   "cell_type": "code",
   "execution_count": null,
   "metadata": {},
   "outputs": [],
   "source": []
  },
  {
   "cell_type": "code",
   "execution_count": null,
   "metadata": {},
   "outputs": [],
   "source": []
  },
  {
   "cell_type": "code",
   "execution_count": null,
   "metadata": {},
   "outputs": [],
   "source": []
  },
  {
   "cell_type": "code",
   "execution_count": null,
   "metadata": {},
   "outputs": [],
   "source": []
  },
  {
   "cell_type": "code",
   "execution_count": null,
   "metadata": {},
   "outputs": [],
   "source": []
  },
  {
   "cell_type": "code",
   "execution_count": null,
   "metadata": {},
   "outputs": [],
   "source": []
  },
  {
   "cell_type": "code",
   "execution_count": null,
   "metadata": {},
   "outputs": [],
   "source": []
  },
  {
   "cell_type": "code",
   "execution_count": null,
   "metadata": {},
   "outputs": [],
   "source": []
  },
  {
   "cell_type": "code",
   "execution_count": null,
   "metadata": {},
   "outputs": [],
   "source": []
  },
  {
   "cell_type": "code",
   "execution_count": null,
   "metadata": {},
   "outputs": [],
   "source": []
  },
  {
   "cell_type": "code",
   "execution_count": null,
   "metadata": {},
   "outputs": [],
   "source": []
  },
  {
   "cell_type": "code",
   "execution_count": null,
   "metadata": {},
   "outputs": [],
   "source": []
  },
  {
   "cell_type": "code",
   "execution_count": null,
   "metadata": {},
   "outputs": [],
   "source": []
  },
  {
   "cell_type": "code",
   "execution_count": null,
   "metadata": {},
   "outputs": [],
   "source": []
  },
  {
   "cell_type": "code",
   "execution_count": null,
   "metadata": {},
   "outputs": [],
   "source": []
  },
  {
   "cell_type": "code",
   "execution_count": null,
   "metadata": {},
   "outputs": [],
   "source": []
  },
  {
   "cell_type": "code",
   "execution_count": null,
   "metadata": {},
   "outputs": [],
   "source": []
  },
  {
   "cell_type": "code",
   "execution_count": null,
   "metadata": {},
   "outputs": [],
   "source": []
  },
  {
   "cell_type": "code",
   "execution_count": null,
   "metadata": {},
   "outputs": [],
   "source": []
  },
  {
   "cell_type": "code",
   "execution_count": null,
   "metadata": {},
   "outputs": [],
   "source": []
  },
  {
   "cell_type": "code",
   "execution_count": null,
   "metadata": {},
   "outputs": [],
   "source": []
  },
  {
   "cell_type": "code",
   "execution_count": null,
   "metadata": {},
   "outputs": [],
   "source": []
  },
  {
   "cell_type": "code",
   "execution_count": null,
   "metadata": {},
   "outputs": [],
   "source": []
  },
  {
   "cell_type": "code",
   "execution_count": null,
   "metadata": {},
   "outputs": [],
   "source": []
  },
  {
   "cell_type": "code",
   "execution_count": null,
   "metadata": {},
   "outputs": [],
   "source": []
  },
  {
   "cell_type": "code",
   "execution_count": null,
   "metadata": {},
   "outputs": [],
   "source": []
  },
  {
   "cell_type": "code",
   "execution_count": null,
   "metadata": {},
   "outputs": [],
   "source": []
  },
  {
   "cell_type": "code",
   "execution_count": null,
   "metadata": {},
   "outputs": [],
   "source": []
  },
  {
   "cell_type": "code",
   "execution_count": null,
   "metadata": {},
   "outputs": [],
   "source": []
  },
  {
   "cell_type": "code",
   "execution_count": null,
   "metadata": {},
   "outputs": [],
   "source": []
  },
  {
   "cell_type": "code",
   "execution_count": null,
   "metadata": {},
   "outputs": [],
   "source": []
  },
  {
   "cell_type": "code",
   "execution_count": null,
   "metadata": {},
   "outputs": [],
   "source": []
  },
  {
   "cell_type": "code",
   "execution_count": null,
   "metadata": {},
   "outputs": [],
   "source": []
  },
  {
   "cell_type": "code",
   "execution_count": null,
   "metadata": {},
   "outputs": [],
   "source": []
  },
  {
   "cell_type": "code",
   "execution_count": null,
   "metadata": {},
   "outputs": [],
   "source": []
  },
  {
   "cell_type": "code",
   "execution_count": null,
   "metadata": {},
   "outputs": [],
   "source": []
  },
  {
   "cell_type": "code",
   "execution_count": null,
   "metadata": {},
   "outputs": [],
   "source": []
  },
  {
   "cell_type": "code",
   "execution_count": null,
   "metadata": {},
   "outputs": [],
   "source": []
  },
  {
   "cell_type": "code",
   "execution_count": null,
   "metadata": {},
   "outputs": [],
   "source": []
  },
  {
   "cell_type": "code",
   "execution_count": null,
   "metadata": {},
   "outputs": [],
   "source": []
  },
  {
   "cell_type": "code",
   "execution_count": null,
   "metadata": {},
   "outputs": [],
   "source": []
  },
  {
   "cell_type": "code",
   "execution_count": null,
   "metadata": {},
   "outputs": [],
   "source": []
  },
  {
   "cell_type": "code",
   "execution_count": null,
   "metadata": {},
   "outputs": [],
   "source": []
  },
  {
   "cell_type": "code",
   "execution_count": null,
   "metadata": {},
   "outputs": [],
   "source": []
  },
  {
   "cell_type": "code",
   "execution_count": null,
   "metadata": {},
   "outputs": [],
   "source": []
  },
  {
   "cell_type": "code",
   "execution_count": null,
   "metadata": {},
   "outputs": [],
   "source": []
  },
  {
   "cell_type": "code",
   "execution_count": null,
   "metadata": {},
   "outputs": [],
   "source": []
  },
  {
   "cell_type": "code",
   "execution_count": null,
   "metadata": {},
   "outputs": [],
   "source": []
  },
  {
   "cell_type": "code",
   "execution_count": null,
   "metadata": {},
   "outputs": [],
   "source": []
  },
  {
   "cell_type": "code",
   "execution_count": null,
   "metadata": {},
   "outputs": [],
   "source": []
  },
  {
   "cell_type": "code",
   "execution_count": null,
   "metadata": {},
   "outputs": [],
   "source": []
  },
  {
   "cell_type": "code",
   "execution_count": null,
   "metadata": {},
   "outputs": [],
   "source": []
  },
  {
   "cell_type": "code",
   "execution_count": null,
   "metadata": {},
   "outputs": [],
   "source": []
  },
  {
   "cell_type": "code",
   "execution_count": null,
   "metadata": {},
   "outputs": [],
   "source": []
  },
  {
   "cell_type": "code",
   "execution_count": null,
   "metadata": {},
   "outputs": [],
   "source": []
  },
  {
   "cell_type": "code",
   "execution_count": null,
   "metadata": {},
   "outputs": [],
   "source": []
  },
  {
   "cell_type": "code",
   "execution_count": null,
   "metadata": {},
   "outputs": [],
   "source": [
    "CMS_df.head(5)"
   ]
  },
  {
   "cell_type": "code",
   "execution_count": null,
   "metadata": {},
   "outputs": [],
   "source": [
    "CMS_df.isna().sum()"
   ]
  },
  {
   "cell_type": "code",
   "execution_count": null,
   "metadata": {},
   "outputs": [],
   "source": [
    "CMS_df['cms_ra_factor_type_cd'].replace('*','',inplace=True)\n",
    "df_no_issue = CMS_df[CMS_df.transportation_issues == 0]\n",
    "print(df_no_issue.shape)\n",
    "df_no_issue = df_no_issue.dropna()\n",
    "print(\"after dropping NA values\",df_no_issue.shape)\n",
    "df_issue = CMS_df[CMS_df.transportation_issues == 1]\n",
    "print(df_issue.shape)\n",
    "df_issue = df_issue.dropna()\n",
    "print(\"after dropping NA values\",df_issue.shape)\n",
    "# df_issue.isna().sum()"
   ]
  },
  {
   "cell_type": "code",
   "execution_count": null,
   "metadata": {},
   "outputs": [],
   "source": [
    "CMS_df.shape"
   ]
  },
  {
   "cell_type": "code",
   "execution_count": null,
   "metadata": {},
   "outputs": [],
   "source": [
    "CMS_df.dtypes"
   ]
  },
  {
   "cell_type": "code",
   "execution_count": null,
   "metadata": {},
   "outputs": [],
   "source": [
    "CMS_df['transportation_issues'] = CMS_df.transportation_issues.astype('category')\n",
    "CMS_df['cms_disabled_ind'] = CMS_df.cms_disabled_ind.astype('category')\n",
    "CMS_df['cms_dual_eligible_ind'] = CMS_df.cms_dual_eligible_ind.astype('category')\n",
    "CMS_df['cms_hospice_ind'] = CMS_df.cms_hospice_ind.astype('category')\n",
    "CMS_df['cms_low_income_ind'] = CMS_df.cms_low_income_ind.astype('category')\n",
    "CMS_df['cmsd2_eye_blindness_ind'] = CMS_df.cmsd2_eye_blindness_ind.astype('category')\n",
    "CMS_df['cmsd2_gus_m_genital_ind'] = CMS_df.cmsd2_gus_m_genital_ind.astype('category')\n",
    "CMS_df['cmsd2_men_mad_ind'] = CMS_df.cmsd2_men_mad_ind.astype('category')\n",
    "CMS_df['cmsd2_men_men_substance_ind'] = CMS_df.cmsd2_men_men_substance_ind.astype('category')\n",
    "CMS_df['cmsd2_mus_polyarthropath_ind'] = CMS_df.cmsd2_mus_polyarthropath_ind.astype('category')\n",
    "CMS_df['cmsd2_mus_spondylopath_ind'] = CMS_df.cmsd2_mus_spondylopath_ind.astype('category')\n",
    "CMS_df['cmsd2_skn_radiation_ind'] = CMS_df.cmsd2_skn_radiation_ind.astype('category')\n",
    "CMS_df['cmsd2_sns_general_ind'] = CMS_df.cmsd2_sns_general_ind.astype('category')\n",
    "CMS_df['cmsd2_can_unc_neo/plycyth/myelo_ind'] = CMS_df['cmsd2_can_unc_neo/plycyth/myelo_ind'].astype('category')"
   ]
  },
  {
   "cell_type": "code",
   "execution_count": null,
   "metadata": {},
   "outputs": [],
   "source": [
    "CMS_df.dtypes"
   ]
  },
  {
   "cell_type": "code",
   "execution_count": null,
   "metadata": {},
   "outputs": [],
   "source": [
    "CMS_df.head(2)"
   ]
  },
  {
   "cell_type": "code",
   "execution_count": null,
   "metadata": {},
   "outputs": [],
   "source": [
    "CMS_df=CMS_df.dropna()"
   ]
  },
  {
   "cell_type": "code",
   "execution_count": null,
   "metadata": {},
   "outputs": [],
   "source": [
    "CMS_df.columns"
   ]
  },
  {
   "cell_type": "code",
   "execution_count": null,
   "metadata": {},
   "outputs": [],
   "source": [
    "#CMS_df.isna().sum()\n",
    "CMS_df['Total_Ind']=\n",
    "cms_disabled_ind+                    0\n",
    "cms_dual_eligible_ind+                 0\n",
    "cms_hospice_ind +                       0\n",
    "cms_low_income_ind+"
   ]
  },
  {
   "cell_type": "code",
   "execution_count": null,
   "metadata": {},
   "outputs": [],
   "source": [
    "for i in CMS_df.columns:\n",
    "    if i=='person_id_syn':\n",
    "            continue\n",
    "    if i=='transportation_issues':\n",
    "            continue\n",
    "#     if i=='rev_cms_total_ind':\n",
    "#         df_one = rev_df[rev_df[i] ==4]#[i ]==3]\n",
    "#         print(\"percentage of patients using\",i,df_one.shape[0]/rev_df.shape[0])\n",
    "#         print('percentage of patients using',i,'and Transportation Issue', df_one[df_one.transportation_issues ==1].shape[0]/df_one.shape[0])\n",
    "#     else:\n",
    "    try:\n",
    "            df_one = CMS_df[CMS_df[i] !=0]\n",
    "            print(\"percentage of patients using\",i,df_one.shape[0]/CMS_df.shape[0])\n",
    "            print('percentage of patients using',i,'and Transportation Issue', df_one[df_one.transportation_issues ==1].shape[0]/df_one.shape[0])\n",
    "    except:\n",
    "            continue    \n",
    "    \n",
    "#evry variable has more than 10%. taking all."
   ]
  },
  {
   "cell_type": "code",
   "execution_count": null,
   "metadata": {},
   "outputs": [],
   "source": [
    "from sklearn.preprocessing import LabelEncoder\n",
    "labelencoder = LabelEncoder()\n",
    "from collections import defaultdict"
   ]
  },
  {
   "cell_type": "code",
   "execution_count": null,
   "metadata": {},
   "outputs": [],
   "source": [
    "d = defaultdict(LabelEncoder)\n",
    "# Encoding the variable\n",
    "#CMS_df['cms_ra_factor_type_cd'] = CMS_df['cms_ra_factor_type_cd'].apply(lambda x: d[x.name].fit_transform(x))\n",
    "#CMS_df['cms_ra_factor_type_cd'] = LabelEncoder().fit(CMS_df['cms_ra_factor_type_cd']).transform(CMS_df['cms_ra_factor_type_cd'])"
   ]
  },
  {
   "cell_type": "code",
   "execution_count": null,
   "metadata": {},
   "outputs": [],
   "source": [
    "#CMS_new_df="
   ]
  },
  {
   "cell_type": "code",
   "execution_count": null,
   "metadata": {},
   "outputs": [],
   "source": [
    "CMS_df_no_issue = CMS_df[CMS_df.transportation_issues == 0]\n",
    "CMS_df_issue = CMS_df[CMS_df.transportation_issues == 1]\n",
    "#print(CMS_df_issue.shape)\n",
    "CMS_df_no_issue_sample = CMS_df_no_issue.sample(n=8886)\n",
    "CMS_new_df = pd.concat([CMS_df_no_issue_sample, CMS_df_issue])"
   ]
  },
  {
   "cell_type": "code",
   "execution_count": null,
   "metadata": {},
   "outputs": [],
   "source": [
    "CMS_new_df.shape"
   ]
  },
  {
   "cell_type": "code",
   "execution_count": null,
   "metadata": {},
   "outputs": [],
   "source": [
    "import pandas as pd\n",
    "from sklearn.model_selection import train_test_split\n",
    "from sklearn.linear_model import LogisticRegression\n",
    "from sklearn import metrics\n",
    "import seaborn as sn\n",
    "import matplotlib.pyplot as plt"
   ]
  },
  {
   "cell_type": "code",
   "execution_count": null,
   "metadata": {},
   "outputs": [],
   "source": [
    "y = CMS_new_df['transportation_issues']\n",
    "X = CMS_new_df.drop(columns=['transportation_issues','person_id_syn','cms_ra_factor_type_cd'])\n",
    "#X = CMS_new_df[['cmsd2_eye_blindness_ind','cms_hospice_ind']]\n",
    "X_train,X_test,y_train,y_test = train_test_split(X,y,test_size=0.25,random_state=0)"
   ]
  },
  {
   "cell_type": "code",
   "execution_count": null,
   "metadata": {},
   "outputs": [],
   "source": [
    "CMS_df.drop(['transportation_issues','cms_ra_factor_type_cd'],axis=1).to_pickle('df_cms_suraj.pkl')"
   ]
  },
  {
   "cell_type": "code",
   "execution_count": null,
   "metadata": {},
   "outputs": [],
   "source": [
    "logistic_regression= LogisticRegression()\n",
    "logistic_regression.fit(X_train,y_train)\n",
    "y_pred_test=logistic_regression.predict(X_test)\n",
    "y_pred_train=logistic_regression.predict(X_train)"
   ]
  },
  {
   "cell_type": "code",
   "execution_count": null,
   "metadata": {},
   "outputs": [],
   "source": [
    "print('Accuracy: ',metrics.accuracy_score(y_test, y_pred_test))\n",
    "print('Accuracy: ',metrics.accuracy_score(y_train, y_pred_train))"
   ]
  },
  {
   "cell_type": "code",
   "execution_count": null,
   "metadata": {},
   "outputs": [],
   "source": [
    "from sklearn.ensemble import RandomForestClassifier\n",
    "from sklearn.metrics import classification_report\n",
    "from sklearn.metrics import confusion_matrix\n",
    "RF_clf = RandomForestClassifier(n_estimators=300,max_depth=10)\n",
    "RF_clf.fit(X_train, y_train)"
   ]
  },
  {
   "cell_type": "code",
   "execution_count": null,
   "metadata": {},
   "outputs": [],
   "source": [
    "y_rf_pred_test = RF_clf.predict(X_test)\n",
    "y_rf_pred_train = RF_clf.predict(X_train)\n",
    "\n",
    "print(classification_report(y_test, y_rf_pred_test))\n",
    "print(classification_report(y_train, y_rf_pred_train))\n",
    "\n",
    "print(metrics.accuracy_score(y_test, y_rf_pred_test))\n",
    "print(metrics.accuracy_score(y_train, y_rf_pred_train))"
   ]
  },
  {
   "cell_type": "code",
   "execution_count": null,
   "metadata": {},
   "outputs": [],
   "source": [
    "## stuff"
   ]
  },
  {
   "cell_type": "code",
   "execution_count": null,
   "metadata": {},
   "outputs": [],
   "source": []
  },
  {
   "cell_type": "code",
   "execution_count": null,
   "metadata": {},
   "outputs": [],
   "source": [
    "# L=CMS_df.columns.to_list()\n",
    "# #type(L[0])\n",
    "# for i in L:\n",
    "#     CMS_df.groupby([i, 'transportation_issues']).size().unstack().plot(kind='bar', stacked=False)\n",
    "#     CMS_df.groupby(['transportation_issues',i]).size().unstack().plot(kind='bar', stacked=False)\n",
    "#     print('1')"
   ]
  },
  {
   "cell_type": "markdown",
   "metadata": {},
   "source": [
    "### cms_dual_eligible_ind"
   ]
  },
  {
   "cell_type": "code",
   "execution_count": null,
   "metadata": {},
   "outputs": [],
   "source": [
    "CMS_df.groupby(['cms_dual_eligible_ind', 'transportation_issues']).size().unstack().plot(kind='bar', stacked=False)\n",
    "CMS_df.groupby(['transportation_issues','cms_dual_eligible_ind']).size().unstack().plot(kind='bar', stacked=False)\n",
    "print(CMS_df[CMS_df.cms_dual_eligible_ind==0].transportation_issues.value_counts())\n",
    "print(CMS_df[CMS_df.cms_dual_eligible_ind==1].transportation_issues.value_counts())\n",
    "#print((CMS_df[CMS_df.cms_dual_eligible_ind==1].transportation_issues.value_counts()[0])/(CMS_df[CMS_df.cms_dual_eligible_ind==1].transportation_issues.value_counts())[1])\n",
    "# more than 30% of people with dual eligibility indicator are facing transportation issues\n",
    "print(CMS_df[CMS_df[CMS_df.cms_dual_eligible_ind==1]]['transportation_issues'].shape[0])"
   ]
  },
  {
   "cell_type": "markdown",
   "metadata": {},
   "source": [
    "### cms_disabled_ind"
   ]
  },
  {
   "cell_type": "code",
   "execution_count": null,
   "metadata": {
    "scrolled": true
   },
   "outputs": [],
   "source": [
    "CMS_df.groupby(['cms_disabled_ind', 'transportation_issues']).size().unstack().plot(kind='bar', stacked=False)\n",
    "CMS_df.groupby(['transportation_issues','cms_disabled_ind']).size().unstack().plot(kind='bar', stacked=False)\n",
    "print(CMS_df[CMS_df.cms_disabled_ind==0].transportation_issues.value_counts())\n",
    "print(CMS_df[CMS_df.cms_disabled_ind==1].transportation_issues.value_counts())\n",
    "#print((CMS_df[CMS_df.cms_disabled_ind==1].transportation_issues.value_counts()[0])/(CMS_df[CMS_df.cms_dual_eligible_ind==1].transportation_issues.value_counts())[1])\n"
   ]
  },
  {
   "cell_type": "markdown",
   "metadata": {},
   "source": [
    "### cms_hospice_ind"
   ]
  },
  {
   "cell_type": "code",
   "execution_count": null,
   "metadata": {},
   "outputs": [],
   "source": [
    "CMS_df.groupby(['cms_hospice_ind', 'transportation_issues']).size().unstack().plot(kind='bar', stacked=False)\n",
    "CMS_df.groupby(['transportation_issues','cms_hospice_ind']).size().unstack().plot(kind='bar', stacked=False)\n",
    "print(CMS_df[CMS_df.cms_hospice_ind==0].transportation_issues.value_counts())\n",
    "print(CMS_df[CMS_df.cms_hospice_ind==1].transportation_issues.value_counts())\n",
    "#print((CMS_df[CMS_df.cms_disabled_ind==1].transportation_issues.value_counts()[0])/(CMS_df[CMS_df.cms_dual_eligible_ind==1].transportation_issues.value_counts())[1])"
   ]
  },
  {
   "cell_type": "markdown",
   "metadata": {},
   "source": [
    "### cms_low_income_ind"
   ]
  },
  {
   "cell_type": "code",
   "execution_count": null,
   "metadata": {},
   "outputs": [],
   "source": [
    "CMS_df.groupby(['cms_low_income_ind', 'transportation_issues']).size().unstack().plot(kind='bar', stacked=False)\n",
    "CMS_df.groupby(['transportation_issues','cms_low_income_ind']).size().unstack().plot(kind='bar', stacked=False)\n",
    "print(CMS_df[CMS_df.cms_low_income_ind==0].transportation_issues.value_counts())\n",
    "print(CMS_df[CMS_df.cms_low_income_ind==1].transportation_issues.value_counts())\n",
    "#print((CMS_df[CMS_df.cms_disabled_ind==1].transportation_issues.value_counts()[0])/(CMS_df[CMS_df.cms_dual_eligible_ind==1].transportation_issues.value_counts())[1])"
   ]
  },
  {
   "cell_type": "markdown",
   "metadata": {},
   "source": [
    "### cms_ma_risk_score_nbr"
   ]
  },
  {
   "cell_type": "code",
   "execution_count": null,
   "metadata": {},
   "outputs": [],
   "source": [
    "CMS_df.groupby(['cms_ma_risk_score_nbr', 'transportation_issues']).size().unstack().plot(kind='bar', stacked=False)\n",
    "CMS_df.groupby(['transportation_issues','cms_ma_risk_score_nbr']).size().unstack().plot(kind='bar', stacked=False)\n",
    "print(CMS_df[CMS_df.cms_ma_risk_score_nbr==0].transportation_issues.value_counts())\n",
    "print(CMS_df[CMS_df.cms_ma_risk_score_nbr==1].transportation_issues.value_counts())\n",
    "#print((CMS_df[CMS_df.cms_disabled_ind==1].transportation_issues.value_counts()[0])/(CMS_df[CMS_df.cms_dual_eligible_ind==1].transportation_issues.value_counts())[1])"
   ]
  },
  {
   "cell_type": "markdown",
   "metadata": {},
   "source": [
    "### cms_partd_ra_factor_amt\n"
   ]
  },
  {
   "cell_type": "code",
   "execution_count": null,
   "metadata": {},
   "outputs": [],
   "source": [
    "CMS_df.groupby(['cms_partd_ra_factor_amt', 'transportation_issues']).size().unstack().plot(kind='bar', stacked=False)\n",
    "CMS_df.groupby(['transportation_issues','cms_partd_ra_factor_amt']).size().unstack().plot(kind='bar', stacked=False)\n",
    "print(CMS_df[CMS_df.cms_partd_ra_factor_amt==0].transportation_issues.value_counts())\n",
    "print(CMS_df[CMS_df.cms_partd_ra_factor_amt==1].transportation_issues.value_counts())\n",
    "#print((CMS_df[CMS_df.cms_disabled_ind==1].transportation_issues.value_counts()[0])/(CMS_df[CMS_df.cms_dual_eligible_ind==1].transportation_issues.value_counts())[1])"
   ]
  },
  {
   "cell_type": "markdown",
   "metadata": {},
   "source": [
    "### cms_ra_factor_type_cd\n"
   ]
  },
  {
   "cell_type": "code",
   "execution_count": null,
   "metadata": {},
   "outputs": [],
   "source": [
    "CMS_df.groupby(['cms_ra_factor_type_cd', 'transportation_issues']).size().unstack().plot(kind='bar', stacked=False)\n",
    "CMS_df.groupby(['transportation_issues','cms_ra_factor_type_cd']).size().unstack().plot(kind='bar', stacked=False)\n",
    "print(CMS_df[CMS_df.cms_hospice_ind==0].transportation_issues.value_counts())\n",
    "print(CMS_df[CMS_df.cms_hospice_ind==1].transportation_issues.value_counts())\n",
    "#print((CMS_df[CMS_df.cms_disabled_ind==1].transportation_issues.value_counts()[0])/(CMS_df[CMS_df.cms_dual_eligible_ind==1].transportation_issues.value_counts())[1])"
   ]
  },
  {
   "cell_type": "markdown",
   "metadata": {},
   "source": [
    "### cms_risk_adj_payment_rate_a_amt\n"
   ]
  },
  {
   "cell_type": "code",
   "execution_count": null,
   "metadata": {},
   "outputs": [],
   "source": [
    "CMS_df.groupby(['cms_risk_adj_payment_rate_a_amt', 'transportation_issues']).size().unstack().plot(kind='bar', stacked=False)\n",
    "CMS_df.groupby(['transportation_issues','cms_risk_adj_payment_rate_a_amt']).size().unstack().plot(kind='bar', stacked=False)\n",
    "print(CMS_df[CMS_df.cms_hospice_ind==0].transportation_issues.value_counts())\n",
    "print(CMS_df[CMS_df.cms_hospice_ind==1].transportation_issues.value_counts())\n",
    "#print((CMS_df[CMS_df.cms_disabled_ind==1].transportation_issues.value_counts()[0])/(CMS_df[CMS_df.cms_dual_eligible_ind==1].transportation_issues.value_counts())[1])"
   ]
  },
  {
   "cell_type": "markdown",
   "metadata": {},
   "source": [
    "### cms_risk_adj_payment_rate_b_amt\n"
   ]
  },
  {
   "cell_type": "code",
   "execution_count": null,
   "metadata": {},
   "outputs": [],
   "source": [
    "CMS_df.groupby(['cms_risk_adj_payment_rate_b_amt', 'transportation_issues']).size().unstack().plot(kind='bar', stacked=False)\n",
    "CMS_df.groupby(['transportation_issues','cms_risk_adj_payment_rate_b_amt']).size().unstack().plot(kind='bar', stacked=False)\n",
    "print(CMS_df[CMS_df.cms_hospice_ind==0].transportation_issues.value_counts())\n",
    "print(CMS_df[CMS_df.cms_hospice_ind==1].transportation_issues.value_counts())\n",
    "#print((CMS_df[CMS_df.cms_disabled_ind==1].transportation_issues.value_counts()[0])/(CMS_df[CMS_df.cms_dual_eligible_ind==1].transportation_issues.value_counts())[1])"
   ]
  },
  {
   "cell_type": "markdown",
   "metadata": {},
   "source": [
    "### cms_risk_adjustment_factor_a_amt\n"
   ]
  },
  {
   "cell_type": "code",
   "execution_count": null,
   "metadata": {},
   "outputs": [],
   "source": [
    "CMS_df.groupby(['cms_risk_adjustment_factor_a_amt', 'transportation_issues']).size().unstack().plot(kind='bar', stacked=False)\n",
    "CMS_df.groupby(['transportation_issues','cms_risk_adjustment_factor_a_amt']).size().unstack().plot(kind='bar', stacked=False)\n",
    "print(CMS_df[CMS_df.cms_risk_adjustment_factor_a_amt==0].transportation_issues.value_counts())\n",
    "print(CMS_df[CMS_df.cms_risk_adjustment_factor_a_amt==1].transportation_issues.value_counts())\n",
    "#print((CMS_df[CMS_df.cms_disabled_ind==1].transportation_issues.value_counts()[0])/(CMS_df[CMS_df.cms_dual_eligible_ind==1].transportation_issues.value_counts())[1])"
   ]
  },
  {
   "cell_type": "markdown",
   "metadata": {},
   "source": [
    "### cms_rx_risk_score_nbr\n"
   ]
  },
  {
   "cell_type": "code",
   "execution_count": null,
   "metadata": {},
   "outputs": [],
   "source": [
    "CMS_df.groupby(['cms_rx_risk_score_nbr', 'transportation_issues']).size().unstack().plot(kind='bar', stacked=False)\n",
    "CMS_df.groupby(['transportation_issues','cms_rx_risk_score_nbr']).size().unstack().plot(kind='bar', stacked=False)\n",
    "print(CMS_df[CMS_df.cms_rx_risk_score_nbr==0].transportation_issues.value_counts())\n",
    "print(CMS_df[CMS_df.cms_rx_risk_score_nbr==1].transportation_issues.value_counts())\n",
    "#print((CMS_df[CMS_df.cms_disabled_ind==1].transportation_issues.value_counts()[0])/(CMS_df[CMS_df.cms_dual_eligible_ind==1].transportation_issues.value_counts())[1])"
   ]
  },
  {
   "cell_type": "markdown",
   "metadata": {},
   "source": [
    "### cms_tot_ma_payment_amt\n"
   ]
  },
  {
   "cell_type": "code",
   "execution_count": null,
   "metadata": {},
   "outputs": [],
   "source": [
    "CMS_df.groupby(['cms_tot_ma_payment_amt', 'transportation_issues']).size().unstack().plot(kind='bar', stacked=False)\n",
    "CMS_df.groupby(['transportation_issues','cms_tot_ma_payment_amt']).size().unstack().plot(kind='bar', stacked=False)\n",
    "print(CMS_df[CMS_df.cms_tot_ma_payment_amt==0].transportation_issues.value_counts())\n",
    "print(CMS_df[CMS_df.cms_tot_ma_payment_amt==1].transportation_issues.value_counts())\n",
    "#print((CMS_df[CMS_df.cms_disabled_ind==1].transportation_issues.value_counts()[0])/(CMS_df[CMS_df.cms_dual_eligible_ind==1].transportation_issues.value_counts())[1])"
   ]
  },
  {
   "cell_type": "markdown",
   "metadata": {},
   "source": [
    "### cms_tot_partd_payment_amt"
   ]
  },
  {
   "cell_type": "code",
   "execution_count": null,
   "metadata": {},
   "outputs": [],
   "source": [
    "CMS_df.groupby(['cms_tot_partd_payment_amt', 'transportation_issues']).size().unstack().plot(kind='bar', stacked=False)\n",
    "CMS_df.groupby(['transportation_issues','cms_tot_partd_payment_amt']).size().unstack().plot(kind='bar', stacked=False)\n",
    "print(CMS_df[CMS_df.cms_hospice_ind==0].transportation_issues.value_counts())\n",
    "print(CMS_df[CMS_df.cms_hospice_ind==1].transportation_issues.value_counts())\n",
    "#print((CMS_df[CMS_df.cms_disabled_ind==1].transportation_issues.value_counts()[0])/(CMS_df[CMS_df.cms_dual_eligible_ind==1].transportation_issues.value_counts())[1])"
   ]
  },
  {
   "cell_type": "code",
   "execution_count": null,
   "metadata": {},
   "outputs": [],
   "source": []
  },
  {
   "cell_type": "code",
   "execution_count": null,
   "metadata": {},
   "outputs": [],
   "source": [
    "CMS_df.groupby(['cms_tot_partd_payment_amt', 'transportation_issues']).size().unstack().plot(kind='bar', stacked=False)\n",
    "CMS_df.groupby(['transportation_issues','cms_tot_partd_payment_amt']).size().unstack().plot(kind='bar', stacked=False)\n",
    "print(CMS_df[CMS_df.cms_hospice_ind==0].transportation_issues.value_counts())\n",
    "print(CMS_df[CMS_df.cms_hospice_ind==1].transportation_issues.value_counts())\n",
    "#print((CMS_df[CMS_df.cms_disabled_ind==1].transportation_issues.value_counts()[0])/(CMS_df[CMS_df.cms_dual_eligible_ind==1].transportation_issues.value_counts())[1])"
   ]
  },
  {
   "cell_type": "code",
   "execution_count": null,
   "metadata": {},
   "outputs": [],
   "source": []
  },
  {
   "cell_type": "code",
   "execution_count": null,
   "metadata": {},
   "outputs": [],
   "source": [
    "CMS_df.groupby(['cms_tot_partd_payment_amt', 'transportation_issues']).size().unstack().plot(kind='bar', stacked=False)\n",
    "CMS_df.groupby(['transportation_issues','cms_tot_partd_payment_amt']).size().unstack().plot(kind='bar', stacked=False)\n",
    "print(CMS_df[CMS_df.cms_hospice_ind==0].transportation_issues.value_counts())\n",
    "print(CMS_df[CMS_df.cms_hospice_ind==1].transportation_issues.value_counts())\n",
    "#print((CMS_df[CMS_df.cms_disabled_ind==1].transportation_issues.value_counts()[0])/(CMS_df[CMS_df.cms_dual_eligible_ind==1].transportation_issues.value_counts())[1])"
   ]
  },
  {
   "cell_type": "code",
   "execution_count": null,
   "metadata": {},
   "outputs": [],
   "source": []
  },
  {
   "cell_type": "code",
   "execution_count": null,
   "metadata": {},
   "outputs": [],
   "source": [
    "CMS_df.groupby(['cms_tot_partd_payment_amt', 'transportation_issues']).size().unstack().plot(kind='bar', stacked=False)\n",
    "CMS_df.groupby(['transportation_issues','cms_tot_partd_payment_amt']).size().unstack().plot(kind='bar', stacked=False)\n",
    "print(CMS_df[CMS_df.cms_hospice_ind==0].transportation_issues.value_counts())\n",
    "print(CMS_df[CMS_df.cms_hospice_ind==1].transportation_issues.value_counts())\n",
    "#print((CMS_df[CMS_df.cms_disabled_ind==1].transportation_issues.value_counts()[0])/(CMS_df[CMS_df.cms_dual_eligible_ind==1].transportation_issues.value_counts())[1])"
   ]
  },
  {
   "cell_type": "code",
   "execution_count": null,
   "metadata": {},
   "outputs": [],
   "source": []
  }
 ],
 "metadata": {
  "kernelspec": {
   "display_name": "Python 3",
   "language": "python",
   "name": "python3"
  },
  "language_info": {
   "codemirror_mode": {
    "name": "ipython",
    "version": 3
   },
   "file_extension": ".py",
   "mimetype": "text/x-python",
   "name": "python",
   "nbconvert_exporter": "python",
   "pygments_lexer": "ipython3",
   "version": "3.7.6"
  }
 },
 "nbformat": 4,
 "nbformat_minor": 4
}
