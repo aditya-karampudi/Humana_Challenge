{
 "cells": [
  {
   "cell_type": "code",
   "execution_count": 331,
   "metadata": {},
   "outputs": [],
   "source": [
    "import pandas as pd\n",
    "import numpy as np\n",
    "import seaborn as sns\n",
    "import matplotlib.pyplot as plt\n",
    "\n",
    "import warnings\n",
    "warnings.filterwarnings('ignore')"
   ]
  },
  {
   "cell_type": "code",
   "execution_count": 332,
   "metadata": {},
   "outputs": [],
   "source": [
    "df= pd.read_csv('2020_Competition_Training (1).csv')\n",
    "# df = pd.read_csv('2020_Competition_Holdout .csv')\n",
    "# df['transportation_issues'] = 0"
   ]
  },
  {
   "cell_type": "code",
   "execution_count": 333,
   "metadata": {},
   "outputs": [
    {
     "data": {
      "text/plain": [
       "(69572, 826)"
      ]
     },
     "execution_count": 333,
     "metadata": {},
     "output_type": "execute_result"
    }
   ],
   "source": [
    "df.shape"
   ]
  },
  {
   "cell_type": "code",
   "execution_count": 334,
   "metadata": {},
   "outputs": [
    {
     "data": {
      "text/plain": [
       "0    59375\n",
       "1    10197\n",
       "Name: transportation_issues, dtype: int64"
      ]
     },
     "execution_count": 334,
     "metadata": {},
     "output_type": "execute_result"
    }
   ],
   "source": [
    "df.transportation_issues.value_counts()"
   ]
  },
  {
   "cell_type": "code",
   "execution_count": 335,
   "metadata": {},
   "outputs": [
    {
     "data": {
      "text/plain": [
       "0.1465675846604956"
      ]
     },
     "execution_count": 335,
     "metadata": {},
     "output_type": "execute_result"
    }
   ],
   "source": [
    "10197/69572"
   ]
  },
  {
   "cell_type": "code",
   "execution_count": 336,
   "metadata": {},
   "outputs": [
    {
     "data": {
      "text/plain": [
       "0.8534324153395044"
      ]
     },
     "execution_count": 336,
     "metadata": {},
     "output_type": "execute_result"
    }
   ],
   "source": [
    "59375/69572"
   ]
  },
  {
   "cell_type": "code",
   "execution_count": null,
   "metadata": {},
   "outputs": [],
   "source": []
  },
  {
   "cell_type": "code",
   "execution_count": 337,
   "metadata": {},
   "outputs": [],
   "source": [
    "def data_viz(df_visualize):\n",
    "    df_visualize = df_visualize.groupby(['transportation_issues']).sum().transpose()\n",
    "    df_visualize.reset_index(drop=False,inplace=True)\n",
    "    df_visualize.columns = ['sum_columns','no_issues','issues']\n",
    "\n",
    "    df_visualize = df_visualize.melt(['sum_columns'])\n",
    "    \n",
    "    df_visualize['avg_value'] = 0\n",
    "\n",
    "    for index, row in df_visualize.iterrows():\n",
    "        if row['variable'] == 'no_issues':\n",
    "            df_visualize.loc[index,'avg_value'] = row['value']/59375\n",
    "        else:\n",
    "            df_visualize.loc[index,'avg_value'] = row['value']/10197\n",
    "    \n",
    "    return df_visualize"
   ]
  },
  {
   "cell_type": "code",
   "execution_count": null,
   "metadata": {},
   "outputs": [],
   "source": []
  },
  {
   "cell_type": "code",
   "execution_count": 338,
   "metadata": {},
   "outputs": [],
   "source": [
    "rx_columns = [s for s in df.columns if 'rx_' in s]\n",
    "rx_columns = list(filter(lambda w: w not in ['cms_rx_risk_score_nbr'], list(rx_columns)))\n",
    "# rx_columns"
   ]
  },
  {
   "cell_type": "markdown",
   "metadata": {},
   "source": [
    "## RX_BH - behavioral health"
   ]
  },
  {
   "cell_type": "code",
   "execution_count": 339,
   "metadata": {},
   "outputs": [
    {
     "name": "stdout",
     "output_type": "stream",
     "text": [
      "percentage of patients having something in rx_bh_pmpm_ct 0.3968550566319784\n",
      "percentage of transportation isue and rx_bh_pmpm_ct 0.07590697407002817\n"
     ]
    }
   ],
   "source": [
    "rx_bh = df[[s for s in rx_columns if 'rx_bh' in s]]\n",
    "rx_bh = pd.concat([rx_bh, df[['transportation_issues']]],axis=1)\n",
    "\n",
    "df_one = rx_bh[rx_bh['rx_bh_pmpm_ct'] !=0 ]\n",
    "print(\"percentage of patients having something in rx_bh_pmpm_ct\",df_one.shape[0]/rx_bh.shape[0])\n",
    "print(\"percentage of transportation isue and rx_bh_pmpm_ct\", df_one[df_one.transportation_issues ==1].shape[0]/rx_bh.shape[0])\n",
    "rx_bh.drop('transportation_issues',axis=1,inplace=True)\n",
    "# df_one = rx_bh[rx_bh['rx_bh_ind'] !=0 ]\n",
    "# print(\"percentage of patients having something in rx_bh_ind\",df_one.shape[0]/rx_bh.shape[0])\n",
    "# print(\"percentage of transportation isue and rx_bh_ind\", df_one[df_one.transportation_issues ==1].shape[0]/rx_bh.shape[0])"
   ]
  },
  {
   "cell_type": "code",
   "execution_count": null,
   "metadata": {},
   "outputs": [],
   "source": []
  },
  {
   "cell_type": "code",
   "execution_count": null,
   "metadata": {},
   "outputs": [],
   "source": []
  },
  {
   "cell_type": "markdown",
   "metadata": {},
   "source": [
    "# RX_Branded"
   ]
  },
  {
   "cell_type": "code",
   "execution_count": 340,
   "metadata": {},
   "outputs": [
    {
     "name": "stdout",
     "output_type": "stream",
     "text": [
      "percentage of patients having something in rx_branded_pmpm_ct 0.7589116311159662\n",
      "percentage of transportation isue and rx_branded_pmpm_ct 0.115075030184557\n"
     ]
    }
   ],
   "source": [
    "# rx_branded_ind,rx_branded_pmpm_ct\n",
    "rx_branded = df[[s for s in rx_columns if 'rx_branded' in s]]\n",
    "rx_branded = pd.concat([rx_branded, df[['transportation_issues']]],axis=1)\n",
    "\n",
    "df_one = rx_branded[rx_branded['rx_branded_pmpm_ct'] !=0 ]\n",
    "print(\"percentage of patients having something in rx_branded_pmpm_ct\",df_one.shape[0]/rx_branded.shape[0])\n",
    "print(\"percentage of transportation isue and rx_branded_pmpm_ct\", df_one[df_one.transportation_issues ==1].shape[0]/rx_branded.shape[0])\n",
    "rx_branded.drop('transportation_issues',axis=1,inplace=True)"
   ]
  },
  {
   "cell_type": "code",
   "execution_count": 341,
   "metadata": {},
   "outputs": [],
   "source": [
    "df_visualize = pd.concat([rx_branded[['rx_branded_pmpm_ct']],df[['transportation_issues']]],axis=1)\n",
    "df_visualize_branded = data_viz(df_visualize)\n"
   ]
  },
  {
   "cell_type": "markdown",
   "metadata": {},
   "source": [
    "## RX_Generic"
   ]
  },
  {
   "cell_type": "code",
   "execution_count": 342,
   "metadata": {},
   "outputs": [
    {
     "name": "stdout",
     "output_type": "stream",
     "text": [
      "percentage of patients having something in rx_generic_pmpm_ct 0.9291381590294946\n",
      "percentage of transportation isue and rx_generic_pmpm_ct 0.13765595354452942\n"
     ]
    }
   ],
   "source": [
    "# rx_generic_ind, rx_generic_pmpm_ct\n",
    "rx_generic = df[[s for s in rx_columns if 'rx_generic' in s]]\n",
    "rx_generic = pd.concat([rx_generic, df[['transportation_issues']]],axis=1)\n",
    "\n",
    "df_one = rx_generic[rx_generic['rx_generic_pmpm_ct'] !=0 ]\n",
    "print(\"percentage of patients having something in rx_generic_pmpm_ct\",df_one.shape[0]/rx_generic.shape[0])\n",
    "print(\"percentage of transportation isue and rx_generic_pmpm_ct\", df_one[df_one.transportation_issues ==1].shape[0]/rx_generic.shape[0])\n",
    "rx_generic.drop('transportation_issues',axis=1,inplace=True)"
   ]
  },
  {
   "cell_type": "code",
   "execution_count": 343,
   "metadata": {},
   "outputs": [],
   "source": [
    "df_visualize_genric = pd.concat([rx_generic[['rx_generic_pmpm_ct']],df[['transportation_issues']]],axis=1)\n",
    "df_visualize_genric = data_viz(df_visualize_genric)"
   ]
  },
  {
   "cell_type": "code",
   "execution_count": 344,
   "metadata": {},
   "outputs": [],
   "source": [
    "df_visualize_all = df_visualize_genric.append(df_visualize_branded)"
   ]
  },
  {
   "cell_type": "code",
   "execution_count": null,
   "metadata": {},
   "outputs": [],
   "source": []
  },
  {
   "cell_type": "markdown",
   "metadata": {},
   "source": [
    "## Mailed/Non-Mailed"
   ]
  },
  {
   "cell_type": "code",
   "execution_count": 345,
   "metadata": {},
   "outputs": [],
   "source": [
    "rx_mail = df[['rx_mail_pmpm_ct','rx_mail_ind']]"
   ]
  },
  {
   "cell_type": "code",
   "execution_count": 346,
   "metadata": {},
   "outputs": [],
   "source": [
    "df_visualize_mail = pd.concat([rx_mail[['rx_mail_pmpm_ct']],df[['transportation_issues']]],axis=1)\n",
    "df_visualize_mail = data_viz(df_visualize_mail)"
   ]
  },
  {
   "cell_type": "code",
   "execution_count": 347,
   "metadata": {},
   "outputs": [],
   "source": [
    "df_visualize_all = df_visualize_all.append(df_visualize_mail)"
   ]
  },
  {
   "cell_type": "code",
   "execution_count": null,
   "metadata": {},
   "outputs": [],
   "source": []
  },
  {
   "cell_type": "markdown",
   "metadata": {},
   "source": [
    "# pdc  proportion of days covered"
   ]
  },
  {
   "cell_type": "code",
   "execution_count": 348,
   "metadata": {},
   "outputs": [],
   "source": [
    "df_pdc = df[['pdc_ast','pdc_cvd','pdc_dep','pdc_dia','pdc_hf','pdc_ht','pdc_lip','pdc_ost']]"
   ]
  },
  {
   "cell_type": "code",
   "execution_count": 349,
   "metadata": {},
   "outputs": [],
   "source": [
    "df_pdc.replace(to_replace = 1.1, value = np.NaN, inplace = True)"
   ]
  },
  {
   "cell_type": "code",
   "execution_count": 350,
   "metadata": {},
   "outputs": [
    {
     "data": {
      "text/plain": [
       "pdc_ast    59624\n",
       "pdc_cvd    65117\n",
       "pdc_dep    51422\n",
       "pdc_dia    56120\n",
       "pdc_hf     22384\n",
       "pdc_ht     22393\n",
       "pdc_lip    34956\n",
       "pdc_ost    66291\n",
       "dtype: int64"
      ]
     },
     "execution_count": 350,
     "metadata": {},
     "output_type": "execute_result"
    }
   ],
   "source": [
    "df_pdc.isna().sum()"
   ]
  },
  {
   "cell_type": "markdown",
   "metadata": {},
   "source": [
    "# RX_gpi2"
   ]
  },
  {
   "cell_type": "code",
   "execution_count": 351,
   "metadata": {},
   "outputs": [],
   "source": [
    "rx_gpi = df[[s for s in rx_columns if '_gpi2' in s]]\n",
    "rx_gpi = pd.concat([rx_gpi,df[['transportation_issues']]],axis=1)"
   ]
  },
  {
   "cell_type": "code",
   "execution_count": 352,
   "metadata": {
    "scrolled": true
   },
   "outputs": [],
   "source": [
    "gpi_pmpm_columns = [s for s in rx_gpi.columns if 'pmpm' in s]\n",
    "gpi_ind_columns = [s for s in rx_gpi.columns if 'ind' in s]\n",
    "\n",
    "gpi_pmpm_columns.sort()\n",
    "gpi_ind_columns.sort()\n",
    "\n",
    "zero_columns = []\n",
    "for i in gpi_pmpm_columns:\n",
    "    rx_one = rx_gpi[rx_gpi[i] !=0]\n",
    "    if ((rx_one.shape[0]/rx_gpi.shape[0]) == 0):\n",
    "        zero_columns.append(i)\n",
    "rx_gpi = rx_gpi.drop(columns = zero_columns,axis=1)"
   ]
  },
  {
   "cell_type": "code",
   "execution_count": 353,
   "metadata": {
    "scrolled": true
   },
   "outputs": [],
   "source": [
    "gpi_pmpm_columns = [s for s in rx_gpi.columns if 'rx_gpi2' in s]\n",
    "gpi_pmpm_columns.sort()\n",
    "# for i in gpi_pmpm_columns:\n",
    "#     rx_one = rx_gpi[rx_gpi[i] !=0]\n",
    "#     print('percentage of ', i, 'is', rx_one.shape[0]/rx_gpi.shape[0])\n",
    "    \n",
    "#     if ((rx_one.shape[0]/rx_gpi.shape[0]) == 0):\n",
    "#         zero_columns.append(i)\n",
    "#         print(i)\n",
    "#     print('percentage of patients taking', i, 'and having transportation_issues', rx_one[rx_one.transportation_issues==1].shape[0]/rx_one.shape[0])\n",
    "#     print('--'*40)"
   ]
  },
  {
   "cell_type": "code",
   "execution_count": 354,
   "metadata": {},
   "outputs": [],
   "source": [
    "only_pmpm = [s for s in rx_gpi if '_pmpm' in s]\n",
    "rx_gpi['rx_gpi_sum'] = rx_gpi[gpi_ind_columns].sum(axis=1)"
   ]
  },
  {
   "cell_type": "code",
   "execution_count": 355,
   "metadata": {},
   "outputs": [],
   "source": [
    "only_ind = [s for s in rx_gpi if '_ind' in s]\n",
    "rx_gpi = rx_gpi.drop(columns=only_ind)"
   ]
  },
  {
   "cell_type": "code",
   "execution_count": 356,
   "metadata": {},
   "outputs": [],
   "source": [
    "rx_gpi = pd.concat([rx_gpi,df[['person_id_syn','rx_bh_pmpm_ct','rx_branded_pmpm_ct','rx_generic_pmpm_ct']]],axis=1)"
   ]
  },
  {
   "cell_type": "code",
   "execution_count": 357,
   "metadata": {},
   "outputs": [],
   "source": [
    "# for i in gpi_ind_columns:\n",
    "#     rx_gpi[i] =  rx_gpi[i].astype('category')"
   ]
  },
  {
   "cell_type": "code",
   "execution_count": 358,
   "metadata": {},
   "outputs": [],
   "source": [
    "# rx_gpi.drop('transportation_issues',axis=1).to_pickle(\"df_rx_neti.pkl\")\n"
   ]
  },
  {
   "cell_type": "code",
   "execution_count": 359,
   "metadata": {},
   "outputs": [],
   "source": [
    "rx_columns = [s for s in df.columns if 'rx_' in s]\n",
    "rx_columns = list(filter(lambda w: w not in ['cms_rx_risk_score_nbr'], list(rx_columns)))\n",
    "rx_gpi = df[[s for s in rx_columns if '_gpi2' in s]]\n",
    "rx_gpi = pd.concat([rx_gpi,df[['transportation_issues']]],axis=1)"
   ]
  },
  {
   "cell_type": "code",
   "execution_count": 360,
   "metadata": {},
   "outputs": [],
   "source": [
    "gpi_pmpm_columns = [s for s in rx_gpi.columns if 'pmpm' in s]\n",
    "gpi_pmpm_columns.sort()\n",
    "gpi_ind_columns = [s for s in rx_gpi.columns if 'ind' in s]\n",
    "gpi_ind_columns.sort()"
   ]
  },
  {
   "cell_type": "markdown",
   "metadata": {},
   "source": [
    "# Anti-Biotics"
   ]
  },
  {
   "cell_type": "code",
   "execution_count": 361,
   "metadata": {},
   "outputs": [
    {
     "name": "stdout",
     "output_type": "stream",
     "text": [
      "percentage of people who took atleast one anti_biotics are 0.5091559822917265\n",
      "percent of people having the transportataion issue after taking the drug 0.15989611269514156\n"
     ]
    }
   ],
   "source": [
    "anti_biotics_pmpm = gpi_pmpm_columns[0:14]\n",
    "anti_biotics_ind = gpi_ind_columns[0:14]\n",
    "\n",
    "anti_biotics = pd.concat([rx_gpi[anti_biotics_ind], rx_gpi[anti_biotics_pmpm]],axis=1)\n",
    "anti_biotics['ind_sum'] = anti_biotics[anti_biotics_ind].sum(axis=1)\n",
    "anti_biotics['pmpm_sum'] = anti_biotics[anti_biotics_pmpm].sum(axis=1)\n",
    "anti_biotics.columns = [str(col) + '_antibio' for col in anti_biotics.columns]\n",
    "\n",
    "anti_biotics.loc[anti_biotics.ind_sum_antibio > 0, 'antibio_yes_no'] = 1\n",
    "anti_biotics = anti_biotics.fillna(0)\n",
    "anti_biotics['antibio_perc'] = anti_biotics.ind_sum_antibio/len(anti_biotics_ind)\n",
    "anti_biotics['antibio_pmpm_perc'] = anti_biotics.pmpm_sum_antibio/len(anti_biotics_ind)\n",
    "\n",
    "rx_gpi = pd.concat([rx_gpi, anti_biotics[['ind_sum_antibio','pmpm_sum_antibio','antibio_perc','antibio_pmpm_perc','antibio_yes_no']]],axis=1)\n",
    "\n",
    "anti_biotics = pd.concat([anti_biotics, df[['transportation_issues']]],axis=1)\n",
    "one_df = anti_biotics[anti_biotics.antibio_yes_no>0]\n",
    "print(\"percentage of people who took atleast one anti_biotics are\", one_df.shape[0]/anti_biotics.shape[0])\n",
    "print(\"percent of people having the transportataion issue after taking the drug\", one_df[one_df.transportation_issues==1].shape[0]/one_df.shape[0])"
   ]
  },
  {
   "cell_type": "code",
   "execution_count": null,
   "metadata": {},
   "outputs": [],
   "source": []
  },
  {
   "cell_type": "markdown",
   "metadata": {},
   "source": [
    "# immuno Modulators\n"
   ]
  },
  {
   "cell_type": "code",
   "execution_count": 362,
   "metadata": {},
   "outputs": [],
   "source": [
    "immuno_pmpm = gpi_pmpm_columns[14:18]\n",
    "immuno_ind = gpi_ind_columns[14:18]\n",
    "\n",
    "immuno = pd.concat([rx_gpi[immuno_ind], rx_gpi[immuno_pmpm]],axis=1)\n",
    "immuno['ind_sum'] = immuno[immuno_ind].sum(axis=1)\n",
    "immuno['pmpm_sum'] = immuno[immuno_pmpm].sum(axis=1)\n",
    "immuno.columns = [str(col) + '_immuno' for col in immuno.columns]\n",
    "\n",
    "immuno.loc[immuno.ind_sum_immuno > 0, 'immuno_yes_no'] = 1\n",
    "immuno = immuno.fillna(0)\n",
    "immuno['immuno_perc'] = immuno.ind_sum_immuno/len(immuno_ind)\n",
    "immuno['immuno_pmpm_perc'] = immuno.pmpm_sum_immuno/len(immuno_ind)\n",
    "\n",
    "rx_gpi = pd.concat([rx_gpi, immuno[['ind_sum_immuno','pmpm_sum_immuno','immuno_perc','immuno_pmpm_perc','immuno_yes_no']]],axis=1)"
   ]
  },
  {
   "cell_type": "code",
   "execution_count": 363,
   "metadata": {},
   "outputs": [
    {
     "name": "stdout",
     "output_type": "stream",
     "text": [
      "percentage of people who took atleast one anti-biotic are 0.26895877651928934\n",
      "percent of people having the transportataion issue after taking the drug 0.11420478837109876\n"
     ]
    }
   ],
   "source": [
    "immuno = pd.concat([immuno, df[['transportation_issues']]],axis=1)\n",
    "one_df = immuno[immuno.immuno_yes_no>0]\n",
    "print(\"percentage of people who took atleast one anti-biotic are\", one_df.shape[0]/immuno.shape[0])\n",
    "print(\"percent of people having the transportataion issue after taking the drug\", one_df[one_df.transportation_issues==1].shape[0]/one_df.shape[0])"
   ]
  },
  {
   "cell_type": "code",
   "execution_count": null,
   "metadata": {},
   "outputs": [],
   "source": []
  },
  {
   "cell_type": "markdown",
   "metadata": {},
   "source": [
    "## Cancer"
   ]
  },
  {
   "cell_type": "code",
   "execution_count": 364,
   "metadata": {},
   "outputs": [],
   "source": [
    "cancer_pmpm = gpi_pmpm_columns[18]\n",
    "cancer_ind = gpi_ind_columns[18]\n",
    "\n",
    "cancer = pd.concat([rx_gpi[cancer_ind], rx_gpi[cancer_pmpm]],axis=1)\n",
    "cancer['ind_sum'] = cancer[cancer_ind]\n",
    "cancer['pmpm_sum'] = cancer[cancer_pmpm]\n",
    "cancer.columns = [str(col) + '_cancerr' for col in cancer.columns]\n",
    "\n",
    "cancer.loc[cancer.ind_sum_cancerr > 0, 'cancerr_yes_no'] = 1\n",
    "cancer = cancer.fillna(0)\n",
    "cancer['cancerr_perc'] = cancer.ind_sum_cancerr/len(cancer_ind[0])\n",
    "cancer['cancerr_pmpm_perc'] = cancer.pmpm_sum_cancerr/len(cancer_ind[0])"
   ]
  },
  {
   "cell_type": "code",
   "execution_count": 365,
   "metadata": {},
   "outputs": [],
   "source": [
    "rx_gpi = pd.concat([rx_gpi, cancer[['ind_sum_cancerr','pmpm_sum_cancerr','cancerr_perc','cancerr_pmpm_perc','cancerr_yes_no']]],axis=1)"
   ]
  },
  {
   "cell_type": "markdown",
   "metadata": {},
   "source": [
    "## Hormonal drugs\n"
   ]
  },
  {
   "cell_type": "code",
   "execution_count": 366,
   "metadata": {},
   "outputs": [],
   "source": [
    "hormone_pmpm = gpi_pmpm_columns[18:28]\n",
    "hormone_ind = gpi_ind_columns[18:28]\n",
    "\n",
    "hormone = pd.concat([rx_gpi[hormone_ind], rx_gpi[hormone_pmpm]],axis=1)\n",
    "hormone['ind_sum'] = hormone[hormone_ind].sum(axis=1)\n",
    "hormone['pmpm_sum'] = hormone[hormone_pmpm].sum(axis=1)\n",
    "hormone.columns = [str(col) + '_hormone' for col in hormone.columns]\n",
    "\n",
    "hormone.loc[hormone.ind_sum_hormone > 0, 'hormone_yes_no'] = 1\n",
    "hormone = hormone.fillna(0)\n",
    "hormone['hormone_perc'] = hormone.ind_sum_hormone/len(hormone_ind)\n",
    "hormone['hormone_pmpm_perc'] = hormone.pmpm_sum_hormone/len(hormone_ind)\n",
    "\n",
    "rx_gpi = pd.concat([rx_gpi, hormone[['ind_sum_hormone','pmpm_sum_hormone','hormone_perc','hormone_pmpm_perc','hormone_yes_no']]],axis=1)"
   ]
  },
  {
   "cell_type": "code",
   "execution_count": 367,
   "metadata": {},
   "outputs": [
    {
     "name": "stdout",
     "output_type": "stream",
     "text": [
      "percentage of people who took atleast one hormone are 0.5357183924567355\n",
      "percent of people having the transportataion issue after taking the drug 0.15446325561428456\n"
     ]
    }
   ],
   "source": [
    "hormone = pd.concat([hormone, df[['transportation_issues']]],axis=1)\n",
    "one_df = hormone[hormone.hormone_yes_no>0]\n",
    "print(\"percentage of people who took atleast one hormone are\", one_df.shape[0]/hormone.shape[0])\n",
    "print(\"percent of people having the transportataion issue after taking the drug\", one_df[one_df.transportation_issues==1].shape[0]/one_df.shape[0])"
   ]
  },
  {
   "cell_type": "code",
   "execution_count": null,
   "metadata": {},
   "outputs": [],
   "source": []
  },
  {
   "cell_type": "markdown",
   "metadata": {},
   "source": [
    "## Cardio-vascular drugs\n"
   ]
  },
  {
   "cell_type": "code",
   "execution_count": 368,
   "metadata": {},
   "outputs": [],
   "source": [
    "cardio_pmpm = gpi_pmpm_columns[28:38]\n",
    "cardio_ind = gpi_ind_columns[28:38]\n",
    "\n",
    "cardio = pd.concat([rx_gpi[cardio_ind], rx_gpi[cardio_pmpm]],axis=1)\n",
    "cardio['ind_sum'] = cardio[cardio_ind].sum(axis=1)\n",
    "cardio['pmpm_sum'] = cardio[cardio_pmpm].sum(axis=1)\n",
    "cardio.columns = [str(col) + '_cardio' for col in cardio.columns]\n",
    "\n",
    "cardio.loc[cardio.ind_sum_cardio > 0, 'cardio_yes_no'] = 1\n",
    "cardio = cardio.fillna(0)\n",
    "cardio['cardio_perc'] = cardio.ind_sum_cardio/len(cardio_ind)\n",
    "cardio['cardio_pmpm_perc'] = cardio.pmpm_sum_cardio/len(cardio_ind)\n",
    "\n",
    "rx_gpi = pd.concat([rx_gpi, cardio[['ind_sum_cardio','pmpm_sum_cardio','cardio_perc','cardio_pmpm_perc','cardio_yes_no']]],axis=1)"
   ]
  },
  {
   "cell_type": "code",
   "execution_count": 369,
   "metadata": {},
   "outputs": [
    {
     "name": "stdout",
     "output_type": "stream",
     "text": [
      "percentage of people who took atleast one cardio are 0.7707554763410568\n",
      "percent of people having the transportataion issue after taking the drug 0.1468399753836973\n"
     ]
    }
   ],
   "source": [
    "cardio = pd.concat([cardio, df[['transportation_issues']]],axis=1)\n",
    "one_df = cardio[cardio.cardio_yes_no>0]\n",
    "print(\"percentage of people who took atleast one cardio are\", one_df.shape[0]/cardio.shape[0])\n",
    "print(\"percent of people having the transportataion issue after taking the drug\", one_df[one_df.transportation_issues==1].shape[0]/one_df.shape[0])"
   ]
  },
  {
   "cell_type": "markdown",
   "metadata": {},
   "source": [
    "## *ANTIHISTAMINES*\tAllergic drugs\n"
   ]
  },
  {
   "cell_type": "code",
   "execution_count": 370,
   "metadata": {},
   "outputs": [],
   "source": [
    "\n",
    "allergy_pmpm = gpi_pmpm_columns[38]\n",
    "allergy_ind = gpi_ind_columns[38]\n",
    "\n",
    "allergy = pd.concat([rx_gpi[allergy_ind], rx_gpi[allergy_pmpm]],axis=1)\n",
    "allergy['ind_sum'] = allergy[allergy_ind]\n",
    "allergy['pmpm_sum'] = allergy[allergy_pmpm]\n",
    "allergy.columns = [str(col) + '_aller' for col in allergy.columns]\n",
    "\n",
    "allergy.loc[allergy.ind_sum_aller > 0, 'aller_yes_no'] = 1\n",
    "allergy = allergy.fillna(0)\n",
    "allergy['aller_perc'] = allergy.ind_sum_aller/len(allergy_ind[0])\n",
    "allergy['aller_pmpm_perc'] = allergy.pmpm_sum_aller/len(allergy_ind[0])\n",
    "\n",
    "rx_gpi = pd.concat([rx_gpi, allergy[['ind_sum_aller','pmpm_sum_aller','aller_perc','aller_pmpm_perc','aller_yes_no']]],axis=1)"
   ]
  },
  {
   "cell_type": "markdown",
   "metadata": {},
   "source": [
    "## Respiratory\n"
   ]
  },
  {
   "cell_type": "code",
   "execution_count": 371,
   "metadata": {},
   "outputs": [
    {
     "name": "stdout",
     "output_type": "stream",
     "text": [
      "percentage of people who took atleast one resp are 0.3251020525498764\n",
      "percent of people having the transportataion issue after taking the drug 0.17088159872667788\n"
     ]
    }
   ],
   "source": [
    "resp_pmpm = gpi_pmpm_columns[39:43]\n",
    "resp_ind = gpi_ind_columns[39:43]\n",
    "\n",
    "resp = pd.concat([rx_gpi[resp_ind], rx_gpi[resp_pmpm]],axis=1)\n",
    "resp['ind_sum'] = resp[resp_ind].sum(axis=1)\n",
    "resp['pmpm_sum'] = resp[resp_pmpm].sum(axis=1)\n",
    "resp.columns = [str(col) + '_resp' for col in resp.columns]\n",
    "\n",
    "resp.loc[resp.ind_sum_resp > 0, 'resp_yes_no'] = 1\n",
    "resp = resp.fillna(0)\n",
    "resp['resp_perc'] = resp.ind_sum_resp/len(resp_ind)\n",
    "resp['resp_pmpm_perc'] = resp.pmpm_sum_resp/len(resp_ind)\n",
    "\n",
    "rx_gpi = pd.concat([rx_gpi, resp[['ind_sum_resp','pmpm_sum_resp','resp_perc','resp_pmpm_perc','resp_yes_no']]],axis=1)\n",
    "\n",
    "resp = pd.concat([resp, df[['transportation_issues']]],axis=1)\n",
    "one_df = resp[resp.resp_yes_no>0]\n",
    "print(\"percentage of people who took atleast one resp are\", one_df.shape[0]/resp.shape[0])\n",
    "print(\"percent of people having the transportataion issue after taking the drug\", one_df[one_df.transportation_issues==1].shape[0]/one_df.shape[0])"
   ]
  },
  {
   "cell_type": "markdown",
   "metadata": {},
   "source": [
    "## Intestinal Drugs"
   ]
  },
  {
   "cell_type": "code",
   "execution_count": 372,
   "metadata": {},
   "outputs": [
    {
     "name": "stdout",
     "output_type": "stream",
     "text": [
      "percentage of people who took atleast one intest are 0.49268383832576323\n",
      "percent of people having the transportataion issue after taking the drug 0.1641042098199959\n"
     ]
    }
   ],
   "source": [
    "intest_pmpm = gpi_pmpm_columns[43:54]\n",
    "intest_ind = gpi_ind_columns[43:54]\n",
    "\n",
    "intest = pd.concat([rx_gpi[intest_ind], rx_gpi[intest_pmpm]],axis=1)\n",
    "intest['ind_sum'] = intest[intest_ind].sum(axis=1)\n",
    "intest['pmpm_sum'] = intest[intest_pmpm].sum(axis=1)\n",
    "intest.columns = [str(col) + '_intest' for col in intest.columns]\n",
    "\n",
    "intest.loc[intest.ind_sum_intest > 0, 'intest_yes_no'] = 1\n",
    "intest = intest.fillna(0)\n",
    "intest['intest_perc'] = intest.ind_sum_intest/len(intest_ind)\n",
    "intest['intest_pmpm_perc'] = intest.pmpm_sum_intest/len(intest_ind)\n",
    "\n",
    "\n",
    "rx_gpi = pd.concat([rx_gpi, intest[['ind_sum_intest','pmpm_sum_intest','intest_perc','intest_pmpm_perc','intest_yes_no']]],axis=1)\n",
    "\n",
    "intest = pd.concat([intest, df[['transportation_issues']]],axis=1)\n",
    "one_df = intest[intest.intest_yes_no>0]\n",
    "print(\"percentage of people who took atleast one intest are\", one_df.shape[0]/intest.shape[0])\n",
    "print(\"percent of people having the transportataion issue after taking the drug\", one_df[one_df.transportation_issues==1].shape[0]/one_df.shape[0])"
   ]
  },
  {
   "cell_type": "markdown",
   "metadata": {},
   "source": [
    "# Neuropharmacological drugs - most probable transportation (jinal)\n"
   ]
  },
  {
   "cell_type": "code",
   "execution_count": 373,
   "metadata": {},
   "outputs": [
    {
     "name": "stdout",
     "output_type": "stream",
     "text": [
      "percentage of people who took atleast one neuro are 0.36734605875927095\n",
      "percent of people having the transportataion issue after taking the drug 0.1959541417224244\n"
     ]
    }
   ],
   "source": [
    "neuro_pmpm = gpi_pmpm_columns[54:60]\n",
    "neuro_ind = gpi_ind_columns[54:60]\n",
    "\n",
    "neuro = pd.concat([rx_gpi[neuro_ind], rx_gpi[neuro_pmpm]],axis=1)\n",
    "neuro['ind_sum'] = neuro[neuro_ind].sum(axis=1)\n",
    "neuro['pmpm_sum'] = neuro[neuro_pmpm].sum(axis=1)\n",
    "neuro.columns = [str(col) + '_neuro' for col in neuro.columns]\n",
    "\n",
    "neuro.loc[neuro.ind_sum_neuro > 0, 'neuro_yes_no'] = 1\n",
    "neuro = neuro.fillna(0)\n",
    "neuro['neuro_perc'] = neuro.ind_sum_neuro/len(neuro_ind)\n",
    "neuro['neuro_pmpm_perc'] = neuro.pmpm_sum_neuro/len(neuro_ind)\n",
    "\n",
    "rx_gpi = pd.concat([rx_gpi, neuro[['ind_sum_neuro','pmpm_sum_neuro','neuro_perc','neuro_pmpm_perc','neuro_yes_no']]],axis=1)\n",
    "\n",
    "\n",
    "neuro = pd.concat([neuro, df[['transportation_issues']]],axis=1)\n",
    "one_df = neuro[neuro.neuro_yes_no>0]\n",
    "print(\"percentage of people who took atleast one neuro are\", one_df.shape[0]/neuro.shape[0])\n",
    "print(\"percent of people having the transportataion issue after taking the drug\", one_df[one_df.transportation_issues==1].shape[0]/one_df.shape[0])"
   ]
  },
  {
   "cell_type": "code",
   "execution_count": null,
   "metadata": {},
   "outputs": [],
   "source": []
  },
  {
   "cell_type": "markdown",
   "metadata": {},
   "source": [
    "## NSAIDS - non-steroid anti inflammatory drugs\n",
    "\n"
   ]
  },
  {
   "cell_type": "code",
   "execution_count": 374,
   "metadata": {},
   "outputs": [
    {
     "name": "stdout",
     "output_type": "stream",
     "text": [
      "percentage of people who took atleast one nsaids are 0.4690105214741563\n",
      "percent of people having the transportataion issue after taking the drug 0.17683113699049954\n"
     ]
    }
   ],
   "source": [
    "nsaids_pmpm = gpi_pmpm_columns[60:65]\n",
    "nsaids_ind = gpi_ind_columns[60:65]\n",
    "\n",
    "nsaids = pd.concat([rx_gpi[nsaids_ind], rx_gpi[nsaids_pmpm]],axis=1)\n",
    "nsaids['ind_sum'] = nsaids[nsaids_ind].sum(axis=1)\n",
    "nsaids['pmpm_sum'] = nsaids[nsaids_pmpm].sum(axis=1)\n",
    "nsaids.columns = [str(col) + '_nsaids' for col in nsaids.columns]\n",
    "\n",
    "nsaids.loc[nsaids.ind_sum_nsaids > 0, 'nsaids_yes_no'] = 1\n",
    "nsaids = nsaids.fillna(0)\n",
    "nsaids['nsaids_perc'] = nsaids.ind_sum_nsaids/len(nsaids_ind)\n",
    "nsaids['nsaids_pmpm_perc'] = nsaids.pmpm_sum_nsaids/len(nsaids_ind)\n",
    "\n",
    "rx_gpi = pd.concat([rx_gpi, nsaids[['ind_sum_nsaids','pmpm_sum_nsaids','nsaids_perc','nsaids_pmpm_perc','nsaids_yes_no']]],axis=1)\n",
    "\n",
    "nsaids = pd.concat([nsaids, df[['transportation_issues']]],axis=1)\n",
    "one_df = nsaids[nsaids.nsaids_yes_no>0]\n",
    "print(\"percentage of people who took atleast one nsaids are\", one_df.shape[0]/nsaids.shape[0])\n",
    "print(\"percent of people having the transportataion issue after taking the drug\", one_df[one_df.transportation_issues==1].shape[0]/one_df.shape[0])"
   ]
  },
  {
   "cell_type": "markdown",
   "metadata": {},
   "source": [
    "## Anesthesias - ONLY NA values"
   ]
  },
  {
   "cell_type": "code",
   "execution_count": 375,
   "metadata": {},
   "outputs": [
    {
     "name": "stdout",
     "output_type": "stream",
     "text": [
      "percentage of people who took atleast one anesth are 0.0\n"
     ]
    }
   ],
   "source": [
    "anesth_pmpm = gpi_pmpm_columns[65:67]\n",
    "anesth_ind = gpi_ind_columns[65:67]\n",
    "\n",
    "anesth = pd.concat([rx_gpi[anesth_ind], rx_gpi[anesth_pmpm]],axis=1)\n",
    "anesth['ind_sum'] = anesth[anesth_ind].sum(axis=1)\n",
    "anesth['pmpm_sum'] = anesth[anesth_pmpm].sum(axis=1)\n",
    "anesth.columns = [str(col) + '_anesth' for col in anesth.columns]\n",
    "\n",
    "anesth.loc[anesth.ind_sum_anesth > 0, 'anesth_yes_no'] = 1\n",
    "anesth = anesth.fillna(0)\n",
    "anesth['anesth_perc'] = anesth.ind_sum_anesth/len(anesth_ind)\n",
    "anesth['anesth_pmpm_perc'] = anesth.pmpm_sum_anesth/len(anesth_ind)\n",
    "\n",
    "rx_gpi = pd.concat([rx_gpi, anesth[['ind_sum_anesth','pmpm_sum_anesth','anesth_perc','anesth_pmpm_perc','anesth_yes_no']]],axis=1)\n",
    "\n",
    "anesth = pd.concat([anesth, df[['transportation_issues']]],axis=1)\n",
    "one_df = anesth[anesth.anesth_yes_no>0]\n",
    "print(\"percentage of people who took atleast one anesth are\", one_df.shape[0]/anesth.shape[0])\n",
    "# print(\"percent of people having the transportataion issue after taking the drug\", one_df[one_df.transportation_issues==1].shape[0]/one_df.shape[0])"
   ]
  },
  {
   "cell_type": "markdown",
   "metadata": {},
   "source": [
    "## Neuropharmacological drugs 2\n"
   ]
  },
  {
   "cell_type": "code",
   "execution_count": 376,
   "metadata": {},
   "outputs": [
    {
     "name": "stdout",
     "output_type": "stream",
     "text": [
      "percentage of people who took atleast one neuro_2 are 0.337262116943598\n",
      "percent of people having the transportataion issue after taking the drug 0.20542107057620185\n"
     ]
    }
   ],
   "source": [
    "neuro_2_pmpm = gpi_pmpm_columns[67:72]\n",
    "neuro_2_ind = gpi_ind_columns[67:72]\n",
    "\n",
    "neuro_2 = pd.concat([rx_gpi[neuro_2_ind], rx_gpi[neuro_2_pmpm]],axis=1)\n",
    "neuro_2['ind_sum'] = neuro_2[neuro_2_ind].sum(axis=1)\n",
    "neuro_2['pmpm_sum'] = neuro_2[neuro_2_pmpm].sum(axis=1)\n",
    "neuro_2.columns = [str(col) + '_neuro_2' for col in neuro_2.columns]\n",
    "\n",
    "neuro_2.loc[neuro_2.ind_sum_neuro_2 > 0, 'neuro_2_yes_no'] = 1\n",
    "neuro_2 = neuro_2.fillna(0)\n",
    "neuro_2['neuro_2_perc'] = neuro_2.ind_sum_neuro_2/len(neuro_2_ind)\n",
    "neuro_2['neuro_2_pmpm_perc'] = neuro_2.pmpm_sum_neuro_2/len(neuro_2_ind)\n",
    "\n",
    "rx_gpi = pd.concat([rx_gpi, neuro_2[['ind_sum_neuro_2','pmpm_sum_neuro_2','neuro_2_perc','neuro_2_pmpm_perc','neuro_2_yes_no']]],axis=1)\n",
    "\n",
    "neuro_2 = pd.concat([neuro_2, df[['transportation_issues']]],axis=1)\n",
    "one_df = neuro_2[neuro_2.neuro_2_yes_no>0]\n",
    "print(\"percentage of people who took atleast one neuro_2 are\", one_df.shape[0]/neuro_2.shape[0])\n",
    "print(\"percent of people having the transportataion issue after taking the drug\", one_df[one_df.transportation_issues==1].shape[0]/one_df.shape[0])"
   ]
  },
  {
   "cell_type": "markdown",
   "metadata": {},
   "source": [
    "## Hematopoietic agents\n"
   ]
  },
  {
   "cell_type": "code",
   "execution_count": 377,
   "metadata": {},
   "outputs": [
    {
     "name": "stdout",
     "output_type": "stream",
     "text": [
      "percentage of people who took atleast one hema are 0.10829069165756339\n",
      "percent of people having the transportataion issue after taking the drug 0.18011680382267056\n"
     ]
    }
   ],
   "source": [
    "hema_pmpm = gpi_pmpm_columns[72:77]\n",
    "hema_ind = gpi_ind_columns[72:77]\n",
    "\n",
    "hema = pd.concat([rx_gpi[hema_ind], rx_gpi[hema_pmpm]],axis=1)\n",
    "hema['ind_sum'] = hema[hema_ind].sum(axis=1)\n",
    "hema['pmpm_sum'] = hema[hema_pmpm].sum(axis=1)\n",
    "hema.columns = [str(col) + '_hema' for col in hema.columns]\n",
    "\n",
    "hema.loc[hema.ind_sum_hema > 0, 'hema_yes_no'] = 1\n",
    "hema = hema.fillna(0)\n",
    "hema['hema_perc'] = hema.ind_sum_hema/len(hema_ind)\n",
    "hema['hema_pmpm_perc'] = hema.pmpm_sum_hema/len(hema_ind)\n",
    "\n",
    "rx_gpi = pd.concat([rx_gpi, hema[['ind_sum_hema','pmpm_sum_hema','hema_perc','hema_pmpm_perc','hema_yes_no']]],axis=1)\n",
    "\n",
    "hema = pd.concat([hema, df[['transportation_issues']]],axis=1)\n",
    "one_df = hema[hema.hema_yes_no>0]\n",
    "print(\"percentage of people who took atleast one hema are\", one_df.shape[0]/hema.shape[0])\n",
    "print(\"percent of people having the transportataion issue after taking the drug\", one_df[one_df.transportation_issues==1].shape[0]/one_df.shape[0])"
   ]
  },
  {
   "cell_type": "markdown",
   "metadata": {},
   "source": [
    "## Blood Reltaed\n"
   ]
  },
  {
   "cell_type": "code",
   "execution_count": 378,
   "metadata": {},
   "outputs": [
    {
     "name": "stdout",
     "output_type": "stream",
     "text": [
      "percentage of people who took atleast one bld are 0.17642154889898234\n",
      "percent of people having the transportataion issue after taking the drug 0.16042040084731954\n"
     ]
    }
   ],
   "source": [
    "bld_pmpm = gpi_pmpm_columns[77:81]\n",
    "bld_ind = gpi_ind_columns[77:81]\n",
    "\n",
    "bld = pd.concat([rx_gpi[bld_ind], rx_gpi[bld_pmpm]],axis=1)\n",
    "bld['ind_sum'] = bld[bld_ind].sum(axis=1)\n",
    "bld['pmpm_sum'] = bld[bld_pmpm].sum(axis=1)\n",
    "bld.columns = [str(col) + '_bld' for col in bld.columns]\n",
    "\n",
    "bld.loc[bld.ind_sum_bld > 0, 'bld_yes_no'] = 1\n",
    "bld = bld.fillna(0)\n",
    "bld['bld_perc'] = bld.ind_sum_bld/len(bld_ind)\n",
    "bld['bld_pmpm_perc'] = bld.pmpm_sum_bld/len(bld_ind)\n",
    "\n",
    "rx_gpi = pd.concat([rx_gpi, bld[['ind_sum_bld','pmpm_sum_bld','bld_perc','bld_pmpm_perc','bld_yes_no']]],axis=1)\n",
    "\n",
    "bld = pd.concat([bld, df[['transportation_issues']]],axis=1)\n",
    "one_df = bld[bld.bld_yes_no>0]\n",
    "print(\"percentage of people who took atleast one bld are\", one_df.shape[0]/bld.shape[0])\n",
    "print(\"percent of people having the transportataion issue after taking the drug\", one_df[one_df.transportation_issues==1].shape[0]/one_df.shape[0])"
   ]
  },
  {
   "cell_type": "markdown",
   "metadata": {},
   "source": [
    "## *OPHTHALMIC AGENTS*  EYE\n"
   ]
  },
  {
   "cell_type": "code",
   "execution_count": 379,
   "metadata": {},
   "outputs": [],
   "source": [
    "eye_pmpm = gpi_pmpm_columns[81]\n",
    "eye_ind = gpi_ind_columns[81]\n",
    "\n",
    "eye = pd.concat([rx_gpi[eye_ind], rx_gpi[eye_pmpm]],axis=1)\n",
    "eye['ind_sum'] = eye[eye_ind]\n",
    "eye['pmpm_sum'] = eye[eye_pmpm]\n",
    "eye.columns = [str(col) + '_eyer' for col in eye.columns]\n",
    "\n",
    "\n",
    "eye.loc[eye.ind_sum_eyer > 0, 'eyer_yes_no'] = 1\n",
    "eye = eye.fillna(0)\n",
    "eye['eyer_perc'] = eye.ind_sum_eyer/len(eye_ind[0])\n",
    "eye['eyer_pmpm_perc'] = eye.pmpm_sum_eyer/len(eye_ind[0])\n",
    "\n",
    "\n",
    "rx_gpi = pd.concat([rx_gpi, eye[['ind_sum_eyer','pmpm_sum_eyer','eyer_perc','eyer_pmpm_perc','eyer_yes_no']]],axis=1)"
   ]
  },
  {
   "cell_type": "markdown",
   "metadata": {},
   "source": [
    "## *OTIC AGENTS* EAR"
   ]
  },
  {
   "cell_type": "code",
   "execution_count": 380,
   "metadata": {},
   "outputs": [],
   "source": [
    "ear_pmpm = gpi_pmpm_columns[82]\n",
    "ear_ind = gpi_ind_columns[82]\n",
    "\n",
    "ear = pd.concat([rx_gpi[ear_ind], rx_gpi[ear_pmpm]],axis=1)\n",
    "ear['ind_sum'] = ear[ear_ind]\n",
    "ear['pmpm_sum'] = ear[ear_pmpm]\n",
    "ear.columns = [str(col) + '_earr' for col in ear.columns]\n",
    "\n",
    "ear.loc[ear.ind_sum_earr > 0, 'earr_yes_no'] = 1\n",
    "ear = ear.fillna(0)\n",
    "ear['earr_perc'] = ear.ind_sum_earr/len(ear_ind[0])\n",
    "ear['earr_pmpm_perc'] = ear.pmpm_sum_earr/len(ear_ind[0])\n",
    "\n",
    "\n",
    "rx_gpi = pd.concat([rx_gpi, ear[['ind_sum_earr','pmpm_sum_earr','earr_perc','earr_pmpm_perc','earr_yes_no']]],axis=1)"
   ]
  },
  {
   "cell_type": "markdown",
   "metadata": {},
   "source": [
    "## OTHERS (throat, skin, hunger supressor, diagnostics agents)"
   ]
  },
  {
   "cell_type": "code",
   "execution_count": 381,
   "metadata": {},
   "outputs": [
    {
     "name": "stdout",
     "output_type": "stream",
     "text": [
      "percentage of people who took atleast one other are 0.3791467831886391\n",
      "percent of people having the transportataion issue after taking the drug 0.17222685571309423\n"
     ]
    }
   ],
   "source": [
    "other_pmpm = gpi_pmpm_columns[82:]\n",
    "other_ind = gpi_ind_columns[82:]\n",
    "\n",
    "other = pd.concat([rx_gpi[other_ind], rx_gpi[other_pmpm]],axis=1)\n",
    "other['ind_sum'] = other[other_ind].sum(axis=1)\n",
    "other['pmpm_sum'] = other[other_pmpm].sum(axis=1)\n",
    "other.columns = [str(col) + '_otherss' for col in other.columns]\n",
    "\n",
    "other.loc[other.ind_sum_otherss > 0, 'otherss_yes_no'] = 1\n",
    "other = other.fillna(0)\n",
    "other['otherss_perc'] = other.ind_sum_otherss/len(other_ind)\n",
    "other['otherss_pmpm_perc'] = other.pmpm_sum_otherss/len(other_ind)\n",
    "\n",
    "rx_gpi = pd.concat([rx_gpi, other[['ind_sum_otherss','pmpm_sum_otherss','otherss_perc','otherss_pmpm_perc','otherss_yes_no']]],axis=1)\n",
    "\n",
    "other = pd.concat([other, df[['transportation_issues']]],axis=1)\n",
    "one_df = other[other.otherss_yes_no>0]\n",
    "print(\"percentage of people who took atleast one other are\", one_df.shape[0]/other.shape[0])\n",
    "print(\"percent of people having the transportataion issue after taking the drug\", one_df[one_df.transportation_issues==1].shape[0]/one_df.shape[0])\n",
    "\n"
   ]
  },
  {
   "cell_type": "code",
   "execution_count": null,
   "metadata": {},
   "outputs": [],
   "source": []
  },
  {
   "cell_type": "markdown",
   "metadata": {},
   "source": [
    "# Taking a subset of Only SUMMED attributes"
   ]
  },
  {
   "cell_type": "code",
   "execution_count": 382,
   "metadata": {},
   "outputs": [],
   "source": [
    "rx_gpi_sum_ind = rx_gpi[[c for c in [s for s in rx_gpi if 'ind_sum' in s] if c in rx_gpi]]\n",
    "rx_gpi_sum_pmpm = rx_gpi[[c for c in [s for s in rx_gpi if 'pmpm_sum' in s] if c in rx_gpi]]\n",
    "rx_gpi_drug_yes_no = rx_gpi[[c for c in [s for s in rx_gpi if '_yes_no' in s] if c in rx_gpi]]\n",
    "rx_gpi_drug_ind_perc = rx_gpi[[c for c in [s for s in rx_gpi if '_perc' in s] if c in rx_gpi]]\n",
    "\n",
    "rx_summarized = pd.concat([rx_gpi_sum_ind,rx_gpi_sum_pmpm],axis=1)\n",
    "rx_summarized = pd.concat([rx_summarized,rx_gpi_drug_yes_no],axis=1)\n",
    "rx_summarized = pd.concat([rx_summarized,rx_gpi_drug_ind_perc],axis=1)\n",
    "rx_summarized.columns = rx_summarized.columns.str.replace(r\"_perc\", \"_ind_perc\")\n"
   ]
  },
  {
   "cell_type": "markdown",
   "metadata": {},
   "source": [
    "## Summing all the summed attributes"
   ]
  },
  {
   "cell_type": "code",
   "execution_count": 383,
   "metadata": {},
   "outputs": [],
   "source": [
    "ind_total_sum = [s for s in rx_summarized if 'ind_sum' in s]\n",
    "yes_no_sum = [s for s in rx_summarized if '_yes_no' in s]\n",
    "rx_summarized['yes_no_sum'] = rx_summarized[yes_no_sum].sum(axis=1)\n",
    "rx_summarized['ind_total_sum'] = rx_summarized[ind_total_sum].sum(axis=1)"
   ]
  },
  {
   "cell_type": "code",
   "execution_count": 384,
   "metadata": {},
   "outputs": [],
   "source": [
    "# rx_summarized['total_ind_drugs'] = rx_summarized[ind_total_sum].sum(axis=1)\n",
    "# rx_summarized['total_yes_no_drugs'] = rx_summarized[yes_no_sum].sum(axis=1)\n"
   ]
  },
  {
   "cell_type": "code",
   "execution_count": 385,
   "metadata": {},
   "outputs": [
    {
     "data": {
      "text/plain": [
       "['antibio_yes_no',\n",
       " 'immuno_yes_no',\n",
       " 'cancerr_yes_no',\n",
       " 'hormone_yes_no',\n",
       " 'cardio_yes_no',\n",
       " 'aller_yes_no',\n",
       " 'resp_yes_no',\n",
       " 'intest_yes_no',\n",
       " 'neuro_yes_no',\n",
       " 'nsaids_yes_no',\n",
       " 'anesth_yes_no',\n",
       " 'neuro_2_yes_no',\n",
       " 'hema_yes_no',\n",
       " 'bld_yes_no',\n",
       " 'eyer_yes_no',\n",
       " 'earr_yes_no',\n",
       " 'otherss_yes_no']"
      ]
     },
     "execution_count": 385,
     "metadata": {},
     "output_type": "execute_result"
    }
   ],
   "source": [
    "yes_no_sum"
   ]
  },
  {
   "cell_type": "code",
   "execution_count": null,
   "metadata": {},
   "outputs": [],
   "source": []
  },
  {
   "cell_type": "markdown",
   "metadata": {},
   "source": [
    "## Adding the transportation and person_id"
   ]
  },
  {
   "cell_type": "code",
   "execution_count": 386,
   "metadata": {},
   "outputs": [],
   "source": [
    "rx_summarized['transportation_issues'] = df.transportation_issues\n",
    "rx_summarized['person_id_syn'] = df.person_id_syn\n",
    "\n",
    "categorical_columns = [s for s in rx_summarized if 'yes_no' in s]\n",
    "categorical_columns_featured = categorical_columns + ['transportation_issues']\n",
    "\n",
    "for var in categorical_columns_featured:\n",
    "    rx_summarized[var] = rx_summarized[var].astype(\"category\")\n",
    "    \n",
    "numerical_columns_featured = rx_summarized.select_dtypes(exclude='category').columns"
   ]
  },
  {
   "cell_type": "code",
   "execution_count": 387,
   "metadata": {},
   "outputs": [],
   "source": [
    "# rx_summarized = pd.concat([rx_summarized,rx_bh, rx_branded, rx_generic,df[['pdc_ast','pdc_cvd','pdc_dep','pdc_dia','pdc_hf','pdc_ht','pdc_lip','pdc_ost']]],axis=1)\n",
    "# rx_summarized = pd.concat([rx_summarized,df[['rx_mail_ind',\n",
    "# 'rx_mail_pmpm_ct',\n",
    "# 'rx_maint_ind',\n",
    "# 'rx_maint_pmpm_ct',\n",
    "# 'rx_otc_ind',\n",
    "# 'rx_otc_pmpm_ct',\n",
    "# 'rx_overall_pmpm_ct']]],axis=1)"
   ]
  },
  {
   "cell_type": "code",
   "execution_count": 388,
   "metadata": {},
   "outputs": [
    {
     "data": {
      "text/plain": [
       "ind_sum_antibio                                 7\n",
       "ind_sum_immuno                                  1\n",
       "ind_sum_cancerr                                 0\n",
       "ind_sum_hormone                                 3\n",
       "ind_sum_cardio                                  3\n",
       "                                   ...           \n",
       "otherss_pmpm_ind_perc                   0.0151698\n",
       "yes_no_sum                                     12\n",
       "ind_total_sum                                  33\n",
       "transportation_issues                           0\n",
       "person_id_syn            2Mb6OcdS9fTc711a24LdYAI5\n",
       "Name: 7809, Length: 89, dtype: object"
      ]
     },
     "execution_count": 388,
     "metadata": {},
     "output_type": "execute_result"
    }
   ],
   "source": [
    "rx_summarized.iloc[rx_summarized['ind_total_sum'].idxmax()]"
   ]
  },
  {
   "cell_type": "code",
   "execution_count": 389,
   "metadata": {
    "scrolled": true
   },
   "outputs": [
    {
     "data": {
      "text/plain": [
       "ind_sum_antibio                                 6\n",
       "ind_sum_immuno                                  1\n",
       "ind_sum_cancerr                                 1\n",
       "ind_sum_hormone                                 2\n",
       "ind_sum_cardio                                  3\n",
       "                                   ...           \n",
       "otherss_pmpm_ind_perc                    0.201389\n",
       "yes_no_sum                                     15\n",
       "ind_total_sum                                  28\n",
       "transportation_issues                           0\n",
       "person_id_syn            225de3M2OSd6ea8T54LYA1I9\n",
       "Name: 6106, Length: 89, dtype: object"
      ]
     },
     "execution_count": 389,
     "metadata": {},
     "output_type": "execute_result"
    }
   ],
   "source": [
    "rx_summarized.iloc[rx_summarized['yes_no_sum'].idxmax()] "
   ]
  },
  {
   "cell_type": "code",
   "execution_count": 390,
   "metadata": {},
   "outputs": [],
   "source": [
    "df_visualize_gpi = pd.concat([rx_summarized[['yes_no_sum','ind_total_sum']],df[['transportation_issues']]],axis=1)\n",
    "df_visualize_gpi.columns = ['yes_no_sum','rx_drug_sum','transportation_issues']\n",
    "df_visualize_gpi = data_viz(df_visualize_gpi)\n",
    "\n",
    "df_visualize_all = df_visualize_all.append(df_visualize_gpi)"
   ]
  },
  {
   "cell_type": "code",
   "execution_count": 391,
   "metadata": {},
   "outputs": [],
   "source": [
    "df_visualize_all.to_csv(\"df_viz_pharma.csv\",index=False)"
   ]
  },
  {
   "cell_type": "code",
   "execution_count": 392,
   "metadata": {},
   "outputs": [
    {
     "data": {
      "text/html": [
       "<div>\n",
       "<style scoped>\n",
       "    .dataframe tbody tr th:only-of-type {\n",
       "        vertical-align: middle;\n",
       "    }\n",
       "\n",
       "    .dataframe tbody tr th {\n",
       "        vertical-align: top;\n",
       "    }\n",
       "\n",
       "    .dataframe thead th {\n",
       "        text-align: right;\n",
       "    }\n",
       "</style>\n",
       "<table border=\"1\" class=\"dataframe\">\n",
       "  <thead>\n",
       "    <tr style=\"text-align: right;\">\n",
       "      <th></th>\n",
       "      <th>sum_columns</th>\n",
       "      <th>variable</th>\n",
       "      <th>value</th>\n",
       "      <th>avg_value</th>\n",
       "    </tr>\n",
       "  </thead>\n",
       "  <tbody>\n",
       "    <tr>\n",
       "      <th>0</th>\n",
       "      <td>rx_generic_pmpm_ct</td>\n",
       "      <td>no_issues</td>\n",
       "      <td>134068.392298</td>\n",
       "      <td>2.257994</td>\n",
       "    </tr>\n",
       "    <tr>\n",
       "      <th>1</th>\n",
       "      <td>rx_generic_pmpm_ct</td>\n",
       "      <td>issues</td>\n",
       "      <td>31086.775778</td>\n",
       "      <td>3.048620</td>\n",
       "    </tr>\n",
       "    <tr>\n",
       "      <th>0</th>\n",
       "      <td>rx_branded_pmpm_ct</td>\n",
       "      <td>no_issues</td>\n",
       "      <td>50265.603954</td>\n",
       "      <td>0.846579</td>\n",
       "    </tr>\n",
       "    <tr>\n",
       "      <th>1</th>\n",
       "      <td>rx_branded_pmpm_ct</td>\n",
       "      <td>issues</td>\n",
       "      <td>12280.706081</td>\n",
       "      <td>1.204345</td>\n",
       "    </tr>\n",
       "    <tr>\n",
       "      <th>0</th>\n",
       "      <td>rx_mail_pmpm_ct</td>\n",
       "      <td>no_issues</td>\n",
       "      <td>109772.415532</td>\n",
       "      <td>1.848799</td>\n",
       "    </tr>\n",
       "    <tr>\n",
       "      <th>1</th>\n",
       "      <td>rx_mail_pmpm_ct</td>\n",
       "      <td>issues</td>\n",
       "      <td>21476.611129</td>\n",
       "      <td>2.106170</td>\n",
       "    </tr>\n",
       "    <tr>\n",
       "      <th>0</th>\n",
       "      <td>rx_drug_sum</td>\n",
       "      <td>no_issues</td>\n",
       "      <td>450351.000000</td>\n",
       "      <td>7.584859</td>\n",
       "    </tr>\n",
       "    <tr>\n",
       "      <th>1</th>\n",
       "      <td>rx_drug_sum</td>\n",
       "      <td>issues</td>\n",
       "      <td>91695.000000</td>\n",
       "      <td>8.992351</td>\n",
       "    </tr>\n",
       "  </tbody>\n",
       "</table>\n",
       "</div>"
      ],
      "text/plain": [
       "          sum_columns   variable          value  avg_value\n",
       "0  rx_generic_pmpm_ct  no_issues  134068.392298   2.257994\n",
       "1  rx_generic_pmpm_ct     issues   31086.775778   3.048620\n",
       "0  rx_branded_pmpm_ct  no_issues   50265.603954   0.846579\n",
       "1  rx_branded_pmpm_ct     issues   12280.706081   1.204345\n",
       "0     rx_mail_pmpm_ct  no_issues  109772.415532   1.848799\n",
       "1     rx_mail_pmpm_ct     issues   21476.611129   2.106170\n",
       "0         rx_drug_sum  no_issues  450351.000000   7.584859\n",
       "1         rx_drug_sum     issues   91695.000000   8.992351"
      ]
     },
     "execution_count": 392,
     "metadata": {},
     "output_type": "execute_result"
    }
   ],
   "source": [
    "df_visualize_all"
   ]
  },
  {
   "cell_type": "code",
   "execution_count": 393,
   "metadata": {},
   "outputs": [
    {
     "data": {
      "text/plain": [
       "<seaborn.axisgrid.FacetGrid at 0x7f20c8268d90>"
      ]
     },
     "execution_count": 393,
     "metadata": {},
     "output_type": "execute_result"
    },
    {
     "data": {
      "image/png": "[encoded data removed]",
      "text/plain": [
       "<Figure size 900x360 with 1 Axes>"
      ]
     },
     "metadata": {
      "needs_background": "light"
     },
     "output_type": "display_data"
    }
   ],
   "source": [
    "sns.catplot(x=\"sum_columns\", y=\"value\", hue=\"variable\", kind=\"bar\",height=5, \n",
    "            aspect=2.5, data=df_visualize_all,legend_out=False)"
   ]
  },
  {
   "cell_type": "code",
   "execution_count": 394,
   "metadata": {},
   "outputs": [
    {
     "data": {
      "text/plain": [
       "<seaborn.axisgrid.FacetGrid at 0x7f20b4104a00>"
      ]
     },
     "execution_count": 394,
     "metadata": {},
     "output_type": "execute_result"
    },
    {
     "data": {
      "image/png": "[encoded data removed]",
      "text/plain": [
       "<Figure size 900x360 with 1 Axes>"
      ]
     },
     "metadata": {
      "needs_background": "light"
     },
     "output_type": "display_data"
    }
   ],
   "source": [
    "sns.catplot(x=\"sum_columns\", y=\"avg_value\", hue=\"variable\", kind=\"bar\",height=5, \n",
    "            aspect=2.5, data=df_visualize_all,legend_out=False)"
   ]
  },
  {
   "cell_type": "code",
   "execution_count": null,
   "metadata": {},
   "outputs": [],
   "source": []
  },
  {
   "cell_type": "code",
   "execution_count": 395,
   "metadata": {},
   "outputs": [],
   "source": [
    "gpi_categories = pd.concat([df[['transportation_issues']],rx_summarized[['cancerr_yes_no', 'immuno_yes_no',\n",
    "                                                                          'hormone_yes_no',\n",
    "                                                                              'antibio_yes_no', 'cardio_yes_no',\n",
    "                                                                              'neuro_yes_no']]],axis=1)\n",
    "\n",
    "\n",
    "gpi_categories_viz = data_viz(gpi_categories)"
   ]
  },
  {
   "cell_type": "code",
   "execution_count": 396,
   "metadata": {},
   "outputs": [],
   "source": [
    "gpi_categories_viz.to_csv(\"df_viz_gpi.csv\",index=False)"
   ]
  },
  {
   "cell_type": "code",
   "execution_count": 397,
   "metadata": {},
   "outputs": [],
   "source": [
    "gpi_categories_1 = rx_summarized[yes_no_sum]\n",
    "for i in yes_no_sum:\n",
    "    gpi_categories_1[i] = gpi_categories_1[i].astype(int)\n",
    "\n",
    "gpi_categories_1 = pd.concat([df[['transportation_issues']],gpi_categories_1],axis=1)\n",
    "gpi_categories_viz_1 = data_viz(gpi_categories_1)"
   ]
  },
  {
   "cell_type": "code",
   "execution_count": 398,
   "metadata": {},
   "outputs": [],
   "source": [
    "# gpi_categories_viz_1.to_csv(\"df_viz_gpi.csv\",index=False)"
   ]
  },
  {
   "cell_type": "code",
   "execution_count": 399,
   "metadata": {},
   "outputs": [
    {
     "data": {
      "text/plain": [
       "<seaborn.axisgrid.FacetGrid at 0x7f20ce47cf10>"
      ]
     },
     "execution_count": 399,
     "metadata": {},
     "output_type": "execute_result"
    },
    {
     "data": {
      "image/png": "[encoded data removed]",
      "text/plain": [
       "<Figure size 2160x360 with 1 Axes>"
      ]
     },
     "metadata": {
      "needs_background": "light"
     },
     "output_type": "display_data"
    }
   ],
   "source": [
    "sns.catplot(x=\"sum_columns\", y=\"value\", hue=\"variable\", kind=\"bar\",height=5, \n",
    "            aspect=6, data=gpi_categories_viz_1,legend_out=False)"
   ]
  },
  {
   "cell_type": "code",
   "execution_count": 400,
   "metadata": {},
   "outputs": [
    {
     "data": {
      "text/plain": [
       "<seaborn.axisgrid.FacetGrid at 0x7f20cfc25160>"
      ]
     },
     "execution_count": 400,
     "metadata": {},
     "output_type": "execute_result"
    },
    {
     "data": {
      "image/png": "[encoded data removed]",
      "text/plain": [
       "<Figure size 828x360 with 1 Axes>"
      ]
     },
     "metadata": {
      "needs_background": "light"
     },
     "output_type": "display_data"
    }
   ],
   "source": [
    "sns.catplot(x=\"sum_columns\", y=\"value\", hue=\"variable\", kind=\"bar\",height=5, \n",
    "            aspect=2.3, data=gpi_categories_viz,legend_out=False)"
   ]
  },
  {
   "cell_type": "code",
   "execution_count": 401,
   "metadata": {},
   "outputs": [
    {
     "data": {
      "text/plain": [
       "<seaborn.axisgrid.FacetGrid at 0x7f20cfdac400>"
      ]
     },
     "execution_count": 401,
     "metadata": {},
     "output_type": "execute_result"
    },
    {
     "data": {
      "image/png": "[encoded data removed]",
      "text/plain": [
       "<Figure size 900x360 with 1 Axes>"
      ]
     },
     "metadata": {
      "needs_background": "light"
     },
     "output_type": "display_data"
    }
   ],
   "source": [
    "sns.catplot(x=\"sum_columns\", y=\"avg_value\", hue=\"variable\", kind=\"bar\",height=5, \n",
    "            aspect=2.5, data=gpi_categories_viz,legend_out=False)"
   ]
  },
  {
   "cell_type": "markdown",
   "metadata": {},
   "source": [
    "## For original data"
   ]
  },
  {
   "cell_type": "code",
   "execution_count": 402,
   "metadata": {},
   "outputs": [],
   "source": [
    "rx_columns = [s for s in df.columns if 'rx_' in s]\n",
    "rx_columns = list(filter(lambda w: w not in ['cms_rx_risk_score_nbr'], list(rx_columns)))\n",
    "rx_gpi = df[[s for s in rx_columns if '_gpi2' in s]]\n",
    "rx_gpi = pd.concat([rx_gpi,df[['transportation_issues','person_id_syn']]],axis=1)"
   ]
  },
  {
   "cell_type": "code",
   "execution_count": 403,
   "metadata": {},
   "outputs": [],
   "source": [
    "rx_gpi = pd.concat([rx_gpi,rx_bh, rx_branded, rx_generic],axis=1)\n",
    "rx_gpi = pd.concat([rx_gpi,df[['rx_mail_ind',\n",
    "'rx_mail_pmpm_ct',\n",
    "'rx_maint_ind',\n",
    "'rx_maint_pmpm_ct',\n",
    "'rx_otc_ind',\n",
    "'rx_otc_pmpm_ct',\n",
    "'rx_overall_pmpm_ct']]],axis=1)"
   ]
  },
  {
   "cell_type": "code",
   "execution_count": 404,
   "metadata": {},
   "outputs": [],
   "source": [
    "categorical_columns = [s for s in rx_gpi if '_ind' in s]\n",
    "categorical_columns = categorical_columns + ['transportation_issues']\n",
    "\n",
    "original_data= df[[]]\n",
    "\n",
    "for var in categorical_columns:\n",
    "    rx_gpi[var] = rx_gpi[var].astype(\"category\")\n",
    "\n",
    "numerical_columns = rx_gpi.select_dtypes(exclude='category').columns"
   ]
  },
  {
   "cell_type": "code",
   "execution_count": 405,
   "metadata": {},
   "outputs": [],
   "source": [
    "categorical_columns = categorical_columns+categorical_columns_featured\n",
    "numerical_columns = numerical_columns_featured.append(numerical_columns)"
   ]
  },
  {
   "cell_type": "code",
   "execution_count": 406,
   "metadata": {},
   "outputs": [],
   "source": [
    "def subset_data(df):\n",
    "    df_no_issue = df[df.transportation_issues == 0]\n",
    "    df_issue = df[df.transportation_issues == 1]\n",
    "\n",
    "    df_no_issue_sample = df_no_issue.sample(n=10197)\n",
    "    df_model_sample = pd.concat([df_no_issue_sample, df_issue])\n",
    "    return df_model_sample"
   ]
  },
  {
   "cell_type": "code",
   "execution_count": 407,
   "metadata": {},
   "outputs": [],
   "source": [
    "rx_gpi = rx_gpi.drop([\"transportation_issues\",'person_id_syn'],axis=1)\n",
    "df_all = pd.concat([rx_gpi,rx_summarized],axis=1)"
   ]
  },
  {
   "cell_type": "code",
   "execution_count": 408,
   "metadata": {},
   "outputs": [],
   "source": [
    "ind_total_sum = [s for s in rx_summarized if 'ind_sum' in s]\n",
    "yes_no_sum = [s for s in rx_summarized if '_yes_no' in s]"
   ]
  },
  {
   "cell_type": "code",
   "execution_count": 409,
   "metadata": {},
   "outputs": [],
   "source": [
    "# log_df_RX = pd.concat([df_all[ind_total_sum],df_all[yes_no_sum]],axis=1)\n",
    "# log_df_RX = pd.concat([log_df_RX,df[['transportation_issues','person_id_syn']]],axis=1)\n",
    "# log_df_RX = log_df_RX.rename(columns={'person_id_syn':'person_id_syn_RX'})\n",
    "# log_df_RX.to_csv(\"log_df_RX.csv\",index=False)"
   ]
  },
  {
   "cell_type": "code",
   "execution_count": 410,
   "metadata": {},
   "outputs": [],
   "source": [
    "\n",
    "# df_model_sample = subset_data(rx_summarized)\n",
    "# df_model_sample = subset_data(rx_gpi)\n",
    "df_model_sample = subset_data(df_all)"
   ]
  },
  {
   "cell_type": "code",
   "execution_count": 411,
   "metadata": {},
   "outputs": [],
   "source": [
    "def train_test_split(df):\n",
    "    import pandas as pd\n",
    "    from sklearn.model_selection import train_test_split\n",
    "    from sklearn.linear_model import LogisticRegression\n",
    "    from sklearn import metrics\n",
    "    import seaborn as sn\n",
    "    import matplotlib.pyplot as plt\n",
    "    y = df['transportation_issues']\n",
    "    X = df.drop(columns=['transportation_issues','person_id_syn'])\n",
    "    X_train,X_test,y_train,y_test = train_test_split(X,y,test_size=0.25,random_state=0)\n",
    "    X_train.reset_index(inplace=True, drop=True)\n",
    "    X_test.reset_index(inplace=True, drop=True)\n",
    "    y_train.reset_index(inplace=True, drop=True)\n",
    "    y_test.reset_index(inplace=True, drop=True)\n",
    "    return X_train, X_test, y_train, y_test"
   ]
  },
  {
   "cell_type": "code",
   "execution_count": 412,
   "metadata": {},
   "outputs": [],
   "source": [
    "X_train, X_test, y_train, y_test = train_test_split(df_model_sample)"
   ]
  },
  {
   "cell_type": "code",
   "execution_count": 413,
   "metadata": {},
   "outputs": [],
   "source": [
    "def standardization_encoding(df_train,df_test, numerical_columns,categorical_columns):\n",
    "    categorical_columns = list(filter(lambda w: w not in ['transportation_issues'], list(categorical_columns)))\n",
    "    numerical_columns = list(filter(lambda w: w not in ['person_id_syn'], list(numerical_columns)))\n",
    "\n",
    "    \n",
    "    from sklearn.preprocessing import LabelEncoder\n",
    "    labelencoder = LabelEncoder()\n",
    "    from collections import defaultdict\n",
    "    d = defaultdict(LabelEncoder)\n",
    "    # Encoding the variable\n",
    "    from collections import defaultdict\n",
    "    d = defaultdict(LabelEncoder)\n",
    "    \n",
    "    # Encoding the variable\n",
    "    cat_model_sample = df_train[categorical_columns].apply(lambda x: d[x.name].fit_transform(x))\n",
    "    \n",
    "    df_train_num = df_train[numerical_columns].values #returns a numpy array\n",
    "    min_max_scaler = preprocessing.MinMaxScaler()\n",
    "    df_scaled_train = min_max_scaler.fit_transform(df_train_num)\n",
    "    df_train_num_min_max = pd.DataFrame(df_scaled_train,columns=numerical_columns)\n",
    "    df_train = pd.concat([df_train_num_min_max, cat_model_sample],axis=1)\n",
    "    \n",
    "    cat_model_sample = df_test[categorical_columns].apply(lambda x: d[x.name].transform(x))  \n",
    "    df_test_num = df_test[numerical_columns].values\n",
    "    df_scaled_test = min_max_scaler.transform(df_test_num)\n",
    "    df_test_num_min_max = pd.DataFrame(df_scaled_test,columns=numerical_columns)\n",
    "    \n",
    "    df_test = pd.concat([df_test_num_min_max, cat_model_sample],axis=1)\n",
    "    \n",
    "    \n",
    "    return df_train, df_test"
   ]
  },
  {
   "cell_type": "code",
   "execution_count": 414,
   "metadata": {},
   "outputs": [],
   "source": [
    "from sklearn.preprocessing import LabelEncoder\n",
    "from sklearn import preprocessing"
   ]
  },
  {
   "cell_type": "code",
   "execution_count": 415,
   "metadata": {
    "scrolled": true
   },
   "outputs": [],
   "source": [
    "X_train,X_test = standardization_encoding(X_train,X_test, numerical_columns, categorical_columns)\n",
    "# X_train,X_test = standardization_encoding(X_train,X_test, numerical_columns_featured, categorical_columns_featured)"
   ]
  },
  {
   "cell_type": "code",
   "execution_count": 416,
   "metadata": {},
   "outputs": [],
   "source": [
    "X_train.drop(X_train[[c for c in [s for s in X_train if '_perc' in s] if c in X_train]].columns,axis=1,inplace=True)\n",
    "X_test.drop(X_test[[c for c in [s for s in X_test if '_perc' in s] if c in X_test]].columns,axis=1,inplace=True)"
   ]
  },
  {
   "cell_type": "code",
   "execution_count": 417,
   "metadata": {},
   "outputs": [],
   "source": [
    "# X_train = X_train[[c for c in [s for s in X_train if 'pmpm_sum' in s] if c in X_train]]\n",
    "# X_test = X_test[[c for c in [s for s in X_test if 'pmpm_sum' in s] if c in X_test]]"
   ]
  },
  {
   "cell_type": "code",
   "execution_count": 418,
   "metadata": {},
   "outputs": [],
   "source": [
    "top_featured_columns = ['immuno_yes_no',\n",
    " 'rx_gpi2_44_ind',\n",
    " 'rx_gpi2_58_ind',\n",
    " 'rx_gpi2_59_ind',\n",
    " 'rx_bh_ind',\n",
    " 'rx_overall_pmpm_ct',\n",
    " 'rx_gpi2_50_ind',\n",
    " 'pmpm_sum_neuro_2',\n",
    " 'pmpm_sum_immuno',\n",
    " 'rx_generic_pmpm_ct',\n",
    " 'rx_mail_ind',\n",
    " 'rx_gpi2_43_pmpm_ct',\n",
    " 'rx_mail_pmpm_ct',\n",
    " 'pmpm_sum_neuro']"
   ]
  },
  {
   "cell_type": "code",
   "execution_count": 419,
   "metadata": {},
   "outputs": [],
   "source": [
    "\n",
    "\n",
    "# top_featured = set(top_featured)\n",
    "\n",
    "X_train = X_train[top_featured_columns]\n",
    "X_test = X_test[top_featured_columns]"
   ]
  },
  {
   "cell_type": "code",
   "execution_count": 420,
   "metadata": {},
   "outputs": [
    {
     "data": {
      "text/plain": [
       "(15295, 14)"
      ]
     },
     "execution_count": 420,
     "metadata": {},
     "output_type": "execute_result"
    }
   ],
   "source": [
    "X_train.shape"
   ]
  },
  {
   "cell_type": "code",
   "execution_count": 424,
   "metadata": {},
   "outputs": [],
   "source": [
    "# df_RX_export = pd.concat([df_all[top_featured_columns],df[['person_id_syn']]],axis=1)\n",
    "# df_RX_export.columns = [str(col) + '_RX' for col in df_RX_export.columns]\n",
    "# df_RX_export.to_pickle(\"df_rx_neti.pkl\")"
   ]
  },
  {
   "cell_type": "code",
   "execution_count": 423,
   "metadata": {},
   "outputs": [
    {
     "data": {
      "text/plain": [
       "Index(['immuno_yes_no_RX', 'rx_gpi2_44_ind_RX', 'rx_gpi2_58_ind_RX',\n",
       "       'rx_gpi2_59_ind_RX', 'rx_bh_ind_RX', 'rx_overall_pmpm_ct_RX',\n",
       "       'rx_gpi2_50_ind_RX', 'pmpm_sum_neuro_2_RX', 'pmpm_sum_immuno_RX',\n",
       "       'rx_generic_pmpm_ct_RX', 'rx_mail_ind_RX', 'rx_gpi2_43_pmpm_ct_RX',\n",
       "       'rx_mail_pmpm_ct_RX', 'pmpm_sum_neuro_RX', 'person_id_syn_RX'],\n",
       "      dtype='object')"
      ]
     },
     "execution_count": 423,
     "metadata": {},
     "output_type": "execute_result"
    }
   ],
   "source": [
    "df_RX_export.columns"
   ]
  },
  {
   "cell_type": "code",
   "execution_count": 425,
   "metadata": {},
   "outputs": [
    {
     "data": {
      "text/plain": [
       "(69572, 15)"
      ]
     },
     "execution_count": 425,
     "metadata": {},
     "output_type": "execute_result"
    }
   ],
   "source": [
    "df_RX_export.shape"
   ]
  },
  {
   "cell_type": "code",
   "execution_count": null,
   "metadata": {},
   "outputs": [],
   "source": []
  },
  {
   "cell_type": "code",
   "execution_count": null,
   "metadata": {},
   "outputs": [],
   "source": []
  },
  {
   "cell_type": "code",
   "execution_count": 49,
   "metadata": {},
   "outputs": [],
   "source": [
    "# df_RX_test = pd.concat([df_all[top_featured_columns],df[['person_id_syn']]],axis=1)\n",
    "# df_RX_test.columns = [str(col) + '_RX' for col in df_RX_test.columns]\n",
    "# df_RX_test.to_pickle(\"df_rx_test_neti.pkl\")"
   ]
  },
  {
   "cell_type": "code",
   "execution_count": 56,
   "metadata": {},
   "outputs": [
    {
     "name": "stdout",
     "output_type": "stream",
     "text": [
      "Accuracy:  0.6099235144145911\n",
      "Accuracy:  0.6274599542334096\n"
     ]
    }
   ],
   "source": [
    "from sklearn.model_selection import train_test_split\n",
    "from sklearn.linear_model import LogisticRegression\n",
    "from sklearn import metrics\n",
    "import seaborn as sn\n",
    "import matplotlib.pyplot as plt\n",
    "from sklearn.preprocessing import StandardScaler\n",
    "\n",
    "logistic_regression= LogisticRegression()\n",
    "logistic_regression.fit(X_train,y_train)\n",
    "y_pred_test=logistic_regression.predict(X_test)\n",
    "y_pred_train=logistic_regression.predict(X_train)\n",
    "\n",
    "print('Accuracy: ',metrics.accuracy_score(y_test, y_pred_test))\n",
    "\n",
    "print('Accuracy: ',metrics.accuracy_score(y_train, y_pred_train))"
   ]
  },
  {
   "cell_type": "code",
   "execution_count": 57,
   "metadata": {
    "scrolled": false
   },
   "outputs": [
    {
     "name": "stdout",
     "output_type": "stream",
     "text": [
      "Fitting 5 folds for each of 1 candidates, totalling 5 fits\n"
     ]
    },
    {
     "name": "stderr",
     "output_type": "stream",
     "text": [
      "[Parallel(n_jobs=-1)]: Using backend LokyBackend with 8 concurrent workers.\n",
      "[Parallel(n_jobs=-1)]: Done   2 out of   5 | elapsed:    7.0s remaining:   10.5s\n",
      "[Parallel(n_jobs=-1)]: Done   3 out of   5 | elapsed:    7.3s remaining:    4.9s\n",
      "[Parallel(n_jobs=-1)]: Done   5 out of   5 | elapsed:    9.4s remaining:    0.0s\n",
      "[Parallel(n_jobs=-1)]: Done   5 out of   5 | elapsed:    9.4s finished\n"
     ]
    },
    {
     "name": "stdout",
     "output_type": "stream",
     "text": [
      "0.5912924102765248\n",
      "0.7512258908139915\n"
     ]
    },
    {
     "data": {
      "text/plain": [
       "<Figure size 1440x1080 with 0 Axes>"
      ]
     },
     "metadata": {},
     "output_type": "display_data"
    },
    {
     "data": {
      "image/png": "[encoded data removed]",
      "text/plain": [
       "<Figure size 432x288 with 2 Axes>"
      ]
     },
     "metadata": {},
     "output_type": "display_data"
    },
    {
     "data": {
      "image/png": "[encoded data removed]",
      "text/plain": [
       "<Figure size 432x288 with 1 Axes>"
      ]
     },
     "metadata": {},
     "output_type": "display_data"
    },
    {
     "data": {
      "text/plain": [
       "<matplotlib.axes._subplots.AxesSubplot at 0x7f862c254760>"
      ]
     },
     "execution_count": 57,
     "metadata": {},
     "output_type": "execute_result"
    },
    {
     "data": {
      "image/png": "[encoded data removed]",
      "text/plain": [
       "<Figure size 432x288 with 1 Axes>"
      ]
     },
     "metadata": {},
     "output_type": "display_data"
    },
    {
     "data": {
      "image/png": "[encoded data removed]",
      "text/plain": [
       "<Figure size 595.44x1080 with 1 Axes>"
      ]
     },
     "metadata": {},
     "output_type": "display_data"
    }
   ],
   "source": [
    "\n",
    "# Hyperparameter tuning grid\n",
    "params = {'min_child_weight': [5],\n",
    "        'gamma': [1.5],\n",
    "        'subsample': [0.8],\n",
    "        'colsample_bytree': [0.8],\n",
    "        'max_depth': [4]}\n",
    "\n",
    "from sklearn.model_selection import GridSearchCV\n",
    "from xgboost.sklearn import XGBClassifier\n",
    "# Initialize XGBoost model, use growth tree algorithm similar to lightgbm\n",
    "bst = XGBClassifier(n_jobs=-1,grow_policy='lossguide',tree_method ='hist',n_estimators=150)\n",
    "# Gridsearch on parameter grid, use AUC to determine the best model\n",
    "cv = GridSearchCV(bst,params,'roc_auc',-1, verbose=10)\n",
    "# Fit model on the training data, track logloss on training and testing set\n",
    "cv.fit(X_train, y_train,eval_metric='logloss',eval_set=[(X_train,y_train),(X_test,y_test)],verbose=False)\n",
    "\n",
    "import cf_matrix\n",
    "from cf_matrix import make_confusion_matrix\n",
    "from sklearn.metrics import confusion_matrix,accuracy_score\n",
    "\n",
    "y_xg_pred_test = cv.best_estimator_.predict(X_test)\n",
    "y_xg_pred_train = cv.best_estimator_.predict(X_train)\n",
    "\n",
    "print(metrics.accuracy_score(y_test, y_xg_pred_test))\n",
    "print(metrics.accuracy_score(y_train, y_xg_pred_train))\n",
    "\n",
    "\n",
    "cm = confusion_matrix(y_test, y_xg_pred_test)\n",
    "plt.figure(figsize=(20,15))\n",
    "sns.set(font_scale=1.4) # for label size\n",
    "make_confusion_matrix(cm, group_names=['no- issue','issue'],categories=['no-issue','issue'], cmap='binary')\n",
    "b, t = plt.ylim() # discover the values for bottom and top\n",
    "b += 0.5 # Add 0.5 to the bottom\n",
    "t -= 0.5 # Subtract 0.5 from the top\n",
    "plt.ylim(b, t) \n",
    "plt.show()\n",
    "\n",
    "import joblib\n",
    "\n",
    "# Print out the best parameters\n",
    "cv.best_params_\n",
    "\n",
    "#save model\n",
    "joblib.dump(cv.best_estimator_, 'xgb.model')\n",
    "\n",
    "\n",
    "#load saved model\n",
    "xgb = joblib.load('xgb.model')\n",
    "\n",
    "\n",
    "import sklearn.metrics as metrics\n",
    "# calculate the fpr and tpr for all thresholds of the classification\n",
    "probs = xgb.predict_proba(X_test)\n",
    "preds = probs[:,1]\n",
    "# preds = [1]*17119\n",
    "fpr, tpr, threshold = metrics.roc_curve(y_test, preds)\n",
    "roc_auc = metrics.auc(fpr, tpr)\n",
    "# method I: plt\n",
    "import matplotlib.pyplot as plt\n",
    "plt.title('Receiver Operating Characteristic')\n",
    "plt.plot(fpr, tpr, 'b', label = 'AUC = %0.2f' % roc_auc)\n",
    "plt.legend(loc = 'lower right')\n",
    "plt.plot([0, 1], [0, 1],'r--')\n",
    "plt.xlim([0, 1])\n",
    "plt.ylim([0, 1])\n",
    "plt.ylabel('True Positive Rate')\n",
    "plt.xlabel('False Positive Rate')\n",
    "plt.show()\n",
    "\n",
    "\n",
    "# retrieve performance metrics\n",
    "results = xgb.evals_result()\n",
    "epochs = len(results['validation_0']['logloss'])\n",
    "x_axis = range(0, epochs)\n",
    "# plot log loss\n",
    "fig, ax = plt.subplots()\n",
    "ax.plot(x_axis, results['validation_0']['logloss'], label='Train')\n",
    "ax.plot(x_axis, results['validation_1']['logloss'], label='Test')\n",
    "ax.legend()\n",
    "plt.ylabel('Log Loss')\n",
    "plt.title('XGBoost Log Loss');\n",
    "\n",
    "# Feature importance plot\n",
    "feature_importance = pd.DataFrame({'feature':xgb.get_booster().feature_names, 'importance':xgb.feature_importances_}).sort_values('importance',ascending=False).reset_index().drop(columns='index')\n",
    "fig, ax = plt.subplots()\n",
    "fig.set_size_inches(8.27,15)\n",
    "plt.title('Feature Importance Plot')\n",
    "sns.barplot(x='importance',y='feature',ax=ax,data=feature_importance[:50])\n"
   ]
  },
  {
   "cell_type": "code",
   "execution_count": 58,
   "metadata": {},
   "outputs": [],
   "source": [
    "top_featured_columns = list(feature_importance[feature_importance.importance>0.007].feature)"
   ]
  },
  {
   "cell_type": "code",
   "execution_count": null,
   "metadata": {},
   "outputs": [],
   "source": []
  }
 ],
 "metadata": {
  "kernelspec": {
   "display_name": "Python 3",
   "language": "python",
   "name": "python3"
  },
  "language_info": {
   "codemirror_mode": {
    "name": "ipython",
    "version": 3
   },
   "file_extension": ".py",
   "mimetype": "text/x-python",
   "name": "python",
   "nbconvert_exporter": "python",
   "pygments_lexer": "ipython3",
   "version": "3.7.6"
  }
 },
 "nbformat": 4,
 "nbformat_minor": 4
}
