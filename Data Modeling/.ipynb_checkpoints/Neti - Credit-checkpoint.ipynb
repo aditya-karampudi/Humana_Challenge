{
 "cells": [
  {
   "cell_type": "markdown",
   "metadata": {},
   "source": [
    "## Plot the transporatation with the numeric attribute"
   ]
  },
  {
   "cell_type": "code",
   "execution_count": null,
   "metadata": {},
   "outputs": [],
   "source": []
  },
  {
   "cell_type": "markdown",
   "metadata": {},
   "source": [
    "# 2020 Case\n",
    "Social determinants of health are the conditions in the environments in which people live, learn, work, play, worship and age that affect a wide range of health, functioning and quality-of-life outcomes and risks. Transportation challenges is one of these determinants.\n",
    "\n",
    "• Using the data provided and potentially supplementing with public data, create a model to predict which Medicare members are most likely struggling with Transportation Challenges.\n",
    "\n",
    "• Propose solutions for overcoming these barrier to accessing care and achieving their best health. "
   ]
  },
  {
   "cell_type": "code",
   "execution_count": 1,
   "metadata": {},
   "outputs": [],
   "source": [
    "import pandas as pd\n",
    "import seaborn as sns\n",
    "import matplotlib.pyplot as plt\n",
    "\n",
    "import warnings\n",
    "warnings.filterwarnings('ignore')"
   ]
  },
  {
   "cell_type": "code",
   "execution_count": 68,
   "metadata": {},
   "outputs": [],
   "source": [
    "df = pd.read_csv('2020_Competition_Training (1).csv')"
   ]
  },
  {
   "cell_type": "code",
   "execution_count": 69,
   "metadata": {},
   "outputs": [
    {
     "name": "stdout",
     "output_type": "stream",
     "text": [
      "(69572, 826)\n",
      "(69572, 101)\n"
     ]
    }
   ],
   "source": [
    "print(df.shape)\n",
    "col_names = ['person_id_syn', 'transportation_issues',\n",
    "    'credit_bal_1stmtg_30to59dpd',\n",
    "    'credit_bal_1stmtg_60to89dpd',\n",
    "    'credit_bal_1stmtg_collections',\n",
    "    'credit_bal_1stmtg_severederog',\n",
    "    'credit_bal_1stmtgcredit_60dpd',\n",
    "    'credit_bal_agency1stmorg_collectio',\n",
    "    'credit_bal_agencyfirstmtg_60dpd',\n",
    "    'credit_bal_agencyfirstmtg_new',\n",
    "    'credit_bal_autobank',\n",
    "    'credit_bal_autobank_new',\n",
    "    'credit_bal_autofinance',\n",
    "    'credit_bal_autofinance_new',\n",
    "    'credit_bal_bankcard_severederog',\n",
    "    'credit_bal_consumerfinance',\n",
    "    'credit_bal_consumerfinance_new',\n",
    "    'credit_bal_heloc_60dpd',\n",
    "    'credit_bal_heloc_severederog',\n",
    "    'credit_bal_mtg_90to119dpd',\n",
    "    'credit_bal_mtg_bankruptcy',\n",
    "    'credit_bal_mtg_severederog',\n",
    "    'credit_bal_mtgcredit_new',\n",
    "    'credit_bal_nonagn1stmorg_30to59dpd',\n",
    "    'credit_bal_nonagn1stmorg_60to89dpd',\n",
    "    'credit_bal_nonagn1stmorg_90to119dp',\n",
    "    'credit_bal_nonagn1stmorg_bankruptc',\n",
    "    'credit_bal_nonagn1stmorg_collectio',\n",
    "    'credit_bal_nonagnfirstmtg_60dpd',\n",
    "    'credit_bal_nonmtgcredit_60dpd',\n",
    "    'credit_bal_studentloan_60dpd',\n",
    "    'credit_bal_totalallcredit_60dpd',\n",
    "    'credit_bal_totalallcredit_60to89dpd',\n",
    "    'credit_bal_totalallcredit_90to119dpd',\n",
    "    'credit_bal_totalallcredit_new',\n",
    "    'credit_hh_1stmtg_severederog',\n",
    "    'credit_hh_1stmtgcredit',\n",
    "    'credit_hh_1stmtgcredit_new',\n",
    "    'credit_hh_agencyfirstmtg',\n",
    "    'credit_hh_agencyfirstmtg_new',\n",
    "    'credit_hh_autobank',\n",
    "    'credit_hh_autobank_new',\n",
    "    'credit_hh_autofinance',\n",
    "    'credit_hh_autofinance_new',\n",
    "    'credit_hh_bankcard_severederog',\n",
    "    'credit_hh_bankcardcredit_60dpd',\n",
    "    'credit_hh_consumerfinance',\n",
    "    'credit_hh_consumerfinance_new',\n",
    "    'credit_hh_mtg_severederog',\n",
    "    'credit_hh_mtgcredit_new',\n",
    "    'credit_hh_nonagnfirstmtg',\n",
    "    'credit_hh_nonmtgcredit_60dpd',\n",
    "    'credit_hh_studentloan',\n",
    "    'credit_hh_studentloan_60dpd',\n",
    "    'credit_hh_totalallcredit_bankruptcy',\n",
    "    'credit_hh_totalallcredit_collections',\n",
    "    'credit_hh_totalallcredit_severederog',\n",
    "    'credit_highcrd_consumerfinance_new',\n",
    "    'credit_minmob_1stmtgcredit',\n",
    "    'credit_minmob_agencyfirstmtg',\n",
    "    'credit_minmob_mtgcredit',\n",
    "    'credit_minmob_nonagn',\n",
    "    'credit_num_1stmtg_30to59dpd',\n",
    "    'credit_num_1stmtg_60to89dpd',\n",
    "    'credit_num_1stmtg_bankruptcy',\n",
    "    'credit_num_1stmtg_collections',\n",
    "    'credit_num_1stmtg_severederog',\n",
    "    'credit_num_1stmtgcredit',\n",
    "    'credit_num_1stmtgcredit_new',\n",
    "    'credit_num_agency1stmorg_collectio',\n",
    "    'credit_num_agencyfirstmtg',\n",
    "    'credit_num_agencyfirstmtg_60dpd',\n",
    "    'credit_num_agencyfirstmtg_new',\n",
    "    'credit_num_autobank',\n",
    "    'credit_num_autobank_new',\n",
    "    'credit_num_autofinance',\n",
    "    'credit_num_autofinance_new',\n",
    "    'credit_num_bankcard_severederog',\n",
    "    'credit_num_consumerfinance',\n",
    "    'credit_num_consumerfinance_new',\n",
    "    'credit_num_heloc_60dpd',\n",
    "    'credit_num_heloc_severederog',\n",
    "    'credit_num_mtg_60to89dpd',\n",
    "    'credit_num_mtg_90to119dpd',\n",
    "    'credit_num_mtg_collections',\n",
    "    'credit_num_mtg_severederog',\n",
    "    'credit_num_mtgcredit_new',\n",
    "    'credit_num_nonagn1stmorg_30to59dpd',\n",
    "    'credit_num_nonagn1stmorg_60to89dpd',\n",
    "    'credit_num_nonagn1stmorg_90to119dp',\n",
    "    'credit_num_nonagn1stmorg_bankruptc',\n",
    "    'credit_num_nonagn1stmorg_collectio',\n",
    "    'credit_num_nonmtgcredit_60dpd',\n",
    "    'credit_num_studentloan',\n",
    "    'credit_num_studentloan_60dpd',\n",
    "    'credit_num_totalallcredit_collections',\n",
    "    'credit_num_totalallcredit_severederog',\n",
    "    'credit_prcnt_agencyfirstmtg',\n",
    "    'credit_prcnt_autobank',\n",
    "    'credit_prcnt_mtgcredit',\n",
    "    'credit_prcnt_nonagnfirstmtg']\n",
    "\n",
    "df = df[col_names]\n",
    "print(df.shape)"
   ]
  },
  {
   "cell_type": "code",
   "execution_count": 70,
   "metadata": {},
   "outputs": [
    {
     "data": {
      "text/plain": [
       "0    59375\n",
       "1    10197\n",
       "Name: transportation_issues, dtype: int64"
      ]
     },
     "execution_count": 70,
     "metadata": {},
     "output_type": "execute_result"
    }
   ],
   "source": [
    "# Target variable \n",
    "# 0 - No, 1 - Yes\n",
    "# 1 = transportation challenge, 0 = no transportation challenge\n",
    "df.transportation_issues.value_counts()"
   ]
  },
  {
   "cell_type": "code",
   "execution_count": null,
   "metadata": {},
   "outputs": [],
   "source": []
  },
  {
   "cell_type": "markdown",
   "metadata": {},
   "source": [
    "### 60 days"
   ]
  },
  {
   "cell_type": "code",
   "execution_count": 71,
   "metadata": {},
   "outputs": [
    {
     "ename": "SyntaxError",
     "evalue": "invalid syntax (<ipython-input-71-0bec7e95a6d5>, line 7)",
     "output_type": "error",
     "traceback": [
      "\u001b[0;36m  File \u001b[0;32m\"<ipython-input-71-0bec7e95a6d5>\"\u001b[0;36m, line \u001b[0;32m7\u001b[0m\n\u001b[0;31m    mortgage, autobank, autofinance, consumer_finance, student loan, bank card accounts, heloc, non-mortgage\u001b[0m\n\u001b[0m                                                               ^\u001b[0m\n\u001b[0;31mSyntaxError\u001b[0m\u001b[0;31m:\u001b[0m invalid syntax\n"
     ]
    }
   ],
   "source": [
    "_60dpd_columns = [s for s in df.columns if \"_60dpd\" in s]\n",
    "\n",
    "[s for s in df.columns if \"agency\" in s]\n",
    "\n",
    "agency, non-agency - mortagage\n",
    "\n",
    "mortgage, autobank, autofinance, consumer_finance, student loan, bank card accounts, heloc, non-mortgage\n",
    "\n",
    "## Mortgage yes/no\n",
    "\n",
    "df[['credit_bal_mtg_90to119dpd',\n",
    "'credit_bal_mtg_bankruptcy',\n",
    "'credit_bal_mtg_severederog',\n",
    "'credit_bal_mtgcredit_new']].describe()\n",
    "\n",
    "df.credit_prcnt_autobank\n",
    "\n",
    "df.credit_prcnt_mtgcredit.describe()\n",
    "\n",
    "\n",
    "\n",
    "df[df.credit_bal_agencyfirstmtg_new == 0]\n",
    "\n",
    "df.credit_bal_agencyfirstmtg_new.describe()\n",
    "\n",
    "\n",
    "\n",
    "sns.distplot(df[['credit_bal_1stmtgcredit_60dpd']])\n",
    "\n",
    "df[_60dpd_columns].describe()\n",
    "\n",
    "Two categories - Auto and non-auto\n",
    "\n",
    "df[['credit_bal_autofinance',\n",
    "    'credit_bal_autofinance_new',    'credit_bal_autobank',\n",
    "    'credit_bal_autobank_new']].describe()\n",
    "\n",
    "import seaborn as sns\n",
    "sns.distplot(df.credit_bal_heloc_60dpd)\n",
    "\n",
    "df.credit_bal_heloc_60dpd.value_counts()\n",
    "\n",
    "\n",
    "\n",
    "df[balance_col].describe()\n",
    "\n",
    "\n",
    "\n",
    "df.isna().sum()\n",
    "\n",
    "df.to_csv('Data.csv')\n",
    "\n",
    "credit_minmob_mtgcredit :: Newest Mortgage Acct Age\n",
    "\n",
    "credit_num_mtg_60to89dpd :: Number All Mortgage Accts - 60 to 89 dpd\n",
    "credit_num_mtg_90to119dpd :: Number All Mortgage Accts - 90 to 119 dpd\n",
    "credit_num_mtg_collections :: Number All Mortgage Accts - 120 dpd or Collections\n",
    "credit_num_mtg_severederog :: Number All Mortgage Accts - Severe Derogatory Accts\n",
    "credit_num_mtgcredit_new :: Number All Mortgage Type Accts New w/in 12 months\n",
    "\n",
    "credit_bal_mtg_90to119dpd :: Balance All Mortgage Accts - 90 to 119 dpd\n",
    "credit_bal_mtg_bankruptcy :: Balance All Mortgage Accts -  Bankruptcy Accts\n",
    "credit_bal_mtg_severederog :: Balance All Mortgage Accts - Severe Derogatory Accts\n",
    "credit_bal_mtgcredit_new :: Balance All Mortgage Type Accts New w/in 12 months\n",
    "------------------------------------------------------------------------------------------------------\n",
    "credit_minmob_1stmtgcredit :: Newest 1st Mortgage Acct Age\n",
    "\n",
    "credit_num_1stmtg_30to59dpd :: Number 1st Mortgage Accts - 30 to 59 dpd\n",
    "credit_num_1stmtg_60to89dpd :: Number 1st Mortgage Accts - 60 to 89 dpd\n",
    "credit_num_1stmtg_bankruptcy :: Number 1st Mortgage Accts -  Bankruptcy Accts\n",
    "credit_num_1stmtg_collections :: Number 1st Mortgage Accts - 120 dpd or Collections\n",
    "credit_num_1stmtg_severederog :: Number 1st Mortgage Accts - Severe Derogatory Accts\n",
    "credit_num_1stmtgcredit :: Number 1st Mortgage Accts\n",
    "credit_num_1stmtgcredit_new :: Number 1st Mortgage Accts New w/in 12 months\n",
    "\n",
    "credit_bal_1stmtg_30to59dpd :: Balance 1st Mortgage Accts - 30 to 59 dpd\n",
    "credit_bal_1stmtg_60to89dpd :: Balance 1st Mortgage Accts - 60 to 89 dpd\n",
    "credit_bal_1stmtg_collections :: Balance 1st Mortgage Accts - 120 dpd or Collections\n",
    "credit_bal_1stmtg_severederog :: Balance 1st Mortgage Accts - Severe Derogatory Accts\n",
    "credit_bal_1stmtgcredit_60dpd :: Balance 1st Mortgage Accts 60+ dpd\n",
    "------------------------------------------------------------------------------------------------------\n",
    "credit_minmob_nonagn :: Newest Non-Agency 1st Mortgage Acct Age\n",
    "\n",
    "credit_num_nonagn1stmorg_30to59dpd :: Number Non-Agency 1st Mortgage Accts - 30 to 59 dpd\n",
    "credit_num_nonagn1stmorg_60to89dpd :: Number Non-Agency 1st Mortgage Accts - 60 to 89 dpd\n",
    "credit_num_nonagn1stmorg_90to119dp :: Number Non-Agency 1st Mortgage Accts - 90 to 119 dpd\n",
    "credit_num_nonagn1stmorg_bankruptc :: Number Non-Agency 1st Mortgage Accts -  Bankruptcy Accts\n",
    "credit_num_nonagn1stmorg_collectio :: Number Non-Agency 1st Mortgage Accts - 120 dpd or Collections\n",
    "\n",
    "credit_bal_nonagn1stmorg_30to59dpd :: Balance Non-Agency 1st Mortgage Accts - 30 to 59 dpd\n",
    "credit_bal_nonagn1stmorg_60to89dpd :: Balance Non-Agency 1st Mortgage Accts - 60 to 89 dpd\n",
    "credit_bal_nonagn1stmorg_90to119dp :: Balance Non-Agency 1st Mortgage Accts - 90 to 119 dpd\n",
    "credit_bal_nonagn1stmorg_bankruptc :: Balance Non-Agency 1st Mortgage Accts -  Bankruptcy Accts\n",
    "credit_bal_nonagn1stmorg_collectio :: Balance Non-Agency 1st Mortgage Accts - 120 dpd or Collections\n",
    "credit_bal_nonagnfirstmtg_60dpd :: Balance Non-Agency 1st Mortgage Accts 60+ dpd\n",
    "------------------------------------------------------------------------------------------------------\n",
    "credit_minmob_agencyfirstmtg :: Newest Agency 1st Mortgage Acct Age\n",
    "\n",
    "credit_num_agency1stmorg_collectio :: Number Agency 1st Mortgage Accts - 120 dpd or Collections\n",
    "credit_num_agencyfirstmtg :: Number Agency 1st Mortgage Accts\n",
    "credit_num_agencyfirstmtg_60dpd :: Number Agency 1st Mortgage Accts 60+ dpd\n",
    "credit_num_agencyfirstmtg_new :: Number Agency 1st Mortgage Accts New w/in 12 months\n",
    "\n",
    "credit_bal_agency1stmorg_collectio :: Balance Agency 1st Mortgage Accts - 120 dpd or Collections\n",
    "credit_bal_agencyfirstmtg_60dpd :: Balance Agency 1st Mortgage Accts 60+ dpd\n",
    "credit_bal_agencyfirstmtg_new :: Balance Agency 1st Mortgage Accts New w/in 12 months\n",
    "\n",
    "-----------------------------------------------------------------------------------------------------\n",
    "-----------------------------------------------------------------------------------------------------\n",
    "\n",
    "credit_hh_mtg_severederog :: % HH All Mortgage Accts - Severe Derogatory Accts\n",
    "credit_hh_mtgcredit_new :: % HH All Mortgage Type Accts New w/in 12 months\n",
    "-----------------------------------------------------------------------------------------------------\n",
    "credit_hh_1stmtg_severederog :: % HH 1st Mortgage Accts - Severe Derogatory Accts\n",
    "credit_hh_1stmtgcredit :: % HH 1st Mortgage Accts\n",
    "credit_hh_1stmtgcredit_new :: % HH 1st Mortgage Accts New w/in 12 months\n",
    "-----------------------------------------------------------------------------------------------------\n",
    "credit_hh_agencyfirstmtg :: % HH Agency 1st Mortgage Accts\n",
    "credit_hh_agencyfirstmtg_new :: % HH Agency 1st Mortgage Accts New w/in 12 months\n",
    "-----------------------------------------------------------------------------------------------------\n",
    "credit_hh_nonagnfirstmtg :: % HH Non-Agency 1st Mortgage Accts\n",
    "credit_hh_nonmtgcredit_60dpd :: % HH Non-Mortgage Loan Accts 60+ dpd\n",
    "\n",
    "-----------------------------------------------------------------------------------------------------\n",
    "-----------------------------------------------------------------------------------------------------\n",
    "\n",
    "credit_hh_autobank :: % HH Auto Bank Loan Accts\n",
    "credit_hh_autobank_new :: % HH Auto Bank Loan Accts New w/in 12 months\n",
    "\n",
    "credit_hh_autofinance :: % HH Auto Finance Loan Accts\n",
    "credit_hh_autofinance_new :: % HH Auto Finance Loan Accts New w/in 12 months\n",
    "\n",
    "credit_hh_bankcard_severederog :: % HH Bank Card Accts - Severe Derogatory Accts\n",
    "credit_hh_bankcardcredit_60dpd :: % HH Bank Card Accts 60+ dpd\n",
    "\n",
    "credit_hh_consumerfinance :: % HH Consumer Finance Accts\n",
    "credit_hh_consumerfinance_new :: % HH Consumer Finance Accts New w/in 12 months\n",
    "\n",
    "credit_hh_studentloan :: % HH Student Loan Accts\n",
    "credit_hh_studentloan_60dpd :: % HH Student Loan Accts 60+ dpd\n",
    "\n",
    "credit_hh_totalallcredit_bankruptcy :: % HH All Credit Accts - Bankruptcy Accts\n",
    "credit_hh_totalallcredit_collections :: % HH All Credit Accts - 120 dpd or Collections\n",
    "credit_hh_totalallcredit_severederog :: % HH All Credit Accts - Severe Derogatory Accts\n",
    "\n",
    "-----------------------------------------------------------------------------------------------------\n",
    "\n",
    "credit_num_bankcard_severederog :: Number Bank Card Accts - Severe Derogatory Accts\n",
    "credit_bal_bankcard_severederog :: Balance Bank Card Accts - Severe Derogatory Accts\n",
    "\n",
    "-----------------------------------------------------------------------------------------------------\n",
    "\n",
    "credit_num_nonmtgcredit_60dpd :: Number Non-Mortgage Loan Accts 60+ dpd\n",
    "credit_bal_nonmtgcredit_60dpd :: Balance Non-Mortgage Loan Accts 60+ dpd\n",
    "\n",
    "-----------------------------------------------------------------------------------------------------\n",
    "\n",
    "credit_num_totalallcredit_collections :: Number All Credit Accts - 120 dpd or Collections\n",
    "credit_num_totalallcredit_severederog :: Number All Credit Accts - Severe Derogatory Accts\n",
    "\n",
    "credit_bal_totalallcredit_60dpd :: Balance All Credit Type Accts 60+ dpd\n",
    "credit_bal_totalallcredit_60to89dpd :: Balance All Credit Accts - 60 to 89 dpd\n",
    "credit_bal_totalallcredit_90to119dpd :: Balance All Credit Accts - 90 to 119 dpd\n",
    "credit_bal_totalallcredit_new :: Balance All Credit Type Accts New w/in 12 months\n",
    "\n",
    "-----------------------------------------------------------------------------------------------------\n",
    "-----------------------------------------------------------------------------------------------------\n",
    "\n",
    "credit_num_autobank :: Number Auto Bank Loan Accts\n",
    "credit_num_autobank_new :: Number Auto Bank Loan Accts New w/in 12 months\n",
    "\n",
    "credit_bal_autobank :: Balance Auto Bank Loan Accts\n",
    "credit_bal_autobank_new :: Balance Auto Bank Loan Accts New w/in 12 months\n",
    "-----------------------------------------------------------------------------------------------------\n",
    "credit_num_autofinance :: Number Auto Finance Loan Accts\n",
    "credit_num_autofinance_new :: Number Auto Finance Loan Accts New w/in 12 months\n",
    "\n",
    "credit_bal_autofinance :: Balance Auto Finance Loan Accts\n",
    "credit_bal_autofinance_new :: Balance Auto Finance Loan Accts New w/in 12 months\n",
    "-----------------------------------------------------------------------------------------------------\n",
    "credit_num_studentloan :: Number Student Loan Accts\n",
    "credit_num_studentloan_60dpd :: Number Student Loan Accts 60+ dpd\n",
    "\n",
    "credit_bal_studentloan_60dpd :: Balance Student Loan Accts 60+ dpd\n",
    "-----------------------------------------------------------------------------------------------------\n",
    "credit_num_consumerfinance :: Number Consumer Finance Accts\n",
    "credit_num_consumerfinance_new :: Number Consumer Finance Accts New w/in 12 months\n",
    "\n",
    "credit_bal_consumerfinance :: Balance Consumer Finance Accts\n",
    "credit_bal_consumerfinance_new :: Balance Consumer Finance Accts New w/in 12 months\n",
    "\n",
    "credit_highcrd_consumerfinance_new :: High Credit for Consumer Finance Accts New w/in 12 months\n",
    "-----------------------------------------------------------------------------------------------------\n",
    "credit_num_heloc_60dpd :: Number HELOC Accts 60+ dpd\n",
    "credit_num_heloc_severederog :: Number HELOC Accts - Severe Derogatory Accts\n",
    "\n",
    "credit_bal_heloc_60dpd :: Balance HELOC Accts 60+ dpd\n",
    "credit_bal_heloc_severederog :: Balance HELOC Accts - Severe Derogatory Accts\n",
    "-----------------------------------------------------------------------------------------------------\n",
    "\n",
    "credit_prcnt_agencyfirstmtg :: % Balance to High Agency 1st Mortgage Credit\n",
    "credit_prcnt_autobank :: % Balance to High Auto Bank Credit\n",
    "credit_prcnt_mtgcredit :: % Balance to High Mortgage Credit\n",
    "credit_prcnt_nonagnfirstmtg :: % Balance to High Non-Agency 1st Mortgage Credit\n",
    "\n",
    "-----------------------------------------------------------------------------------------------------\n",
    "\n",
    "# new credit factor - 10% of Credit score\n",
    "df['new_credit_accounts'] = df['credit_num_autobank_new'] + df['credit_num_autofinance_new'] + df ['credit_num_consumerfinance_new'] + df['credit_num_mtgcredit_new']\n",
    "\n",
    "# credit history factor - 15% of credit score\n",
    "df['avg_age_new_credit'] = (df['credit_minmob_mtgcredit'] + df['credit_minmob_1stmtgcredit'] + df['credit_minmob_agencyfirstmtg'] + df['credit_minmob_nonagn'])/4.0\n",
    "\n",
    "\n",
    "\n",
    "df[['transportation_issues', 'new_credit_accounts', 'avg_age_new_credit']].round(2)\n",
    "\n",
    "df.hist(bins=50, figsize=(60,40))"
   ]
  },
  {
   "cell_type": "code",
   "execution_count": null,
   "metadata": {
    "scrolled": true
   },
   "outputs": [],
   "source": [
    "columns = col_names.copy()\n",
    "columns.remove('person_id_syn')\n",
    "columns.remove('transportation_issues')\n",
    "\n",
    "for col in columns:\n",
    "    fig, ax = plt.subplots()\n",
    "    g = sns.boxplot(data=df[col])\n",
    "    plt.xticks(rotation=45)\n",
    "    ax.set_xlabel(col)"
   ]
  },
  {
   "cell_type": "code",
   "execution_count": null,
   "metadata": {},
   "outputs": [],
   "source": [
    "df2 = df[columns]\n",
    "df2.describe()"
   ]
  },
  {
   "cell_type": "code",
   "execution_count": null,
   "metadata": {
    "scrolled": true
   },
   "outputs": [],
   "source": [
    "# Creating a subset of only numeric independent features to check correlation\n",
    "\n",
    "import pandas as pd\n",
    "import numpy as np\n",
    "\n",
    "corr = df2.corr()\n",
    "corr.style.background_gradient(cmap='coolwarm').set_precision(2)"
   ]
  },
  {
   "cell_type": "code",
   "execution_count": null,
   "metadata": {},
   "outputs": [],
   "source": [
    "# Need to handle outliers"
   ]
  },
  {
   "cell_type": "markdown",
   "metadata": {},
   "source": [
    "### credit_bal_1stmtg_30to59dpd :: Balance 1st Mortgage Accts - 30 to 59 dpd\n",
    "### credit_bal_1stmtg_60to89dpd :: Balance 1st Mortgage Accts - 60 to 89 dpd\n",
    "### credit_bal_1stmtg_collections :: Balance 1st Mortgage Accts - 120 dpd or Collections\n",
    "### credit_bal_1stmtg_severederog :: Balance 1st Mortgage Accts - Severe DerogatoryAccts\n",
    "### credit_bal_1stmtgcredit_60dpd :: Balance 1st Mortgage Accts 60+ dpd\n",
    "\n",
    "Your DPD (Days Past Due) for every loan or credit card availed. The DPD indicates how many days a payment on that account is late by that month. Anything but “000” or “STD” is considered negative by the lender."
   ]
  },
  {
   "cell_type": "code",
   "execution_count": null,
   "metadata": {},
   "outputs": [],
   "source": [
    "new_df = df[['person_id_syn', 'transportation_issues',\n",
    "    'credit_bal_1stmtg_30to59dpd', 'credit_bal_1stmtg_60to89dpd', 'credit_bal_1stmtg_collections',\n",
    "    'credit_bal_1stmtg_severederog','credit_bal_1stmtgcredit_60dpd']]\n",
    "new_df.hist(bins=50, figsize=(20,15))"
   ]
  },
  {
   "cell_type": "code",
   "execution_count": null,
   "metadata": {},
   "outputs": [],
   "source": [
    "corr = new_df.corr()\n",
    "corr.style.background_gradient(cmap='coolwarm').set_precision(2)"
   ]
  },
  {
   "cell_type": "code",
   "execution_count": 72,
   "metadata": {},
   "outputs": [
    {
     "ename": "NameError",
     "evalue": "name 'new_df' is not defined",
     "output_type": "error",
     "traceback": [
      "\u001b[0;31m---------------------------------------------------------------------------\u001b[0m",
      "\u001b[0;31mNameError\u001b[0m                                 Traceback (most recent call last)",
      "\u001b[0;32m<ipython-input-72-1df97b384862>\u001b[0m in \u001b[0;36m<module>\u001b[0;34m\u001b[0m\n\u001b[0;32m----> 1\u001b[0;31m \u001b[0mnew_df\u001b[0m\u001b[0;34m[\u001b[0m\u001b[0;34m'credit_bal_payed'\u001b[0m\u001b[0;34m]\u001b[0m \u001b[0;34m=\u001b[0m \u001b[0mnew_df\u001b[0m\u001b[0;34m[\u001b[0m\u001b[0;34m'credit_bal_1stmtgcredit_60dpd'\u001b[0m\u001b[0;34m]\u001b[0m \u001b[0;34m-\u001b[0m \u001b[0mnew_df\u001b[0m\u001b[0;34m[\u001b[0m\u001b[0;34m'credit_bal_1stmtg_30to59dpd'\u001b[0m\u001b[0;34m]\u001b[0m\u001b[0;34m\u001b[0m\u001b[0;34m\u001b[0m\u001b[0m\n\u001b[0m\u001b[1;32m      2\u001b[0m \u001b[0;31m# Mortgage balance decreased after 1st month - paying off timely\u001b[0m\u001b[0;34m\u001b[0m\u001b[0;34m\u001b[0m\u001b[0;34m\u001b[0m\u001b[0m\n\u001b[1;32m      3\u001b[0m \u001b[0mnew_df\u001b[0m\u001b[0;34m.\u001b[0m\u001b[0mloc\u001b[0m\u001b[0;34m[\u001b[0m\u001b[0;34m(\u001b[0m\u001b[0mnew_df\u001b[0m\u001b[0;34m.\u001b[0m\u001b[0mcredit_bal_payed\u001b[0m \u001b[0;34m<\u001b[0m \u001b[0;36m0\u001b[0m \u001b[0;34m)\u001b[0m\u001b[0;34m,\u001b[0m\u001b[0;34m'credit_bal_payed'\u001b[0m\u001b[0;34m]\u001b[0m\u001b[0;34m=\u001b[0m \u001b[0;34m-\u001b[0m\u001b[0;36m1\u001b[0m\u001b[0;34m\u001b[0m\u001b[0;34m\u001b[0m\u001b[0m\n\u001b[1;32m      4\u001b[0m \u001b[0;31m# Mortgage balance increased afer 1st month - not paying off timely\u001b[0m\u001b[0;34m\u001b[0m\u001b[0;34m\u001b[0m\u001b[0;34m\u001b[0m\u001b[0m\n\u001b[1;32m      5\u001b[0m \u001b[0mnew_df\u001b[0m\u001b[0;34m.\u001b[0m\u001b[0mloc\u001b[0m\u001b[0;34m[\u001b[0m\u001b[0;34m(\u001b[0m\u001b[0mnew_df\u001b[0m\u001b[0;34m.\u001b[0m\u001b[0mcredit_bal_payed\u001b[0m \u001b[0;34m>\u001b[0m \u001b[0;36m0\u001b[0m \u001b[0;34m)\u001b[0m\u001b[0;34m,\u001b[0m\u001b[0;34m'credit_bal_payed'\u001b[0m\u001b[0;34m]\u001b[0m\u001b[0;34m=\u001b[0m \u001b[0;36m1\u001b[0m\u001b[0;34m\u001b[0m\u001b[0;34m\u001b[0m\u001b[0m\n",
      "\u001b[0;31mNameError\u001b[0m: name 'new_df' is not defined"
     ]
    }
   ],
   "source": [
    "new_df['credit_bal_payed'] = new_df['credit_bal_1stmtgcredit_60dpd'] - new_df['credit_bal_1stmtg_30to59dpd']\n",
    "# Mortgage balance decreased after 1st month - paying off timely\n",
    "new_df.loc[(new_df.credit_bal_payed < 0 ),'credit_bal_payed']= -1\n",
    "# Mortgage balance increased afer 1st month - not paying off timely\n",
    "new_df.loc[(new_df.credit_bal_payed > 0 ),'credit_bal_payed']= 1\n",
    "new_df['credit_bal_payed'].value_counts()"
   ]
  },
  {
   "cell_type": "code",
   "execution_count": 73,
   "metadata": {},
   "outputs": [
    {
     "name": "stdout",
     "output_type": "stream",
     "text": [
      "credit_bal_payed\n"
     ]
    },
    {
     "ename": "NameError",
     "evalue": "name 'new_df' is not defined",
     "output_type": "error",
     "traceback": [
      "\u001b[0;31m---------------------------------------------------------------------------\u001b[0m",
      "\u001b[0;31mNameError\u001b[0m                                 Traceback (most recent call last)",
      "\u001b[0;32m<ipython-input-73-6193724efea0>\u001b[0m in \u001b[0;36m<module>\u001b[0;34m\u001b[0m\n\u001b[1;32m      1\u001b[0m \u001b[0mprint\u001b[0m\u001b[0;34m(\u001b[0m\u001b[0;34m'credit_bal_payed'\u001b[0m\u001b[0;34m)\u001b[0m\u001b[0;34m\u001b[0m\u001b[0;34m\u001b[0m\u001b[0m\n\u001b[0;32m----> 2\u001b[0;31m \u001b[0mprint\u001b[0m\u001b[0;34m(\u001b[0m\u001b[0mnew_df\u001b[0m\u001b[0;34m.\u001b[0m\u001b[0mtransportation_issues\u001b[0m\u001b[0;34m.\u001b[0m\u001b[0mvalue_counts\u001b[0m\u001b[0;34m(\u001b[0m\u001b[0;34m)\u001b[0m\u001b[0;34m)\u001b[0m\u001b[0;34m\u001b[0m\u001b[0;34m\u001b[0m\u001b[0m\n\u001b[0m\u001b[1;32m      3\u001b[0m \u001b[0mprint\u001b[0m\u001b[0;34m(\u001b[0m\u001b[0;34m'--------------------------------------------'\u001b[0m\u001b[0;34m)\u001b[0m\u001b[0;34m\u001b[0m\u001b[0;34m\u001b[0m\u001b[0m\n\u001b[1;32m      4\u001b[0m \u001b[0mprint\u001b[0m\u001b[0;34m(\u001b[0m\u001b[0;34m'== 1'\u001b[0m\u001b[0;34m)\u001b[0m\u001b[0;34m\u001b[0m\u001b[0;34m\u001b[0m\u001b[0m\n\u001b[1;32m      5\u001b[0m \u001b[0mprint\u001b[0m\u001b[0;34m(\u001b[0m\u001b[0mnew_df\u001b[0m\u001b[0;34m[\u001b[0m\u001b[0mnew_df\u001b[0m\u001b[0;34m.\u001b[0m\u001b[0mcredit_bal_payed\u001b[0m \u001b[0;34m==\u001b[0m \u001b[0;36m1\u001b[0m\u001b[0;34m]\u001b[0m\u001b[0;34m.\u001b[0m\u001b[0mtransportation_issues\u001b[0m\u001b[0;34m.\u001b[0m\u001b[0mvalue_counts\u001b[0m\u001b[0;34m(\u001b[0m\u001b[0;34m)\u001b[0m\u001b[0;34m)\u001b[0m\u001b[0;34m\u001b[0m\u001b[0;34m\u001b[0m\u001b[0m\n",
      "\u001b[0;31mNameError\u001b[0m: name 'new_df' is not defined"
     ]
    }
   ],
   "source": [
    "print('credit_bal_payed')\n",
    "print(new_df.transportation_issues.value_counts())\n",
    "print('--------------------------------------------')\n",
    "print('== 1')\n",
    "print(new_df[new_df.credit_bal_payed == 1].transportation_issues.value_counts())\n",
    "print('--------------------------------------------')\n",
    "print('== -1')\n",
    "print(new_df[new_df.credit_bal_payed == -1].transportation_issues.value_counts())"
   ]
  },
  {
   "cell_type": "code",
   "execution_count": 74,
   "metadata": {},
   "outputs": [
    {
     "data": {
      "text/plain": [
       "<matplotlib.axes._subplots.AxesSubplot at 0x7f8ed927bb50>"
      ]
     },
     "execution_count": 74,
     "metadata": {},
     "output_type": "execute_result"
    },
    {
     "data": {
      "image/png": "[encoded data removed]",
      "text/plain": [
       "<Figure size 432x288 with 1 Axes>"
      ]
     },
     "metadata": {
      "needs_background": "light"
     },
     "output_type": "display_data"
    }
   ],
   "source": [
    "# new credit factor - 10% of Credit score\n",
    "for col in columns:\n",
    "    df['credit_num_new_accounts'] = df['credit_num_autobank_new'] + df['credit_num_autofinance_new'] + df['credit_num_consumerfinance_new'] + df['credit_num_mtgcredit_new']\n",
    "df['credit_num_new_accounts'].hist()"
   ]
  },
  {
   "cell_type": "code",
   "execution_count": 75,
   "metadata": {},
   "outputs": [],
   "source": [
    "# credit history factor - 15% of credit score\n",
    "# df['credit_minmob_mtgcredit']"
   ]
  },
  {
   "cell_type": "code",
   "execution_count": 76,
   "metadata": {},
   "outputs": [
    {
     "data": {
      "text/plain": [
       "<matplotlib.axes._subplots.AxesSubplot at 0x7f8ed926cb20>"
      ]
     },
     "execution_count": 76,
     "metadata": {},
     "output_type": "execute_result"
    },
    {
     "data": {
      "image/png": "[encoded data removed]",
      "text/plain": [
       "<Figure size 432x288 with 1 Axes>"
      ]
     },
     "metadata": {
      "needs_background": "light"
     },
     "output_type": "display_data"
    }
   ],
   "source": [
    "# number of accounts sent to collections - affect credit\n",
    "df['credit_num_collections'] = (df['credit_num_mtg_collections'] + df['credit_num_totalallcredit_collections'] / 2)\n",
    "df['credit_num_collections'].hist()"
   ]
  },
  {
   "cell_type": "code",
   "execution_count": null,
   "metadata": {},
   "outputs": [],
   "source": []
  },
  {
   "cell_type": "code",
   "execution_count": 89,
   "metadata": {},
   "outputs": [],
   "source": [
    "final_df = df[['credit_bal_1stmtgcredit_60dpd',\n",
    "'credit_bal_agencyfirstmtg_60dpd',\n",
    "'credit_bal_heloc_60dpd',\n",
    "'credit_bal_nonagnfirstmtg_60dpd',\n",
    "'credit_bal_nonmtgcredit_60dpd',\n",
    "'credit_bal_studentloan_60dpd',\n",
    "'credit_bal_totalallcredit_60dpd',\n",
    "'credit_bal_autobank',\n",
    "'credit_bal_autofinance',\n",
    "'credit_bal_consumerfinance',\n",
    "'credit_num_collections',\n",
    "'credit_minmob_mtgcredit',\n",
    "'credit_num_new_accounts',\n",
    "'person_id_syn', 'transportation_issues']]"
   ]
  },
  {
   "cell_type": "code",
   "execution_count": 90,
   "metadata": {},
   "outputs": [],
   "source": [
    "# for i in final_df.columns:\n",
    "#     final_df[i].fillna(final_df[i].mean())\n",
    "\n",
    "cols = final_df.columns\n",
    "final_df[cols]=final_df[cols].fillna(final_df.mean().iloc[0])\n",
    "final_df = final_df.rename({'person_id_syn':'person_id_syn_credit'})\n",
    "final_df = final_df.drop('transportation_issues',axis=1)"
   ]
  },
  {
   "cell_type": "code",
   "execution_count": 91,
   "metadata": {},
   "outputs": [],
   "source": [
    "final_df.to_pickle(\"df_neti_credit.pkl\")"
   ]
  },
  {
   "cell_type": "code",
   "execution_count": null,
   "metadata": {},
   "outputs": [],
   "source": []
  }
 ],
 "metadata": {
  "kernelspec": {
   "display_name": "Python 3",
   "language": "python",
   "name": "python3"
  },
  "language_info": {
   "codemirror_mode": {
    "name": "ipython",
    "version": 3
   },
   "file_extension": ".py",
   "mimetype": "text/x-python",
   "name": "python",
   "nbconvert_exporter": "python",
   "pygments_lexer": "ipython3",
   "version": "3.7.6"
  }
 },
 "nbformat": 4,
 "nbformat_minor": 4
}
