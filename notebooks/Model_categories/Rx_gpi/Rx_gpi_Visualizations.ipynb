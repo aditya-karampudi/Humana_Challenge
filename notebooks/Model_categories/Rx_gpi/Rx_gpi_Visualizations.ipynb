{
 "cells": [
  {
   "cell_type": "code",
   "execution_count": 1,
   "metadata": {},
   "outputs": [],
   "source": [
    "import pandas as pd\n",
    "import numpy as np\n",
    "import seaborn as sns\n",
    "import matplotlib.pyplot as plt\n",
    "\n",
    "import warnings\n",
    "warnings.filterwarnings('ignore')"
   ]
  },
  {
   "cell_type": "code",
   "execution_count": 26,
   "metadata": {},
   "outputs": [],
   "source": [
    "import sys\n",
    "sys.path.append('../')\n",
    "\n",
    "import constants as params"
   ]
  },
  {
   "cell_type": "code",
   "execution_count": 7,
   "metadata": {},
   "outputs": [],
   "source": [
    "def data_viz(df_visualize):\n",
    "    df_visualize = df_visualize.groupby(['transportation_issues']).sum().transpose()\n",
    "    df_visualize.reset_index(drop=False,inplace=True)\n",
    "    df_visualize.columns = ['sum_columns','no_issues','issues']\n",
    "\n",
    "    df_visualize = df_visualize.melt(['sum_columns'])\n",
    "    \n",
    "    df_visualize['avg_value'] = 0\n",
    "\n",
    "    for index, row in df_visualize.iterrows():\n",
    "        if row['variable'] == 'no_issues':\n",
    "            df_visualize.loc[index,'avg_value'] = row['value']/59375\n",
    "        else:\n",
    "            df_visualize.loc[index,'avg_value'] = row['value']/10197\n",
    "    \n",
    "    return df_visualize"
   ]
  },
  {
   "cell_type": "code",
   "execution_count": 8,
   "metadata": {},
   "outputs": [],
   "source": [
    "prefix_data_raw = 'C:\\\\Users\\\\mohad\\\\OneDrive - University of South Florida\\\\Studies\\\\USF\\\\Humana-Github\\\\data\\\\rawdata\\\\original_pq_files\\\\'\n",
    "prefix_data_inter = 'C:\\\\Users\\\\mohad\\\\OneDrive - University of South Florida\\\\Studies\\\\USF\\\\Humana-Github\\\\data\\\\intermediate\\\\'\n",
    "\n",
    "pharmacy_file = \"Pharm.pq\""
   ]
  },
  {
   "cell_type": "code",
   "execution_count": 15,
   "metadata": {},
   "outputs": [],
   "source": [
    "pharm_df = pd.read_parquet(prefix_data_raw + pharmacy_file)"
   ]
  },
  {
   "cell_type": "code",
   "execution_count": 18,
   "metadata": {},
   "outputs": [],
   "source": [
    "dependent_file = 'dependent.pq'\n",
    "dep_df = pd.read_parquet(prefix_data_raw + dependent_file)"
   ]
  },
  {
   "cell_type": "code",
   "execution_count": 21,
   "metadata": {},
   "outputs": [],
   "source": [
    "pharm_df = dep_df.merge(pharm_df, on =['person_id_syn'])"
   ]
  },
  {
   "cell_type": "code",
   "execution_count": 22,
   "metadata": {},
   "outputs": [],
   "source": [
    "df_visualize = pd.concat([pharm_df[['rx_branded_pmpm_ct']],pharm_df[['transportation_issues']]],axis=1)\n",
    "df_visualize_branded = data_viz(df_visualize)"
   ]
  },
  {
   "cell_type": "code",
   "execution_count": 25,
   "metadata": {},
   "outputs": [
    {
     "data": {
      "text/plain": [
       "<seaborn.axisgrid.FacetGrid at 0x1fbd232abc8>"
      ]
     },
     "execution_count": 25,
     "metadata": {},
     "output_type": "execute_result"
    },
    {
     "data": {
      "image/png": "[encoded data removed]",
      "text/plain": [
       "<Figure size 900x360 with 1 Axes>"
      ]
     },
     "metadata": {
      "needs_background": "light"
     },
     "output_type": "display_data"
    }
   ],
   "source": [
    "sns.catplot(x=\"sum_columns\", y=\"value\", hue=\"variable\", kind=\"bar\",height=5, \n",
    "            aspect=2.5, data=df_visualize_branded,legend_out=False)"
   ]
  },
  {
   "cell_type": "code",
   "execution_count": null,
   "metadata": {},
   "outputs": [],
   "source": []
  }
 ],
 "metadata": {
  "kernelspec": {
   "display_name": "Python 3",
   "language": "python",
   "name": "python3"
  },
  "language_info": {
   "codemirror_mode": {
    "name": "ipython",
    "version": 3
   },
   "file_extension": ".py",
   "mimetype": "text/x-python",
   "name": "python",
   "nbconvert_exporter": "python",
   "pygments_lexer": "ipython3",
   "version": "3.7.6"
  }
 },
 "nbformat": 4,
 "nbformat_minor": 4
}
