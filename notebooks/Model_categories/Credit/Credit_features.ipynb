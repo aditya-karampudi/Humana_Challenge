{
 "cells": [
  {
   "cell_type": "code",
   "execution_count": 2,
   "metadata": {},
   "outputs": [],
   "source": [
    "import pandas as pd\n",
    "import numpy as np"
   ]
  },
  {
   "cell_type": "code",
   "execution_count": 3,
   "metadata": {},
   "outputs": [],
   "source": [
    "import sys\n",
    "sys.path.append('../')\n",
    "\n",
    "import constants as params"
   ]
  },
  {
   "cell_type": "code",
   "execution_count": 4,
   "metadata": {},
   "outputs": [],
   "source": [
    "bucket = \"humana-data\"\n",
    "prefix = 'rawdata/original_pq_files'\n",
    "prefix_data = \"intermediate/condition/data\"\n",
    "prefix_metadata = \"intermediate/condition/models/metadata\"\n",
    "prefix_model = \"intermediate/condition/models\""
   ]
  },
  {
   "cell_type": "code",
   "execution_count": 5,
   "metadata": {},
   "outputs": [],
   "source": [
    "prefix_data_raw = 'C:\\\\Users\\\\mohad\\\\OneDrive - University of South Florida\\\\Studies\\\\USF\\\\Humana-Github\\\\data\\\\rawdata\\\\original_pq_files\\\\'\n",
    "prefix_data_inter = 'C:\\\\Users\\\\mohad\\\\OneDrive - University of South Florida\\\\Studies\\\\USF\\\\Humana-Github\\\\data\\\\intermediate\\\\'\n",
    "\n",
    "credit_file = \"Credit.pq\""
   ]
  },
  {
   "cell_type": "code",
   "execution_count": 6,
   "metadata": {},
   "outputs": [],
   "source": [
    "def credit_attributes():\n",
    "    df_credit = pd.read_parquet(prefix_data_raw + credit_file)\n",
    "    df_credit = df_credit.set_index(\"person_id_syn\")\n",
    "    \n",
    "    # data Transformation\n",
    "    df_credit['credit_num_new_accounts'] = df_credit[['credit_num_autobank_new', 'credit_num_autofinance_new', 'credit_num_consumerfinance_new','credit_num_mtgcredit_new']].sum(axis=1)\n",
    "    df_credit['credit_num_collections'] = (df_credit[['credit_num_mtg_collections', 'credit_num_totalallcredit_collections']].sum(axis=1))/2\n",
    "    \n",
    "    for col in params.credit_attributes:\n",
    "        df_credit[col] = df_credit[col].apply(pd.to_numeric, errors='coerce')\n",
    "    \n",
    "    \n",
    "    metadata_dict = {}\n",
    "    metadata_dict['credit'] = {}\n",
    "    metadata_dict['credit']['train_index'] = dict(zip(list(df_credit.reset_index().index), df_credit.reset_index()['person_id_syn']))\n",
    "\n",
    "    df_credit_fe = df_credit[params.credit_attributes]\n",
    "    \n",
    "    return df_credit, metadata_dict"
   ]
  },
  {
   "cell_type": "code",
   "execution_count": 7,
   "metadata": {},
   "outputs": [],
   "source": [
    "df_credit_fe, metada_dict = credit_attributes()"
   ]
  },
  {
   "cell_type": "code",
   "execution_count": 8,
   "metadata": {},
   "outputs": [],
   "source": [
    "df_credit_fe.to_parquet(prefix_data_inter + 'credit_fe.pq', index=True)"
   ]
  },
  {
   "cell_type": "code",
   "execution_count": 9,
   "metadata": {},
   "outputs": [],
   "source": [
    "import pickle"
   ]
  },
  {
   "cell_type": "code",
   "execution_count": 10,
   "metadata": {},
   "outputs": [],
   "source": [
    "with open(prefix_data_inter + 'metadata.pkl', 'wb') as f:\n",
    "    pickle.dump(metada_dict, f)\n",
    "        \n",
    "# with open('saved_dictionary.pkl', 'rb') as f:\n",
    "#     loaded_dict = pickle.load(f)"
   ]
  },
  {
   "cell_type": "code",
   "execution_count": null,
   "metadata": {},
   "outputs": [],
   "source": []
  },
  {
   "cell_type": "code",
   "execution_count": null,
   "metadata": {},
   "outputs": [],
   "source": []
  },
  {
   "cell_type": "code",
   "execution_count": null,
   "metadata": {},
   "outputs": [],
   "source": []
  },
  {
   "cell_type": "code",
   "execution_count": null,
   "metadata": {},
   "outputs": [],
   "source": []
  },
  {
   "cell_type": "code",
   "execution_count": null,
   "metadata": {},
   "outputs": [],
   "source": []
  },
  {
   "cell_type": "code",
   "execution_count": null,
   "metadata": {},
   "outputs": [],
   "source": []
  },
  {
   "cell_type": "code",
   "execution_count": null,
   "metadata": {},
   "outputs": [],
   "source": []
  }
 ],
 "metadata": {
  "kernelspec": {
   "display_name": "Python 3",
   "language": "python",
   "name": "python3"
  },
  "language_info": {
   "codemirror_mode": {
    "name": "ipython",
    "version": 3
   },
   "file_extension": ".py",
   "mimetype": "text/x-python",
   "name": "python",
   "nbconvert_exporter": "python",
   "pygments_lexer": "ipython3",
   "version": "3.7.6"
  }
 },
 "nbformat": 4,
 "nbformat_minor": 4
}
