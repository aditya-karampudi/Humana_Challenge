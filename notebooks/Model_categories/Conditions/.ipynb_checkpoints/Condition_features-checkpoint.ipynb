{
 "cells": [
  {
   "cell_type": "code",
   "execution_count": 1,
   "id": "80aa60dc",
   "metadata": {},
   "outputs": [],
   "source": [
    "# !pip install awswrangler"
   ]
  },
  {
   "cell_type": "code",
   "execution_count": 2,
   "id": "f305c682",
   "metadata": {},
   "outputs": [],
   "source": [
    "# !pip install numpy"
   ]
  },
  {
   "cell_type": "code",
   "execution_count": 1,
   "id": "3d5e76f8",
   "metadata": {},
   "outputs": [],
   "source": [
    "import sys\n",
    "sys.path.append('../support_files/')\n",
    "\n",
    "import constants as params"
   ]
  },
  {
   "cell_type": "code",
   "execution_count": 2,
   "id": "c5b0c3ba",
   "metadata": {},
   "outputs": [],
   "source": [
    "import pandas as pd\n",
    "\n",
    "import boto3\n",
    "import numpy as np\n",
    "import io\n",
    "import awswrangler as wr\n",
    "import sagemaker\n",
    "from sagemaker import get_execution_role\n",
    "from sagemaker.session import s3_input, Session\n",
    "import pickle\n",
    "from sagemaker.amazon.amazon_estimator import get_image_uri\n",
    "\n",
    "from sklearn.preprocessing import OneHotEncoder\n",
    "# Save the encoded categorical model\n",
    "import tempfile\n",
    "import boto3\n",
    "import joblib\n",
    "\n",
    "import s3fs\n",
    "from sagemaker.predictor import csv_serializer\n",
    "import tempfile\n",
    "import joblib\n",
    "from sagemaker.predictor import csv_serializer\n",
    "import constants as params\n",
    "\n",
    "import warnings\n",
    "warnings.filterwarnings('ignore')"
   ]
  },
  {
   "cell_type": "code",
   "execution_count": 3,
   "id": "93d89694",
   "metadata": {},
   "outputs": [],
   "source": [
    "# !pip install numpy"
   ]
  },
  {
   "cell_type": "code",
   "execution_count": 4,
   "id": "c9a41ec8",
   "metadata": {},
   "outputs": [],
   "source": [
    "def create_columns_types(df_cols, y_name):\n",
    "    \n",
    "    ind_cols = list(df_cols[df_cols.str.contains('_ind')])\n",
    "    pmpm_cols =  list(df_cols[df_cols.str.contains('_pmpm_')])\n",
    "    score_cols = list(df_cols[df_cols.str.contains('_score')])\n",
    "\n",
    "    categorical_cols = ind_cols + [y_name]\n",
    "    numerical_cols = pmpm_cols + score_cols\n",
    "    ordinal_cols = []\n",
    "    return (categorical_cols, numerical_cols, ordinal_cols)"
   ]
  },
  {
   "cell_type": "code",
   "execution_count": 5,
   "id": "8d2d9d4a",
   "metadata": {},
   "outputs": [],
   "source": [
    "def data_type_conversion(df, categorical_cols, numerical_cols):\n",
    "    for col in numerical_cols:\n",
    "        df[col] = df[col].apply(pd.to_numeric)\n",
    "    df[categorical_cols] = df[categorical_cols].astype(\"category\")\n",
    "    return df"
   ]
  },
  {
   "cell_type": "markdown",
   "id": "5065620e",
   "metadata": {},
   "source": [
    "#### Creating summation features"
   ]
  },
  {
   "cell_type": "code",
   "execution_count": 6,
   "id": "65264b41",
   "metadata": {},
   "outputs": [],
   "source": [
    "def sum_feature_generation(df, categories, categorical_cols, numerical_cols):\n",
    "    for category in categories:\n",
    "        new_ind_name = category + \"_ind_sum\"\n",
    "        subset_cols_criteria = \"_\" + category + \"_\"\n",
    "        subset_cols = [x for x in df.columns if subset_cols_criteria in x and '_ind' in x]\n",
    "        df[new_ind_name] = df[subset_cols].apply(pd.to_numeric, errors='coerce').sum(axis=1)\n",
    "        df[subset_cols] = df[subset_cols].astype(\"category\")\n",
    "        df[new_ind_name] = df[new_ind_name].astype(\"category\")\n",
    "        numerical_cols.append(new_ind_name)\n",
    "        \n",
    "\n",
    "        new_pmpm_name = category + \"_pmpm_sum\"\n",
    "        subset_cols_criteria = \"_\" + category + \"_\"\n",
    "        subset_cols = [x for x in df.columns if subset_cols_criteria in x and '_pmpm' in x]\n",
    "\n",
    "        df[new_pmpm_name] = df[subset_cols].apply(pd.to_numeric, errors='coerce').sum(axis=1)\n",
    "        numerical_cols.append(new_pmpm_name)\n",
    "#         df = add_columns(df=df, col_name=new_ind_name, columns= subset_cols)\n",
    "    return (df, categorical_cols, numerical_cols)"
   ]
  },
  {
   "cell_type": "markdown",
   "id": "123cd67e",
   "metadata": {},
   "source": [
    "#### creating a final column to have the count of number of services used by each person using ind values\n"
   ]
  },
  {
   "cell_type": "code",
   "execution_count": 7,
   "id": "107b936c",
   "metadata": {},
   "outputs": [],
   "source": [
    "def total_sum_features(df, numerical_cols, categorical_cols):\n",
    "    df['total_ind'] = df[df.columns[df.columns.str.contains('_ind_sum')]].sum(axis=1)\n",
    "    df['total_ind'] = df['total_ind'].apply(pd.to_numeric, errors = 'coerce')\n",
    "    numerical_cols.append('total_ind')\n",
    "    \n",
    "    df['total_pmpm'] = df[df.columns[df.columns.str.contains('_pmpm_sum')]].sum(axis=1)\n",
    "    df['total_pmpm'] = df['total_pmpm'].apply(pd.to_numeric, errors = 'coerce')\n",
    "    numerical_cols.append('total_pmpm')\n",
    "\n",
    "    df['service_bool'] = np.where(df['total_ind'] == 0, 0, 1)\n",
    "    df['service_bool'] = df['service_bool'].astype(\"category\")\n",
    "    categorical_cols.append('service_bool')\n",
    "    return df, numerical_cols, categorical_cols"
   ]
  },
  {
   "cell_type": "code",
   "execution_count": 8,
   "id": "0c28e336",
   "metadata": {},
   "outputs": [],
   "source": [
    "# # To create a new bucket\n",
    "# bucket_name = 'bucket-name55422' # new bucket_name\n",
    "# my_region = boto3.session.Session().region_name\n",
    "\n",
    "# s3 = boto3.resource('s3')\n",
    "# try:\n",
    "#     if my_region == \"us-east-1\":\n",
    "#         s3.create_bucket(Bucket = bucket_name)\n",
    "#         print('S3 bucket created successfully')\n",
    "# except Exception as e:\n",
    "#     print('S3 error')"
   ]
  },
  {
   "cell_type": "code",
   "execution_count": 82,
   "id": "dd8a27bf",
   "metadata": {},
   "outputs": [],
   "source": [
    "sess = sagemaker.Session()\n",
    "role = get_execution_role()\n",
    "\n",
    "bucket = \"humana-data\"\n",
    "prefix_rawdata = 'rawdata/original_pq_files'\n",
    "prefix_fe_data = \"intermediate/data\"\n",
    "prefix_metadata = \"intermediate/metadata\"\n",
    "prefix_model = \"intermediate/condition/models\"\n",
    "\n",
    "\n",
    "conn = boto3.client('s3')\n",
    "# contents = conn.list_objects(Bucket=bucket, Prefix=prefix)['Contents']"
   ]
  },
  {
   "cell_type": "code",
   "execution_count": 10,
   "id": "c416f92c",
   "metadata": {},
   "outputs": [],
   "source": [
    "condition_file = \"Condition.pq\"\n",
    "dependent_file = \"dependent.pq\"\n",
    "\n",
    "condition_df = wr.s3.read_parquet(path = f's3://{bucket}/{prefix_rawdata}/{condition_file}')\n",
    "condition_df = condition_df.set_index(['person_id_syn'])\n",
    "condition_df.columns = condition_df.columns.str.lower()\n",
    "\n",
    "dependent_df = wr.s3.read_parquet(path = f's3://{bucket}/{prefix_rawdata}/{dependent_file}')\n",
    "dependent_df = dependent_df.set_index(['person_id_syn'])\n",
    "dependent_df['transportation_issues'] = dependent_df['transportation_issues'].astype(\"category\")\n",
    "dependent_df.columns = dependent_df.columns.str.lower()\n",
    "\n",
    "df_subset = dependent_df.merge(condition_df, how='left', left_index=True, right_index=True)\n",
    "\n",
    "categorical_cols, numerical_cols, ordinal_cols = create_columns_types(df_cols = df_subset.columns,\n",
    "                                                                      y_name = params.dependent_variable)\n",
    "\n",
    "df_subset[categorical_cols] = np.where(df_subset[categorical_cols] != 0, 1,0)\n",
    "\n",
    "df_subset, categorical_cols, numerical_cols = sum_feature_generation(df_subset, params.condition_categories, \n",
    "                                              categorical_cols =categorical_cols,\n",
    "                                             numerical_cols = numerical_cols)\n",
    "\n",
    "df_subset, numerical_cols, categorical_cols = total_sum_features(df = df_subset, \n",
    "                                                                 numerical_cols=numerical_cols, \n",
    "                                                                 categorical_cols=categorical_cols)\n",
    "\n",
    "\n",
    "df_subset = data_type_conversion(df=df_subset, \n",
    "                                 categorical_cols=categorical_cols, \n",
    "                                 numerical_cols=numerical_cols)"
   ]
  },
  {
   "cell_type": "code",
   "execution_count": 11,
   "id": "408f1155",
   "metadata": {},
   "outputs": [],
   "source": [
    "train_df = df_subset.sample(frac=0.7, random_state=543)\n",
    "valid_df = df_subset[~(df_subset.index.isin(train_df.index))]"
   ]
  },
  {
   "cell_type": "code",
   "execution_count": 32,
   "id": "851a327a",
   "metadata": {},
   "outputs": [
    {
     "data": {
      "text/plain": [
       "{'paths': ['s3://humana-data/intermediate/condition/data/valid_fe.pq'],\n",
       " 'partitions_values': {}}"
      ]
     },
     "execution_count": 32,
     "metadata": {},
     "output_type": "execute_result"
    }
   ],
   "source": [
    "# filename_train ='train_fe.pq'\n",
    "# filename_valid ='valid_fe.pq'\n",
    "\n",
    "# wr.s3.to_parquet(train_df, path = f's3://{bucket}/{prefix_data}/{filename_train}', compression='gzip', index=True)\n",
    "# wr.s3.to_parquet(valid_df, path = f's3://{bucket}/{prefix_data}/{filename_valid}', compression='gzip', index=True)"
   ]
  },
  {
   "cell_type": "markdown",
   "id": "5af2370a",
   "metadata": {},
   "source": [
    "#### Local training"
   ]
  },
  {
   "cell_type": "code",
   "execution_count": 33,
   "id": "40b98186",
   "metadata": {},
   "outputs": [],
   "source": [
    "# filename_train ='train_fe.pq'\n",
    "# filename_valid ='valid_fe.pq'\n",
    "\n",
    "# train_df = wr.s3.read_parquet(path = f's3://{bucket}/{prefix_data}/{filename_train}')\n",
    "# valid_df = wr.s3.read_parquet(path = f's3://{bucket}/{prefix_data}/{filename_valid}')"
   ]
  },
  {
   "cell_type": "code",
   "execution_count": 34,
   "id": "6f20f8f5",
   "metadata": {},
   "outputs": [],
   "source": [
    "# prefix_model = \"intermediate/condition/models\"\n",
    "# filename_encoder ='enc.pkl'\n",
    "# path = prefix_model + '/' + filename_encoder\n",
    "\n",
    "# # READ\n",
    "# with tempfile.TemporaryFile() as fp:\n",
    "#     conn.download_fileobj(Fileobj=fp, Bucket=bucket, Key=path)\n",
    "#     fp.seek(0)\n",
    "#     enc = joblib.load(fp)"
   ]
  },
  {
   "cell_type": "code",
   "execution_count": 79,
   "id": "1cd25373",
   "metadata": {},
   "outputs": [],
   "source": [
    "# # # to read the file\n",
    "# prefix_metadata = \"intermediate/metadata\"\n",
    "# filename_metadata = prefix_metadata + '/' + 'metadata'\n",
    "\n",
    "# metadata_obj = conn.get_object(Bucket=bucket, Key=filename_metadata)\n",
    "# serializedObject = metadata_obj['Body'].read()\n",
    "# metadata_dict = pickle.loads(serializedObject)\n",
    "\n",
    "# categorical_cols = metadata_dict['categorical_cols']\n",
    "# numerical_cols = metadata_dict['numerical_cols']"
   ]
  },
  {
   "cell_type": "code",
   "execution_count": null,
   "id": "42f8a9d5",
   "metadata": {},
   "outputs": [],
   "source": [
    "# one hot encoding\n",
    "enc = OneHotEncoder(sparse=False, handle_unknown=\"ignore\" )\n",
    "one_hot_encode_cols = [x for x in categorical_cols if x != params.dependent_variable]\n",
    "train_df_encoded = pd.DataFrame(enc.fit_transform(train_df[one_hot_encode_cols]), index=train_df.index)\n",
    "train_df_encoded.columns = enc.get_feature_names_out()\n",
    "\n",
    "train_model_df = pd.concat([train_df.drop(one_hot_encode_cols, axis=1), train_df_encoded], axis=1, ignore_index=False)"
   ]
  },
  {
   "cell_type": "code",
   "execution_count": 36,
   "id": "d4edb210",
   "metadata": {},
   "outputs": [],
   "source": [
    "valid_df_encoded = pd.DataFrame(enc.transform(np.asarray(valid_df[one_hot_encode_cols], dtype=object)),\n",
    "                                index=valid_df.index)\n",
    "valid_df_encoded.columns = enc.get_feature_names_out()\n",
    "valid_model_df = pd.concat([valid_df.drop(one_hot_encode_cols, axis=1), valid_df_encoded], axis=1, ignore_index=False)"
   ]
  },
  {
   "cell_type": "code",
   "execution_count": 37,
   "id": "664d1068",
   "metadata": {},
   "outputs": [],
   "source": [
    "X_train = train_model_df.sample(10000).drop(columns= ['transportation_issues'])\n",
    "y_train = train_model_df[train_model_df.index.isin(X_train.index)]['transportation_issues'].astype(int)\n",
    "\n",
    "X_valid = valid_model_df.drop(columns= ['transportation_issues'])\n",
    "y_valid = valid_model_df[valid_model_df.index.isin(X_valid.index)]['transportation_issues'].astype(int)"
   ]
  },
  {
   "cell_type": "code",
   "execution_count": 38,
   "id": "8c31ca5b",
   "metadata": {},
   "outputs": [
    {
     "name": "stdout",
     "output_type": "stream",
     "text": [
      "Accuracy:  0.8525297048677655\n",
      "Accuracy:  0.8528\n"
     ]
    }
   ],
   "source": [
    "from sklearn.linear_model import LogisticRegression\n",
    "from sklearn import metrics\n",
    "\n",
    "logistic_regression= LogisticRegression()\n",
    "logistic_regression.fit(X_train,y_train)\n",
    "y_pred_valid=logistic_regression.predict(X_valid)\n",
    "y_pred_train=logistic_regression.predict(X_train)\n",
    "\n",
    "print('Accuracy: ',metrics.accuracy_score(y_valid, y_pred_valid))\n",
    "print('Accuracy: ',metrics.accuracy_score(y_train, y_pred_train))"
   ]
  },
  {
   "cell_type": "code",
   "execution_count": 42,
   "id": "152ae0e8",
   "metadata": {},
   "outputs": [],
   "source": [
    "# !pip install xgboost"
   ]
  },
  {
   "cell_type": "code",
   "execution_count": 43,
   "id": "f549eec3",
   "metadata": {},
   "outputs": [
    {
     "ename": "KeyboardInterrupt",
     "evalue": "",
     "output_type": "error",
     "traceback": [
      "\u001b[0;31m---------------------------------------------------------------------------\u001b[0m",
      "\u001b[0;31mKeyboardInterrupt\u001b[0m                         Traceback (most recent call last)",
      "\u001b[0;32m/tmp/ipykernel_18798/3869893550.py\u001b[0m in \u001b[0;36m<cell line: 15>\u001b[0;34m()\u001b[0m\n\u001b[1;32m     13\u001b[0m \u001b[0mcv\u001b[0m \u001b[0;34m=\u001b[0m \u001b[0mGridSearchCV\u001b[0m\u001b[0;34m(\u001b[0m\u001b[0mbst\u001b[0m\u001b[0;34m,\u001b[0m \u001b[0mparams\u001b[0m\u001b[0;34m)\u001b[0m\u001b[0;34m\u001b[0m\u001b[0;34m\u001b[0m\u001b[0m\n\u001b[1;32m     14\u001b[0m \u001b[0;31m# Fit model on the training data, track logloss on training and validing set\u001b[0m\u001b[0;34m\u001b[0m\u001b[0;34m\u001b[0m\u001b[0;34m\u001b[0m\u001b[0m\n\u001b[0;32m---> 15\u001b[0;31m \u001b[0mcv\u001b[0m\u001b[0;34m.\u001b[0m\u001b[0mfit\u001b[0m\u001b[0;34m(\u001b[0m\u001b[0mX_train\u001b[0m\u001b[0;34m,\u001b[0m \u001b[0my_train\u001b[0m\u001b[0;34m,\u001b[0m\u001b[0meval_metric\u001b[0m\u001b[0;34m=\u001b[0m\u001b[0;34m'logloss'\u001b[0m\u001b[0;34m,\u001b[0m\u001b[0meval_set\u001b[0m\u001b[0;34m=\u001b[0m\u001b[0;34m[\u001b[0m\u001b[0;34m(\u001b[0m\u001b[0mX_train\u001b[0m\u001b[0;34m,\u001b[0m\u001b[0my_train\u001b[0m\u001b[0;34m)\u001b[0m\u001b[0;34m,\u001b[0m\u001b[0;34m(\u001b[0m\u001b[0mX_valid\u001b[0m\u001b[0;34m,\u001b[0m\u001b[0my_valid\u001b[0m\u001b[0;34m)\u001b[0m\u001b[0;34m]\u001b[0m\u001b[0;34m,\u001b[0m\u001b[0mverbose\u001b[0m\u001b[0;34m=\u001b[0m\u001b[0;32mFalse\u001b[0m\u001b[0;34m)\u001b[0m\u001b[0;34m\u001b[0m\u001b[0;34m\u001b[0m\u001b[0m\n\u001b[0m\u001b[1;32m     16\u001b[0m \u001b[0;34m\u001b[0m\u001b[0m\n",
      "\u001b[0;32m~/anaconda3/envs/python3/lib/python3.8/site-packages/sklearn/model_selection/_search.py\u001b[0m in \u001b[0;36mfit\u001b[0;34m(self, X, y, groups, **fit_params)\u001b[0m\n\u001b[1;32m    889\u001b[0m                 \u001b[0;32mreturn\u001b[0m \u001b[0mresults\u001b[0m\u001b[0;34m\u001b[0m\u001b[0;34m\u001b[0m\u001b[0m\n\u001b[1;32m    890\u001b[0m \u001b[0;34m\u001b[0m\u001b[0m\n\u001b[0;32m--> 891\u001b[0;31m             \u001b[0mself\u001b[0m\u001b[0;34m.\u001b[0m\u001b[0m_run_search\u001b[0m\u001b[0;34m(\u001b[0m\u001b[0mevaluate_candidates\u001b[0m\u001b[0;34m)\u001b[0m\u001b[0;34m\u001b[0m\u001b[0;34m\u001b[0m\u001b[0m\n\u001b[0m\u001b[1;32m    892\u001b[0m \u001b[0;34m\u001b[0m\u001b[0m\n\u001b[1;32m    893\u001b[0m             \u001b[0;31m# multimetric is determined here because in the case of a callable\u001b[0m\u001b[0;34m\u001b[0m\u001b[0;34m\u001b[0m\u001b[0;34m\u001b[0m\u001b[0m\n",
      "\u001b[0;32m~/anaconda3/envs/python3/lib/python3.8/site-packages/sklearn/model_selection/_search.py\u001b[0m in \u001b[0;36m_run_search\u001b[0;34m(self, evaluate_candidates)\u001b[0m\n\u001b[1;32m   1390\u001b[0m     \u001b[0;32mdef\u001b[0m \u001b[0m_run_search\u001b[0m\u001b[0;34m(\u001b[0m\u001b[0mself\u001b[0m\u001b[0;34m,\u001b[0m \u001b[0mevaluate_candidates\u001b[0m\u001b[0;34m)\u001b[0m\u001b[0;34m:\u001b[0m\u001b[0;34m\u001b[0m\u001b[0;34m\u001b[0m\u001b[0m\n\u001b[1;32m   1391\u001b[0m         \u001b[0;34m\"\"\"Search all candidates in param_grid\"\"\"\u001b[0m\u001b[0;34m\u001b[0m\u001b[0;34m\u001b[0m\u001b[0m\n\u001b[0;32m-> 1392\u001b[0;31m         \u001b[0mevaluate_candidates\u001b[0m\u001b[0;34m(\u001b[0m\u001b[0mParameterGrid\u001b[0m\u001b[0;34m(\u001b[0m\u001b[0mself\u001b[0m\u001b[0;34m.\u001b[0m\u001b[0mparam_grid\u001b[0m\u001b[0;34m)\u001b[0m\u001b[0;34m)\u001b[0m\u001b[0;34m\u001b[0m\u001b[0;34m\u001b[0m\u001b[0m\n\u001b[0m\u001b[1;32m   1393\u001b[0m \u001b[0;34m\u001b[0m\u001b[0m\n\u001b[1;32m   1394\u001b[0m \u001b[0;34m\u001b[0m\u001b[0m\n",
      "\u001b[0;32m~/anaconda3/envs/python3/lib/python3.8/site-packages/sklearn/model_selection/_search.py\u001b[0m in \u001b[0;36mevaluate_candidates\u001b[0;34m(candidate_params, cv, more_results)\u001b[0m\n\u001b[1;32m    836\u001b[0m                     )\n\u001b[1;32m    837\u001b[0m \u001b[0;34m\u001b[0m\u001b[0m\n\u001b[0;32m--> 838\u001b[0;31m                 out = parallel(\n\u001b[0m\u001b[1;32m    839\u001b[0m                     delayed(_fit_and_score)(\n\u001b[1;32m    840\u001b[0m                         \u001b[0mclone\u001b[0m\u001b[0;34m(\u001b[0m\u001b[0mbase_estimator\u001b[0m\u001b[0;34m)\u001b[0m\u001b[0;34m,\u001b[0m\u001b[0;34m\u001b[0m\u001b[0;34m\u001b[0m\u001b[0m\n",
      "\u001b[0;32m~/anaconda3/envs/python3/lib/python3.8/site-packages/joblib/parallel.py\u001b[0m in \u001b[0;36m__call__\u001b[0;34m(self, iterable)\u001b[0m\n\u001b[1;32m   1044\u001b[0m                 \u001b[0mself\u001b[0m\u001b[0;34m.\u001b[0m\u001b[0m_iterating\u001b[0m \u001b[0;34m=\u001b[0m \u001b[0mself\u001b[0m\u001b[0;34m.\u001b[0m\u001b[0m_original_iterator\u001b[0m \u001b[0;32mis\u001b[0m \u001b[0;32mnot\u001b[0m \u001b[0;32mNone\u001b[0m\u001b[0;34m\u001b[0m\u001b[0;34m\u001b[0m\u001b[0m\n\u001b[1;32m   1045\u001b[0m \u001b[0;34m\u001b[0m\u001b[0m\n\u001b[0;32m-> 1046\u001b[0;31m             \u001b[0;32mwhile\u001b[0m \u001b[0mself\u001b[0m\u001b[0;34m.\u001b[0m\u001b[0mdispatch_one_batch\u001b[0m\u001b[0;34m(\u001b[0m\u001b[0miterator\u001b[0m\u001b[0;34m)\u001b[0m\u001b[0;34m:\u001b[0m\u001b[0;34m\u001b[0m\u001b[0;34m\u001b[0m\u001b[0m\n\u001b[0m\u001b[1;32m   1047\u001b[0m                 \u001b[0;32mpass\u001b[0m\u001b[0;34m\u001b[0m\u001b[0;34m\u001b[0m\u001b[0m\n\u001b[1;32m   1048\u001b[0m \u001b[0;34m\u001b[0m\u001b[0m\n",
      "\u001b[0;32m~/anaconda3/envs/python3/lib/python3.8/site-packages/joblib/parallel.py\u001b[0m in \u001b[0;36mdispatch_one_batch\u001b[0;34m(self, iterator)\u001b[0m\n\u001b[1;32m    859\u001b[0m                 \u001b[0;32mreturn\u001b[0m \u001b[0;32mFalse\u001b[0m\u001b[0;34m\u001b[0m\u001b[0;34m\u001b[0m\u001b[0m\n\u001b[1;32m    860\u001b[0m             \u001b[0;32melse\u001b[0m\u001b[0;34m:\u001b[0m\u001b[0;34m\u001b[0m\u001b[0;34m\u001b[0m\u001b[0m\n\u001b[0;32m--> 861\u001b[0;31m                 \u001b[0mself\u001b[0m\u001b[0;34m.\u001b[0m\u001b[0m_dispatch\u001b[0m\u001b[0;34m(\u001b[0m\u001b[0mtasks\u001b[0m\u001b[0;34m)\u001b[0m\u001b[0;34m\u001b[0m\u001b[0;34m\u001b[0m\u001b[0m\n\u001b[0m\u001b[1;32m    862\u001b[0m                 \u001b[0;32mreturn\u001b[0m \u001b[0;32mTrue\u001b[0m\u001b[0;34m\u001b[0m\u001b[0;34m\u001b[0m\u001b[0m\n\u001b[1;32m    863\u001b[0m \u001b[0;34m\u001b[0m\u001b[0m\n",
      "\u001b[0;32m~/anaconda3/envs/python3/lib/python3.8/site-packages/joblib/parallel.py\u001b[0m in \u001b[0;36m_dispatch\u001b[0;34m(self, batch)\u001b[0m\n\u001b[1;32m    777\u001b[0m         \u001b[0;32mwith\u001b[0m \u001b[0mself\u001b[0m\u001b[0;34m.\u001b[0m\u001b[0m_lock\u001b[0m\u001b[0;34m:\u001b[0m\u001b[0;34m\u001b[0m\u001b[0;34m\u001b[0m\u001b[0m\n\u001b[1;32m    778\u001b[0m             \u001b[0mjob_idx\u001b[0m \u001b[0;34m=\u001b[0m \u001b[0mlen\u001b[0m\u001b[0;34m(\u001b[0m\u001b[0mself\u001b[0m\u001b[0;34m.\u001b[0m\u001b[0m_jobs\u001b[0m\u001b[0;34m)\u001b[0m\u001b[0;34m\u001b[0m\u001b[0;34m\u001b[0m\u001b[0m\n\u001b[0;32m--> 779\u001b[0;31m             \u001b[0mjob\u001b[0m \u001b[0;34m=\u001b[0m \u001b[0mself\u001b[0m\u001b[0;34m.\u001b[0m\u001b[0m_backend\u001b[0m\u001b[0;34m.\u001b[0m\u001b[0mapply_async\u001b[0m\u001b[0;34m(\u001b[0m\u001b[0mbatch\u001b[0m\u001b[0;34m,\u001b[0m \u001b[0mcallback\u001b[0m\u001b[0;34m=\u001b[0m\u001b[0mcb\u001b[0m\u001b[0;34m)\u001b[0m\u001b[0;34m\u001b[0m\u001b[0;34m\u001b[0m\u001b[0m\n\u001b[0m\u001b[1;32m    780\u001b[0m             \u001b[0;31m# A job can complete so quickly than its callback is\u001b[0m\u001b[0;34m\u001b[0m\u001b[0;34m\u001b[0m\u001b[0;34m\u001b[0m\u001b[0m\n\u001b[1;32m    781\u001b[0m             \u001b[0;31m# called before we get here, causing self._jobs to\u001b[0m\u001b[0;34m\u001b[0m\u001b[0;34m\u001b[0m\u001b[0;34m\u001b[0m\u001b[0m\n",
      "\u001b[0;32m~/anaconda3/envs/python3/lib/python3.8/site-packages/joblib/_parallel_backends.py\u001b[0m in \u001b[0;36mapply_async\u001b[0;34m(self, func, callback)\u001b[0m\n\u001b[1;32m    206\u001b[0m     \u001b[0;32mdef\u001b[0m \u001b[0mapply_async\u001b[0m\u001b[0;34m(\u001b[0m\u001b[0mself\u001b[0m\u001b[0;34m,\u001b[0m \u001b[0mfunc\u001b[0m\u001b[0;34m,\u001b[0m \u001b[0mcallback\u001b[0m\u001b[0;34m=\u001b[0m\u001b[0;32mNone\u001b[0m\u001b[0;34m)\u001b[0m\u001b[0;34m:\u001b[0m\u001b[0;34m\u001b[0m\u001b[0;34m\u001b[0m\u001b[0m\n\u001b[1;32m    207\u001b[0m         \u001b[0;34m\"\"\"Schedule a func to be run\"\"\"\u001b[0m\u001b[0;34m\u001b[0m\u001b[0;34m\u001b[0m\u001b[0m\n\u001b[0;32m--> 208\u001b[0;31m         \u001b[0mresult\u001b[0m \u001b[0;34m=\u001b[0m \u001b[0mImmediateResult\u001b[0m\u001b[0;34m(\u001b[0m\u001b[0mfunc\u001b[0m\u001b[0;34m)\u001b[0m\u001b[0;34m\u001b[0m\u001b[0;34m\u001b[0m\u001b[0m\n\u001b[0m\u001b[1;32m    209\u001b[0m         \u001b[0;32mif\u001b[0m \u001b[0mcallback\u001b[0m\u001b[0;34m:\u001b[0m\u001b[0;34m\u001b[0m\u001b[0;34m\u001b[0m\u001b[0m\n\u001b[1;32m    210\u001b[0m             \u001b[0mcallback\u001b[0m\u001b[0;34m(\u001b[0m\u001b[0mresult\u001b[0m\u001b[0;34m)\u001b[0m\u001b[0;34m\u001b[0m\u001b[0;34m\u001b[0m\u001b[0m\n",
      "\u001b[0;32m~/anaconda3/envs/python3/lib/python3.8/site-packages/joblib/_parallel_backends.py\u001b[0m in \u001b[0;36m__init__\u001b[0;34m(self, batch)\u001b[0m\n\u001b[1;32m    570\u001b[0m         \u001b[0;31m# Don't delay the application, to avoid keeping the input\u001b[0m\u001b[0;34m\u001b[0m\u001b[0;34m\u001b[0m\u001b[0;34m\u001b[0m\u001b[0m\n\u001b[1;32m    571\u001b[0m         \u001b[0;31m# arguments in memory\u001b[0m\u001b[0;34m\u001b[0m\u001b[0;34m\u001b[0m\u001b[0;34m\u001b[0m\u001b[0m\n\u001b[0;32m--> 572\u001b[0;31m         \u001b[0mself\u001b[0m\u001b[0;34m.\u001b[0m\u001b[0mresults\u001b[0m \u001b[0;34m=\u001b[0m \u001b[0mbatch\u001b[0m\u001b[0;34m(\u001b[0m\u001b[0;34m)\u001b[0m\u001b[0;34m\u001b[0m\u001b[0;34m\u001b[0m\u001b[0m\n\u001b[0m\u001b[1;32m    573\u001b[0m \u001b[0;34m\u001b[0m\u001b[0m\n\u001b[1;32m    574\u001b[0m     \u001b[0;32mdef\u001b[0m \u001b[0mget\u001b[0m\u001b[0;34m(\u001b[0m\u001b[0mself\u001b[0m\u001b[0;34m)\u001b[0m\u001b[0;34m:\u001b[0m\u001b[0;34m\u001b[0m\u001b[0;34m\u001b[0m\u001b[0m\n",
      "\u001b[0;32m~/anaconda3/envs/python3/lib/python3.8/site-packages/joblib/parallel.py\u001b[0m in \u001b[0;36m__call__\u001b[0;34m(self)\u001b[0m\n\u001b[1;32m    260\u001b[0m         \u001b[0;31m# change the default number of processes to -1\u001b[0m\u001b[0;34m\u001b[0m\u001b[0;34m\u001b[0m\u001b[0;34m\u001b[0m\u001b[0m\n\u001b[1;32m    261\u001b[0m         \u001b[0;32mwith\u001b[0m \u001b[0mparallel_backend\u001b[0m\u001b[0;34m(\u001b[0m\u001b[0mself\u001b[0m\u001b[0;34m.\u001b[0m\u001b[0m_backend\u001b[0m\u001b[0;34m,\u001b[0m \u001b[0mn_jobs\u001b[0m\u001b[0;34m=\u001b[0m\u001b[0mself\u001b[0m\u001b[0;34m.\u001b[0m\u001b[0m_n_jobs\u001b[0m\u001b[0;34m)\u001b[0m\u001b[0;34m:\u001b[0m\u001b[0;34m\u001b[0m\u001b[0;34m\u001b[0m\u001b[0m\n\u001b[0;32m--> 262\u001b[0;31m             return [func(*args, **kwargs)\n\u001b[0m\u001b[1;32m    263\u001b[0m                     for func, args, kwargs in self.items]\n\u001b[1;32m    264\u001b[0m \u001b[0;34m\u001b[0m\u001b[0m\n",
      "\u001b[0;32m~/anaconda3/envs/python3/lib/python3.8/site-packages/joblib/parallel.py\u001b[0m in \u001b[0;36m<listcomp>\u001b[0;34m(.0)\u001b[0m\n\u001b[1;32m    260\u001b[0m         \u001b[0;31m# change the default number of processes to -1\u001b[0m\u001b[0;34m\u001b[0m\u001b[0;34m\u001b[0m\u001b[0;34m\u001b[0m\u001b[0m\n\u001b[1;32m    261\u001b[0m         \u001b[0;32mwith\u001b[0m \u001b[0mparallel_backend\u001b[0m\u001b[0;34m(\u001b[0m\u001b[0mself\u001b[0m\u001b[0;34m.\u001b[0m\u001b[0m_backend\u001b[0m\u001b[0;34m,\u001b[0m \u001b[0mn_jobs\u001b[0m\u001b[0;34m=\u001b[0m\u001b[0mself\u001b[0m\u001b[0;34m.\u001b[0m\u001b[0m_n_jobs\u001b[0m\u001b[0;34m)\u001b[0m\u001b[0;34m:\u001b[0m\u001b[0;34m\u001b[0m\u001b[0;34m\u001b[0m\u001b[0m\n\u001b[0;32m--> 262\u001b[0;31m             return [func(*args, **kwargs)\n\u001b[0m\u001b[1;32m    263\u001b[0m                     for func, args, kwargs in self.items]\n\u001b[1;32m    264\u001b[0m \u001b[0;34m\u001b[0m\u001b[0m\n",
      "\u001b[0;32m~/anaconda3/envs/python3/lib/python3.8/site-packages/sklearn/utils/fixes.py\u001b[0m in \u001b[0;36m__call__\u001b[0;34m(self, *args, **kwargs)\u001b[0m\n\u001b[1;32m    209\u001b[0m     \u001b[0;32mdef\u001b[0m \u001b[0m__call__\u001b[0m\u001b[0;34m(\u001b[0m\u001b[0mself\u001b[0m\u001b[0;34m,\u001b[0m \u001b[0;34m*\u001b[0m\u001b[0margs\u001b[0m\u001b[0;34m,\u001b[0m \u001b[0;34m**\u001b[0m\u001b[0mkwargs\u001b[0m\u001b[0;34m)\u001b[0m\u001b[0;34m:\u001b[0m\u001b[0;34m\u001b[0m\u001b[0;34m\u001b[0m\u001b[0m\n\u001b[1;32m    210\u001b[0m         \u001b[0;32mwith\u001b[0m \u001b[0mconfig_context\u001b[0m\u001b[0;34m(\u001b[0m\u001b[0;34m**\u001b[0m\u001b[0mself\u001b[0m\u001b[0;34m.\u001b[0m\u001b[0mconfig\u001b[0m\u001b[0;34m)\u001b[0m\u001b[0;34m:\u001b[0m\u001b[0;34m\u001b[0m\u001b[0;34m\u001b[0m\u001b[0m\n\u001b[0;32m--> 211\u001b[0;31m             \u001b[0;32mreturn\u001b[0m \u001b[0mself\u001b[0m\u001b[0;34m.\u001b[0m\u001b[0mfunction\u001b[0m\u001b[0;34m(\u001b[0m\u001b[0;34m*\u001b[0m\u001b[0margs\u001b[0m\u001b[0;34m,\u001b[0m \u001b[0;34m**\u001b[0m\u001b[0mkwargs\u001b[0m\u001b[0;34m)\u001b[0m\u001b[0;34m\u001b[0m\u001b[0;34m\u001b[0m\u001b[0m\n\u001b[0m\u001b[1;32m    212\u001b[0m \u001b[0;34m\u001b[0m\u001b[0m\n\u001b[1;32m    213\u001b[0m \u001b[0;34m\u001b[0m\u001b[0m\n",
      "\u001b[0;32m~/anaconda3/envs/python3/lib/python3.8/site-packages/sklearn/model_selection/_validation.py\u001b[0m in \u001b[0;36m_fit_and_score\u001b[0;34m(estimator, X, y, scorer, train, test, verbose, parameters, fit_params, return_train_score, return_parameters, return_n_test_samples, return_times, return_estimator, split_progress, candidate_progress, error_score)\u001b[0m\n\u001b[1;32m    679\u001b[0m             \u001b[0mestimator\u001b[0m\u001b[0;34m.\u001b[0m\u001b[0mfit\u001b[0m\u001b[0;34m(\u001b[0m\u001b[0mX_train\u001b[0m\u001b[0;34m,\u001b[0m \u001b[0;34m**\u001b[0m\u001b[0mfit_params\u001b[0m\u001b[0;34m)\u001b[0m\u001b[0;34m\u001b[0m\u001b[0;34m\u001b[0m\u001b[0m\n\u001b[1;32m    680\u001b[0m         \u001b[0;32melse\u001b[0m\u001b[0;34m:\u001b[0m\u001b[0;34m\u001b[0m\u001b[0;34m\u001b[0m\u001b[0m\n\u001b[0;32m--> 681\u001b[0;31m             \u001b[0mestimator\u001b[0m\u001b[0;34m.\u001b[0m\u001b[0mfit\u001b[0m\u001b[0;34m(\u001b[0m\u001b[0mX_train\u001b[0m\u001b[0;34m,\u001b[0m \u001b[0my_train\u001b[0m\u001b[0;34m,\u001b[0m \u001b[0;34m**\u001b[0m\u001b[0mfit_params\u001b[0m\u001b[0;34m)\u001b[0m\u001b[0;34m\u001b[0m\u001b[0;34m\u001b[0m\u001b[0m\n\u001b[0m\u001b[1;32m    682\u001b[0m \u001b[0;34m\u001b[0m\u001b[0m\n\u001b[1;32m    683\u001b[0m     \u001b[0;32mexcept\u001b[0m \u001b[0mException\u001b[0m\u001b[0;34m:\u001b[0m\u001b[0;34m\u001b[0m\u001b[0;34m\u001b[0m\u001b[0m\n",
      "\u001b[0;32m~/anaconda3/envs/python3/lib/python3.8/site-packages/xgboost/core.py\u001b[0m in \u001b[0;36minner_f\u001b[0;34m(*args, **kwargs)\u001b[0m\n\u001b[1;32m    618\u001b[0m             \u001b[0;32mfor\u001b[0m \u001b[0mk\u001b[0m\u001b[0;34m,\u001b[0m \u001b[0marg\u001b[0m \u001b[0;32min\u001b[0m \u001b[0mzip\u001b[0m\u001b[0;34m(\u001b[0m\u001b[0msig\u001b[0m\u001b[0;34m.\u001b[0m\u001b[0mparameters\u001b[0m\u001b[0;34m,\u001b[0m \u001b[0margs\u001b[0m\u001b[0;34m)\u001b[0m\u001b[0;34m:\u001b[0m\u001b[0;34m\u001b[0m\u001b[0;34m\u001b[0m\u001b[0m\n\u001b[1;32m    619\u001b[0m                 \u001b[0mkwargs\u001b[0m\u001b[0;34m[\u001b[0m\u001b[0mk\u001b[0m\u001b[0;34m]\u001b[0m \u001b[0;34m=\u001b[0m \u001b[0marg\u001b[0m\u001b[0;34m\u001b[0m\u001b[0;34m\u001b[0m\u001b[0m\n\u001b[0;32m--> 620\u001b[0;31m             \u001b[0;32mreturn\u001b[0m \u001b[0mfunc\u001b[0m\u001b[0;34m(\u001b[0m\u001b[0;34m**\u001b[0m\u001b[0mkwargs\u001b[0m\u001b[0;34m)\u001b[0m\u001b[0;34m\u001b[0m\u001b[0;34m\u001b[0m\u001b[0m\n\u001b[0m\u001b[1;32m    621\u001b[0m \u001b[0;34m\u001b[0m\u001b[0m\n\u001b[1;32m    622\u001b[0m         \u001b[0;32mreturn\u001b[0m \u001b[0minner_f\u001b[0m\u001b[0;34m\u001b[0m\u001b[0;34m\u001b[0m\u001b[0m\n",
      "\u001b[0;32m~/anaconda3/envs/python3/lib/python3.8/site-packages/xgboost/sklearn.py\u001b[0m in \u001b[0;36mfit\u001b[0;34m(self, X, y, sample_weight, base_margin, eval_set, eval_metric, early_stopping_rounds, verbose, xgb_model, sample_weight_eval_set, base_margin_eval_set, feature_weights, callbacks)\u001b[0m\n\u001b[1;32m   1514\u001b[0m             )\n\u001b[1;32m   1515\u001b[0m \u001b[0;34m\u001b[0m\u001b[0m\n\u001b[0;32m-> 1516\u001b[0;31m             self._Booster = train(\n\u001b[0m\u001b[1;32m   1517\u001b[0m                 \u001b[0mparams\u001b[0m\u001b[0;34m,\u001b[0m\u001b[0;34m\u001b[0m\u001b[0;34m\u001b[0m\u001b[0m\n\u001b[1;32m   1518\u001b[0m                 \u001b[0mtrain_dmatrix\u001b[0m\u001b[0;34m,\u001b[0m\u001b[0;34m\u001b[0m\u001b[0;34m\u001b[0m\u001b[0m\n",
      "\u001b[0;32m~/anaconda3/envs/python3/lib/python3.8/site-packages/xgboost/core.py\u001b[0m in \u001b[0;36minner_f\u001b[0;34m(*args, **kwargs)\u001b[0m\n\u001b[1;32m    618\u001b[0m             \u001b[0;32mfor\u001b[0m \u001b[0mk\u001b[0m\u001b[0;34m,\u001b[0m \u001b[0marg\u001b[0m \u001b[0;32min\u001b[0m \u001b[0mzip\u001b[0m\u001b[0;34m(\u001b[0m\u001b[0msig\u001b[0m\u001b[0;34m.\u001b[0m\u001b[0mparameters\u001b[0m\u001b[0;34m,\u001b[0m \u001b[0margs\u001b[0m\u001b[0;34m)\u001b[0m\u001b[0;34m:\u001b[0m\u001b[0;34m\u001b[0m\u001b[0;34m\u001b[0m\u001b[0m\n\u001b[1;32m    619\u001b[0m                 \u001b[0mkwargs\u001b[0m\u001b[0;34m[\u001b[0m\u001b[0mk\u001b[0m\u001b[0;34m]\u001b[0m \u001b[0;34m=\u001b[0m \u001b[0marg\u001b[0m\u001b[0;34m\u001b[0m\u001b[0;34m\u001b[0m\u001b[0m\n\u001b[0;32m--> 620\u001b[0;31m             \u001b[0;32mreturn\u001b[0m \u001b[0mfunc\u001b[0m\u001b[0;34m(\u001b[0m\u001b[0;34m**\u001b[0m\u001b[0mkwargs\u001b[0m\u001b[0;34m)\u001b[0m\u001b[0;34m\u001b[0m\u001b[0;34m\u001b[0m\u001b[0m\n\u001b[0m\u001b[1;32m    621\u001b[0m \u001b[0;34m\u001b[0m\u001b[0m\n\u001b[1;32m    622\u001b[0m         \u001b[0;32mreturn\u001b[0m \u001b[0minner_f\u001b[0m\u001b[0;34m\u001b[0m\u001b[0;34m\u001b[0m\u001b[0m\n",
      "\u001b[0;32m~/anaconda3/envs/python3/lib/python3.8/site-packages/xgboost/training.py\u001b[0m in \u001b[0;36mtrain\u001b[0;34m(params, dtrain, num_boost_round, evals, obj, feval, maximize, early_stopping_rounds, evals_result, verbose_eval, xgb_model, callbacks, custom_metric)\u001b[0m\n\u001b[1;32m    184\u001b[0m             \u001b[0;32mbreak\u001b[0m\u001b[0;34m\u001b[0m\u001b[0;34m\u001b[0m\u001b[0m\n\u001b[1;32m    185\u001b[0m         \u001b[0mbst\u001b[0m\u001b[0;34m.\u001b[0m\u001b[0mupdate\u001b[0m\u001b[0;34m(\u001b[0m\u001b[0mdtrain\u001b[0m\u001b[0;34m,\u001b[0m \u001b[0mi\u001b[0m\u001b[0;34m,\u001b[0m \u001b[0mobj\u001b[0m\u001b[0;34m)\u001b[0m\u001b[0;34m\u001b[0m\u001b[0;34m\u001b[0m\u001b[0m\n\u001b[0;32m--> 186\u001b[0;31m         \u001b[0;32mif\u001b[0m \u001b[0mcb_container\u001b[0m\u001b[0;34m.\u001b[0m\u001b[0mafter_iteration\u001b[0m\u001b[0;34m(\u001b[0m\u001b[0mbst\u001b[0m\u001b[0;34m,\u001b[0m \u001b[0mi\u001b[0m\u001b[0;34m,\u001b[0m \u001b[0mdtrain\u001b[0m\u001b[0;34m,\u001b[0m \u001b[0mevals\u001b[0m\u001b[0;34m)\u001b[0m\u001b[0;34m:\u001b[0m\u001b[0;34m\u001b[0m\u001b[0;34m\u001b[0m\u001b[0m\n\u001b[0m\u001b[1;32m    187\u001b[0m             \u001b[0;32mbreak\u001b[0m\u001b[0;34m\u001b[0m\u001b[0;34m\u001b[0m\u001b[0m\n\u001b[1;32m    188\u001b[0m \u001b[0;34m\u001b[0m\u001b[0m\n",
      "\u001b[0;32m~/anaconda3/envs/python3/lib/python3.8/site-packages/xgboost/callback.py\u001b[0m in \u001b[0;36mafter_iteration\u001b[0;34m(self, model, epoch, dtrain, evals)\u001b[0m\n\u001b[1;32m    238\u001b[0m             \u001b[0;32mfor\u001b[0m \u001b[0m_\u001b[0m\u001b[0;34m,\u001b[0m \u001b[0mname\u001b[0m \u001b[0;32min\u001b[0m \u001b[0mevals\u001b[0m\u001b[0;34m:\u001b[0m\u001b[0;34m\u001b[0m\u001b[0;34m\u001b[0m\u001b[0m\n\u001b[1;32m    239\u001b[0m                 \u001b[0;32massert\u001b[0m \u001b[0mname\u001b[0m\u001b[0;34m.\u001b[0m\u001b[0mfind\u001b[0m\u001b[0;34m(\u001b[0m\u001b[0;34m'-'\u001b[0m\u001b[0;34m)\u001b[0m \u001b[0;34m==\u001b[0m \u001b[0;34m-\u001b[0m\u001b[0;36m1\u001b[0m\u001b[0;34m,\u001b[0m \u001b[0;34m'Dataset name should not contain `-`'\u001b[0m\u001b[0;34m\u001b[0m\u001b[0;34m\u001b[0m\u001b[0m\n\u001b[0;32m--> 240\u001b[0;31m             \u001b[0mscore\u001b[0m\u001b[0;34m:\u001b[0m \u001b[0mstr\u001b[0m \u001b[0;34m=\u001b[0m \u001b[0mmodel\u001b[0m\u001b[0;34m.\u001b[0m\u001b[0meval_set\u001b[0m\u001b[0;34m(\u001b[0m\u001b[0mevals\u001b[0m\u001b[0;34m,\u001b[0m \u001b[0mepoch\u001b[0m\u001b[0;34m,\u001b[0m \u001b[0mself\u001b[0m\u001b[0;34m.\u001b[0m\u001b[0mmetric\u001b[0m\u001b[0;34m,\u001b[0m \u001b[0mself\u001b[0m\u001b[0;34m.\u001b[0m\u001b[0m_output_margin\u001b[0m\u001b[0;34m)\u001b[0m\u001b[0;34m\u001b[0m\u001b[0;34m\u001b[0m\u001b[0m\n\u001b[0m\u001b[1;32m    241\u001b[0m             \u001b[0msplited\u001b[0m \u001b[0;34m=\u001b[0m \u001b[0mscore\u001b[0m\u001b[0;34m.\u001b[0m\u001b[0msplit\u001b[0m\u001b[0;34m(\u001b[0m\u001b[0;34m)\u001b[0m\u001b[0;34m[\u001b[0m\u001b[0;36m1\u001b[0m\u001b[0;34m:\u001b[0m\u001b[0;34m]\u001b[0m  \u001b[0;31m# into datasets\u001b[0m\u001b[0;34m\u001b[0m\u001b[0;34m\u001b[0m\u001b[0m\n\u001b[1;32m    242\u001b[0m             \u001b[0;31m# split up `test-error:0.1234`\u001b[0m\u001b[0;34m\u001b[0m\u001b[0;34m\u001b[0m\u001b[0;34m\u001b[0m\u001b[0m\n",
      "\u001b[0;32m~/anaconda3/envs/python3/lib/python3.8/site-packages/xgboost/core.py\u001b[0m in \u001b[0;36meval_set\u001b[0;34m(self, evals, iteration, feval, output_margin)\u001b[0m\n\u001b[1;32m   1987\u001b[0m         \u001b[0mmsg\u001b[0m \u001b[0;34m=\u001b[0m \u001b[0mctypes\u001b[0m\u001b[0;34m.\u001b[0m\u001b[0mc_char_p\u001b[0m\u001b[0;34m(\u001b[0m\u001b[0;34m)\u001b[0m\u001b[0;34m\u001b[0m\u001b[0;34m\u001b[0m\u001b[0m\n\u001b[1;32m   1988\u001b[0m         _check_call(\n\u001b[0;32m-> 1989\u001b[0;31m             _LIB.XGBoosterEvalOneIter(\n\u001b[0m\u001b[1;32m   1990\u001b[0m                 \u001b[0mself\u001b[0m\u001b[0;34m.\u001b[0m\u001b[0mhandle\u001b[0m\u001b[0;34m,\u001b[0m\u001b[0;34m\u001b[0m\u001b[0;34m\u001b[0m\u001b[0m\n\u001b[1;32m   1991\u001b[0m                 \u001b[0mctypes\u001b[0m\u001b[0;34m.\u001b[0m\u001b[0mc_int\u001b[0m\u001b[0;34m(\u001b[0m\u001b[0miteration\u001b[0m\u001b[0;34m)\u001b[0m\u001b[0;34m,\u001b[0m\u001b[0;34m\u001b[0m\u001b[0;34m\u001b[0m\u001b[0m\n",
      "\u001b[0;31mKeyboardInterrupt\u001b[0m: "
     ]
    }
   ],
   "source": [
    "# Hyperparameter tuning grid\n",
    "params = {'min_child_weight': [5],\n",
    "        'gamma': [1.5],\n",
    "        'subsample': [0.8],\n",
    "        'colsample_bytree': [0.8],\n",
    "        'max_depth': [4]}\n",
    "\n",
    "from sklearn.model_selection import GridSearchCV\n",
    "from xgboost.sklearn import XGBClassifier\n",
    "# Initialize XGBoost model, use growth tree algorithm similar to lightgbm\n",
    "bst = XGBClassifier(n_jobs=-1,grow_policy='lossguide',tree_method ='hist',n_estimators=150)\n",
    "# Gridsearch on parameter grid, use AUC to determine the best model\n",
    "cv = GridSearchCV(bst, params)\n",
    "# Fit model on the training data, track logloss on training and validing set\n",
    "cv.fit(X_train, y_train,eval_metric='logloss',eval_set=[(X_train,y_train),(X_valid,y_valid)],verbose=False)\n",
    "\n"
   ]
  },
  {
   "cell_type": "code",
   "execution_count": null,
   "id": "8719b15b",
   "metadata": {},
   "outputs": [],
   "source": [
    "import matplotlib.pyplot as plt\n",
    "import seaborn as sns\n",
    "\n",
    "import cf_matrix\n",
    "from cf_matrix import make_confusion_matrix\n",
    "from sklearn.metrics import confusion_matrix,accuracy_score\n",
    "\n",
    "y_xg_pred_valid = cv.best_estimator_.predict(X_valid)\n",
    "y_xg_pred_train = cv.best_estimator_.predict(X_train)\n",
    "\n",
    "print(metrics.accuracy_score(y_valid, y_xg_pred_valid))\n",
    "print(metrics.accuracy_score(y_train, y_xg_pred_train))\n",
    "\n",
    "\n",
    "cm = confusion_matrix(y_valid, y_xg_pred_valid)\n",
    "plt.figure(figsize=(20,15))\n",
    "sns.set(font_scale=1.4) # for label size\n",
    "make_confusion_matrix(cm, group_names=['no- issue','issue'],categories=['no-issue','issue'], cmap='binary')\n",
    "b, t = plt.ylim() # discover the values for bottom and top\n",
    "b += 0.5 # Add 0.5 to the bottom\n",
    "t -= 0.5 # Subtract 0.5 from the top\n",
    "plt.ylim(b, t) \n",
    "plt.show()\n",
    "\n",
    "import joblib\n",
    "\n",
    "# Print out the best parameters\n",
    "cv.best_params_\n",
    "\n",
    "#save model\n",
    "joblib.dump(cv.best_estimator_, 'xgb.model')\n",
    "\n",
    "\n",
    "#load saved model\n",
    "xgb = joblib.load('xgb.model')\n",
    "\n",
    "\n",
    "import sklearn.metrics as metrics\n",
    "# calculate the fpr and tpr for all thresholds of the classification\n",
    "probs = xgb.predict_proba(X_valid)\n",
    "preds = probs[:,1]\n",
    "# preds = [1]*17119\n",
    "fpr, tpr, threshold = metrics.roc_curve(y_valid, preds)\n",
    "roc_auc = metrics.auc(fpr, tpr)\n",
    "# method I: plt\n",
    "import matplotlib.pyplot as plt\n",
    "plt.title('Receiver Operating Characteristic')\n",
    "plt.plot(fpr, tpr, 'b', label = 'AUC = %0.2f' % roc_auc)\n",
    "plt.legend(loc = 'lower right')\n",
    "plt.plot([0, 1], [0, 1],'r--')\n",
    "plt.xlim([0, 1])\n",
    "plt.ylim([0, 1])\n",
    "plt.ylabel('True Positive Rate')\n",
    "plt.xlabel('False Positive Rate')\n",
    "plt.show()\n",
    "\n",
    "\n",
    "# retrieve performance metrics\n",
    "results = xgb.evals_result()\n",
    "epochs = len(results['validation_0']['logloss'])\n",
    "x_axis = range(0, epochs)\n",
    "# plot log loss\n",
    "fig, ax = plt.subplots()\n",
    "ax.plot(x_axis, results['validation_0']['logloss'], label='Train')\n",
    "ax.plot(x_axis, results['validation_1']['logloss'], label='Test')\n",
    "ax.legend()\n",
    "plt.ylabel('Log Loss')\n",
    "plt.title('XGBoost Log Loss');\n",
    "\n",
    "# Feature importance plot\n",
    "feature_importance = pd.DataFrame({'feature':xgb.get_booster().feature_names, 'importance':xgb.feature_importances_}).sort_values('importance',ascending=False).reset_index().drop(columns='index')\n",
    "fig, ax = plt.subplots()\n",
    "fig.set_size_inches(8.27,15)\n",
    "plt.title('Feature Importance Plot')\n",
    "sns.barplot(x='importance',y='feature',ax=ax,data=feature_importance[:50])\n"
   ]
  },
  {
   "cell_type": "code",
   "execution_count": 87,
   "id": "6968c5ef",
   "metadata": {
    "scrolled": true
   },
   "outputs": [],
   "source": [
    "# top_featured_columns = list(feature_importance[feature_importance.importance>0.006].feature)\n",
    "\n",
    "top_features = ['submcc_ner_deg_ind_1',\n",
    " 'cmsd2_sns_general_ind_0',\n",
    " 'submcc_ben_othr_ind_0',\n",
    " 'submcc_dig_ugi_ind_0',\n",
    " 'submcc_cir_hbp_ind_0',\n",
    " 'submcc_ner_migr_pmpm_ct',\n",
    " 'cmsd2_can_unc_neo/plycyth/myelo_ind_0',\n",
    " 'ner_ind_sum',\n",
    " 'submcc_dia_eye_pmpm_ct',\n",
    " 'skn_ind_sum',\n",
    " 'submcc_cir_hbp_ind_1',\n",
    " 'submcc_dig_lgi_ind_0',\n",
    " 'submcc_ner_deg_pmpm_ct',\n",
    " 'submcc_can_skn_pmpm_ct',\n",
    " 'submcc_men_depr_pmpm_ct',\n",
    " 'submcc_inf_sep_pmpm_ct',\n",
    " 'submcc_rsk_chol_ind_0',\n",
    " 'cmsd2_mus_polyarthropath_ind_0',\n",
    " 'submcc_can_othr_pmpm_ct',\n",
    " 'submcc_can_skn_ind_1',\n",
    " 'submcc_end_thy_ind_0',\n",
    " 'submcc_rsk_chol_pmpm_ct',\n",
    " 'rar_pmpm_sum',\n",
    " 'submcc_bld_anem_ind_0',\n",
    " 'inf_ind_sum',\n",
    " 'submcc_end_gld_pmpm_ct',\n",
    " 'sns_pmpm_sum',\n",
    " 'submcc_cad_ang_pmpm_ct',\n",
    " 'submcc_mus_arth_pmpm_ct',\n",
    " 'submcc_cir_othr_pmpm_ct',\n",
    " 'skn_pmpm_sum',\n",
    " 'inf_pmpm_sum',\n",
    " 'submcc_cad_ashd_ind_1']"
   ]
  },
  {
   "cell_type": "code",
   "execution_count": 88,
   "id": "d315a013",
   "metadata": {},
   "outputs": [],
   "source": [
    "cat_top_features = (pd.Series([x for x in top_features if '_ind' in x and '_sum' not in x]).str.split('_ind_').str[0] + \"_ind\").tolist()\n",
    "num_sum_features = (pd.Series([x for x in top_features if '_ind' in x and '_sum' in x]).str.split('_ind_').str[0] + \"_ind_sum\").tolist()\n",
    "num_top_features = [x for x in top_features if '_ind' not in x]"
   ]
  },
  {
   "cell_type": "code",
   "execution_count": 104,
   "id": "93d10ba9",
   "metadata": {
    "scrolled": true
   },
   "outputs": [],
   "source": [
    "credit_fe_df = df_subset[set(cat_top_features + num_sum_features + num_top_features)]\n",
    "\n",
    "file_condition_fe ='condition_fe.parquet.gzip'\n",
    "credit_fe_df.to_parquet(path = f's3://{bucket}/{prefix_fe_data}/{file_condition_fe}', compression='gzip', index=True)\n",
    "\n",
    "# conn.put_object(Bucket=bucket, Key=filename_metadata, Body=pickle.dumps(metadata))\n"
   ]
  },
  {
   "cell_type": "code",
   "execution_count": 118,
   "id": "76522133",
   "metadata": {},
   "outputs": [
    {
     "data": {
      "text/plain": [
       "{'ResponseMetadata': {'RequestId': 'KQDVCADCMVFRY5ZB',\n",
       "  'HostId': 'VQ+HfENGV6+2jMWxVqLvdqfDGC2J9jqGNnZTRVHrybGK5G8DCMHWs/AkJrJWLgh2Hc6fl0tTV4c=',\n",
       "  'HTTPStatusCode': 200,\n",
       "  'HTTPHeaders': {'x-amz-id-2': 'VQ+HfENGV6+2jMWxVqLvdqfDGC2J9jqGNnZTRVHrybGK5G8DCMHWs/AkJrJWLgh2Hc6fl0tTV4c=',\n",
       "   'x-amz-request-id': 'KQDVCADCMVFRY5ZB',\n",
       "   'date': 'Mon, 14 Nov 2022 21:21:52 GMT',\n",
       "   'x-amz-version-id': 'Faq5_ct0sJByEqNr97Lnb0FNmsG4OVlg',\n",
       "   'etag': '\"e7aa5dd72047e6fee69dc77c407a5a33\"',\n",
       "   'server': 'AmazonS3',\n",
       "   'content-length': '0'},\n",
       "  'RetryAttempts': 0},\n",
       " 'ETag': '\"e7aa5dd72047e6fee69dc77c407a5a33\"',\n",
       " 'VersionId': 'Faq5_ct0sJByEqNr97Lnb0FNmsG4OVlg'}"
      ]
     },
     "execution_count": 118,
     "metadata": {},
     "output_type": "execute_result"
    }
   ],
   "source": [
    "prefix_metadata = \"intermediate/metadata\"\n",
    "filename_metadata = prefix_metadata + \"/\" + \"metadata\"\n",
    "\n",
    "# # to read the file\n",
    "metadata_obj = conn.get_object(Bucket=bucket, Key=filename_metadata)\n",
    "serializedObject = metadata_obj['Body'].read()\n",
    "metadata = pickle.loads(serializedObject)\n",
    "\n",
    "\n",
    "metadata['condition']['category_cols'] = cat_top_features.copy()\n",
    "metadata['condition']['numeric_cols'] = num_sum_features + num_top_features\n",
    "\n",
    "conn.put_object(Bucket=bucket, Key=filename_metadata, Body=pickle.dumps(metadata))\n"
   ]
  },
  {
   "cell_type": "code",
   "execution_count": 121,
   "id": "0f52531e",
   "metadata": {},
   "outputs": [
    {
     "data": {
      "text/plain": [
       "['credit_bal_1stmtgcredit_60dpd',\n",
       " 'credit_bal_agencyfirstmtg_60dpd',\n",
       " 'credit_bal_heloc_60dpd',\n",
       " 'credit_bal_nonagnfirstmtg_60dpd',\n",
       " 'credit_bal_nonmtgcredit_60dpd',\n",
       " 'credit_bal_studentloan_60dpd',\n",
       " 'credit_bal_totalallcredit_60dpd',\n",
       " 'credit_bal_autobank',\n",
       " 'credit_bal_autofinance',\n",
       " 'credit_bal_consumerfinance',\n",
       " 'credit_minmob_mtgcredit']"
      ]
     },
     "execution_count": 121,
     "metadata": {},
     "output_type": "execute_result"
    }
   ],
   "source": [
    "metadata['credit']['numeric']"
   ]
  },
  {
   "cell_type": "markdown",
   "id": "dae55b9d",
   "metadata": {},
   "source": [
    "#### Build XgBoost model - Sagemaker"
   ]
  },
  {
   "cell_type": "code",
   "execution_count": 12,
   "id": "10123a10",
   "metadata": {},
   "outputs": [],
   "source": [
    "# filename_train ='train_fe.pq'\n",
    "# filename_valid ='valid_fe.pq'\n",
    "\n",
    "# train_df = wr.s3.read_parquet(path = f's3://{bucket}/{prefix_data}/{filename_train}')\n",
    "# valid_df = wr.s3.read_parquet(path = f's3://{bucket}/{prefix_data}/{filename_valid}')"
   ]
  },
  {
   "cell_type": "code",
   "execution_count": 13,
   "id": "52f20d20",
   "metadata": {},
   "outputs": [],
   "source": [
    "\n",
    "\n",
    "# one hot encoding\n",
    "enc = OneHotEncoder(sparse=False, handle_unknown=\"ignore\" )\n",
    "one_hot_encode_cols = [x for x in categorical_cols if x != params.dependent_variable]\n",
    "train_df_encoded = pd.DataFrame(enc.fit_transform(train_df[one_hot_encode_cols]), index=train_df.index)\n",
    "train_df_encoded.columns = enc.get_feature_names_out()\n",
    "\n",
    "train_model_df = pd.concat([train_df.drop(one_hot_encode_cols, axis=1), train_df_encoded], axis=1, ignore_index=False)"
   ]
  },
  {
   "cell_type": "code",
   "execution_count": 14,
   "id": "850ea3bd",
   "metadata": {},
   "outputs": [],
   "source": [
    "\n",
    "\n",
    "filename_encoder ='enc.pkl'\n",
    "path = prefix_model + '/' + filename_encoder\n",
    "\n",
    "# WRITE\n",
    "with tempfile.TemporaryFile() as fp:\n",
    "    joblib.dump(enc, fp)\n",
    "    fp.seek(0)\n",
    "    conn.put_object(Body=fp.read(), Bucket=bucket, Key=path)\n",
    "\n",
    "# READ\n",
    "# with tempfile.TemporaryFile() as fp:\n",
    "#     conn.download_fileobj(Fileobj=fp, Bucket=bucket, Key=path)\n",
    "#     fp.seek(0)\n",
    "#     enc2 = joblib.load(fp)\n",
    "\n",
    "# # DELETE\n",
    "# conn.delete_object(Bucket=bucket, Key=path)"
   ]
  },
  {
   "cell_type": "code",
   "execution_count": 15,
   "id": "c625fb94",
   "metadata": {},
   "outputs": [],
   "source": [
    "valid_df_encoded = pd.DataFrame(enc.transform(np.asarray(valid_df[one_hot_encode_cols], dtype=object)),\n",
    "                                index=valid_df.index)\n",
    "valid_df_encoded.columns = enc.get_feature_names_out()\n",
    "valid_model_df = pd.concat([valid_df.drop(one_hot_encode_cols, axis=1), valid_df_encoded], axis=1, ignore_index=False)"
   ]
  },
  {
   "cell_type": "code",
   "execution_count": 16,
   "id": "91275f55",
   "metadata": {},
   "outputs": [],
   "source": [
    "# # Write the metadata of index\n",
    "# train_id_index = train_model_df.reset_index()[\"person_id_syn\"]\n",
    "# train_id_index = train_id_index.reset_index().rename(columns={'index':'index_num'})\n",
    "# filename_train_id_index = \"train_index_id.pq\"\n",
    "# wr.s3.to_parquet(train_id_index, path = 's3://{}/{}/{}'.format(bucket, prefix_metadata, filename_train_id_index),\n",
    "#                  compression='gzip', index=False)\n",
    "\n",
    "\n",
    "# valid_id_index = valid_model_df.reset_index()[\"person_id_syn\"]\n",
    "# valid_id_index = valid_id_index.reset_index().rename(columns={'index':'index_num'})\n",
    "# filename_valid_id_index = \"valid_index_id.pq\"\n",
    "# wr.s3.to_parquet(valid_id_index, path = 's3://{}/{}/{}'.format(bucket, prefix_metadata, filename_valid_id_index),\n",
    "#                  compression='gzip', index=False)\n",
    "\n",
    "\n",
    "# # Write the metadata of columns\n",
    "# train_model_columns = train_model_df.columns\n",
    "# test_model_columns = [x for x in train_model_columns if x != params.dependent_variable]"
   ]
  },
  {
   "cell_type": "code",
   "execution_count": 31,
   "id": "4535e1ed",
   "metadata": {},
   "outputs": [
    {
     "data": {
      "text/plain": [
       "{'ResponseMetadata': {'RequestId': 'XMY07M4F3VZC96SQ',\n",
       "  'HostId': 'B3+WHCvhmA4Dzq0LvpadealKkM2lz/G+kJ1uWHEyivV8/Mk1G1C9yf/bKFXgAvyG78jxyShDIFjXEWIVLm1mPQ==',\n",
       "  'HTTPStatusCode': 200,\n",
       "  'HTTPHeaders': {'x-amz-id-2': 'B3+WHCvhmA4Dzq0LvpadealKkM2lz/G+kJ1uWHEyivV8/Mk1G1C9yf/bKFXgAvyG78jxyShDIFjXEWIVLm1mPQ==',\n",
       "   'x-amz-request-id': 'XMY07M4F3VZC96SQ',\n",
       "   'date': 'Mon, 14 Nov 2022 20:33:55 GMT',\n",
       "   'x-amz-version-id': 'ycOcy6lHIfhlUpTCy9e1SO3xiBqwG6Ex',\n",
       "   'etag': '\"fe74f5149607eec215fd6f99b91d0a34\"',\n",
       "   'server': 'AmazonS3',\n",
       "   'content-length': '0'},\n",
       "  'RetryAttempts': 0},\n",
       " 'ETag': '\"fe74f5149607eec215fd6f99b91d0a34\"',\n",
       " 'VersionId': 'ycOcy6lHIfhlUpTCy9e1SO3xiBqwG6Ex'}"
      ]
     },
     "execution_count": 31,
     "metadata": {},
     "output_type": "execute_result"
    }
   ],
   "source": [
    "prefix_metadata = \"intermediate/metadata\"\n",
    "filename_metadata = prefix_metadata + \"/\" + \"metadata\"\n",
    "\n",
    "# # to read the file\n",
    "metadata_obj = conn.get_object(Bucket=bucket, Key=filename_metadata)\n",
    "serializedObject = metadata_obj['Body'].read()\n",
    "metadata = pickle.loads(serializedObject)\n",
    "# metadata = {}\n",
    "metadata['condition'] = {}\n",
    "metadata['condition']['categorical_cols'] = [x for x in categorical_cols if x != params.dependent_variable]\n",
    "metadata['condition']['numerical_cols'] = numerical_cols.copy()\n",
    "\n",
    "conn.put_object(Bucket=bucket, Key=filename_metadata, Body=pickle.dumps(metadata))"
   ]
  },
  {
   "cell_type": "code",
   "execution_count": null,
   "id": "a74397c3",
   "metadata": {},
   "outputs": [],
   "source": []
  },
  {
   "cell_type": "code",
   "execution_count": 28,
   "id": "c02eeffd",
   "metadata": {},
   "outputs": [],
   "source": [
    "# # Write the metadata of columns, index of train and valid and test\n",
    "# prefix_metadata = \"intermediate/condition/models/metadata\"\n",
    "# filename_metadata = prefix_metadata + '/' + 'metadata_dict'\n",
    "\n",
    "# metadata_dict = {}\n",
    "# metadata_dict['condition'] = {}\n",
    "# # metadata_dict['condition']['train_index'] = dict(zip(list(train_model_df.reset_index()['person_id_syn'].index), train_model_df.reset_index()['person_id_syn']))\n",
    "# # metadata_dict['condition']['valid_index'] = dict(zip(list(valid_model_df.reset_index()['person_id_syn'].index), valid_model_df.reset_index()['person_id_syn']))\n",
    "# # metadata_dict['condition']['train_columns'] = list(train_model_df.columns)\n",
    "# # metadata_dict['condition']['test_columns'] = [x for x in train_model_df.columns if x != params.dependent_variable]\n",
    "# metadata_dict['condition']['categorical_cols'] = [x for x in categorical_cols if x != params.dependent_variable]\n",
    "# metadata_dict['condition']['numerical_cols'] = numerical_cols.copy()\n",
    "\n",
    "\n",
    "# # conn.put_object(Bucket=bucket, Key=filename_metadata, Body=pickle.dumps(metadata_dict))\n",
    "\n",
    "\n",
    "# # # to read the file\n",
    "# # metadata_dict = conn.get_object(Bucket=bucket, Key=filename_metadata)\n",
    "# # serializedObject = metadata_dict['Body'].read()\n",
    "# # metadata_dict = pickle.loads(serializedObject)\n",
    "# # metadata_dict"
   ]
  },
  {
   "cell_type": "code",
   "execution_count": 18,
   "id": "7d01ecc1",
   "metadata": {
    "scrolled": true
   },
   "outputs": [],
   "source": [
    "\n",
    "\n",
    "# prefix_data = \"intermediate/condition/data\"\n",
    "# filename_train_model ='train_model.csv'\n",
    "# filename_valid_model ='valid_model.csv'\n",
    "\n",
    "# bytes_to_write = train_model_df.to_csv(index=False, header=False).encode()\n",
    "# fs = s3fs.S3FileSystem()\n",
    "# with fs.open('s3://{}/{}/{}'.format(bucket, prefix_data, filename_train_model), 'wb') as f:\n",
    "#     f.write(bytes_to_write)\n",
    "\n",
    "# bytes_to_write = valid_model_df.to_csv(index=False, header=False).encode()\n",
    "# fs = s3fs.S3FileSystem()\n",
    "# with fs.open('s3://{}/{}/{}'.format(bucket, prefix_data, filename_valid_model), 'wb') as f:\n",
    "#     f.write(bytes_to_write)"
   ]
  },
  {
   "cell_type": "code",
   "execution_count": 19,
   "id": "9c850f43",
   "metadata": {},
   "outputs": [],
   "source": [
    "# prefix_data = \"intermediate/condition/data\"\n",
    "# filename_train_model ='train_model.csv'\n",
    "# filename_valid_model ='valid_model.csv'\n",
    "\n",
    "# ## Specifies the path to training and validation in S3\n",
    "# s3_input_train = sagemaker.inputs.TrainingInput(s3_data='s3://{}/{}/{}'.format(bucket, prefix_data, filename_train_model), content_type='csv')\n",
    "# s3_input_valid = sagemaker.inputs.TrainingInput(s3_data='s3://{}/{}/{}'.format(bucket, prefix_data, filename_valid_model), content_type='csv')\n"
   ]
  },
  {
   "cell_type": "code",
   "execution_count": 22,
   "id": "dd7905db",
   "metadata": {
    "scrolled": true
   },
   "outputs": [
    {
     "data": {
      "text/plain": [
       "'s3://humana-data/intermediate/condition/models/xgboost-condition-data/output'"
      ]
     },
     "execution_count": 22,
     "metadata": {},
     "output_type": "execute_result"
    }
   ],
   "source": [
    "prefix_model_xgboost = \"intermediate/condition/models/xgboost-condition-data\"\n",
    "output_path  = 's3://{}/{}/output'.format(bucket, prefix_model_xgboost)\n",
    "output_path"
   ]
  },
  {
   "cell_type": "code",
   "execution_count": 23,
   "id": "54ea4db7",
   "metadata": {},
   "outputs": [],
   "source": [
    "region_name = boto3.Session().region_name"
   ]
  },
  {
   "cell_type": "code",
   "execution_count": 24,
   "id": "9672f20f",
   "metadata": {},
   "outputs": [
    {
     "name": "stderr",
     "output_type": "stream",
     "text": [
      "The method get_image_uri has been renamed in sagemaker>=2.\n",
      "See: https://sagemaker.readthedocs.io/en/stable/v2.html for details.\n"
     ]
    }
   ],
   "source": [
    "container = get_image_uri(region_name, 'xgboost', 'latest')"
   ]
  },
  {
   "cell_type": "code",
   "execution_count": 28,
   "id": "bdc826bd",
   "metadata": {},
   "outputs": [],
   "source": [
    "hyperparameters = {\n",
    "    \"num_round\":100,\n",
    "    \"max_depth\":8,\n",
    "    \"eta\":0.2,\n",
    "    \"gamma\": 3,\n",
    "    \"objective\":\"binary:logistic\",\n",
    "}"
   ]
  },
  {
   "cell_type": "code",
   "execution_count": 27,
   "id": "c087adfc",
   "metadata": {},
   "outputs": [],
   "source": [
    "estimator = sagemaker.estimator.Estimator(image_uri = container,\n",
    "                                         hyperparameters = hyperparameters,\n",
    "                                         role = sagemaker.get_execution_role(),\n",
    "                                         instance_count = 1,\n",
    "                                         instance_type = 'ml.m5.large',\n",
    "                                         volume_size = 5,\n",
    "                                         output_path = output_path,\n",
    "                                         use_spot_instances = True,\n",
    "                                          max_run = 300,\n",
    "                                          max_wait = 600)\n"
   ]
  },
  {
   "cell_type": "code",
   "execution_count": 29,
   "id": "9d078487",
   "metadata": {
    "scrolled": true
   },
   "outputs": [
    {
     "name": "stdout",
     "output_type": "stream",
     "text": [
      "2022-11-12 00:32:06 Starting - Starting the training job...\n",
      "2022-11-12 00:32:31 Starting - Preparing the instances for trainingProfilerReport-1668213125: InProgress\n",
      ".........\n",
      "2022-11-12 00:33:56 Downloading - Downloading input data...\n",
      "2022-11-12 00:34:32 Training - Downloading the training image...\n",
      "2022-11-12 00:34:57 Training - Training image download completed. Training in progress..\u001b[34mArguments: train\u001b[0m\n",
      "\u001b[34m[2022-11-12:00:35:03:INFO] Running standalone xgboost training.\u001b[0m\n",
      "\u001b[34m[2022-11-12:00:35:03:INFO] File size need to be processed in the node: 153.89mb. Available memory size in the node: 381.85mb\u001b[0m\n",
      "\u001b[34m[2022-11-12:00:35:03:INFO] Determined delimiter of CSV input is ','\u001b[0m\n",
      "\u001b[34m[00:35:03] S3DistributionType set as FullyReplicated\u001b[0m\n",
      "\u001b[34m[00:35:04] 48700x544 matrix with 26492800 entries loaded from /opt/ml/input/data/train?format=csv&label_column=0&delimiter=,\u001b[0m\n",
      "\u001b[34m[2022-11-12:00:35:04:INFO] Determined delimiter of CSV input is ','\u001b[0m\n",
      "\u001b[34m[00:35:04] S3DistributionType set as FullyReplicated\u001b[0m\n",
      "\u001b[34m[00:35:05] 20872x544 matrix with 11354368 entries loaded from /opt/ml/input/data/validation?format=csv&label_column=0&delimiter=,\u001b[0m\n",
      "\u001b[34m[00:35:07] src/tree/updater_prune.cc:74: tree pruning end, 1 roots, 302 extra nodes, 28 pruned nodes, max_depth=8\u001b[0m\n",
      "\u001b[34m[0]#011train-error:0.137926#011validation-error:0.150489\u001b[0m\n",
      "\u001b[34m[00:35:08] src/tree/updater_prune.cc:74: tree pruning end, 1 roots, 274 extra nodes, 36 pruned nodes, max_depth=8\u001b[0m\n",
      "\u001b[34m[1]#011train-error:0.135688#011validation-error:0.148429\u001b[0m\n",
      "\u001b[34m[00:35:10] src/tree/updater_prune.cc:74: tree pruning end, 1 roots, 292 extra nodes, 46 pruned nodes, max_depth=8\u001b[0m\n",
      "\u001b[34m[2]#011train-error:0.136776#011validation-error:0.147662\u001b[0m\n",
      "\u001b[34m[00:35:11] src/tree/updater_prune.cc:74: tree pruning end, 1 roots, 284 extra nodes, 32 pruned nodes, max_depth=8\u001b[0m\n",
      "\u001b[34m[3]#011train-error:0.135688#011validation-error:0.147758\u001b[0m\n",
      "\u001b[34m[00:35:12] src/tree/updater_prune.cc:74: tree pruning end, 1 roots, 286 extra nodes, 60 pruned nodes, max_depth=8\u001b[0m\n",
      "\u001b[34m[4]#011train-error:0.13538#011validation-error:0.1468\u001b[0m\n",
      "\u001b[34m[00:35:13] src/tree/updater_prune.cc:74: tree pruning end, 1 roots, 268 extra nodes, 46 pruned nodes, max_depth=8\u001b[0m\n",
      "\u001b[34m[5]#011train-error:0.135893#011validation-error:0.14656\u001b[0m\n",
      "\u001b[34m[00:35:14] src/tree/updater_prune.cc:74: tree pruning end, 1 roots, 286 extra nodes, 32 pruned nodes, max_depth=8\u001b[0m\n",
      "\u001b[34m[6]#011train-error:0.135113#011validation-error:0.146368\u001b[0m\n",
      "\u001b[34m[00:35:15] src/tree/updater_prune.cc:74: tree pruning end, 1 roots, 262 extra nodes, 50 pruned nodes, max_depth=8\u001b[0m\n",
      "\u001b[34m[7]#011train-error:0.134887#011validation-error:0.146608\u001b[0m\n",
      "\u001b[34m[00:35:16] src/tree/updater_prune.cc:74: tree pruning end, 1 roots, 298 extra nodes, 38 pruned nodes, max_depth=8\u001b[0m\n",
      "\u001b[34m[8]#011train-error:0.134086#011validation-error:0.1468\u001b[0m\n",
      "\u001b[34m[00:35:17] src/tree/updater_prune.cc:74: tree pruning end, 1 roots, 302 extra nodes, 46 pruned nodes, max_depth=8\u001b[0m\n",
      "\u001b[34m[9]#011train-error:0.133039#011validation-error:0.146416\u001b[0m\n",
      "\u001b[34m[00:35:18] src/tree/updater_prune.cc:74: tree pruning end, 1 roots, 254 extra nodes, 38 pruned nodes, max_depth=8\u001b[0m\n",
      "\u001b[34m[10]#011train-error:0.132834#011validation-error:0.1468\u001b[0m\n",
      "\u001b[34m[00:35:19] src/tree/updater_prune.cc:74: tree pruning end, 1 roots, 276 extra nodes, 40 pruned nodes, max_depth=8\u001b[0m\n",
      "\u001b[34m[11]#011train-error:0.132094#011validation-error:0.146656\u001b[0m\n",
      "\u001b[34m[00:35:20] src/tree/updater_prune.cc:74: tree pruning end, 1 roots, 250 extra nodes, 48 pruned nodes, max_depth=8\u001b[0m\n",
      "\u001b[34m[12]#011train-error:0.131478#011validation-error:0.14632\u001b[0m\n",
      "\u001b[34m[00:35:21] src/tree/updater_prune.cc:74: tree pruning end, 1 roots, 244 extra nodes, 52 pruned nodes, max_depth=8\u001b[0m\n",
      "\u001b[34m[13]#011train-error:0.129959#011validation-error:0.1468\u001b[0m\n",
      "\u001b[34m[00:35:22] src/tree/updater_prune.cc:74: tree pruning end, 1 roots, 280 extra nodes, 68 pruned nodes, max_depth=8\u001b[0m\n",
      "\u001b[34m[14]#011train-error:0.128583#011validation-error:0.146273\u001b[0m\n",
      "\u001b[34m[00:35:23] src/tree/updater_prune.cc:74: tree pruning end, 1 roots, 230 extra nodes, 44 pruned nodes, max_depth=8\u001b[0m\n",
      "\u001b[34m[15]#011train-error:0.128172#011validation-error:0.14656\u001b[0m\n",
      "\u001b[34m[00:35:24] src/tree/updater_prune.cc:74: tree pruning end, 1 roots, 290 extra nodes, 32 pruned nodes, max_depth=8\u001b[0m\n",
      "\u001b[34m[16]#011train-error:0.127043#011validation-error:0.146273\u001b[0m\n",
      "\u001b[34m[00:35:25] src/tree/updater_prune.cc:74: tree pruning end, 1 roots, 202 extra nodes, 54 pruned nodes, max_depth=8\u001b[0m\n",
      "\u001b[34m[17]#011train-error:0.126427#011validation-error:0.146081\u001b[0m\n",
      "\u001b[34m[00:35:26] src/tree/updater_prune.cc:74: tree pruning end, 1 roots, 206 extra nodes, 58 pruned nodes, max_depth=8\u001b[0m\n",
      "\u001b[34m[18]#011train-error:0.125749#011validation-error:0.146129\u001b[0m\n",
      "\u001b[34m[00:35:27] src/tree/updater_prune.cc:74: tree pruning end, 1 roots, 204 extra nodes, 52 pruned nodes, max_depth=8\u001b[0m\n",
      "\u001b[34m[19]#011train-error:0.125113#011validation-error:0.146225\u001b[0m\n",
      "\u001b[34m[00:35:28] src/tree/updater_prune.cc:74: tree pruning end, 1 roots, 228 extra nodes, 40 pruned nodes, max_depth=8\u001b[0m\n",
      "\u001b[34m[20]#011train-error:0.124168#011validation-error:0.146225\u001b[0m\n",
      "\u001b[34m[00:35:29] src/tree/updater_prune.cc:74: tree pruning end, 1 roots, 164 extra nodes, 36 pruned nodes, max_depth=8\u001b[0m\n",
      "\u001b[34m[21]#011train-error:0.123224#011validation-error:0.146464\u001b[0m\n",
      "\u001b[34m[00:35:30] src/tree/updater_prune.cc:74: tree pruning end, 1 roots, 74 extra nodes, 28 pruned nodes, max_depth=8\u001b[0m\n",
      "\u001b[34m[22]#011train-error:0.122977#011validation-error:0.146225\u001b[0m\n",
      "\u001b[34m[00:35:31] src/tree/updater_prune.cc:74: tree pruning end, 1 roots, 226 extra nodes, 78 pruned nodes, max_depth=8\u001b[0m\n",
      "\u001b[34m[23]#011train-error:0.122238#011validation-error:0.146656\u001b[0m\n",
      "\u001b[34m[00:35:32] src/tree/updater_prune.cc:74: tree pruning end, 1 roots, 252 extra nodes, 38 pruned nodes, max_depth=8\u001b[0m\n",
      "\u001b[34m[24]#011train-error:0.121396#011validation-error:0.146991\u001b[0m\n",
      "\u001b[34m[00:35:33] src/tree/updater_prune.cc:74: tree pruning end, 1 roots, 240 extra nodes, 92 pruned nodes, max_depth=8\u001b[0m\n",
      "\u001b[34m[25]#011train-error:0.120452#011validation-error:0.146895\u001b[0m\n",
      "\u001b[34m[00:35:34] src/tree/updater_prune.cc:74: tree pruning end, 1 roots, 96 extra nodes, 48 pruned nodes, max_depth=8\u001b[0m\n",
      "\u001b[34m[26]#011train-error:0.120267#011validation-error:0.147087\u001b[0m\n",
      "\u001b[34m[00:35:35] src/tree/updater_prune.cc:74: tree pruning end, 1 roots, 140 extra nodes, 32 pruned nodes, max_depth=8\u001b[0m\n",
      "\u001b[34m[27]#011train-error:0.119774#011validation-error:0.147806\u001b[0m\n",
      "\u001b[34m[00:35:37] src/tree/updater_prune.cc:74: tree pruning end, 1 roots, 64 extra nodes, 46 pruned nodes, max_depth=8\u001b[0m\n",
      "\u001b[34m[28]#011train-error:0.119261#011validation-error:0.14771\u001b[0m\n",
      "\u001b[34m[00:35:38] src/tree/updater_prune.cc:74: tree pruning end, 1 roots, 124 extra nodes, 54 pruned nodes, max_depth=8\u001b[0m\n",
      "\u001b[34m[29]#011train-error:0.118706#011validation-error:0.147518\u001b[0m\n",
      "\u001b[34m[00:35:39] src/tree/updater_prune.cc:74: tree pruning end, 1 roots, 206 extra nodes, 80 pruned nodes, max_depth=8\u001b[0m\n",
      "\u001b[34m[30]#011train-error:0.1177#011validation-error:0.147854\u001b[0m\n",
      "\u001b[34m[00:35:40] src/tree/updater_prune.cc:74: tree pruning end, 1 roots, 114 extra nodes, 54 pruned nodes, max_depth=8\u001b[0m\n",
      "\u001b[34m[31]#011train-error:0.11731#011validation-error:0.147566\u001b[0m\n",
      "\u001b[34m[00:35:41] src/tree/updater_prune.cc:74: tree pruning end, 1 roots, 86 extra nodes, 18 pruned nodes, max_depth=8\u001b[0m\n",
      "\u001b[34m[32]#011train-error:0.116961#011validation-error:0.147374\u001b[0m\n",
      "\u001b[34m[00:35:42] src/tree/updater_prune.cc:74: tree pruning end, 1 roots, 96 extra nodes, 76 pruned nodes, max_depth=8\u001b[0m\n",
      "\u001b[34m[33]#011train-error:0.116509#011validation-error:0.14747\u001b[0m\n",
      "\u001b[34m[00:35:43] src/tree/updater_prune.cc:74: tree pruning end, 1 roots, 132 extra nodes, 70 pruned nodes, max_depth=8\u001b[0m\n",
      "\u001b[34m[34]#011train-error:0.116016#011validation-error:0.147566\u001b[0m\n",
      "\u001b[34m[00:35:44] src/tree/updater_prune.cc:74: tree pruning end, 1 roots, 80 extra nodes, 34 pruned nodes, max_depth=8\u001b[0m\n",
      "\u001b[34m[35]#011train-error:0.115667#011validation-error:0.147566\u001b[0m\n",
      "\u001b[34m[00:35:45] src/tree/updater_prune.cc:74: tree pruning end, 1 roots, 42 extra nodes, 22 pruned nodes, max_depth=8\u001b[0m\n",
      "\u001b[34m[36]#011train-error:0.115441#011validation-error:0.147566\u001b[0m\n",
      "\u001b[34m[00:35:46] src/tree/updater_prune.cc:74: tree pruning end, 1 roots, 44 extra nodes, 32 pruned nodes, max_depth=8\u001b[0m\n",
      "\u001b[34m[37]#011train-error:0.115421#011validation-error:0.147566\u001b[0m\n",
      "\u001b[34m[00:35:47] src/tree/updater_prune.cc:74: tree pruning end, 1 roots, 174 extra nodes, 88 pruned nodes, max_depth=8\u001b[0m\n",
      "\u001b[34m[38]#011train-error:0.114415#011validation-error:0.147614\u001b[0m\n",
      "\u001b[34m[00:35:48] src/tree/updater_prune.cc:74: tree pruning end, 1 roots, 64 extra nodes, 40 pruned nodes, max_depth=8\u001b[0m\n",
      "\u001b[34m[39]#011train-error:0.114189#011validation-error:0.147518\u001b[0m\n",
      "\u001b[34m[00:35:49] src/tree/updater_prune.cc:74: tree pruning end, 1 roots, 210 extra nodes, 58 pruned nodes, max_depth=8\u001b[0m\n",
      "\u001b[34m[40]#011train-error:0.113368#011validation-error:0.147949\u001b[0m\n"
     ]
    },
    {
     "name": "stdout",
     "output_type": "stream",
     "text": [
      "\u001b[34m[00:35:50] src/tree/updater_prune.cc:74: tree pruning end, 1 roots, 66 extra nodes, 28 pruned nodes, max_depth=8\u001b[0m\n",
      "\u001b[34m[41]#011train-error:0.113018#011validation-error:0.147566\u001b[0m\n",
      "\u001b[34m[00:35:51] src/tree/updater_prune.cc:74: tree pruning end, 1 roots, 44 extra nodes, 16 pruned nodes, max_depth=8\u001b[0m\n",
      "\u001b[34m[42]#011train-error:0.112772#011validation-error:0.14747\u001b[0m\n",
      "\u001b[34m[00:35:52] src/tree/updater_prune.cc:74: tree pruning end, 1 roots, 70 extra nodes, 26 pruned nodes, max_depth=8\u001b[0m\n",
      "\u001b[34m[43]#011train-error:0.112361#011validation-error:0.147614\u001b[0m\n",
      "\u001b[34m[00:35:53] src/tree/updater_prune.cc:74: tree pruning end, 1 roots, 50 extra nodes, 64 pruned nodes, max_depth=8\u001b[0m\n",
      "\u001b[34m[44]#011train-error:0.112218#011validation-error:0.147901\u001b[0m\n",
      "\u001b[34m[00:35:54] src/tree/updater_prune.cc:74: tree pruning end, 1 roots, 152 extra nodes, 56 pruned nodes, max_depth=8\u001b[0m\n",
      "\u001b[34m[45]#011train-error:0.111745#011validation-error:0.148189\u001b[0m\n",
      "\u001b[34m[00:35:55] src/tree/updater_prune.cc:74: tree pruning end, 1 roots, 190 extra nodes, 66 pruned nodes, max_depth=8\u001b[0m\n",
      "\u001b[34m[46]#011train-error:0.111027#011validation-error:0.147901\u001b[0m\n",
      "\u001b[34m[00:35:56] src/tree/updater_prune.cc:74: tree pruning end, 1 roots, 80 extra nodes, 44 pruned nodes, max_depth=8\u001b[0m\n",
      "\u001b[34m[47]#011train-error:0.110534#011validation-error:0.147854\u001b[0m\n",
      "\u001b[34m[00:35:57] src/tree/updater_prune.cc:74: tree pruning end, 1 roots, 22 extra nodes, 36 pruned nodes, max_depth=8\u001b[0m\n",
      "\u001b[34m[48]#011train-error:0.110554#011validation-error:0.147901\u001b[0m\n",
      "\u001b[34m[00:35:58] src/tree/updater_prune.cc:74: tree pruning end, 1 roots, 118 extra nodes, 78 pruned nodes, max_depth=8\u001b[0m\n",
      "\u001b[34m[49]#011train-error:0.110062#011validation-error:0.147806\u001b[0m\n",
      "\u001b[34m[00:35:59] src/tree/updater_prune.cc:74: tree pruning end, 1 roots, 22 extra nodes, 12 pruned nodes, max_depth=8\u001b[0m\n",
      "\u001b[34m[50]#011train-error:0.11#011validation-error:0.147806\u001b[0m\n",
      "\u001b[34m[00:36:00] src/tree/updater_prune.cc:74: tree pruning end, 1 roots, 70 extra nodes, 22 pruned nodes, max_depth=8\u001b[0m\n",
      "\u001b[34m[51]#011train-error:0.109713#011validation-error:0.147566\u001b[0m\n",
      "\u001b[34m[00:36:01] src/tree/updater_prune.cc:74: tree pruning end, 1 roots, 238 extra nodes, 84 pruned nodes, max_depth=8\u001b[0m\n",
      "\u001b[34m[52]#011train-error:0.109014#011validation-error:0.147518\u001b[0m\n",
      "\u001b[34m[00:36:03] src/tree/updater_prune.cc:74: tree pruning end, 1 roots, 130 extra nodes, 46 pruned nodes, max_depth=8\u001b[0m\n",
      "\u001b[34m[53]#011train-error:0.108439#011validation-error:0.147614\u001b[0m\n",
      "\u001b[34m[00:36:04] src/tree/updater_prune.cc:74: tree pruning end, 1 roots, 26 extra nodes, 34 pruned nodes, max_depth=8\u001b[0m\n",
      "\u001b[34m[54]#011train-error:0.108439#011validation-error:0.14747\u001b[0m\n",
      "\u001b[34m[00:36:05] src/tree/updater_prune.cc:74: tree pruning end, 1 roots, 18 extra nodes, 46 pruned nodes, max_depth=5\u001b[0m\n",
      "\u001b[34m[55]#011train-error:0.108439#011validation-error:0.14771\u001b[0m\n",
      "\u001b[34m[00:36:06] src/tree/updater_prune.cc:74: tree pruning end, 1 roots, 26 extra nodes, 24 pruned nodes, max_depth=8\u001b[0m\n",
      "\u001b[34m[56]#011train-error:0.108378#011validation-error:0.147806\u001b[0m\n",
      "\u001b[34m[00:36:07] src/tree/updater_prune.cc:74: tree pruning end, 1 roots, 204 extra nodes, 52 pruned nodes, max_depth=8\u001b[0m\n",
      "\u001b[34m[57]#011train-error:0.107926#011validation-error:0.147901\u001b[0m\n",
      "\u001b[34m[00:36:08] src/tree/updater_prune.cc:74: tree pruning end, 1 roots, 208 extra nodes, 94 pruned nodes, max_depth=8\u001b[0m\n",
      "\u001b[34m[58]#011train-error:0.106797#011validation-error:0.147662\u001b[0m\n",
      "\u001b[34m[00:36:09] src/tree/updater_prune.cc:74: tree pruning end, 1 roots, 132 extra nodes, 64 pruned nodes, max_depth=8\u001b[0m\n",
      "\u001b[34m[59]#011train-error:0.106242#011validation-error:0.147806\u001b[0m\n",
      "\u001b[34m[00:36:10] src/tree/updater_prune.cc:74: tree pruning end, 1 roots, 168 extra nodes, 104 pruned nodes, max_depth=8\u001b[0m\n",
      "\u001b[34m[60]#011train-error:0.105791#011validation-error:0.147518\u001b[0m\n",
      "\u001b[34m[00:36:12] src/tree/updater_prune.cc:74: tree pruning end, 1 roots, 134 extra nodes, 78 pruned nodes, max_depth=8\u001b[0m\n",
      "\u001b[34m[61]#011train-error:0.105441#011validation-error:0.147949\u001b[0m\n",
      "\u001b[34m[00:36:13] src/tree/updater_prune.cc:74: tree pruning end, 1 roots, 90 extra nodes, 52 pruned nodes, max_depth=8\u001b[0m\n",
      "\u001b[34m[62]#011train-error:0.104969#011validation-error:0.148045\u001b[0m\n",
      "\u001b[34m[00:36:14] src/tree/updater_prune.cc:74: tree pruning end, 1 roots, 68 extra nodes, 22 pruned nodes, max_depth=8\u001b[0m\n",
      "\u001b[34m[63]#011train-error:0.104682#011validation-error:0.147949\u001b[0m\n",
      "\u001b[34m[00:36:15] src/tree/updater_prune.cc:74: tree pruning end, 1 roots, 104 extra nodes, 74 pruned nodes, max_depth=8\u001b[0m\n",
      "\u001b[34m[64]#011train-error:0.104127#011validation-error:0.147997\u001b[0m\n",
      "\u001b[34m[00:36:16] src/tree/updater_prune.cc:74: tree pruning end, 1 roots, 46 extra nodes, 50 pruned nodes, max_depth=8\u001b[0m\n",
      "\u001b[34m[65]#011train-error:0.103963#011validation-error:0.147997\u001b[0m\n",
      "\u001b[34m[00:36:17] src/tree/updater_prune.cc:74: tree pruning end, 1 roots, 20 extra nodes, 20 pruned nodes, max_depth=8\u001b[0m\n",
      "\u001b[34m[66]#011train-error:0.10386#011validation-error:0.147997\u001b[0m\n",
      "\u001b[34m[00:36:18] src/tree/updater_prune.cc:74: tree pruning end, 1 roots, 24 extra nodes, 22 pruned nodes, max_depth=8\u001b[0m\n",
      "\u001b[34m[67]#011train-error:0.103922#011validation-error:0.147997\u001b[0m\n",
      "\u001b[34m[00:36:19] src/tree/updater_prune.cc:74: tree pruning end, 1 roots, 28 extra nodes, 48 pruned nodes, max_depth=8\u001b[0m\n",
      "\u001b[34m[68]#011train-error:0.10384#011validation-error:0.148093\u001b[0m\n",
      "\u001b[34m[00:36:20] src/tree/updater_prune.cc:74: tree pruning end, 1 roots, 52 extra nodes, 76 pruned nodes, max_depth=8\u001b[0m\n",
      "\u001b[34m[69]#011train-error:0.103552#011validation-error:0.148045\u001b[0m\n",
      "\u001b[34m[00:36:21] src/tree/updater_prune.cc:74: tree pruning end, 1 roots, 120 extra nodes, 68 pruned nodes, max_depth=8\u001b[0m\n",
      "\u001b[34m[70]#011train-error:0.103224#011validation-error:0.148237\u001b[0m\n",
      "\u001b[34m[00:36:22] src/tree/updater_prune.cc:74: tree pruning end, 1 roots, 30 extra nodes, 104 pruned nodes, max_depth=8\u001b[0m\n",
      "\u001b[34m[71]#011train-error:0.10306#011validation-error:0.148141\u001b[0m\n",
      "\u001b[34m[00:36:23] src/tree/updater_prune.cc:74: tree pruning end, 1 roots, 160 extra nodes, 70 pruned nodes, max_depth=8\u001b[0m\n",
      "\u001b[34m[72]#011train-error:0.102423#011validation-error:0.147854\u001b[0m\n",
      "\u001b[34m[00:36:24] src/tree/updater_prune.cc:74: tree pruning end, 1 roots, 40 extra nodes, 44 pruned nodes, max_depth=8\u001b[0m\n",
      "\u001b[34m[73]#011train-error:0.102218#011validation-error:0.148189\u001b[0m\n",
      "\u001b[34m[00:36:25] src/tree/updater_prune.cc:74: tree pruning end, 1 roots, 28 extra nodes, 30 pruned nodes, max_depth=8\u001b[0m\n",
      "\u001b[34m[74]#011train-error:0.102197#011validation-error:0.148189\u001b[0m\n",
      "\u001b[34m[00:36:26] src/tree/updater_prune.cc:74: tree pruning end, 1 roots, 52 extra nodes, 42 pruned nodes, max_depth=8\u001b[0m\n",
      "\u001b[34m[75]#011train-error:0.101786#011validation-error:0.148141\u001b[0m\n",
      "\u001b[34m[00:36:27] src/tree/updater_prune.cc:74: tree pruning end, 1 roots, 108 extra nodes, 56 pruned nodes, max_depth=8\u001b[0m\n",
      "\u001b[34m[76]#011train-error:0.101499#011validation-error:0.148333\u001b[0m\n",
      "\u001b[34m[00:36:28] src/tree/updater_prune.cc:74: tree pruning end, 1 roots, 170 extra nodes, 62 pruned nodes, max_depth=8\u001b[0m\n",
      "\u001b[34m[77]#011train-error:0.101088#011validation-error:0.148285\u001b[0m\n",
      "\u001b[34m[00:36:29] src/tree/updater_prune.cc:74: tree pruning end, 1 roots, 64 extra nodes, 24 pruned nodes, max_depth=8\u001b[0m\n",
      "\u001b[34m[78]#011train-error:0.101047#011validation-error:0.148381\u001b[0m\n",
      "\u001b[34m[00:36:30] src/tree/updater_prune.cc:74: tree pruning end, 1 roots, 190 extra nodes, 70 pruned nodes, max_depth=8\u001b[0m\n",
      "\u001b[34m[79]#011train-error:0.100472#011validation-error:0.148141\u001b[0m\n",
      "\u001b[34m[00:36:31] src/tree/updater_prune.cc:74: tree pruning end, 1 roots, 26 extra nodes, 6 pruned nodes, max_depth=8\u001b[0m\n",
      "\u001b[34m[80]#011train-error:0.100513#011validation-error:0.148045\u001b[0m\n",
      "\u001b[34m[00:36:32] src/tree/updater_prune.cc:74: tree pruning end, 1 roots, 134 extra nodes, 122 pruned nodes, max_depth=8\u001b[0m\n",
      "\u001b[34m[81]#011train-error:0.100205#011validation-error:0.148381\u001b[0m\n",
      "\u001b[34m[00:36:33] src/tree/updater_prune.cc:74: tree pruning end, 1 roots, 60 extra nodes, 112 pruned nodes, max_depth=8\u001b[0m\n",
      "\u001b[34m[82]#011train-error:0.099897#011validation-error:0.148572\u001b[0m\n",
      "\u001b[34m[00:36:34] src/tree/updater_prune.cc:74: tree pruning end, 1 roots, 112 extra nodes, 72 pruned nodes, max_depth=8\u001b[0m\n",
      "\u001b[34m[83]#011train-error:0.099651#011validation-error:0.148908\u001b[0m\n",
      "\u001b[34m[00:36:35] src/tree/updater_prune.cc:74: tree pruning end, 1 roots, 138 extra nodes, 50 pruned nodes, max_depth=8\u001b[0m\n",
      "\u001b[34m[84]#011train-error:0.098932#011validation-error:0.148716\u001b[0m\n",
      "\u001b[34m[00:36:36] src/tree/updater_prune.cc:74: tree pruning end, 1 roots, 148 extra nodes, 70 pruned nodes, max_depth=8\u001b[0m\n",
      "\u001b[34m[85]#011train-error:0.098275#011validation-error:0.148429\u001b[0m\n",
      "\u001b[34m[00:36:37] src/tree/updater_prune.cc:74: tree pruning end, 1 roots, 156 extra nodes, 120 pruned nodes, max_depth=8\u001b[0m\n",
      "\u001b[34m[86]#011train-error:0.097495#011validation-error:0.148476\u001b[0m\n",
      "\u001b[34m[00:36:38] src/tree/updater_prune.cc:74: tree pruning end, 1 roots, 30 extra nodes, 92 pruned nodes, max_depth=8\u001b[0m\n",
      "\u001b[34m[87]#011train-error:0.097392#011validation-error:0.148381\u001b[0m\n",
      "\u001b[34m[00:36:39] src/tree/updater_prune.cc:74: tree pruning end, 1 roots, 18 extra nodes, 20 pruned nodes, max_depth=8\u001b[0m\n",
      "\u001b[34m[88]#011train-error:0.097331#011validation-error:0.148476\u001b[0m\n"
     ]
    },
    {
     "name": "stdout",
     "output_type": "stream",
     "text": [
      "\u001b[34m[00:36:40] src/tree/updater_prune.cc:74: tree pruning end, 1 roots, 68 extra nodes, 94 pruned nodes, max_depth=8\u001b[0m\n",
      "\u001b[34m[89]#011train-error:0.09694#011validation-error:0.148524\u001b[0m\n",
      "\u001b[34m[00:36:41] src/tree/updater_prune.cc:74: tree pruning end, 1 roots, 106 extra nodes, 42 pruned nodes, max_depth=8\u001b[0m\n",
      "\u001b[34m[90]#011train-error:0.096407#011validation-error:0.148908\u001b[0m\n",
      "\u001b[34m[00:36:42] src/tree/updater_prune.cc:74: tree pruning end, 1 roots, 70 extra nodes, 40 pruned nodes, max_depth=8\u001b[0m\n",
      "\u001b[34m[91]#011train-error:0.09614#011validation-error:0.148476\u001b[0m\n",
      "\u001b[34m[00:36:43] src/tree/updater_prune.cc:74: tree pruning end, 1 roots, 160 extra nodes, 122 pruned nodes, max_depth=8\u001b[0m\n",
      "\u001b[34m[92]#011train-error:0.095216#011validation-error:0.148716\u001b[0m\n",
      "\u001b[34m[00:36:44] src/tree/updater_prune.cc:74: tree pruning end, 1 roots, 18 extra nodes, 42 pruned nodes, max_depth=7\u001b[0m\n",
      "\u001b[34m[93]#011train-error:0.095236#011validation-error:0.148764\u001b[0m\n",
      "\u001b[34m[00:36:45] src/tree/updater_prune.cc:74: tree pruning end, 1 roots, 40 extra nodes, 60 pruned nodes, max_depth=8\u001b[0m\n",
      "\u001b[34m[94]#011train-error:0.095031#011validation-error:0.148812\u001b[0m\n",
      "\u001b[34m[00:36:46] src/tree/updater_prune.cc:74: tree pruning end, 1 roots, 96 extra nodes, 124 pruned nodes, max_depth=8\u001b[0m\n",
      "\u001b[34m[95]#011train-error:0.094641#011validation-error:0.14886\u001b[0m\n",
      "\u001b[34m[00:36:47] src/tree/updater_prune.cc:74: tree pruning end, 1 roots, 108 extra nodes, 16 pruned nodes, max_depth=8\u001b[0m\n",
      "\u001b[34m[96]#011train-error:0.094209#011validation-error:0.148381\u001b[0m\n",
      "\u001b[34m[00:36:48] src/tree/updater_prune.cc:74: tree pruning end, 1 roots, 48 extra nodes, 84 pruned nodes, max_depth=8\u001b[0m\n",
      "\u001b[34m[97]#011train-error:0.094025#011validation-error:0.148524\u001b[0m\n",
      "\u001b[34m[00:36:49] src/tree/updater_prune.cc:74: tree pruning end, 1 roots, 168 extra nodes, 38 pruned nodes, max_depth=8\u001b[0m\n",
      "\u001b[34m[98]#011train-error:0.09384#011validation-error:0.14862\u001b[0m\n",
      "\u001b[34m[00:36:50] src/tree/updater_prune.cc:74: tree pruning end, 1 roots, 214 extra nodes, 78 pruned nodes, max_depth=8\u001b[0m\n",
      "\u001b[34m[99]#011train-error:0.093368#011validation-error:0.148716\u001b[0m\n",
      "\n",
      "2022-11-12 00:37:12 Uploading - Uploading generated training model\n",
      "2022-11-12 00:37:12 Completed - Training job completed\n",
      "Training seconds: 192\n",
      "Billable seconds: 81\n",
      "Managed Spot Training savings: 57.8%\n"
     ]
    }
   ],
   "source": [
    "estimator.fit({'train':s3_input_train, 'validation':s3_input_valid})"
   ]
  },
  {
   "cell_type": "code",
   "execution_count": null,
   "id": "d6517ad1",
   "metadata": {},
   "outputs": [],
   "source": []
  },
  {
   "cell_type": "markdown",
   "id": "91b73105",
   "metadata": {},
   "source": [
    "### Deploy ML model"
   ]
  },
  {
   "cell_type": "code",
   "execution_count": 47,
   "id": "cb250fc9",
   "metadata": {},
   "outputs": [
    {
     "name": "stdout",
     "output_type": "stream",
     "text": [
      "------!"
     ]
    }
   ],
   "source": [
    "xgb_condition_predictor = estimator.deploy(initial_instance_count = 1, instance_type='ml.m5.large',\n",
    "                                         serializer=sagemaker.serializers.CSVSerializer() )"
   ]
  },
  {
   "cell_type": "code",
   "execution_count": 39,
   "id": "4195c131",
   "metadata": {},
   "outputs": [],
   "source": [
    "# sagemaker.Session().delete_endpoint(xgb_condition_predictor.endpoint)"
   ]
  },
  {
   "cell_type": "code",
   "execution_count": 41,
   "id": "c976389f",
   "metadata": {},
   "outputs": [],
   "source": [
    "# region_name"
   ]
  },
  {
   "cell_type": "code",
   "execution_count": 42,
   "id": "8cb00cd1",
   "metadata": {},
   "outputs": [],
   "source": [
    "# import boto3\n",
    "\n",
    "# # Specify your AWS Region\n",
    "# aws_region=region_name\n",
    "\n",
    "# # Specify the name of your endpoint\n",
    "# endpoint_name='xgboost-2022-11-11-23-55-05-168'\n",
    "\n",
    "# # Create a low-level SageMaker service client.\n",
    "# sagemaker_client = boto3.client('sagemaker', region_name=aws_region)\n",
    "\n",
    "# # Delete endpoint\n",
    "# sagemaker_client.delete_endpoint(EndpointName=endpoint_name)"
   ]
  },
  {
   "cell_type": "markdown",
   "id": "974a55c8",
   "metadata": {},
   "source": [
    "### Predicts on Test Data"
   ]
  },
  {
   "cell_type": "code",
   "execution_count": 48,
   "id": "354100e6",
   "metadata": {},
   "outputs": [],
   "source": []
  },
  {
   "cell_type": "code",
   "execution_count": 49,
   "id": "58e0eea6",
   "metadata": {},
   "outputs": [],
   "source": [
    "def predict(data, predictor):\n",
    "    predictions = []\n",
    "    confidences = []\n",
    "    for row in data:\n",
    "        response = np.fromstring(predictor.predict(row).decode(\"utf-8\")[1:], sep=\",\")\n",
    "        pred = response.argmax()\n",
    "        confidence = max(response)\n",
    "        predictions.extend([pred])\n",
    "        confidences.extend([confidence])\n",
    "\n",
    "    return predictions, confidences"
   ]
  },
  {
   "cell_type": "code",
   "execution_count": 51,
   "id": "3eb2975b",
   "metadata": {},
   "outputs": [
    {
     "data": {
      "text/plain": [
       "'0.15203361213207245,0.53171306848526,0.024640358984470367,0.12627477943897247,0.15970207750797272,0.03704105317592621,0.683900773525238,0.11185868084430695,0.19280855357646942,0.20396365225315094,0.03894664719700813,0.18964733183383942,0.038110386580228806,0.08595790714025497,0.09573307633399963,0.05436033010482788,0.174422487616539,0.07120764255523682,0.07873384654521942,0.11581337451934814,0.07643716782331467,0.1364915817975998,0.08681432902812958,0.07370735704898834,0.0857640951871872,0.09271731227636337,0.2565670907497406,0.08997442573308945,0.1992834508419037,0.12607493996620178,0.03594943881034851,0.2160201519727707,0.09177536517381668,0.06457207351922989,0.1349855363368988,0.07308997958898544,0.04260220006108284,0.038506001234054565,0.32696712017059326,0.11865590512752533,0.598294198513031,0.06526705622673035,0.47588804364204407,0.06787604093551636,0.10071051865816116,0.2733558714389801,0.09273490309715271,0.024320820346474648,0.10856478661298752,0.050042521208524704,0.0744602233171463,0.1340831220149994,0.18965120613574982,0.085197813808918,0.020845532417297363,0.09302254021167755,0.08362434804439545,0.10909286886453629,0.05087260156869888,0.23438113927841187,0.043548233807086945,0.0443510040640831,0.045127514749765396,0.04301689937710762,0.6152275800704956,0.06577230989933014,0.06379327923059464,0.12850084900856018,0.06010900437831879,0.20856548845767975,0.2789500951766968,0.06392965465784073,0.06611348688602448,0.10163623839616776,0.04083569347858429,0.17399989068508148,0.21201331913471222,0.08858118951320648,0.17801102995872498,0.12127352505922318,0.1359122097492218,0.10882450640201569,0.18627288937568665,0.11309520900249481,0.3978985846042633,0.16813643276691437,0.21294726431369781,0.163931205868721,0.0889640524983406,0.13154180347919464,0.13338564336299896,0.14468656480312347,0.06706229597330093,0.06522355228662491,0.13509739935398102,0.11614342033863068,0.22984245419502258,0.14402152597904205,0.10552936792373657,0.06738674640655518,0.04111848026514053,0.10812069475650787,0.08126833289861679,0.08948148787021637,0.04792347550392151,0.028150765225291252,0.02743677981197834,0.1094016507267952,0.048539236187934875,0.09022892266511917,0.11414019763469696,0.19998429715633392,0.13673393428325653,0.08275140076875687,0.03524993732571602,0.4592457115650177,0.08961436152458191,0.06554210931062698,0.1460944414138794,0.08586758375167847,0.2874835431575775,0.113240547478199,0.05774516612291336,0.2887626588344574,0.03921256586909294,0.20983348786830902,0.1711406111717224,0.08871688693761826,0.07588347047567368,0.09539002180099487,0.1842837929725647,0.16850917041301727,0.15622122585773468,0.04775722697377205,0.05671878159046173,0.11234191060066223,0.014842821285128593,0.19174909591674805,0.03541427105665207,0.07316506654024124,0.051077455282211304,0.028417352586984634,0.1314627230167389,0.09682819992303848,0.04093306511640549,0.07874932885169983,0.5481692552566528,0.13854660093784332,0.05342578887939453,0.06354009360074997,0.043251801282167435,0.09929034113883972,0.17002858221530914,0.12983769178390503,0.07262575626373291,0.056468699127435684,0.07037196308374405,0.12500803172588348,0.04184940829873085,0.1932583451271057,0.21330219507217407,0.13110940158367157,0.05515165999531746,0.13669508695602417,0.03294598311185837,0.05443953350186348,0.06973695009946823,0.14560501277446747,0.07084228098392487,0.09657555818557739,0.29958149790763855,0.43654075264930725,0.0635228231549263,0.13538965582847595,0.022083694115281105,0.0330086313188076,0.05191142112016678,0.36376044154167175,0.11156708002090454,0.5586307048797607,0.10231740772724152,0.3935927748680115,0.0870099887251854,0.1944890171289444,0.18046081066131592,0.3247675597667694,0.41318726539611816,0.0982876569032669,0.2464650273323059,0.26734521985054016,0.09020768851041794,0.049376510083675385,0.01661338284611702,0.11467519402503967,0.04024432227015495,0.0665825679898262,0.08014106005430222,0.06220178306102753,0.024386726319789886,0.24797677993774414,0.10670363903045654,0.11856571584939957,0.5156621336936951,0.0760720744729042,0.15222740173339844,0.07681865245103836,0.1090962290763855,0.023309867829084396,0.06102453172206879,0.15850715339183807,0.15773828327655792,0.8199067115783691,0.10418413579463959,0.07214215397834778,0.03382115438580513,0.15678173303604126,0.10269762575626373,0.023327196016907692,0.08532734960317612,0.017147311940789223,0.1520451009273529,0.20621661841869354,0.09451504051685333,0.08941540122032166,0.3000854253768921,0.04897981882095337,0.05738397687673569,0.010704775340855122,0.06767606735229492,0.12719769775867462,0.08977355808019638,0.06560567021369934,0.4150374233722687,0.15780583024024963,0.6875264048576355,0.41734009981155396,0.13622449338436127,0.19991393387317657,0.052080243825912476,0.10543036460876465,0.022909892722964287,0.019046805799007416,0.12913410365581512,0.059392184019088745,0.11405288428068161,0.040315017104148865,0.31022581458091736,0.08389759063720703,0.18830209970474243,0.016033465042710304,0.10251525044441223,0.11637532711029053,0.1501610279083252,0.1884513795375824,0.11655257642269135,0.11142969876527786,0.22933422029018402,0.10313241183757782,0.05447925254702568,0.08464495092630386,0.1165672317147255,0.27974510192871094,0.34572461247444153,0.04920473322272301,0.3325153589248657,0.4089602828025818,0.05642552673816681,0.03451559320092201,0.15415997803211212,0.09331308305263519,0.03304789960384369,0.008373093791306019,0.19961272180080414,0.05362626910209656,0.12758782505989075,0.07831832021474838,0.1130337342619896,0.09134034067392349,0.10650289058685303,0.6363546848297119,0.034871168434619904,0.11409088224172592,0.06737225502729416,0.04229272902011871,0.08308399468660355,0.8650972247123718,0.13594947755336761,0.06046813353896141,0.06989624351263046,0.2136959731578827,0.11006024479866028,0.12379715591669083,0.05822549760341644,0.15492188930511475,0.05279148370027542,0.02659532241523266,0.02422183007001877,0.15486790239810944,0.11607325077056885,0.09705478698015213,0.12064909189939499,0.06498385220766068,0.10724560916423798,0.04672155901789665,0.07406273484230042,0.17814329266548157,0.041224393993616104,0.05065012350678444,0.025565266609191895,0.11966636031866074,0.06074738875031471,0.6839401125907898,0.042543165385723114,0.11220496147871017,0.10030829161405563,0.14009933173656464,0.024647602811455727,0.07294198870658875,0.12911437451839447,0.064328134059906,0.04278704524040222,0.020464280620217323,0.11378989368677139,0.06551764905452728,0.6184781789779663,0.3222094774246216,0.1130380779504776,0.12182782590389252,0.04505886510014534,0.06236274912953377,0.12482348829507828,0.1067495122551918,0.21176958084106445,0.05556531250476837,0.0607968270778656,0.03208504244685173,0.08077867329120636,0.07395787537097931,0.05728258937597275,0.34989821910858154,0.1758730709552765,0.1704936921596527,0.10608728229999542,0.18446294963359833,0.13213756680488586,0.0383477546274662,0.25303149223327637,0.06122874096035957,0.4962101876735687,0.7184303402900696,0.07220954447984695,0.17924617230892181,0.11867240816354752,0.1508142501115799,0.17694230377674103,0.041824471205472946,0.08098907768726349,0.06074431911110878,0.056271255016326904,0.11990860104560852,0.1414676308631897,0.0423177108168602,0.11500035226345062,0.7077494859695435,0.0803898423910141,0.27193382382392883,0.07897330075502396,0.5672847628593445,0.14016421139240265,0.06579466909170151,0.0292061697691679,0.04000471532344818,0.15859928727149963,0.1173483207821846,0.12550006806850433,0.06427915394306183,0.07209254056215286,0.1349916160106659,0.07722495496273041,0.013620509766042233,0.12444781512022018,0.03187350183725357,0.11458446830511093,0.1310187727212906,0.12058248370885849,0.06255608052015305,0.0652003139257431,0.16666631400585175,0.13390693068504333,0.12544387578964233,0.16432608664035797,0.0808073878288269,0.14002825319766998,0.05044242739677429,0.35287755727767944,0.060056544840335846,0.10814104229211807,0.12934181094169617,0.266175776720047,0.0530579574406147,0.1889185607433319,0.06964494287967682,0.08464519679546356,0.07941555231809616,0.06939771771430969,0.14326833188533783,0.46745526790618896,0.14360491931438446,0.0839112401008606,0.18428543210029602,0.07742167264223099,0.13583306968212128,0.15518434345722198,0.14327161014080048,0.5323826670646667,0.07648588716983795,0.04577158764004707,0.24008804559707642,0.16919812560081482,0.1306588351726532,0.06819033622741699,0.15644428133964539,0.02787919156253338,0.05243568867444992,0.060767680406570435,0.08571309596300125,0.04050450026988983,0.0980972945690155,0.07706662267446518,0.062302116304636,0.18687692284584045,0.03264159709215164,0.09016638994216919,0.06857159733772278,0.1264907866716385,0.08292797952890396,0.025704916566610336,0.08643347024917603,0.13681262731552124,0.039424628019332886,0.10004502534866333,0.6678721904754639,0.17018333077430725,0.09148702025413513,0.1819470226764679,0.09846504032611847,0.1592920571565628,0.181651309132576,0.5190672874450684,0.0963226929306984,0.07372303307056427,0.040197957307100296,0.09699097275733948,0.1899402141571045,0.23148269951343536,0.06518164277076721,0.10779039561748505,0.15367403626441956,0.1838436722755432,0.15083983540534973,0.3074512183666229,0.13098466396331787,0.11024950444698334,0.1371234804391861,0.09805146604776382,0.07192106544971466,0.07672979682683945,0.06766773760318756,0.07894646376371384,0.181651309132576,0.1418539583683014,0.07142427563667297,0.07493197172880173,0.06490574032068253,0.48778361082077026,0.10512440651655197,0.08608662337064743,0.15455803275108337,0.10233131796121597,0.04778270050883293,0.2644512951374054,0.144269198179245,0.1241697445511818,0.06088772416114807,0.026103150099515915,0.1008295863866806,0.07523294538259506,0.16445471346378326,0.26285263895988464,0.07356919348239899,0.1056424155831337,0.06155036762356758,0.0502539686858654,0.12010962516069412,0.1453648954629898,0.5757917165756226,0.10896081477403641,0.11058417707681656,0.0929507315158844,0.10307183116674423,0.21661414206027985,0.09111358970403671,0.028636250644922256,0.11398210376501083,0.09741505235433578,0.03565818816423416,0.23962023854255676,0.045303236693143845,0.11228317022323608,0.06200777366757393,0.04084992781281471,0.01726822555065155,0.16622816026210785,0.06068863347172737,0.20804186165332794,0.07050065696239471,0.16047880053520203,0.06989462673664093,0.08703042566776276,0.06884583830833435,0.15693990886211395,0.10824746638536453,0.23728087544441223,0.06840994954109192,0.11325324326753616,0.06656443327665329,0.07018168270587921,0.7464348673820496,0.23874099552631378,0.1355253905057907,0.12500803172588348,0.8247336149215698,0.026650933548808098,0.07285669445991516,0.5245609879493713,0.24982818961143494,0.0455518513917923,0.053933851420879364,0.03414866700768471,0.06587852537631989,0.05596674978733063,0.13657432794570923,0.06592988222837448,0.03894248604774475,0.039386309683322906,0.08516041189432144,0.352245956659317,0.15959016978740692,0.12641260027885437,0.12669725716114044,0.06738296896219254,0.04328851029276848,0.16984912753105164,0.07973819226026535,0.08475537598133087,0.03634082153439522,0.11235222220420837,0.10343901813030243,0.12935607135295868,0.17271292209625244,0.728260338306427,0.08007504791021347,0.698829710483551,0.13618209958076477,0.1808944195508957,0.13372279703617096,0.12767097353935242,0.12064120918512344,0.05610591545701027,0.10992003232240677,0.12753717601299286,0.24043679237365723,0.6858874559402466,0.2329128533601761,0.016857609152793884,0.09647390991449356,0.2208203375339508,0.08986411243677139,0.1305275708436966,0.06733042746782303,0.12552843987941742,0.1877031922340393,0.07439938187599182,0.5335124731063843,0.06386204808950424,0.14590121805667877,0.21170571446418762,0.181651309132576,0.011569431982934475,0.06098615750670433,0.4075804054737091,0.06423947215080261,0.1683110147714615,0.4209810793399811,0.07126613706350327,0.06393827497959137,0.13453353941440582,0.032092224806547165,0.018334589898586273,0.11816833913326263,0.23237916827201843,0.07524019479751587,0.08617976307868958,0.1087825819849968,0.08270017802715302,0.11659111827611923,0.03204399719834328,0.10566302388906479,0.10645829886198044,0.041948895901441574,0.021554235368967056,0.050295647233724594,0.550666093826294,0.016983335837721825,0.07234904915094376,0.1011231392621994,0.02720031701028347,0.181651309132576,0.1122993528842926,0.13162237405776978,0.13192057609558105,0.6772390604019165,0.12618081271648407,0.6639297604560852,0.0696522518992424,0.18599343299865723,0.11480577290058136,0.05106940492987633,0.1563258171081543,0.04263610392808914,0.1758730709552765,0.3259880244731903,0.09763242304325104,0.12020578980445862,0.1103425994515419,0.06743203848600388,0.08200784027576447,0.04190690815448761,0.08964400738477707,0.08468170464038849,0.04708945006132126,0.06062702834606171,0.09419427812099457,0.05127112939953804,0.4177369773387909,0.06677789241075516,0.13214130699634552,0.053967561572790146,0.1275278627872467,0.07138624042272568,0.08912137895822525,0.09502922743558884,0.08086289465427399,0.07605255395174026,0.10931229591369629,0.04546087235212326,0.10363705456256866,0.06457550078630447,0.2659204602241516,0.03348463401198387,0.0608174130320549,0.07042627781629562,0.05615361034870148,0.15310238301753998,0.224488765001297,0.2938576340675354,0.039894625544548035,0.11556996405124664,0.07161411643028259,0.15537260472774506,0.036947011947631836,0.10015210509300232,0.05627201497554779,0.17258642613887787,0.15426105260849,0.0636291652917862,0.06073205545544624,0.07342104613780975,0.7904630303382874,0.1699366271495819,0.02738029696047306,0.04250352084636688,0.32322436571121216,0.03899545595049858,0.06350420415401459,0.10808166861534119,0.06251253932714462,0.02013910375535488,0.06134350225329399,0.04493901878595352,0.06417375057935715,0.04354223981499672,0.5252864956855774,0.12519694864749908,0.07203734666109085,0.7637920379638672,0.07400202006101608,0.20615185797214508,0.056751761585474014,0.17117439210414886,0.16270339488983154,0.04593773931264877,0.1453234702348709,0.0698319748044014,0.07901342213153839,0.1506194770336151,0.05143846198916435,0.11859114468097687,0.052722830325365067,0.0253764521330595,0.17802977561950684,0.056318510323762894,0.2248450666666031,0.21842065453529358,0.07906193286180496,0.02709556743502617,0.07085993885993958,0.20357748866081238,0.13268166780471802,0.45414605736732483,0.12548990547657013,0.12871412932872772,0.10263536870479584,0.06945399940013885,0.0976635068655014,0.7045655846595764,0.04049096629023552,0.075654037296772,0.0974278375506401,0.6066154837608337,0.0913374125957489,0.44010868668556213,0.12681996822357178,0.023467447608709335,0.12308556586503983,0.1326141506433487,0.5808332562446594,0.13566669821739197,0.10277704149484634,0.051033563911914825,0.1550525724887848,0.06217603757977486,0.052749186754226685,0.09413241595029831,0.17678140103816986,0.07348368316888809,0.11808209866285324,0.06995884329080582,0.13087236881256104,0.19785639643669128,0.13552619516849518,0.09837513417005539,0.07528757303953171,0.08737190812826157,0.060481492429971695,0.03408345207571983,0.04119604825973511,0.08433512598276138,0.05751395225524902,0.09426727145910263,0.07310489565134048,0.056003060191869736,0.06538591533899307,0.04618648439645767,0.1841944307088852,0.03799382597208023,0.1517856866121292,0.047411397099494934,0.056559059768915176,0.0516212172806263,0.03423382341861725,0.14780229330062866,0.3158685266971588,0.07108437269926071,0.0648578479886055,0.39586442708969116,0.6436349153518677,0.06141284853219986,0.9022732973098755,0.046508170664310455,0.08927379548549652,0.06305897235870361,0.11991594731807709,0.1422995775938034,0.04113418981432915,0.08746550232172012,0.14157699048519135,0.03745868802070618,0.10338681191205978,0.1313513219356537,0.8204100131988525,0.181651309132576,0.03936884179711342,0.7360255718231201,0.06994486600160599,0.12208538502454758,0.05252797156572342,0.05523771047592163,0.018783770501613617,0.09495583176612854,0.22401975095272064,0.15110032260417938,0.12865184247493744,0.08948346227407455,0.24855664372444153,0.04391411691904068,0.5359314680099487,0.17527444660663605,0.11623585969209671,0.07216678559780121,0.10757610201835632,0.07325461506843567,0.025088954716920853,0.03609952703118324,0.11215148121118546,0.08041829615831375,0.3235888183116913,0.07129497081041336,0.608262300491333,0.09080296009778976,0.054924964904785156,0.4224323630332947,0.044809214770793915,0.12765417993068695,0.13443559408187866,0.04000037536025047,0.16652488708496094,0.09664890915155411,0.09628566354513168,0.16125693917274475,0.07381970435380936,0.0724809467792511,0.039245255291461945,0.07122492790222168,0.23024322092533112,0.23758383095264435,0.08394434303045273,0.1296466439962387,0.10570742189884186,0.12754316627979279,0.23119260370731354,0.1858425885438919,0.10121020674705505,0.3284381628036499,0.06010166555643082,0.13828745484352112,0.11095376312732697,0.11192075908184052,0.10956350713968277,0.05131988599896431,0.12752583622932434,0.10388211905956268,0.026527605950832367,0.08239180594682693,0.19308370351791382,0.18539853394031525,0.02433714084327221,0.17355771362781525,0.1039513424038887,0.14189065992832184,0.03812418878078461,0.12892165780067444,0.1463525891304016,0.42887693643569946,0.10788536071777344,0.20143094658851624,0.8551521897315979,0.061493970453739166,0.03621988743543625,0.038362253457307816,0.06340730935335159,0.21196343004703522,0.04179339110851288,0.22406375408172607,0.05122286081314087,0.10788226127624512,0.03195269778370857,0.06034105643630028,0.11287244409322739,0.1918339729309082,0.05228558927774429,0.5945875644683838,0.06582742929458618,0.03982236236333847,0.11273672431707382,0.08707772195339203,0.08126354217529297,0.6971898674964905,0.078622967004776,0.05729023739695549,0.09147749096155167,0.12772972881793976,0.07132115215063095,0.09313727915287018,0.07852790504693985,0.09320159256458282,0.10558757930994034,0.08350911736488342,0.08467810600996017,0.4921422600746155,0.10454026609659195,0.03304759040474892,0.06527716666460037,0.03496712073683739,0.1022786945104599,0.08576039224863052,0.18194223940372467,0.09073302894830704,0.1368948072195053,0.05720615014433861,0.0694398432970047,0.09705536812543869,0.13434657454490662,0.172067791223526,0.046502791345119476,0.11729446053504944,0.05825265496969223,0.06144435703754425,0.0594620555639267,0.08430224657058716,0.10570625215768814,0.1246030181646347,0.09110096842050552,0.14390908181667328,0.07138236612081528,0.10999756306409836,0.04808225482702255,0.06121358647942543,0.05162879079580307,0.052188608795404434,0.11116200685501099,0.0906711295247078,0.02549908496439457,0.12858405709266663,0.05084214732050896,0.24335035681724548,0.08486250042915344,0.7925883531570435,0.09804411232471466,0.05629732832312584,0.181651309132576,0.07725885510444641,0.10635323822498322,0.2746940553188324,0.031637948006391525,0.06692775338888168,0.0423789843916893,0.11923858523368835,0.12534338235855103,0.14680859446525574,0.18107016384601593,0.09363303333520889,0.1761186718940735,0.08146907389163971,0.026333775371313095,0.2610125243663788,0.15093156695365906,0.7365076541900635,0.062356527894735336,0.3378811478614807,0.06611695885658264,0.1303374171257019,0.015395114198327065,0.1692364662885666,0.08207615464925766,0.0880817323923111,0.11821576952934265,0.10226869583129883,0.08507736772298813,0.10374654829502106,0.08154082298278809,0.07267522811889648,0.08062054961919785,0.08191297203302383,0.17774243652820587,0.2905007600784302,0.06821417063474655,0.096639484167099,0.07295612245798111,0.07031254470348358,0.08355481922626495,0.1377810537815094,0.18104924261569977,0.1053876057267189,0.13674862682819366,0.13424043357372284,0.08413254469633102,0.37800776958465576,0.07943488657474518,0.049860529601573944,0.11827446520328522,0.05608639493584633,0.06768476217985153,0.08623535931110382,0.09736581891775131,0.054609186947345734,0.06269420683383942,0.11339166015386581,0.10529012978076935,0.0717063620686531'"
      ]
     },
     "execution_count": 51,
     "metadata": {},
     "output_type": "execute_result"
    }
   ],
   "source": [
    "xgb_condition_predictor.predict(train_model_df.head(1000).drop(columns = 'transportation_issues').to_numpy()).decode(\"utf-8\")"
   ]
  },
  {
   "cell_type": "code",
   "execution_count": null,
   "id": "d38fbff7",
   "metadata": {},
   "outputs": [],
   "source": []
  },
  {
   "cell_type": "code",
   "execution_count": null,
   "id": "3b0988ed",
   "metadata": {},
   "outputs": [],
   "source": []
  },
  {
   "cell_type": "code",
   "execution_count": null,
   "id": "1dc13297",
   "metadata": {},
   "outputs": [],
   "source": []
  },
  {
   "cell_type": "code",
   "execution_count": null,
   "id": "c9019b76",
   "metadata": {},
   "outputs": [],
   "source": []
  },
  {
   "cell_type": "markdown",
   "id": "73473bf8",
   "metadata": {},
   "source": [
    "### Test Data\n",
    "\n"
   ]
  },
  {
   "cell_type": "code",
   "execution_count": null,
   "id": "6b1b9579",
   "metadata": {},
   "outputs": [],
   "source": [
    "def sum_feature_generation_test(df, categories):\n",
    "    for category in categories:\n",
    "        new_ind_name = category + \"_ind_sum\"\n",
    "        subset_cols_criteria = \"_\" + category + \"_\"\n",
    "        subset_cols = [x for x in df.columns if subset_cols_criteria in x and '_ind' in x]\n",
    "        df[new_ind_name] = df[subset_cols].apply(pd.to_numeric, errors='coerce').sum(axis=1)\n",
    "        df[subset_cols] = df[subset_cols].astype(\"category\")\n",
    "        df[new_ind_name] = df[new_ind_name].astype(\"category\")\n",
    "\n",
    "        \n",
    "\n",
    "        new_pmpm_name = category + \"_pmpm_sum\"\n",
    "        subset_cols_criteria = \"_\" + category + \"_\"\n",
    "        subset_cols = [x for x in df.columns if subset_cols_criteria in x and '_pmpm' in x]\n",
    "\n",
    "        df[new_pmpm_name] = df[subset_cols].apply(pd.to_numeric, errors='coerce').sum(axis=1)\n",
    "        numerical_cols.append(new_pmpm_name)\n",
    "#         df = add_columns(df=df, col_name=new_ind_name, columns= subset_cols)\n",
    "    return (df)"
   ]
  },
  {
   "cell_type": "code",
   "execution_count": 10,
   "id": "0de00997",
   "metadata": {},
   "outputs": [],
   "source": [
    "def total_sum_features_test(df):\n",
    "    df['total_ind'] = df[df.columns[df.columns.str.contains('_ind_sum')]].sum(axis=1)\n",
    "    df['total_ind'] = df['total_ind'].apply(pd.to_numeric, errors = 'coerce')\n",
    "    \n",
    "    df['total_pmpm'] = df[df.columns[df.columns.str.contains('_pmpm_sum')]].sum(axis=1)\n",
    "    df['total_pmpm'] = df['total_pmpm'].apply(pd.to_numeric, errors = 'coerce')\n",
    "\n",
    "    df['service_bool'] = np.where(df['total_ind'] == 0, 0, 1)\n",
    "    df['service_bool'] = df['service_bool'].astype(\"category\")\n",
    "    return df"
   ]
  },
  {
   "cell_type": "code",
   "execution_count": 11,
   "id": "6803d30b",
   "metadata": {},
   "outputs": [],
   "source": [
    "def data_type_conversion_test(df, categorical_cols, numerical_cols):\n",
    "    for col in numerical_cols:\n",
    "        test_df[col] = test_df[col].apply(pd.to_numeric)\n",
    "    df[categorical_cols] = df[categorical_cols].astype(\"category\")\n",
    "    return df"
   ]
  },
  {
   "cell_type": "code",
   "execution_count": 12,
   "id": "0b7c39ef",
   "metadata": {},
   "outputs": [
    {
     "name": "stderr",
     "output_type": "stream",
     "text": [
      "/home/ec2-user/anaconda3/envs/python3/lib/python3.8/site-packages/IPython/core/interactiveshell.py:3524: DtypeWarning: Columns (79) have mixed types.Specify dtype option on import or set low_memory=False.\n",
      "  exec(code_obj, self.user_global_ns, self.user_ns)\n"
     ]
    }
   ],
   "source": [
    "\n",
    "sess = sagemaker.Session()\n",
    "role = get_execution_role()\n",
    "\n",
    "conn = boto3.client('s3')\n",
    "\n",
    "bucket = \"humana-data\"\n",
    "prefix_testdata = 'rawdata/original_raw_files/test'\n",
    "filename_test = \"2020_Competition_Holdout.csv\"\n",
    "key_test = prefix_testdata + '/' + filename_test\n",
    "location_test = 's3://{}/{}'.format(bucket, key_test)\n",
    "\n",
    "test_df = pd.read_csv(location_test)\n",
    "test_df = test_df.set_index(['person_id_syn'])\n",
    "\n",
    "test_df_backup = test_df.copy()"
   ]
  },
  {
   "cell_type": "code",
   "execution_count": 15,
   "id": "6066f6c1",
   "metadata": {},
   "outputs": [],
   "source": [
    "# # to read the file\n",
    "prefix_metadata = \"intermediate/condition/models/metadata\"\n",
    "filename_metadata = prefix_metadata + '/' + 'metadata_dict'\n",
    "\n",
    "metadata_dict = conn.get_object(Bucket=bucket, Key=filename_metadata)\n",
    "serializedObject = metadata_dict['Body'].read()\n",
    "metadata_dict = pickle.loads(serializedObject)\n",
    "categorical_cols = metadata_dict['categorical_cols']\n",
    "numerical_cols = metadata_dict['numerical_cols']"
   ]
  },
  {
   "cell_type": "code",
   "execution_count": 18,
   "id": "a7621c8a",
   "metadata": {},
   "outputs": [
    {
     "name": "stderr",
     "output_type": "stream",
     "text": [
      "/tmp/ipykernel_3429/3101961034.py:16: PerformanceWarning: DataFrame is highly fragmented.  This is usually the result of calling `frame.insert` many times, which has poor performance.  Consider joining all columns at once using pd.concat(axis=1) instead.  To get a de-fragmented frame, use `newframe = frame.copy()`\n",
      "  df[new_pmpm_name] = df[subset_cols].apply(pd.to_numeric, errors='coerce').sum(axis=1)\n",
      "/tmp/ipykernel_3429/3101961034.py:6: PerformanceWarning: DataFrame is highly fragmented.  This is usually the result of calling `frame.insert` many times, which has poor performance.  Consider joining all columns at once using pd.concat(axis=1) instead.  To get a de-fragmented frame, use `newframe = frame.copy()`\n",
      "  df[new_ind_name] = df[subset_cols].apply(pd.to_numeric, errors='coerce').sum(axis=1)\n",
      "/tmp/ipykernel_3429/3541994272.py:2: PerformanceWarning: DataFrame is highly fragmented.  This is usually the result of calling `frame.insert` many times, which has poor performance.  Consider joining all columns at once using pd.concat(axis=1) instead.  To get a de-fragmented frame, use `newframe = frame.copy()`\n",
      "  df['total_ind'] = df[df.columns[df.columns.str.contains('_ind_sum')]].sum(axis=1)\n",
      "/tmp/ipykernel_3429/3541994272.py:5: PerformanceWarning: DataFrame is highly fragmented.  This is usually the result of calling `frame.insert` many times, which has poor performance.  Consider joining all columns at once using pd.concat(axis=1) instead.  To get a de-fragmented frame, use `newframe = frame.copy()`\n",
      "  df['total_pmpm'] = df[df.columns[df.columns.str.contains('_pmpm_sum')]].sum(axis=1)\n",
      "/tmp/ipykernel_3429/3541994272.py:8: PerformanceWarning: DataFrame is highly fragmented.  This is usually the result of calling `frame.insert` many times, which has poor performance.  Consider joining all columns at once using pd.concat(axis=1) instead.  To get a de-fragmented frame, use `newframe = frame.copy()`\n",
      "  df['service_bool'] = np.where(df['total_ind'] == 0, 0, 1)\n"
     ]
    }
   ],
   "source": [
    "test_df = sum_feature_generation_test(df=test_df, categories=params.categories)\n",
    "test_df = total_sum_features_test(df = test_df)"
   ]
  },
  {
   "cell_type": "code",
   "execution_count": 20,
   "id": "019e3425",
   "metadata": {},
   "outputs": [],
   "source": [
    "test_df = test_df[categorical_cols + numerical_cols]"
   ]
  },
  {
   "cell_type": "code",
   "execution_count": 21,
   "id": "087940b4",
   "metadata": {},
   "outputs": [
    {
     "name": "stderr",
     "output_type": "stream",
     "text": [
      "/home/ec2-user/anaconda3/envs/python3/lib/python3.8/site-packages/pandas/core/frame.py:3699: SettingWithCopyWarning: \n",
      "A value is trying to be set on a copy of a slice from a DataFrame.\n",
      "Try using .loc[row_indexer,col_indexer] = value instead\n",
      "\n",
      "See the caveats in the documentation: https://pandas.pydata.org/pandas-docs/stable/user_guide/indexing.html#returning-a-view-versus-a-copy\n",
      "  self[iloc] = igetitem(value, i)\n"
     ]
    }
   ],
   "source": [
    "test_df[categorical_cols] = np.where(test_df[categorical_cols] != 0, 1,0)"
   ]
  },
  {
   "cell_type": "code",
   "execution_count": 22,
   "id": "e4e31209",
   "metadata": {},
   "outputs": [
    {
     "name": "stderr",
     "output_type": "stream",
     "text": [
      "/tmp/ipykernel_3429/1345149298.py:3: SettingWithCopyWarning: \n",
      "A value is trying to be set on a copy of a slice from a DataFrame.\n",
      "Try using .loc[row_indexer,col_indexer] = value instead\n",
      "\n",
      "See the caveats in the documentation: https://pandas.pydata.org/pandas-docs/stable/user_guide/indexing.html#returning-a-view-versus-a-copy\n",
      "  test_df[col] = test_df[col].apply(pd.to_numeric)\n",
      "/home/ec2-user/anaconda3/envs/python3/lib/python3.8/site-packages/pandas/core/frame.py:3641: SettingWithCopyWarning: \n",
      "A value is trying to be set on a copy of a slice from a DataFrame.\n",
      "Try using .loc[row_indexer,col_indexer] = value instead\n",
      "\n",
      "See the caveats in the documentation: https://pandas.pydata.org/pandas-docs/stable/user_guide/indexing.html#returning-a-view-versus-a-copy\n",
      "  self[k1] = value[k2]\n"
     ]
    }
   ],
   "source": [
    "test_df = data_type_conversion_test(df= test_df, \n",
    "                                 categorical_cols=categorical_cols, \n",
    "                                 numerical_cols=numerical_cols)"
   ]
  },
  {
   "cell_type": "code",
   "execution_count": 23,
   "id": "decdbf4a",
   "metadata": {},
   "outputs": [],
   "source": [
    "\n",
    "prefix_model = \"intermediate/condition/models\"\n",
    "filename_encoder ='enc.pkl'\n",
    "path = prefix_model + '/' + filename_encoder\n",
    "\n",
    "# READ\n",
    "with tempfile.TemporaryFile() as fp:\n",
    "    conn.download_fileobj(Fileobj=fp, Bucket=bucket, Key=path)\n",
    "    fp.seek(0)\n",
    "    enc = joblib.load(fp)"
   ]
  },
  {
   "cell_type": "code",
   "execution_count": 24,
   "id": "064c8810",
   "metadata": {},
   "outputs": [],
   "source": [
    "one_hot_encode_cols = [x for x in categorical_cols if x != params.dependent_variable]"
   ]
  },
  {
   "cell_type": "code",
   "execution_count": 76,
   "id": "3e0ca2f6",
   "metadata": {},
   "outputs": [
    {
     "name": "stderr",
     "output_type": "stream",
     "text": [
      "/home/ec2-user/anaconda3/envs/python3/lib/python3.8/site-packages/sklearn/base.py:445: UserWarning: X does not have valid feature names, but OneHotEncoder was fitted with feature names\n",
      "  warnings.warn(\n"
     ]
    }
   ],
   "source": [
    "test_df_encoded = pd.DataFrame(enc.transform(np.asarray(test_df[one_hot_encode_cols], dtype=object)), index=test_df.index)\n",
    "test_df_encoded.columns = enc.get_feature_names_out()\n",
    "\n",
    "test_model_df = pd.concat([test_df.drop(one_hot_encode_cols, axis=1), test_df_encoded], axis=1, ignore_index=False)"
   ]
  },
  {
   "cell_type": "code",
   "execution_count": 83,
   "id": "d73d604b",
   "metadata": {},
   "outputs": [],
   "source": [
    "test_model_np = test_model_df.to_numpy()"
   ]
  },
  {
   "cell_type": "code",
   "execution_count": 78,
   "id": "f4d202f0",
   "metadata": {},
   "outputs": [],
   "source": []
  },
  {
   "cell_type": "code",
   "execution_count": 79,
   "id": "cf848360",
   "metadata": {},
   "outputs": [],
   "source": [
    "def predict(data, predictor):\n",
    "    predictions = []\n",
    "    confidences = []\n",
    "    for row in data:\n",
    "        response = np.fromstring(predictor.predict(row).decode(\"utf-8\")[1:], sep=\",\")\n",
    "        pred = response.argmax()\n",
    "        confidence = max(response)\n",
    "        predictions.extend([pred])\n",
    "        confidences.extend([confidence])\n",
    "\n",
    "    return predictions, confidences"
   ]
  },
  {
   "cell_type": "code",
   "execution_count": null,
   "id": "0acb8577",
   "metadata": {},
   "outputs": [],
   "source": [
    "xgb_condition_predictor.predict(train_model_df.head(1000).drop(columns = 'transportation_issues').to_numpy()).decode(\"utf-8\")"
   ]
  },
  {
   "cell_type": "code",
   "execution_count": null,
   "id": "7d8cf412",
   "metadata": {},
   "outputs": [],
   "source": []
  },
  {
   "cell_type": "code",
   "execution_count": null,
   "id": "60925e90",
   "metadata": {},
   "outputs": [],
   "source": []
  },
  {
   "cell_type": "code",
   "execution_count": null,
   "id": "9f26513e",
   "metadata": {},
   "outputs": [],
   "source": []
  }
 ],
 "metadata": {
  "kernelspec": {
   "display_name": "conda_python3",
   "language": "python",
   "name": "conda_python3"
  },
  "language_info": {
   "codemirror_mode": {
    "name": "ipython",
    "version": 3
   },
   "file_extension": ".py",
   "mimetype": "text/x-python",
   "name": "python",
   "nbconvert_exporter": "python",
   "pygments_lexer": "ipython3",
   "version": "3.8.12"
  }
 },
 "nbformat": 4,
 "nbformat_minor": 5
}
