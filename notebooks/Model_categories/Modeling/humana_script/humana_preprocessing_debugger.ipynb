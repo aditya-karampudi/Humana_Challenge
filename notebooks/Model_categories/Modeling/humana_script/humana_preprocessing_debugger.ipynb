{
 "cells": [
  {
   "cell_type": "code",
   "execution_count": 1,
   "id": "643b86df",
   "metadata": {},
   "outputs": [],
   "source": [
    "import humana_preprocessing as hf\n",
    "import sagemaker\n",
    "import os\n",
    "\n",
    "import boto3"
   ]
  },
  {
   "cell_type": "code",
   "execution_count": 2,
   "id": "55d2674f",
   "metadata": {},
   "outputs": [],
   "source": [
    "import humana_package.constants as params"
   ]
  },
  {
   "cell_type": "code",
   "execution_count": 3,
   "id": "d6bbf205",
   "metadata": {},
   "outputs": [
    {
     "data": {
      "text/plain": [
       "'s3://humana-data/rawdata/original_raw_files/train'"
      ]
     },
     "execution_count": 3,
     "metadata": {},
     "output_type": "execute_result"
    }
   ],
   "source": [
    "bucket = \"humana-data\"\n",
    "train_input = 's3://{}/rawdata/original_raw_files/train'.format(bucket)\n",
    "train_input"
   ]
  },
  {
   "cell_type": "code",
   "execution_count": 4,
   "id": "295afd60",
   "metadata": {
    "scrolled": true
   },
   "outputs": [
    {
     "name": "stdout",
     "output_type": "stream",
     "text": [
      "['s3://humana-data/rawdata/original_raw_files/train/condition.csv', 's3://humana-data/rawdata/original_raw_files/train/credit.csv', 's3://humana-data/rawdata/original_raw_files/train/dependent.csv']\n",
      "The files used for processing the train data ['s3://humana-data/rawdata/original_raw_files/train/condition.csv', 's3://humana-data/rawdata/original_raw_files/train/credit.csv', 's3://humana-data/rawdata/original_raw_files/train/dependent.csv']\n",
      "Successfully imported data from S3. Shape of the train data (10000, 438)\n",
      "0    0\n",
      "1    0\n",
      "2    0\n",
      "3    0\n",
      "4    0\n",
      "Name: transportation_issues, dtype: int64\n",
      "Successfully imported data from S3. Shape of the train data (10000, 438)\n",
      "Preprocessed train data\n",
      "Saved the files\n"
     ]
    }
   ],
   "source": [
    "%run humana_preprocessing.py --train_or_test=\"train\" --debugger=True \\\n",
    "--input_data_path='s3://humana-data/rawdata/original_raw_files/train'"
   ]
  },
  {
   "cell_type": "code",
   "execution_count": 6,
   "id": "688d56f8",
   "metadata": {},
   "outputs": [],
   "source": [
    "import humana_package.constants as params"
   ]
  },
  {
   "cell_type": "code",
   "execution_count": 10,
   "id": "520d9e03",
   "metadata": {},
   "outputs": [
    {
     "data": {
      "text/html": [
       "<div>\n",
       "<style scoped>\n",
       "    .dataframe tbody tr th:only-of-type {\n",
       "        vertical-align: middle;\n",
       "    }\n",
       "\n",
       "    .dataframe tbody tr th {\n",
       "        vertical-align: top;\n",
       "    }\n",
       "\n",
       "    .dataframe thead th {\n",
       "        text-align: right;\n",
       "    }\n",
       "</style>\n",
       "<table border=\"1\" class=\"dataframe\">\n",
       "  <thead>\n",
       "    <tr style=\"text-align: right;\">\n",
       "      <th></th>\n",
       "      <th>credit_bal_1stmtgcredit_60dpd</th>\n",
       "      <th>credit_bal_agencyfirstmtg_60dpd</th>\n",
       "      <th>credit_bal_heloc_60dpd</th>\n",
       "      <th>credit_bal_nonagnfirstmtg_60dpd</th>\n",
       "      <th>credit_bal_nonmtgcredit_60dpd</th>\n",
       "      <th>credit_bal_studentloan_60dpd</th>\n",
       "      <th>credit_bal_totalallcredit_60dpd</th>\n",
       "      <th>credit_bal_autobank</th>\n",
       "      <th>credit_bal_autofinance</th>\n",
       "      <th>credit_bal_consumerfinance</th>\n",
       "      <th>...</th>\n",
       "      <th>sor_ind_sum</th>\n",
       "      <th>sor_pmpm_sum</th>\n",
       "      <th>trm_ind_sum</th>\n",
       "      <th>trm_pmpm_sum</th>\n",
       "      <th>vco_ind_sum</th>\n",
       "      <th>vco_pmpm_sum</th>\n",
       "      <th>total_ind</th>\n",
       "      <th>total_pmpm</th>\n",
       "      <th>service_bool</th>\n",
       "      <th>transportation_issues</th>\n",
       "    </tr>\n",
       "  </thead>\n",
       "  <tbody>\n",
       "    <tr>\n",
       "      <th>0</th>\n",
       "      <td>864.263515</td>\n",
       "      <td>364.200415</td>\n",
       "      <td>9.100900</td>\n",
       "      <td>569.012631</td>\n",
       "      <td>3059.660249</td>\n",
       "      <td>3215.762022</td>\n",
       "      <td>5817.811692</td>\n",
       "      <td>2245.510843</td>\n",
       "      <td>2172.577397</td>\n",
       "      <td>699.143043</td>\n",
       "      <td>...</td>\n",
       "      <td>0.0</td>\n",
       "      <td>0.000000</td>\n",
       "      <td>0.0</td>\n",
       "      <td>0.0</td>\n",
       "      <td>4.0</td>\n",
       "      <td>1.286296</td>\n",
       "      <td>22</td>\n",
       "      <td>6.954966</td>\n",
       "      <td>1</td>\n",
       "      <td>0</td>\n",
       "    </tr>\n",
       "    <tr>\n",
       "      <th>1</th>\n",
       "      <td>429.012668</td>\n",
       "      <td>438.835063</td>\n",
       "      <td>21.462771</td>\n",
       "      <td>129.242818</td>\n",
       "      <td>1633.195247</td>\n",
       "      <td>633.297258</td>\n",
       "      <td>2248.812860</td>\n",
       "      <td>4950.330338</td>\n",
       "      <td>2470.968265</td>\n",
       "      <td>836.815438</td>\n",
       "      <td>...</td>\n",
       "      <td>1.0</td>\n",
       "      <td>0.083333</td>\n",
       "      <td>0.0</td>\n",
       "      <td>0.0</td>\n",
       "      <td>3.0</td>\n",
       "      <td>0.333333</td>\n",
       "      <td>11</td>\n",
       "      <td>1.083333</td>\n",
       "      <td>1</td>\n",
       "      <td>0</td>\n",
       "    </tr>\n",
       "    <tr>\n",
       "      <th>2</th>\n",
       "      <td>487.244759</td>\n",
       "      <td>215.293670</td>\n",
       "      <td>9.060431</td>\n",
       "      <td>449.407714</td>\n",
       "      <td>1469.197512</td>\n",
       "      <td>1165.968943</td>\n",
       "      <td>2357.211774</td>\n",
       "      <td>4227.609499</td>\n",
       "      <td>5634.157054</td>\n",
       "      <td>1496.651571</td>\n",
       "      <td>...</td>\n",
       "      <td>1.0</td>\n",
       "      <td>1.000000</td>\n",
       "      <td>0.0</td>\n",
       "      <td>0.0</td>\n",
       "      <td>1.0</td>\n",
       "      <td>0.583333</td>\n",
       "      <td>19</td>\n",
       "      <td>5.833333</td>\n",
       "      <td>1</td>\n",
       "      <td>0</td>\n",
       "    </tr>\n",
       "    <tr>\n",
       "      <th>3</th>\n",
       "      <td>701.522802</td>\n",
       "      <td>206.697739</td>\n",
       "      <td>35.318230</td>\n",
       "      <td>445.190344</td>\n",
       "      <td>1698.740262</td>\n",
       "      <td>613.688796</td>\n",
       "      <td>2801.548062</td>\n",
       "      <td>4964.892445</td>\n",
       "      <td>8015.374205</td>\n",
       "      <td>474.326537</td>\n",
       "      <td>...</td>\n",
       "      <td>1.0</td>\n",
       "      <td>0.616381</td>\n",
       "      <td>0.0</td>\n",
       "      <td>0.0</td>\n",
       "      <td>0.0</td>\n",
       "      <td>0.000000</td>\n",
       "      <td>21</td>\n",
       "      <td>7.751455</td>\n",
       "      <td>1</td>\n",
       "      <td>0</td>\n",
       "    </tr>\n",
       "    <tr>\n",
       "      <th>4</th>\n",
       "      <td>1822.958518</td>\n",
       "      <td>1887.606611</td>\n",
       "      <td>2.255284</td>\n",
       "      <td>1337.204541</td>\n",
       "      <td>3361.830981</td>\n",
       "      <td>1445.861795</td>\n",
       "      <td>5315.380440</td>\n",
       "      <td>5890.979925</td>\n",
       "      <td>8189.115348</td>\n",
       "      <td>1008.685155</td>\n",
       "      <td>...</td>\n",
       "      <td>0.0</td>\n",
       "      <td>0.000000</td>\n",
       "      <td>0.0</td>\n",
       "      <td>0.0</td>\n",
       "      <td>3.0</td>\n",
       "      <td>1.000000</td>\n",
       "      <td>34</td>\n",
       "      <td>19.736661</td>\n",
       "      <td>1</td>\n",
       "      <td>0</td>\n",
       "    </tr>\n",
       "  </tbody>\n",
       "</table>\n",
       "<p>5 rows × 411 columns</p>\n",
       "</div>"
      ],
      "text/plain": [
       "   credit_bal_1stmtgcredit_60dpd  credit_bal_agencyfirstmtg_60dpd  \\\n",
       "0                     864.263515                       364.200415   \n",
       "1                     429.012668                       438.835063   \n",
       "2                     487.244759                       215.293670   \n",
       "3                     701.522802                       206.697739   \n",
       "4                    1822.958518                      1887.606611   \n",
       "\n",
       "   credit_bal_heloc_60dpd  credit_bal_nonagnfirstmtg_60dpd  \\\n",
       "0                9.100900                       569.012631   \n",
       "1               21.462771                       129.242818   \n",
       "2                9.060431                       449.407714   \n",
       "3               35.318230                       445.190344   \n",
       "4                2.255284                      1337.204541   \n",
       "\n",
       "   credit_bal_nonmtgcredit_60dpd  credit_bal_studentloan_60dpd  \\\n",
       "0                    3059.660249                   3215.762022   \n",
       "1                    1633.195247                    633.297258   \n",
       "2                    1469.197512                   1165.968943   \n",
       "3                    1698.740262                    613.688796   \n",
       "4                    3361.830981                   1445.861795   \n",
       "\n",
       "   credit_bal_totalallcredit_60dpd  credit_bal_autobank  \\\n",
       "0                      5817.811692          2245.510843   \n",
       "1                      2248.812860          4950.330338   \n",
       "2                      2357.211774          4227.609499   \n",
       "3                      2801.548062          4964.892445   \n",
       "4                      5315.380440          5890.979925   \n",
       "\n",
       "   credit_bal_autofinance  credit_bal_consumerfinance  ...  sor_ind_sum  \\\n",
       "0             2172.577397                  699.143043  ...          0.0   \n",
       "1             2470.968265                  836.815438  ...          1.0   \n",
       "2             5634.157054                 1496.651571  ...          1.0   \n",
       "3             8015.374205                  474.326537  ...          1.0   \n",
       "4             8189.115348                 1008.685155  ...          0.0   \n",
       "\n",
       "   sor_pmpm_sum  trm_ind_sum  trm_pmpm_sum  vco_ind_sum  vco_pmpm_sum  \\\n",
       "0      0.000000          0.0           0.0          4.0      1.286296   \n",
       "1      0.083333          0.0           0.0          3.0      0.333333   \n",
       "2      1.000000          0.0           0.0          1.0      0.583333   \n",
       "3      0.616381          0.0           0.0          0.0      0.000000   \n",
       "4      0.000000          0.0           0.0          3.0      1.000000   \n",
       "\n",
       "   total_ind  total_pmpm  service_bool  transportation_issues  \n",
       "0         22    6.954966             1                      0  \n",
       "1         11    1.083333             1                      0  \n",
       "2         19    5.833333             1                      0  \n",
       "3         21    7.751455             1                      0  \n",
       "4         34   19.736661             1                      0  \n",
       "\n",
       "[5 rows x 411 columns]"
      ]
     },
     "execution_count": 10,
     "metadata": {},
     "output_type": "execute_result"
    }
   ],
   "source": [
    "import pandas as pd\n",
    "df = pd.read_csv(\"data/df_fe_train.csv\", header=None)\n",
    "\n",
    "feature_names = params.fe_column_names\n",
    "label_column = params.label_column\n",
    "if len(df.columns) == len(feature_names) + 1:\n",
    "    # This is a labelled example, includes the ring label\n",
    "    df.columns = feature_names + [label_column]\n",
    "elif len(df.columns) == len(feature_names):\n",
    "    # This is an unlabelled example.\n",
    "    df.columns = feature_names\n",
    "df.head()"
   ]
  },
  {
   "cell_type": "code",
   "execution_count": 13,
   "id": "317416cc",
   "metadata": {},
   "outputs": [],
   "source": [
    "df[params.label_column] = df[params.label_column].astype(params.label_columns_dtype[params.label_column])"
   ]
  },
  {
   "cell_type": "code",
   "execution_count": null,
   "id": "075f1342",
   "metadata": {},
   "outputs": [],
   "source": []
  },
  {
   "cell_type": "code",
   "execution_count": null,
   "id": "9c42b5f2",
   "metadata": {},
   "outputs": [],
   "source": []
  },
  {
   "cell_type": "code",
   "execution_count": 6,
   "id": "709926d7",
   "metadata": {},
   "outputs": [],
   "source": [
    "import joblib"
   ]
  },
  {
   "cell_type": "code",
   "execution_count": 7,
   "id": "f2aed3f3",
   "metadata": {},
   "outputs": [
    {
     "ename": "FileNotFoundError",
     "evalue": "[Errno 2] No such file or directory: 'data/std_scaler.joblib'",
     "output_type": "error",
     "traceback": [
      "\u001b[0;31m---------------------------------------------------------------------------\u001b[0m",
      "\u001b[0;31mFileNotFoundError\u001b[0m                         Traceback (most recent call last)",
      "\u001b[0;32m/tmp/ipykernel_23908/2464091229.py\u001b[0m in \u001b[0;36m<cell line: 1>\u001b[0;34m()\u001b[0m\n\u001b[0;32m----> 1\u001b[0;31m \u001b[0msc\u001b[0m \u001b[0;34m=\u001b[0m \u001b[0mjoblib\u001b[0m\u001b[0;34m.\u001b[0m\u001b[0mload\u001b[0m\u001b[0;34m(\u001b[0m\u001b[0;34m\"data/std_scaler.joblib\"\u001b[0m\u001b[0;34m)\u001b[0m\u001b[0;34m\u001b[0m\u001b[0;34m\u001b[0m\u001b[0m\n\u001b[0m",
      "\u001b[0;32m~/anaconda3/envs/python3/lib/python3.8/site-packages/joblib/numpy_pickle.py\u001b[0m in \u001b[0;36mload\u001b[0;34m(filename, mmap_mode)\u001b[0m\n\u001b[1;32m    577\u001b[0m             \u001b[0mobj\u001b[0m \u001b[0;34m=\u001b[0m \u001b[0m_unpickle\u001b[0m\u001b[0;34m(\u001b[0m\u001b[0mfobj\u001b[0m\u001b[0;34m)\u001b[0m\u001b[0;34m\u001b[0m\u001b[0;34m\u001b[0m\u001b[0m\n\u001b[1;32m    578\u001b[0m     \u001b[0;32melse\u001b[0m\u001b[0;34m:\u001b[0m\u001b[0;34m\u001b[0m\u001b[0;34m\u001b[0m\u001b[0m\n\u001b[0;32m--> 579\u001b[0;31m         \u001b[0;32mwith\u001b[0m \u001b[0mopen\u001b[0m\u001b[0;34m(\u001b[0m\u001b[0mfilename\u001b[0m\u001b[0;34m,\u001b[0m \u001b[0;34m'rb'\u001b[0m\u001b[0;34m)\u001b[0m \u001b[0;32mas\u001b[0m \u001b[0mf\u001b[0m\u001b[0;34m:\u001b[0m\u001b[0;34m\u001b[0m\u001b[0;34m\u001b[0m\u001b[0m\n\u001b[0m\u001b[1;32m    580\u001b[0m             \u001b[0;32mwith\u001b[0m \u001b[0m_read_fileobject\u001b[0m\u001b[0;34m(\u001b[0m\u001b[0mf\u001b[0m\u001b[0;34m,\u001b[0m \u001b[0mfilename\u001b[0m\u001b[0;34m,\u001b[0m \u001b[0mmmap_mode\u001b[0m\u001b[0;34m)\u001b[0m \u001b[0;32mas\u001b[0m \u001b[0mfobj\u001b[0m\u001b[0;34m:\u001b[0m\u001b[0;34m\u001b[0m\u001b[0;34m\u001b[0m\u001b[0m\n\u001b[1;32m    581\u001b[0m                 \u001b[0;32mif\u001b[0m \u001b[0misinstance\u001b[0m\u001b[0;34m(\u001b[0m\u001b[0mfobj\u001b[0m\u001b[0;34m,\u001b[0m \u001b[0mstr\u001b[0m\u001b[0;34m)\u001b[0m\u001b[0;34m:\u001b[0m\u001b[0;34m\u001b[0m\u001b[0;34m\u001b[0m\u001b[0m\n",
      "\u001b[0;31mFileNotFoundError\u001b[0m: [Errno 2] No such file or directory: 'data/std_scaler.joblib'"
     ]
    }
   ],
   "source": [
    "sc = joblib.load(\"data/std_scaler.joblib\")"
   ]
  },
  {
   "cell_type": "code",
   "execution_count": null,
   "id": "c2a6aedd",
   "metadata": {},
   "outputs": [],
   "source": [
    "numeric_cols = [col for col, type_ in params.feature_columns_dtype.items() if type_ != \"category\"]\n",
    "category_cols = [col for col, type_ in params.feature_columns_dtype.items() if type_ == \"category\"]\n",
    "\n",
    "assert len(sc.transformers_[0][2]) == len(numeric_cols)\n",
    "assert len(sc.transformers_[1][2]) == len(category_cols)\n",
    "\n",
    "col_names = list(sc.transformers_[0][1].named_steps['scaler'].get_feature_names_out(numeric_cols)) + list( sc.transformers_[1][1].named_steps['onehot'].get_feature_names_out(category_cols))"
   ]
  },
  {
   "cell_type": "code",
   "execution_count": null,
   "id": "279efcf4",
   "metadata": {},
   "outputs": [],
   "source": [
    "len(col_names)"
   ]
  },
  {
   "cell_type": "code",
   "execution_count": null,
   "id": "888dc7f5",
   "metadata": {},
   "outputs": [],
   "source": [
    "# %run humana_transportation_featurizer.py --train_or_test=\"test\" --debugger=True \\\n",
    "# --input_data_path='s3://humana-data/rawdata/original_raw_files/valid'"
   ]
  },
  {
   "cell_type": "code",
   "execution_count": null,
   "id": "55790457",
   "metadata": {},
   "outputs": [],
   "source": [
    "# bucket = \"humana-data\"\n",
    "# valid_input = 's3://{}/rawdata/original_raw_files/valid'.format(bucket)\n",
    "# valid_input"
   ]
  },
  {
   "cell_type": "code",
   "execution_count": null,
   "id": "360dafec",
   "metadata": {},
   "outputs": [],
   "source": [
    "# !pip install xgboost"
   ]
  },
  {
   "cell_type": "code",
   "execution_count": null,
   "id": "5a5b0554",
   "metadata": {},
   "outputs": [],
   "source": [
    "def feature_importance_fn(xgb, col_names):\n",
    "    feature_importance = pd.DataFrame({'feature':col_names, 'importance':xgb.feature_importances_}).sort_values('importance',ascending=False).reset_index().drop(columns='index')\n",
    "    feature_importance.sort_values(by='importance',ascending=False)\n",
    "    fig, ax = plt.subplots()\n",
    "    fig.set_size_inches(8.27,15)\n",
    "    plt.title('Feature Importance Plot')\n",
    "    sns.barplot(x='importance',y='feature',ax=ax,data=feature_importance[:60])\n",
    "    return feature_importance\n"
   ]
  },
  {
   "cell_type": "code",
   "execution_count": null,
   "id": "171d4657",
   "metadata": {},
   "outputs": [],
   "source": [
    "bst = load(\"data/model.joblib\")"
   ]
  },
  {
   "cell_type": "code",
   "execution_count": null,
   "id": "873df190",
   "metadata": {},
   "outputs": [],
   "source": [
    "import shap\n",
    "\n",
    "import matplotlib.pyplot as plt\n",
    "import seaborn as sns\n",
    "\n",
    "import humana_package.constants as params"
   ]
  },
  {
   "cell_type": "code",
   "execution_count": null,
   "id": "8af0f688",
   "metadata": {},
   "outputs": [],
   "source": [
    "assert (len(bst.get_booster().feature_names) == len(col_names))"
   ]
  },
  {
   "cell_type": "code",
   "execution_count": null,
   "id": "6cfbb258",
   "metadata": {},
   "outputs": [],
   "source": [
    "top_features_xg = feature_importance_fn(bst, col_names)"
   ]
  },
  {
   "cell_type": "code",
   "execution_count": null,
   "id": "6e64a3ba",
   "metadata": {},
   "outputs": [],
   "source": []
  },
  {
   "cell_type": "code",
   "execution_count": null,
   "id": "b58691d8",
   "metadata": {},
   "outputs": [],
   "source": []
  },
  {
   "cell_type": "code",
   "execution_count": null,
   "id": "a0469d6b",
   "metadata": {},
   "outputs": [],
   "source": []
  },
  {
   "cell_type": "code",
   "execution_count": null,
   "id": "17acff22",
   "metadata": {},
   "outputs": [],
   "source": []
  },
  {
   "cell_type": "code",
   "execution_count": null,
   "id": "1b8e9cb8",
   "metadata": {},
   "outputs": [],
   "source": []
  }
 ],
 "metadata": {
  "kernelspec": {
   "display_name": "conda_python3",
   "language": "python",
   "name": "conda_python3"
  },
  "language_info": {
   "codemirror_mode": {
    "name": "ipython",
    "version": 3
   },
   "file_extension": ".py",
   "mimetype": "text/x-python",
   "name": "python",
   "nbconvert_exporter": "python",
   "pygments_lexer": "ipython3",
   "version": "3.8.12"
  }
 },
 "nbformat": 4,
 "nbformat_minor": 5
}
