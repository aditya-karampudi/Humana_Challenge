{
 "cells": [
  {
   "cell_type": "code",
   "execution_count": 1,
   "id": "7d064f2e",
   "metadata": {},
   "outputs": [],
   "source": [
    "# import humana_encoder as he\n",
    "import sagemaker\n",
    "import os\n",
    "import boto3"
   ]
  },
  {
   "cell_type": "code",
   "execution_count": 2,
   "id": "3d8049c4",
   "metadata": {},
   "outputs": [
    {
     "data": {
      "text/plain": [
       "'s3://humana-data/rawdata/original_raw_files/train'"
      ]
     },
     "execution_count": 2,
     "metadata": {},
     "output_type": "execute_result"
    }
   ],
   "source": [
    "bucket = \"humana-data\"\n",
    "train_input = 's3://{}/rawdata/original_raw_files/train'.format(bucket)\n",
    "train_input"
   ]
  },
  {
   "cell_type": "code",
   "execution_count": null,
   "id": "811f4a35",
   "metadata": {},
   "outputs": [],
   "source": [
    "%run humana_encoder.py --train=\"train\" --debugger=True --train=\"../data/\" --model_dir=\"../data/\""
   ]
  },
  {
   "cell_type": "code",
   "execution_count": null,
   "id": "bb96fd52",
   "metadata": {},
   "outputs": [],
   "source": [
    "sc = joblib.load(\"../data/model.joblib\")"
   ]
  },
  {
   "cell_type": "code",
   "execution_count": null,
   "id": "a5d20aee",
   "metadata": {},
   "outputs": [],
   "source": [
    "numeric_cols = [col for col, type_ in params.feature_columns_dtype.items() if type_ != \"category\"]\n",
    "category_cols = [col for col, type_ in params.feature_columns_dtype.items() if type_ == \"category\"]\n",
    "\n",
    "assert len(sc.transformers_[0][2]) == len(numeric_cols)\n",
    "assert len(sc.transformers_[1][2]) == len(category_cols)\n",
    "\n",
    "col_names = list(sc.transformers_[0][1].named_steps['scaler'].get_feature_names_out(numeric_cols)) + list( sc.transformers_[1][1].named_steps['onehot'].get_feature_names_out(category_cols))"
   ]
  },
  {
   "cell_type": "code",
   "execution_count": null,
   "id": "dd9283e2",
   "metadata": {},
   "outputs": [],
   "source": [
    "len(col_names)"
   ]
  },
  {
   "cell_type": "code",
   "execution_count": null,
   "id": "a03763f0",
   "metadata": {},
   "outputs": [],
   "source": []
  },
  {
   "cell_type": "code",
   "execution_count": null,
   "id": "ece618e0",
   "metadata": {},
   "outputs": [],
   "source": []
  },
  {
   "cell_type": "code",
   "execution_count": null,
   "id": "46a9c1a7",
   "metadata": {},
   "outputs": [],
   "source": []
  },
  {
   "cell_type": "code",
   "execution_count": null,
   "id": "3fbf7943",
   "metadata": {},
   "outputs": [],
   "source": []
  },
  {
   "cell_type": "code",
   "execution_count": null,
   "id": "3eda76e8",
   "metadata": {},
   "outputs": [],
   "source": []
  },
  {
   "cell_type": "code",
   "execution_count": null,
   "id": "ae7e1d49",
   "metadata": {},
   "outputs": [],
   "source": []
  },
  {
   "cell_type": "code",
   "execution_count": null,
   "id": "0f52f55e",
   "metadata": {},
   "outputs": [],
   "source": []
  }
 ],
 "metadata": {
  "kernelspec": {
   "display_name": "conda_python3",
   "language": "python",
   "name": "conda_python3"
  },
  "language_info": {
   "codemirror_mode": {
    "name": "ipython",
    "version": 3
   },
   "file_extension": ".py",
   "mimetype": "text/x-python",
   "name": "python",
   "nbconvert_exporter": "python",
   "pygments_lexer": "ipython3",
   "version": "3.8.12"
  }
 },
 "nbformat": 4,
 "nbformat_minor": 5
}
