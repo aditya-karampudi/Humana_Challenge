{
 "cells": [
  {
   "cell_type": "code",
   "execution_count": 1,
   "id": "7d064f2e",
   "metadata": {},
   "outputs": [],
   "source": [
    "# import humana_encoder as he\n",
    "import sagemaker\n",
    "import os\n",
    "import boto3"
   ]
  },
  {
   "cell_type": "code",
   "execution_count": 2,
   "id": "3d8049c4",
   "metadata": {},
   "outputs": [
    {
     "data": {
      "text/plain": [
       "'s3://humana-data/rawdata/original_raw_files/train'"
      ]
     },
     "execution_count": 2,
     "metadata": {},
     "output_type": "execute_result"
    }
   ],
   "source": [
    "bucket = \"humana-data\"\n",
    "train_input = 's3://{}/rawdata/original_raw_files/train'.format(bucket)\n",
    "train_input"
   ]
  },
  {
   "cell_type": "code",
   "execution_count": 3,
   "id": "60c229e0",
   "metadata": {},
   "outputs": [],
   "source": [
    "# !pip install sagemaker-containers"
   ]
  },
  {
   "cell_type": "code",
   "execution_count": 4,
   "id": "811f4a35",
   "metadata": {},
   "outputs": [
    {
     "name": "stdout",
     "output_type": "stream",
     "text": [
      "data/df_fe_train.csv model data/df_fe_train.csv train data/df_fe_train.csv\n",
      "['../data/df_fe_train.csv']\n",
      "(3000, 411)\n",
      "Index(['credit_bal_1stmtgcredit_60dpd', 'credit_bal_agencyfirstmtg_60dpd',\n",
      "       'credit_bal_heloc_60dpd', 'credit_bal_nonagnfirstmtg_60dpd',\n",
      "       'credit_bal_nonmtgcredit_60dpd', 'credit_bal_studentloan_60dpd',\n",
      "       'credit_bal_totalallcredit_60dpd', 'credit_bal_autobank',\n",
      "       'credit_bal_autofinance', 'credit_bal_consumerfinance',\n",
      "       ...\n",
      "       'sor_ind_sum', 'sor_pmpm_sum', 'trm_ind_sum', 'trm_pmpm_sum',\n",
      "       'vco_ind_sum', 'vco_pmpm_sum', 'total_ind', 'total_pmpm',\n",
      "       'service_bool', 'transportation_issues'],\n",
      "      dtype='object', length=411)\n",
      "float64     236\n",
      "category    136\n",
      "category     36\n",
      "category      1\n",
      "int64         1\n",
      "dtype: int64\n",
      "Train data shape after preprocessing: (3000, 410)\n"
     ]
    }
   ],
   "source": [
    "%run humana_encoder.py --train=\"train\" --debugger=True --train=\"../data/\" --model_dir=\"../data/\""
   ]
  },
  {
   "cell_type": "code",
   "execution_count": 5,
   "id": "bb96fd52",
   "metadata": {},
   "outputs": [],
   "source": [
    "sc = joblib.load(\"../data/model.joblib\")"
   ]
  },
  {
   "cell_type": "code",
   "execution_count": 5,
   "id": "a5d20aee",
   "metadata": {},
   "outputs": [],
   "source": [
    "numeric_cols = [col for col, type_ in params.feature_columns_dtype.items() if type_ != \"category\"]\n",
    "category_cols = [col for col, type_ in params.feature_columns_dtype.items() if type_ == \"category\"]\n",
    "\n",
    "assert len(sc.transformers_[0][2]) == len(numeric_cols)\n",
    "assert len(sc.transformers_[1][2]) == len(category_cols)\n",
    "\n",
    "col_names = list(sc.transformers_[0][1].named_steps['scaler'].get_feature_names_out(numeric_cols)) + list( sc.transformers_[1][1].named_steps['onehot'].get_feature_names_out(category_cols))"
   ]
  },
  {
   "cell_type": "code",
   "execution_count": 6,
   "id": "dd9283e2",
   "metadata": {},
   "outputs": [
    {
     "data": {
      "text/plain": [
       "599"
      ]
     },
     "execution_count": 6,
     "metadata": {},
     "output_type": "execute_result"
    }
   ],
   "source": [
    "len(col_names)"
   ]
  },
  {
   "cell_type": "code",
   "execution_count": null,
   "id": "a03763f0",
   "metadata": {},
   "outputs": [],
   "source": []
  },
  {
   "cell_type": "code",
   "execution_count": null,
   "id": "ece618e0",
   "metadata": {},
   "outputs": [],
   "source": []
  },
  {
   "cell_type": "code",
   "execution_count": null,
   "id": "46a9c1a7",
   "metadata": {},
   "outputs": [],
   "source": []
  },
  {
   "cell_type": "code",
   "execution_count": null,
   "id": "3fbf7943",
   "metadata": {},
   "outputs": [],
   "source": []
  },
  {
   "cell_type": "code",
   "execution_count": null,
   "id": "3eda76e8",
   "metadata": {},
   "outputs": [],
   "source": []
  },
  {
   "cell_type": "code",
   "execution_count": null,
   "id": "ae7e1d49",
   "metadata": {},
   "outputs": [],
   "source": []
  },
  {
   "cell_type": "code",
   "execution_count": null,
   "id": "0f52f55e",
   "metadata": {},
   "outputs": [],
   "source": []
  }
 ],
 "metadata": {
  "kernelspec": {
   "display_name": "conda_python3",
   "language": "python",
   "name": "conda_python3"
  },
  "language_info": {
   "codemirror_mode": {
    "name": "ipython",
    "version": 3
   },
   "file_extension": ".py",
   "mimetype": "text/x-python",
   "name": "python",
   "nbconvert_exporter": "python",
   "pygments_lexer": "ipython3",
   "version": "3.8.12"
  }
 },
 "nbformat": 4,
 "nbformat_minor": 5
}
