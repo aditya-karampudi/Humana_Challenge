{
 "cells": [
  {
   "cell_type": "code",
   "execution_count": 1,
   "id": "7d064f2e",
   "metadata": {},
   "outputs": [],
   "source": [
    "# import humana_encoder as he\n",
    "import sagemaker\n",
    "import os\n",
    "import boto3"
   ]
  },
  {
   "cell_type": "code",
   "execution_count": 2,
   "id": "3d8049c4",
   "metadata": {},
   "outputs": [
    {
     "data": {
      "text/plain": [
       "'s3://humana-data/rawdata/original_raw_files/train'"
      ]
     },
     "execution_count": 2,
     "metadata": {},
     "output_type": "execute_result"
    }
   ],
   "source": [
    "bucket = \"humana-data\"\n",
    "train_input = 's3://{}/rawdata/original_raw_files/train'.format(bucket)\n",
    "train_input"
   ]
  },
  {
   "cell_type": "code",
   "execution_count": 3,
   "id": "811f4a35",
   "metadata": {},
   "outputs": [
    {
     "ename": "ModuleNotFoundError",
     "evalue": "No module named 'sagemaker_containers'",
     "output_type": "error",
     "traceback": [
      "\u001b[0;31m---------------------------------------------------------------------------\u001b[0m",
      "\u001b[0;31mModuleNotFoundError\u001b[0m                       Traceback (most recent call last)",
      "\u001b[0;32m~/SageMaker/github/Humana_Challenge/notebooks/Model_categories/Modeling/humana_script/humana_package/humana_encoder.py\u001b[0m in \u001b[0;36m<module>\u001b[0;34m\u001b[0m\n\u001b[1;32m     13\u001b[0m \u001b[0;32mfrom\u001b[0m \u001b[0msklearn\u001b[0m\u001b[0;34m.\u001b[0m\u001b[0mpreprocessing\u001b[0m \u001b[0;32mimport\u001b[0m \u001b[0mBinarizer\u001b[0m\u001b[0;34m,\u001b[0m \u001b[0mStandardScaler\u001b[0m\u001b[0;34m,\u001b[0m \u001b[0mOneHotEncoder\u001b[0m\u001b[0;34m\u001b[0m\u001b[0;34m\u001b[0m\u001b[0m\n\u001b[1;32m     14\u001b[0m \u001b[0;34m\u001b[0m\u001b[0m\n\u001b[0;32m---> 15\u001b[0;31m from sagemaker_containers.beta.framework import (\n\u001b[0m\u001b[1;32m     16\u001b[0m     content_types, encoders, env, modules, transformer, worker)\n\u001b[1;32m     17\u001b[0m \u001b[0;34m\u001b[0m\u001b[0m\n",
      "\u001b[0;31mModuleNotFoundError\u001b[0m: No module named 'sagemaker_containers'"
     ]
    }
   ],
   "source": [
    "%run humana_encoder.py --train=\"train\" --debugger=True --train=\"../data/\" --model_dir=\"../data/\""
   ]
  },
  {
   "cell_type": "code",
   "execution_count": 4,
   "id": "bb96fd52",
   "metadata": {},
   "outputs": [],
   "source": [
    "sc = joblib.load(\"../data/model.joblib\")"
   ]
  },
  {
   "cell_type": "code",
   "execution_count": 5,
   "id": "a5d20aee",
   "metadata": {},
   "outputs": [],
   "source": [
    "numeric_cols = [col for col, type_ in params.feature_columns_dtype.items() if type_ != \"category\"]\n",
    "category_cols = [col for col, type_ in params.feature_columns_dtype.items() if type_ == \"category\"]\n",
    "\n",
    "assert len(sc.transformers_[0][2]) == len(numeric_cols)\n",
    "assert len(sc.transformers_[1][2]) == len(category_cols)\n",
    "\n",
    "col_names = list(sc.transformers_[0][1].named_steps['scaler'].get_feature_names_out(numeric_cols)) + list( sc.transformers_[1][1].named_steps['onehot'].get_feature_names_out(category_cols))"
   ]
  },
  {
   "cell_type": "code",
   "execution_count": 6,
   "id": "dd9283e2",
   "metadata": {},
   "outputs": [
    {
     "data": {
      "text/plain": [
       "599"
      ]
     },
     "execution_count": 6,
     "metadata": {},
     "output_type": "execute_result"
    }
   ],
   "source": [
    "len(col_names)"
   ]
  },
  {
   "cell_type": "code",
   "execution_count": null,
   "id": "a03763f0",
   "metadata": {},
   "outputs": [],
   "source": []
  },
  {
   "cell_type": "code",
   "execution_count": null,
   "id": "ece618e0",
   "metadata": {},
   "outputs": [],
   "source": []
  },
  {
   "cell_type": "code",
   "execution_count": null,
   "id": "46a9c1a7",
   "metadata": {},
   "outputs": [],
   "source": []
  },
  {
   "cell_type": "code",
   "execution_count": null,
   "id": "3fbf7943",
   "metadata": {},
   "outputs": [],
   "source": []
  },
  {
   "cell_type": "code",
   "execution_count": null,
   "id": "3eda76e8",
   "metadata": {},
   "outputs": [],
   "source": []
  },
  {
   "cell_type": "code",
   "execution_count": null,
   "id": "ae7e1d49",
   "metadata": {},
   "outputs": [],
   "source": []
  },
  {
   "cell_type": "code",
   "execution_count": null,
   "id": "0f52f55e",
   "metadata": {},
   "outputs": [],
   "source": []
  }
 ],
 "metadata": {
  "kernelspec": {
   "display_name": "conda_python3",
   "language": "python",
   "name": "conda_python3"
  },
  "language_info": {
   "codemirror_mode": {
    "name": "ipython",
    "version": 3
   },
   "file_extension": ".py",
   "mimetype": "text/x-python",
   "name": "python",
   "nbconvert_exporter": "python",
   "pygments_lexer": "ipython3",
   "version": "3.8.12"
  }
 },
 "nbformat": 4,
 "nbformat_minor": 5
}
