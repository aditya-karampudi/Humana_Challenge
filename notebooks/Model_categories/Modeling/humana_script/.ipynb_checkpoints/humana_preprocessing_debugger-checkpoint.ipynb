{
 "cells": [
  {
   "cell_type": "code",
   "execution_count": 13,
   "id": "643b86df",
   "metadata": {},
   "outputs": [],
   "source": [
    "import humana_preprocessing as hf\n",
    "import sagemaker\n",
    "import os\n",
    "\n",
    "import boto3"
   ]
  },
  {
   "cell_type": "code",
   "execution_count": 14,
   "id": "55d2674f",
   "metadata": {},
   "outputs": [],
   "source": [
    "import humana_package.constants as params"
   ]
  },
  {
   "cell_type": "code",
   "execution_count": 15,
   "id": "d6bbf205",
   "metadata": {},
   "outputs": [
    {
     "data": {
      "text/plain": [
       "'s3://humana-data/rawdata/original_raw_files/train'"
      ]
     },
     "execution_count": 15,
     "metadata": {},
     "output_type": "execute_result"
    }
   ],
   "source": [
    "bucket = \"humana-data\"\n",
    "train_input = 's3://{}/rawdata/original_raw_files/train'.format(bucket)\n",
    "train_input"
   ]
  },
  {
   "cell_type": "code",
   "execution_count": 16,
   "id": "295afd60",
   "metadata": {
    "scrolled": false
   },
   "outputs": [
    {
     "name": "stdout",
     "output_type": "stream",
     "text": [
      "['s3://humana-data/rawdata/original_raw_files/valid/condition.csv', 's3://humana-data/rawdata/original_raw_files/valid/credit.csv', 's3://humana-data/rawdata/original_raw_files/valid/dependent.csv']\n",
      "The files used for processing the test data ['s3://humana-data/rawdata/original_raw_files/valid/condition.csv', 's3://humana-data/rawdata/original_raw_files/valid/credit.csv', 's3://humana-data/rawdata/original_raw_files/valid/dependent.csv']\n",
      "Successfully imported data from S3. Shape of the test data (4000, 438)\n",
      "0    0\n",
      "1    0\n",
      "2    0\n",
      "3    1\n",
      "4    0\n",
      "Name: transportation_issues, dtype: int64\n",
      "Successfully imported data from S3. Shape of the test data (4000, 438)\n",
      "Preprocessed test data\n",
      "(3000, 411)\n",
      "Saved the files\n"
     ]
    }
   ],
   "source": [
    "%run humana_preprocessing.py --train_or_valid_or_test=\"train\" --debugger=True \\\n",
    "--input_data_path='s3://humana-data/rawdata/original_raw_files/train'"
   ]
  },
  {
   "cell_type": "code",
   "execution_count": null,
   "id": "017175d3",
   "metadata": {},
   "outputs": [],
   "source": []
  },
  {
   "cell_type": "code",
   "execution_count": null,
   "id": "76a07824",
   "metadata": {},
   "outputs": [],
   "source": []
  },
  {
   "cell_type": "code",
   "execution_count": 5,
   "id": "85a32fdb",
   "metadata": {},
   "outputs": [
    {
     "data": {
      "text/plain": [
       "410"
      ]
     },
     "execution_count": 5,
     "metadata": {},
     "output_type": "execute_result"
    }
   ],
   "source": [
    "len(params.fe_column_names)"
   ]
  },
  {
   "cell_type": "code",
   "execution_count": 5,
   "id": "688d56f8",
   "metadata": {},
   "outputs": [],
   "source": [
    "import humana_package.constants as params"
   ]
  },
  {
   "cell_type": "code",
   "execution_count": 6,
   "id": "30a61bbe",
   "metadata": {},
   "outputs": [],
   "source": [
    "import pandas as pd\n",
    "df = pd.read_csv(\"data/df_fe_train.csv\", header=None)"
   ]
  },
  {
   "cell_type": "code",
   "execution_count": 9,
   "id": "1dc05193",
   "metadata": {},
   "outputs": [
    {
     "data": {
      "text/html": [
       "<div>\n",
       "<style scoped>\n",
       "    .dataframe tbody tr th:only-of-type {\n",
       "        vertical-align: middle;\n",
       "    }\n",
       "\n",
       "    .dataframe tbody tr th {\n",
       "        vertical-align: top;\n",
       "    }\n",
       "\n",
       "    .dataframe thead th {\n",
       "        text-align: right;\n",
       "    }\n",
       "</style>\n",
       "<table border=\"1\" class=\"dataframe\">\n",
       "  <thead>\n",
       "    <tr style=\"text-align: right;\">\n",
       "      <th></th>\n",
       "      <th>0</th>\n",
       "      <th>1</th>\n",
       "      <th>2</th>\n",
       "      <th>3</th>\n",
       "      <th>4</th>\n",
       "      <th>5</th>\n",
       "      <th>6</th>\n",
       "      <th>7</th>\n",
       "      <th>8</th>\n",
       "      <th>9</th>\n",
       "      <th>...</th>\n",
       "      <th>402</th>\n",
       "      <th>403</th>\n",
       "      <th>404</th>\n",
       "      <th>405</th>\n",
       "      <th>406</th>\n",
       "      <th>407</th>\n",
       "      <th>408</th>\n",
       "      <th>409</th>\n",
       "      <th>410</th>\n",
       "      <th>411</th>\n",
       "    </tr>\n",
       "  </thead>\n",
       "  <tbody>\n",
       "    <tr>\n",
       "      <th>0</th>\n",
       "      <td>0</td>\n",
       "      <td>864.263515</td>\n",
       "      <td>364.200415</td>\n",
       "      <td>9.100900</td>\n",
       "      <td>569.012631</td>\n",
       "      <td>3059.660249</td>\n",
       "      <td>3215.762022</td>\n",
       "      <td>5817.811692</td>\n",
       "      <td>2245.510843</td>\n",
       "      <td>2172.577397</td>\n",
       "      <td>...</td>\n",
       "      <td>0.0</td>\n",
       "      <td>0.000000</td>\n",
       "      <td>0.0</td>\n",
       "      <td>0.0</td>\n",
       "      <td>4.0</td>\n",
       "      <td>1.286296</td>\n",
       "      <td>22</td>\n",
       "      <td>6.954966</td>\n",
       "      <td>1</td>\n",
       "      <td>0</td>\n",
       "    </tr>\n",
       "    <tr>\n",
       "      <th>1</th>\n",
       "      <td>0</td>\n",
       "      <td>429.012668</td>\n",
       "      <td>438.835063</td>\n",
       "      <td>21.462771</td>\n",
       "      <td>129.242818</td>\n",
       "      <td>1633.195247</td>\n",
       "      <td>633.297258</td>\n",
       "      <td>2248.812860</td>\n",
       "      <td>4950.330338</td>\n",
       "      <td>2470.968265</td>\n",
       "      <td>...</td>\n",
       "      <td>1.0</td>\n",
       "      <td>0.083333</td>\n",
       "      <td>0.0</td>\n",
       "      <td>0.0</td>\n",
       "      <td>3.0</td>\n",
       "      <td>0.333333</td>\n",
       "      <td>11</td>\n",
       "      <td>1.083333</td>\n",
       "      <td>1</td>\n",
       "      <td>0</td>\n",
       "    </tr>\n",
       "    <tr>\n",
       "      <th>2</th>\n",
       "      <td>0</td>\n",
       "      <td>487.244759</td>\n",
       "      <td>215.293670</td>\n",
       "      <td>9.060431</td>\n",
       "      <td>449.407714</td>\n",
       "      <td>1469.197512</td>\n",
       "      <td>1165.968943</td>\n",
       "      <td>2357.211774</td>\n",
       "      <td>4227.609499</td>\n",
       "      <td>5634.157054</td>\n",
       "      <td>...</td>\n",
       "      <td>1.0</td>\n",
       "      <td>1.000000</td>\n",
       "      <td>0.0</td>\n",
       "      <td>0.0</td>\n",
       "      <td>1.0</td>\n",
       "      <td>0.583333</td>\n",
       "      <td>19</td>\n",
       "      <td>5.833333</td>\n",
       "      <td>1</td>\n",
       "      <td>0</td>\n",
       "    </tr>\n",
       "    <tr>\n",
       "      <th>3</th>\n",
       "      <td>0</td>\n",
       "      <td>701.522802</td>\n",
       "      <td>206.697739</td>\n",
       "      <td>35.318230</td>\n",
       "      <td>445.190344</td>\n",
       "      <td>1698.740262</td>\n",
       "      <td>613.688796</td>\n",
       "      <td>2801.548062</td>\n",
       "      <td>4964.892445</td>\n",
       "      <td>8015.374205</td>\n",
       "      <td>...</td>\n",
       "      <td>1.0</td>\n",
       "      <td>0.616381</td>\n",
       "      <td>0.0</td>\n",
       "      <td>0.0</td>\n",
       "      <td>0.0</td>\n",
       "      <td>0.000000</td>\n",
       "      <td>21</td>\n",
       "      <td>7.751455</td>\n",
       "      <td>1</td>\n",
       "      <td>0</td>\n",
       "    </tr>\n",
       "    <tr>\n",
       "      <th>4</th>\n",
       "      <td>0</td>\n",
       "      <td>1822.958518</td>\n",
       "      <td>1887.606611</td>\n",
       "      <td>2.255284</td>\n",
       "      <td>1337.204541</td>\n",
       "      <td>3361.830981</td>\n",
       "      <td>1445.861795</td>\n",
       "      <td>5315.380440</td>\n",
       "      <td>5890.979925</td>\n",
       "      <td>8189.115348</td>\n",
       "      <td>...</td>\n",
       "      <td>0.0</td>\n",
       "      <td>0.000000</td>\n",
       "      <td>0.0</td>\n",
       "      <td>0.0</td>\n",
       "      <td>3.0</td>\n",
       "      <td>1.000000</td>\n",
       "      <td>34</td>\n",
       "      <td>19.736661</td>\n",
       "      <td>1</td>\n",
       "      <td>0</td>\n",
       "    </tr>\n",
       "    <tr>\n",
       "      <th>...</th>\n",
       "      <td>...</td>\n",
       "      <td>...</td>\n",
       "      <td>...</td>\n",
       "      <td>...</td>\n",
       "      <td>...</td>\n",
       "      <td>...</td>\n",
       "      <td>...</td>\n",
       "      <td>...</td>\n",
       "      <td>...</td>\n",
       "      <td>...</td>\n",
       "      <td>...</td>\n",
       "      <td>...</td>\n",
       "      <td>...</td>\n",
       "      <td>...</td>\n",
       "      <td>...</td>\n",
       "      <td>...</td>\n",
       "      <td>...</td>\n",
       "      <td>...</td>\n",
       "      <td>...</td>\n",
       "      <td>...</td>\n",
       "      <td>...</td>\n",
       "    </tr>\n",
       "    <tr>\n",
       "      <th>2995</th>\n",
       "      <td>1</td>\n",
       "      <td>1959.458242</td>\n",
       "      <td>296.151573</td>\n",
       "      <td>149.475680</td>\n",
       "      <td>1652.136174</td>\n",
       "      <td>3890.993192</td>\n",
       "      <td>1060.751533</td>\n",
       "      <td>5718.153195</td>\n",
       "      <td>2671.891699</td>\n",
       "      <td>6558.548814</td>\n",
       "      <td>...</td>\n",
       "      <td>2.0</td>\n",
       "      <td>0.166667</td>\n",
       "      <td>0.0</td>\n",
       "      <td>0.0</td>\n",
       "      <td>3.0</td>\n",
       "      <td>2.750000</td>\n",
       "      <td>45</td>\n",
       "      <td>21.206667</td>\n",
       "      <td>1</td>\n",
       "      <td>1</td>\n",
       "    </tr>\n",
       "    <tr>\n",
       "      <th>2996</th>\n",
       "      <td>0</td>\n",
       "      <td>1085.976801</td>\n",
       "      <td>470.537368</td>\n",
       "      <td>36.216314</td>\n",
       "      <td>514.166373</td>\n",
       "      <td>1472.857407</td>\n",
       "      <td>472.230071</td>\n",
       "      <td>2453.676670</td>\n",
       "      <td>2642.805630</td>\n",
       "      <td>1617.703646</td>\n",
       "      <td>...</td>\n",
       "      <td>1.0</td>\n",
       "      <td>0.166667</td>\n",
       "      <td>0.0</td>\n",
       "      <td>0.0</td>\n",
       "      <td>2.0</td>\n",
       "      <td>1.000000</td>\n",
       "      <td>26</td>\n",
       "      <td>6.200000</td>\n",
       "      <td>1</td>\n",
       "      <td>0</td>\n",
       "    </tr>\n",
       "    <tr>\n",
       "      <th>2997</th>\n",
       "      <td>0</td>\n",
       "      <td>1247.909335</td>\n",
       "      <td>305.346243</td>\n",
       "      <td>124.614835</td>\n",
       "      <td>684.409239</td>\n",
       "      <td>1556.165465</td>\n",
       "      <td>567.760144</td>\n",
       "      <td>3660.615271</td>\n",
       "      <td>2942.977182</td>\n",
       "      <td>4022.335761</td>\n",
       "      <td>...</td>\n",
       "      <td>0.0</td>\n",
       "      <td>0.000000</td>\n",
       "      <td>0.0</td>\n",
       "      <td>0.0</td>\n",
       "      <td>2.0</td>\n",
       "      <td>0.345216</td>\n",
       "      <td>14</td>\n",
       "      <td>2.578037</td>\n",
       "      <td>1</td>\n",
       "      <td>0</td>\n",
       "    </tr>\n",
       "    <tr>\n",
       "      <th>2998</th>\n",
       "      <td>0</td>\n",
       "      <td>1608.307595</td>\n",
       "      <td>153.936332</td>\n",
       "      <td>138.522380</td>\n",
       "      <td>1037.845924</td>\n",
       "      <td>2192.512356</td>\n",
       "      <td>1798.935882</td>\n",
       "      <td>4410.221636</td>\n",
       "      <td>2853.469577</td>\n",
       "      <td>6624.784990</td>\n",
       "      <td>...</td>\n",
       "      <td>1.0</td>\n",
       "      <td>0.083333</td>\n",
       "      <td>0.0</td>\n",
       "      <td>0.0</td>\n",
       "      <td>2.0</td>\n",
       "      <td>1.000000</td>\n",
       "      <td>19</td>\n",
       "      <td>3.083333</td>\n",
       "      <td>1</td>\n",
       "      <td>0</td>\n",
       "    </tr>\n",
       "    <tr>\n",
       "      <th>2999</th>\n",
       "      <td>0</td>\n",
       "      <td>1008.163238</td>\n",
       "      <td>494.625341</td>\n",
       "      <td>48.932914</td>\n",
       "      <td>938.449990</td>\n",
       "      <td>1607.541998</td>\n",
       "      <td>945.344316</td>\n",
       "      <td>2547.756603</td>\n",
       "      <td>2624.953688</td>\n",
       "      <td>3586.503635</td>\n",
       "      <td>...</td>\n",
       "      <td>0.0</td>\n",
       "      <td>0.000000</td>\n",
       "      <td>0.0</td>\n",
       "      <td>0.0</td>\n",
       "      <td>2.0</td>\n",
       "      <td>0.166667</td>\n",
       "      <td>10</td>\n",
       "      <td>1.700000</td>\n",
       "      <td>1</td>\n",
       "      <td>0</td>\n",
       "    </tr>\n",
       "  </tbody>\n",
       "</table>\n",
       "<p>3000 rows × 412 columns</p>\n",
       "</div>"
      ],
      "text/plain": [
       "      0            1            2           3            4            5    \\\n",
       "0       0   864.263515   364.200415    9.100900   569.012631  3059.660249   \n",
       "1       0   429.012668   438.835063   21.462771   129.242818  1633.195247   \n",
       "2       0   487.244759   215.293670    9.060431   449.407714  1469.197512   \n",
       "3       0   701.522802   206.697739   35.318230   445.190344  1698.740262   \n",
       "4       0  1822.958518  1887.606611    2.255284  1337.204541  3361.830981   \n",
       "...   ...          ...          ...         ...          ...          ...   \n",
       "2995    1  1959.458242   296.151573  149.475680  1652.136174  3890.993192   \n",
       "2996    0  1085.976801   470.537368   36.216314   514.166373  1472.857407   \n",
       "2997    0  1247.909335   305.346243  124.614835   684.409239  1556.165465   \n",
       "2998    0  1608.307595   153.936332  138.522380  1037.845924  2192.512356   \n",
       "2999    0  1008.163238   494.625341   48.932914   938.449990  1607.541998   \n",
       "\n",
       "              6            7            8            9    ...  402       403  \\\n",
       "0     3215.762022  5817.811692  2245.510843  2172.577397  ...  0.0  0.000000   \n",
       "1      633.297258  2248.812860  4950.330338  2470.968265  ...  1.0  0.083333   \n",
       "2     1165.968943  2357.211774  4227.609499  5634.157054  ...  1.0  1.000000   \n",
       "3      613.688796  2801.548062  4964.892445  8015.374205  ...  1.0  0.616381   \n",
       "4     1445.861795  5315.380440  5890.979925  8189.115348  ...  0.0  0.000000   \n",
       "...           ...          ...          ...          ...  ...  ...       ...   \n",
       "2995  1060.751533  5718.153195  2671.891699  6558.548814  ...  2.0  0.166667   \n",
       "2996   472.230071  2453.676670  2642.805630  1617.703646  ...  1.0  0.166667   \n",
       "2997   567.760144  3660.615271  2942.977182  4022.335761  ...  0.0  0.000000   \n",
       "2998  1798.935882  4410.221636  2853.469577  6624.784990  ...  1.0  0.083333   \n",
       "2999   945.344316  2547.756603  2624.953688  3586.503635  ...  0.0  0.000000   \n",
       "\n",
       "      404  405  406       407  408        409  410  411  \n",
       "0     0.0  0.0  4.0  1.286296   22   6.954966    1    0  \n",
       "1     0.0  0.0  3.0  0.333333   11   1.083333    1    0  \n",
       "2     0.0  0.0  1.0  0.583333   19   5.833333    1    0  \n",
       "3     0.0  0.0  0.0  0.000000   21   7.751455    1    0  \n",
       "4     0.0  0.0  3.0  1.000000   34  19.736661    1    0  \n",
       "...   ...  ...  ...       ...  ...        ...  ...  ...  \n",
       "2995  0.0  0.0  3.0  2.750000   45  21.206667    1    1  \n",
       "2996  0.0  0.0  2.0  1.000000   26   6.200000    1    0  \n",
       "2997  0.0  0.0  2.0  0.345216   14   2.578037    1    0  \n",
       "2998  0.0  0.0  2.0  1.000000   19   3.083333    1    0  \n",
       "2999  0.0  0.0  2.0  0.166667   10   1.700000    1    0  \n",
       "\n",
       "[3000 rows x 412 columns]"
      ]
     },
     "execution_count": 9,
     "metadata": {},
     "output_type": "execute_result"
    }
   ],
   "source": [
    "df"
   ]
  },
  {
   "cell_type": "code",
   "execution_count": null,
   "id": "ca20d322",
   "metadata": {},
   "outputs": [],
   "source": []
  },
  {
   "cell_type": "code",
   "execution_count": 8,
   "id": "520d9e03",
   "metadata": {},
   "outputs": [],
   "source": [
    "\n",
    "\n",
    "# feature_names = params.fe_column_names\n",
    "# label_column = params.label_column\n",
    "# if len(df.columns) == len(feature_names) + 1:\n",
    "#     # This is a labelled example, includes the ring label\n",
    "#     df.columns = feature_names + [label_column]\n",
    "# elif len(df.columns) == len(feature_names):\n",
    "#     # This is an unlabelled example.\n",
    "#     df.columns = feature_names\n",
    "# df.head()"
   ]
  },
  {
   "cell_type": "code",
   "execution_count": 13,
   "id": "317416cc",
   "metadata": {},
   "outputs": [],
   "source": [
    "df[params.label_column] = df[params.label_column].astype(params.label_columns_dtype[params.label_column])"
   ]
  },
  {
   "cell_type": "code",
   "execution_count": null,
   "id": "075f1342",
   "metadata": {},
   "outputs": [],
   "source": []
  },
  {
   "cell_type": "code",
   "execution_count": null,
   "id": "9c42b5f2",
   "metadata": {},
   "outputs": [],
   "source": []
  },
  {
   "cell_type": "code",
   "execution_count": 6,
   "id": "709926d7",
   "metadata": {},
   "outputs": [],
   "source": [
    "import joblib"
   ]
  },
  {
   "cell_type": "code",
   "execution_count": 7,
   "id": "f2aed3f3",
   "metadata": {},
   "outputs": [
    {
     "ename": "FileNotFoundError",
     "evalue": "[Errno 2] No such file or directory: 'data/std_scaler.joblib'",
     "output_type": "error",
     "traceback": [
      "\u001b[0;31m---------------------------------------------------------------------------\u001b[0m",
      "\u001b[0;31mFileNotFoundError\u001b[0m                         Traceback (most recent call last)",
      "\u001b[0;32m/tmp/ipykernel_23908/2464091229.py\u001b[0m in \u001b[0;36m<cell line: 1>\u001b[0;34m()\u001b[0m\n\u001b[0;32m----> 1\u001b[0;31m \u001b[0msc\u001b[0m \u001b[0;34m=\u001b[0m \u001b[0mjoblib\u001b[0m\u001b[0;34m.\u001b[0m\u001b[0mload\u001b[0m\u001b[0;34m(\u001b[0m\u001b[0;34m\"data/std_scaler.joblib\"\u001b[0m\u001b[0;34m)\u001b[0m\u001b[0;34m\u001b[0m\u001b[0;34m\u001b[0m\u001b[0m\n\u001b[0m",
      "\u001b[0;32m~/anaconda3/envs/python3/lib/python3.8/site-packages/joblib/numpy_pickle.py\u001b[0m in \u001b[0;36mload\u001b[0;34m(filename, mmap_mode)\u001b[0m\n\u001b[1;32m    577\u001b[0m             \u001b[0mobj\u001b[0m \u001b[0;34m=\u001b[0m \u001b[0m_unpickle\u001b[0m\u001b[0;34m(\u001b[0m\u001b[0mfobj\u001b[0m\u001b[0;34m)\u001b[0m\u001b[0;34m\u001b[0m\u001b[0;34m\u001b[0m\u001b[0m\n\u001b[1;32m    578\u001b[0m     \u001b[0;32melse\u001b[0m\u001b[0;34m:\u001b[0m\u001b[0;34m\u001b[0m\u001b[0;34m\u001b[0m\u001b[0m\n\u001b[0;32m--> 579\u001b[0;31m         \u001b[0;32mwith\u001b[0m \u001b[0mopen\u001b[0m\u001b[0;34m(\u001b[0m\u001b[0mfilename\u001b[0m\u001b[0;34m,\u001b[0m \u001b[0;34m'rb'\u001b[0m\u001b[0;34m)\u001b[0m \u001b[0;32mas\u001b[0m \u001b[0mf\u001b[0m\u001b[0;34m:\u001b[0m\u001b[0;34m\u001b[0m\u001b[0;34m\u001b[0m\u001b[0m\n\u001b[0m\u001b[1;32m    580\u001b[0m             \u001b[0;32mwith\u001b[0m \u001b[0m_read_fileobject\u001b[0m\u001b[0;34m(\u001b[0m\u001b[0mf\u001b[0m\u001b[0;34m,\u001b[0m \u001b[0mfilename\u001b[0m\u001b[0;34m,\u001b[0m \u001b[0mmmap_mode\u001b[0m\u001b[0;34m)\u001b[0m \u001b[0;32mas\u001b[0m \u001b[0mfobj\u001b[0m\u001b[0;34m:\u001b[0m\u001b[0;34m\u001b[0m\u001b[0;34m\u001b[0m\u001b[0m\n\u001b[1;32m    581\u001b[0m                 \u001b[0;32mif\u001b[0m \u001b[0misinstance\u001b[0m\u001b[0;34m(\u001b[0m\u001b[0mfobj\u001b[0m\u001b[0;34m,\u001b[0m \u001b[0mstr\u001b[0m\u001b[0;34m)\u001b[0m\u001b[0;34m:\u001b[0m\u001b[0;34m\u001b[0m\u001b[0;34m\u001b[0m\u001b[0m\n",
      "\u001b[0;31mFileNotFoundError\u001b[0m: [Errno 2] No such file or directory: 'data/std_scaler.joblib'"
     ]
    }
   ],
   "source": [
    "sc = joblib.load(\"data/std_scaler.joblib\")"
   ]
  },
  {
   "cell_type": "code",
   "execution_count": null,
   "id": "c2a6aedd",
   "metadata": {},
   "outputs": [],
   "source": [
    "numeric_cols = [col for col, type_ in params.feature_columns_dtype.items() if type_ != \"category\"]\n",
    "category_cols = [col for col, type_ in params.feature_columns_dtype.items() if type_ == \"category\"]\n",
    "\n",
    "assert len(sc.transformers_[0][2]) == len(numeric_cols)\n",
    "assert len(sc.transformers_[1][2]) == len(category_cols)\n",
    "\n",
    "col_names = list(sc.transformers_[0][1].named_steps['scaler'].get_feature_names_out(numeric_cols)) + list( sc.transformers_[1][1].named_steps['onehot'].get_feature_names_out(category_cols))"
   ]
  },
  {
   "cell_type": "code",
   "execution_count": null,
   "id": "279efcf4",
   "metadata": {},
   "outputs": [],
   "source": [
    "len(col_names)"
   ]
  },
  {
   "cell_type": "code",
   "execution_count": null,
   "id": "888dc7f5",
   "metadata": {},
   "outputs": [],
   "source": [
    "# %run humana_transportation_featurizer.py --train_or_test=\"test\" --debugger=True \\\n",
    "# --input_data_path='s3://humana-data/rawdata/original_raw_files/valid'"
   ]
  },
  {
   "cell_type": "code",
   "execution_count": null,
   "id": "55790457",
   "metadata": {},
   "outputs": [],
   "source": [
    "# bucket = \"humana-data\"\n",
    "# valid_input = 's3://{}/rawdata/original_raw_files/valid'.format(bucket)\n",
    "# valid_input"
   ]
  },
  {
   "cell_type": "code",
   "execution_count": null,
   "id": "360dafec",
   "metadata": {},
   "outputs": [],
   "source": [
    "# !pip install xgboost"
   ]
  },
  {
   "cell_type": "code",
   "execution_count": null,
   "id": "5a5b0554",
   "metadata": {},
   "outputs": [],
   "source": [
    "def feature_importance_fn(xgb, col_names):\n",
    "    feature_importance = pd.DataFrame({'feature':col_names, 'importance':xgb.feature_importances_}).sort_values('importance',ascending=False).reset_index().drop(columns='index')\n",
    "    feature_importance.sort_values(by='importance',ascending=False)\n",
    "    fig, ax = plt.subplots()\n",
    "    fig.set_size_inches(8.27,15)\n",
    "    plt.title('Feature Importance Plot')\n",
    "    sns.barplot(x='importance',y='feature',ax=ax,data=feature_importance[:60])\n",
    "    return feature_importance\n"
   ]
  },
  {
   "cell_type": "code",
   "execution_count": null,
   "id": "171d4657",
   "metadata": {},
   "outputs": [],
   "source": [
    "bst = load(\"data/model.joblib\")"
   ]
  },
  {
   "cell_type": "code",
   "execution_count": null,
   "id": "873df190",
   "metadata": {},
   "outputs": [],
   "source": [
    "import shap\n",
    "\n",
    "import matplotlib.pyplot as plt\n",
    "import seaborn as sns\n",
    "\n",
    "import humana_package.constants as params"
   ]
  },
  {
   "cell_type": "code",
   "execution_count": null,
   "id": "8af0f688",
   "metadata": {},
   "outputs": [],
   "source": [
    "assert (len(bst.get_booster().feature_names) == len(col_names))"
   ]
  },
  {
   "cell_type": "code",
   "execution_count": null,
   "id": "6cfbb258",
   "metadata": {},
   "outputs": [],
   "source": [
    "top_features_xg = feature_importance_fn(bst, col_names)"
   ]
  },
  {
   "cell_type": "code",
   "execution_count": null,
   "id": "6e64a3ba",
   "metadata": {},
   "outputs": [],
   "source": []
  },
  {
   "cell_type": "code",
   "execution_count": null,
   "id": "b58691d8",
   "metadata": {},
   "outputs": [],
   "source": []
  },
  {
   "cell_type": "code",
   "execution_count": null,
   "id": "a0469d6b",
   "metadata": {},
   "outputs": [],
   "source": []
  },
  {
   "cell_type": "code",
   "execution_count": null,
   "id": "17acff22",
   "metadata": {},
   "outputs": [],
   "source": []
  },
  {
   "cell_type": "code",
   "execution_count": null,
   "id": "1b8e9cb8",
   "metadata": {},
   "outputs": [],
   "source": []
  }
 ],
 "metadata": {
  "kernelspec": {
   "display_name": "conda_python3",
   "language": "python",
   "name": "conda_python3"
  },
  "language_info": {
   "codemirror_mode": {
    "name": "ipython",
    "version": 3
   },
   "file_extension": ".py",
   "mimetype": "text/x-python",
   "name": "python",
   "nbconvert_exporter": "python",
   "pygments_lexer": "ipython3",
   "version": "3.8.12"
  }
 },
 "nbformat": 4,
 "nbformat_minor": 5
}
