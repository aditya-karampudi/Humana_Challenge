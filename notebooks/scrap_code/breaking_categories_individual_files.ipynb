{
 "cells": [
  {
   "cell_type": "code",
   "execution_count": 2,
   "metadata": {},
   "outputs": [
    {
     "name": "stderr",
     "output_type": "stream",
     "text": [
      "C:\\Users\\mohad\\Anaconda3\\lib\\site-packages\\IPython\\core\\interactiveshell.py:3063: DtypeWarning: Columns (79) have mixed types.Specify dtype option on import or set low_memory=False.\n",
      "  interactivity=interactivity, compiler=compiler, result=result)\n"
     ]
    }
   ],
   "source": [
    "import pandas as pd\n",
    "\n",
    "df = pd.read_csv(\"2020_Competition_Holdout .csv\")\n",
    "df.columns = df.columns.str.lower()"
   ]
  },
  {
   "cell_type": "code",
   "execution_count": 3,
   "metadata": {},
   "outputs": [],
   "source": [
    "neti = pd.read_excel(\"Broke_down_excel.xlsx\", sheet_name='Neti')\n",
    "aditya = pd.read_excel(\"Broke_down_excel.xlsx\", sheet_name='Aditya')\n",
    "suraj = pd.read_excel(\"Broke_down_excel.xlsx\", sheet_name='Suraj')"
   ]
  },
  {
   "cell_type": "code",
   "execution_count": 4,
   "metadata": {},
   "outputs": [],
   "source": [
    "neti.columns = aditya.columns\n",
    "\n",
    "suraj.columns = aditya.columns\n",
    "\n",
    "data_info = pd.concat([aditya, neti, suraj])\n",
    "data_info['column_name'] = data_info['column_name'].str.lower()\n",
    "data_info['column_name'] = data_info['column_name'].replace(\"sdr_person_id\", \"person_id_syn\")\n",
    "data_info = data_info[~(data_info['column_name'] == 'person_id_syn')]\n",
    "data_info = data_info.drop_duplicates(subset='column_name')\n",
    "\n",
    "\n",
    "categories  = data_info.Category.unique()"
   ]
  },
  {
   "cell_type": "code",
   "execution_count": 31,
   "metadata": {},
   "outputs": [],
   "source": [
    "df[['person_id_syn']].reset_index().to_parquet(\"broken_categories/test/index_person_id_syn.parquet.gzip\", compression='gzip')"
   ]
  },
  {
   "cell_type": "code",
   "execution_count": null,
   "metadata": {},
   "outputs": [],
   "source": []
  },
  {
   "cell_type": "code",
   "execution_count": 32,
   "metadata": {},
   "outputs": [],
   "source": [
    "for category in categories:\n",
    "    df_name = category + \".csv\"\n",
    "    try:\n",
    "        one_df = df[data_info[(data_info['Category'] == category)]['column_name']]\n",
    "    except KeyError:    \n",
    "        one_df = df[data_info[(data_info['Category'] == category)]['column_name'].drop(78)]\n",
    "    one_df.to_csv('broken_categories/test/' + df_name, index=False)"
   ]
  },
  {
   "cell_type": "code",
   "execution_count": null,
   "metadata": {},
   "outputs": [],
   "source": []
  },
  {
   "cell_type": "code",
   "execution_count": null,
   "metadata": {},
   "outputs": [],
   "source": []
  },
  {
   "cell_type": "code",
   "execution_count": null,
   "metadata": {},
   "outputs": [],
   "source": []
  },
  {
   "cell_type": "code",
   "execution_count": null,
   "metadata": {},
   "outputs": [],
   "source": []
  },
  {
   "cell_type": "code",
   "execution_count": 147,
   "metadata": {},
   "outputs": [],
   "source": [
    "# import quandl\n",
    "import pandas as pd\n",
    "import pymongo\n",
    "from pymongo import MongoClient"
   ]
  },
  {
   "cell_type": "code",
   "execution_count": 148,
   "metadata": {},
   "outputs": [],
   "source": [
    "# Making a Connection with MongoClient\n",
    "client = MongoClient(\"mongodb://localhost:27017/\")\n"
   ]
  },
  {
   "cell_type": "code",
   "execution_count": 149,
   "metadata": {
    "scrolled": true
   },
   "outputs": [
    {
     "name": "stdout",
     "output_type": "stream",
     "text": [
      "Condition\n",
      "Credit\n",
      "Lab\n"
     ]
    }
   ],
   "source": [
    "for category in categories:\n",
    "    print(category)\n",
    "    one_df = df[data_info[(data_info['Category'] == category)]['column_name'].append(pd.Series('person_id_syn'))]\n",
    "    data_dict = one_df.to_dict(\"records\")\n",
    "\n",
    "\n",
    "    # database\n",
    "    db = client[\"humana\"]\n",
    "\n",
    "    # collection\n",
    "    collection_name = category.replace(\" \", \"_\").lower()\n",
    "    db[collection_name].delete_many({}) # Empty all the rows if there are any in the table\n",
    "    db[collection_name].insert_many(data_dict) # Update it with the subset of the dataframe"
   ]
  },
  {
   "cell_type": "code",
   "execution_count": 13,
   "metadata": {},
   "outputs": [],
   "source": [
    "# import pandas as pd\n",
    "# from pymongo import MongoClient\n",
    "\n",
    "\n",
    "# def _connect_mongo(host, port, username, password, db):\n",
    "#     \"\"\" A util for making a connection to mongo \"\"\"\n",
    "\n",
    "#     if username and password:\n",
    "#         mongo_uri = 'mongodb://%s:%s@%s:%s/%s' % (username, password, host, port, db)\n",
    "#         conn = MongoClient(mongo_uri)\n",
    "#     else:\n",
    "#         conn = MongoClient(host, port)\n",
    "\n",
    "\n",
    "#     return conn[db]\n",
    "\n",
    "\n",
    "# def read_mongo(db, collection, query={}, host='localhost', port=27017, username=None, password=None, no_id=True):\n",
    "#     \"\"\" Read from Mongo and Store into DataFrame \"\"\"\n",
    "\n",
    "#     # Connect to MongoDB\n",
    "#     db = _connect_mongo(host=host, port=port, username=username, password=password, db=db)\n",
    "\n",
    "#     # Make a query to the specific DB and Collection\n",
    "#     cursor = db[collection].find(query)\n",
    "\n",
    "#     # Expand the cursor and construct the DataFrame\n",
    "#     df =  pd.DataFrame(list(cursor))\n",
    "\n",
    "#     # Delete the _id\n",
    "#     if no_id:\n",
    "#         del df['_id']\n",
    "\n",
    "#     return df"
   ]
  },
  {
   "cell_type": "code",
   "execution_count": 14,
   "metadata": {},
   "outputs": [],
   "source": [
    "# host='localhost'\n",
    "# port=27017\n",
    "# username=None\n",
    "# password=None\n",
    "# no_id=True"
   ]
  },
  {
   "cell_type": "code",
   "execution_count": 15,
   "metadata": {},
   "outputs": [],
   "source": [
    "# # Connect to MongoDB\n",
    "# db = _connect_mongo(host=host, port=port, username=username, password=password, db=db)\n",
    "\n",
    "# # Make a query to the specific DB and Collection\n",
    "# cursor = db[collection].find(query)\n",
    "\n",
    "# # Expand the cursor and construct the DataFrame\n",
    "# df =  pd.DataFrame(list(cursor))\n",
    "\n",
    "# # Delete the _id\n",
    "# if no_id:\n",
    "#     del df['_id']"
   ]
  },
  {
   "cell_type": "code",
   "execution_count": null,
   "metadata": {},
   "outputs": [],
   "source": []
  },
  {
   "cell_type": "code",
   "execution_count": 131,
   "metadata": {},
   "outputs": [],
   "source": [
    "db = client['humana']\n",
    "lab_df = pd.DataFrame(list(db['lab'].find()))"
   ]
  },
  {
   "cell_type": "code",
   "execution_count": 132,
   "metadata": {},
   "outputs": [
    {
     "data": {
      "text/plain": [
       "(139144, 340)"
      ]
     },
     "execution_count": 132,
     "metadata": {},
     "output_type": "execute_result"
    }
   ],
   "source": [
    "condition_df = pd.DataFrame(list(db['condition'].find()))\n",
    "condition_df.shape"
   ]
  },
  {
   "cell_type": "code",
   "execution_count": 133,
   "metadata": {},
   "outputs": [
    {
     "data": {
      "text/plain": [
       "(139144, 340)"
      ]
     },
     "execution_count": 133,
     "metadata": {},
     "output_type": "execute_result"
    }
   ],
   "source": [
    "condition_df.shape"
   ]
  },
  {
   "cell_type": "code",
   "execution_count": 135,
   "metadata": {},
   "outputs": [
    {
     "data": {
      "text/plain": [
       "(69572, 340)"
      ]
     },
     "execution_count": 135,
     "metadata": {},
     "output_type": "execute_result"
    }
   ],
   "source": [
    "condition_df.drop_duplicates(subset=['person_id_syn']).shape"
   ]
  },
  {
   "cell_type": "code",
   "execution_count": null,
   "metadata": {},
   "outputs": [],
   "source": []
  },
  {
   "cell_type": "code",
   "execution_count": 143,
   "metadata": {},
   "outputs": [
    {
     "data": {
      "text/plain": [
       "<pymongo.results.DeleteResult at 0x2454770e3c8>"
      ]
     },
     "execution_count": 143,
     "metadata": {},
     "output_type": "execute_result"
    }
   ],
   "source": [
    "db['lab'].delete_many({})"
   ]
  },
  {
   "cell_type": "code",
   "execution_count": null,
   "metadata": {},
   "outputs": [],
   "source": []
  },
  {
   "cell_type": "code",
   "execution_count": null,
   "metadata": {},
   "outputs": [],
   "source": []
  }
 ],
 "metadata": {
  "kernelspec": {
   "display_name": "Python 3",
   "language": "python",
   "name": "python3"
  },
  "language_info": {
   "codemirror_mode": {
    "name": "ipython",
    "version": 3
   },
   "file_extension": ".py",
   "mimetype": "text/x-python",
   "name": "python",
   "nbconvert_exporter": "python",
   "pygments_lexer": "ipython3",
   "version": "3.7.6"
  }
 },
 "nbformat": 4,
 "nbformat_minor": 4
}
