{
 "cells": [
  {
   "cell_type": "code",
   "execution_count": 15,
   "id": "48107e61",
   "metadata": {},
   "outputs": [],
   "source": [
    "import pandas as pd\n",
    "import sagemaker\n",
    "from sagemaker import get_execution_role\n",
    "import awswrangler as wr\n",
    "import boto3\n",
    "import os\n",
    "import io\n"
   ]
  },
  {
   "cell_type": "code",
   "execution_count": 22,
   "id": "432fd6a9",
   "metadata": {},
   "outputs": [],
   "source": [
    "sess = sagemaker.Session()\n",
    "role = get_execution_role()"
   ]
  },
  {
   "cell_type": "code",
   "execution_count": 37,
   "id": "3cb0ab14",
   "metadata": {},
   "outputs": [
    {
     "data": {
      "text/plain": [
       "['rawdata/original_raw_files/CMS.csv',\n",
       " 'rawdata/original_raw_files/Condition.csv',\n",
       " 'rawdata/original_raw_files/Credit.csv',\n",
       " 'rawdata/original_raw_files/Demo.csv',\n",
       " 'rawdata/original_raw_files/Lab.csv',\n",
       " 'rawdata/original_raw_files/Medical Claims.csv',\n",
       " 'rawdata/original_raw_files/Not sure.csv',\n",
       " 'rawdata/original_raw_files/Others.csv',\n",
       " 'rawdata/original_raw_files/Pharm.csv',\n",
       " 'rawdata/original_raw_files/dependent.csv']"
      ]
     },
     "execution_count": 37,
     "metadata": {},
     "output_type": "execute_result"
    }
   ],
   "source": [
    "prefix = 'rawdata/original_raw_files/full_data'\n",
    "bucket = \"humana-data\"\n",
    "\n",
    "conn = boto3.client('s3')\n",
    "contents = conn.list_objects(Bucket=bucket, Prefix=prefix)['Contents']\n",
    "\n",
    "rawfile_names = [key['Key'] for key in contents]\n",
    "rawfile_names = [x for x in rawfile_names if x.endswith('.csv')]\n",
    "rawfile_names"
   ]
  },
  {
   "cell_type": "code",
   "execution_count": null,
   "id": "d81035f9",
   "metadata": {},
   "outputs": [],
   "source": []
  },
  {
   "cell_type": "code",
   "execution_count": 8,
   "id": "962dd9d1",
   "metadata": {},
   "outputs": [
    {
     "name": "stdout",
     "output_type": "stream",
     "text": [
      "Successful S3 get_object response. Status - 200\n"
     ]
    }
   ],
   "source": [
    "# Get the demo file\n",
    "response = conn.get_object(Bucket=bucket, Key='rawdata/Demo.csv')\n",
    "status = response.get(\"ResponseMetadata\", {}).get(\"HTTPStatusCode\")\n",
    "\n",
    "if status == 200:\n",
    "    print(f\"Successful S3 get_object response. Status - {status}\")\n",
    "    df = pd.read_csv(response.get(\"Body\"))\n",
    "else:\n",
    "    print(f\"Unsuccessful S3 get_object response. Status - {status}\")"
   ]
  },
  {
   "cell_type": "code",
   "execution_count": null,
   "id": "7eb446e7",
   "metadata": {},
   "outputs": [],
   "source": [
    "#drop the column\n",
    "df.drop(columns='transportation_issues')"
   ]
  },
  {
   "cell_type": "code",
   "execution_count": 98,
   "id": "0b211afd",
   "metadata": {},
   "outputs": [
    {
     "name": "stdout",
     "output_type": "stream",
     "text": [
      "Successful S3 put_object response. Status - 200\n"
     ]
    }
   ],
   "source": [
    "#Export the file\n",
    "with io.StringIO() as csv_buffer:\n",
    "    df.to_csv(csv_buffer, index=False)\n",
    "\n",
    "    response = s3_client.put_object(\n",
    "        Bucket=bucket, Key=\"rawdata/Demo.csv\", Body=csv_buffer.getvalue()\n",
    "    )\n",
    "\n",
    "    status = response.get(\"ResponseMetadata\", {}).get(\"HTTPStatusCode\")\n",
    "\n",
    "    if status == 200:\n",
    "        print(f\"Successful S3 put_object response. Status - {status}\")\n",
    "    else:\n",
    "        print(f\"Unsuccessful S3 put_object response. Status - {status}\")"
   ]
  },
  {
   "cell_type": "code",
   "execution_count": null,
   "id": "6efd5f5c",
   "metadata": {},
   "outputs": [],
   "source": []
  },
  {
   "cell_type": "markdown",
   "id": "af275c6d",
   "metadata": {},
   "source": [
    "### Export files as Parquet"
   ]
  },
  {
   "cell_type": "code",
   "execution_count": 34,
   "id": "a7fbf32c",
   "metadata": {},
   "outputs": [],
   "source": [
    "prefix_pq = prefix + '/original_pq_files'"
   ]
  },
  {
   "cell_type": "code",
   "execution_count": 50,
   "id": "bf359da7",
   "metadata": {
    "scrolled": true
   },
   "outputs": [],
   "source": [
    "df = wr.s3.read_parquet(path = f's3://{bucket}/{prefix_pq}/Demo.pq')\n",
    "\n",
    "wr.s3.to_parquet(df,\n",
    "                path = f's3://{bucket}/{prefix_pq}/Demo.pq', compression='gzip')"
   ]
  },
  {
   "cell_type": "code",
   "execution_count": 48,
   "id": "84e24116",
   "metadata": {},
   "outputs": [
    {
     "name": "stdout",
     "output_type": "stream",
     "text": [
      "Successful S3 get_object response. Status - 200\n",
      "Successful S3 get_object response. Status - 200\n",
      "Successful S3 get_object response. Status - 200\n",
      "Successful S3 get_object response. Status - 200\n",
      "Successful S3 get_object response. Status - 200\n",
      "Successful S3 get_object response. Status - 200\n",
      "Successful S3 get_object response. Status - 200\n",
      "Successful S3 get_object response. Status - 200\n",
      "Successful S3 get_object response. Status - 200\n",
      "Successful S3 get_object response. Status - 200\n"
     ]
    }
   ],
   "source": [
    "#IMPORT as csv and export as parquet file format\n",
    "for file in rawfile_names:\n",
    "    filename_pq = file.split('/')[-1].split('.')[0] + '.pq'\n",
    "    \n",
    "    # Get the demo file\n",
    "    response = conn.get_object(Bucket=bucket, Key=file)\n",
    "    status = response.get(\"ResponseMetadata\", {}).get(\"HTTPStatusCode\")\n",
    "\n",
    "    if status == 200:\n",
    "        print(f\"Successful S3 get_object response. Status - {status}\")\n",
    "        df = pd.read_csv(response.get(\"Body\"))\n",
    "        wr.s3.to_parquet(df,\n",
    "                path = f's3://{bucket}/{prefix_pq}/{filename_pq}', compression='gzip')\n",
    "        \n",
    "    else:\n",
    "        print(f\"Unsuccessful S3 get_object response. Status - {status}\")"
   ]
  },
  {
   "cell_type": "code",
   "execution_count": null,
   "id": "22193701",
   "metadata": {},
   "outputs": [],
   "source": []
  },
  {
   "cell_type": "code",
   "execution_count": null,
   "id": "e44e65fa",
   "metadata": {},
   "outputs": [],
   "source": []
  },
  {
   "cell_type": "code",
   "execution_count": null,
   "id": "f9b6c6b4",
   "metadata": {},
   "outputs": [],
   "source": []
  },
  {
   "cell_type": "code",
   "execution_count": null,
   "id": "4be9ac78",
   "metadata": {},
   "outputs": [],
   "source": []
  },
  {
   "cell_type": "code",
   "execution_count": 54,
   "id": "05213c6f",
   "metadata": {},
   "outputs": [
    {
     "data": {
      "text/plain": [
       "'humana-data'"
      ]
     },
     "execution_count": 54,
     "metadata": {},
     "output_type": "execute_result"
    }
   ],
   "source": [
    "bucket"
   ]
  },
  {
   "cell_type": "code",
   "execution_count": 56,
   "id": "a595470e",
   "metadata": {},
   "outputs": [
    {
     "data": {
      "text/plain": [
       "'rawdata/original_raw_files'"
      ]
     },
     "execution_count": 56,
     "metadata": {},
     "output_type": "execute_result"
    }
   ],
   "source": [
    "prefix"
   ]
  },
  {
   "cell_type": "code",
   "execution_count": 58,
   "id": "da542bbc",
   "metadata": {},
   "outputs": [
    {
     "ename": "NoSuchKey",
     "evalue": "An error occurred (NoSuchKey) when calling the GetObject operation: The specified key does not exist.",
     "output_type": "error",
     "traceback": [
      "\u001b[0;31m---------------------------------------------------------------------------\u001b[0m",
      "\u001b[0;31mNoSuchKey\u001b[0m                                 Traceback (most recent call last)",
      "\u001b[0;32m/tmp/ipykernel_5090/1608405883.py\u001b[0m in \u001b[0;36m<cell line: 1>\u001b[0;34m()\u001b[0m\n\u001b[0;32m----> 1\u001b[0;31m \u001b[0mresponse\u001b[0m \u001b[0;34m=\u001b[0m \u001b[0mconn\u001b[0m\u001b[0;34m.\u001b[0m\u001b[0mget_object\u001b[0m\u001b[0;34m(\u001b[0m\u001b[0mBucket\u001b[0m\u001b[0;34m=\u001b[0m\u001b[0mbucket\u001b[0m\u001b[0;34m,\u001b[0m \u001b[0mKey\u001b[0m\u001b[0;34m=\u001b[0m\u001b[0mprefix\u001b[0m\u001b[0;34m)\u001b[0m\u001b[0;34m\u001b[0m\u001b[0;34m\u001b[0m\u001b[0m\n\u001b[0m",
      "\u001b[0;32m~/anaconda3/envs/python3/lib/python3.8/site-packages/botocore/client.py\u001b[0m in \u001b[0;36m_api_call\u001b[0;34m(self, *args, **kwargs)\u001b[0m\n\u001b[1;32m    393\u001b[0m \u001b[0;34m\u001b[0m\u001b[0m\n\u001b[1;32m    394\u001b[0m         \u001b[0;31m# Check to see if the region is a region that we know about. If we\u001b[0m\u001b[0;34m\u001b[0m\u001b[0;34m\u001b[0m\u001b[0;34m\u001b[0m\u001b[0m\n\u001b[0;32m--> 395\u001b[0;31m         \u001b[0;31m# don't know about a region, then we can safely assume it's a new\u001b[0m\u001b[0;34m\u001b[0m\u001b[0;34m\u001b[0m\u001b[0;34m\u001b[0m\u001b[0m\n\u001b[0m\u001b[1;32m    396\u001b[0m         \u001b[0;31m# region that is sigv4 only, since all new S3 regions only allow sigv4.\u001b[0m\u001b[0;34m\u001b[0m\u001b[0;34m\u001b[0m\u001b[0;34m\u001b[0m\u001b[0m\n\u001b[1;32m    397\u001b[0m         \u001b[0;31m# The only exception is aws-global. This is a pseudo-region for the\u001b[0m\u001b[0;34m\u001b[0m\u001b[0;34m\u001b[0m\u001b[0;34m\u001b[0m\u001b[0m\n",
      "\u001b[0;32m~/anaconda3/envs/python3/lib/python3.8/site-packages/botocore/client.py\u001b[0m in \u001b[0;36m_make_api_call\u001b[0;34m(self, operation_name, api_params)\u001b[0m\n\u001b[1;32m    723\u001b[0m             \u001b[0;34m'signing_name'\u001b[0m\u001b[0;34m:\u001b[0m \u001b[0msigning_name\u001b[0m\u001b[0;34m,\u001b[0m\u001b[0;34m\u001b[0m\u001b[0;34m\u001b[0m\u001b[0m\n\u001b[1;32m    724\u001b[0m             \u001b[0;34m'endpoint_url'\u001b[0m\u001b[0;34m:\u001b[0m \u001b[0mendpoint_url\u001b[0m\u001b[0;34m,\u001b[0m\u001b[0;34m\u001b[0m\u001b[0;34m\u001b[0m\u001b[0m\n\u001b[0;32m--> 725\u001b[0;31m             \u001b[0;34m'signature_version'\u001b[0m\u001b[0;34m:\u001b[0m \u001b[0msignature_version\u001b[0m\u001b[0;34m,\u001b[0m\u001b[0;34m\u001b[0m\u001b[0;34m\u001b[0m\u001b[0m\n\u001b[0m\u001b[1;32m    726\u001b[0m             \u001b[0;34m'metadata'\u001b[0m\u001b[0;34m:\u001b[0m \u001b[0mmetadata\u001b[0m\u001b[0;34m,\u001b[0m\u001b[0;34m\u001b[0m\u001b[0;34m\u001b[0m\u001b[0m\n\u001b[1;32m    727\u001b[0m         }\n",
      "\u001b[0;31mNoSuchKey\u001b[0m: An error occurred (NoSuchKey) when calling the GetObject operation: The specified key does not exist."
     ]
    }
   ],
   "source": [
    "response = conn.get_object(Bucket=bucket, Key=prefix)"
   ]
  },
  {
   "cell_type": "code",
   "execution_count": 66,
   "id": "836f9bb4",
   "metadata": {},
   "outputs": [
    {
     "data": {
      "text/plain": [
       "'rawdata/original_raw_files'"
      ]
     },
     "execution_count": 66,
     "metadata": {},
     "output_type": "execute_result"
    }
   ],
   "source": [
    "prefix"
   ]
  },
  {
   "cell_type": "code",
   "execution_count": 70,
   "id": "cc7695cb",
   "metadata": {},
   "outputs": [
    {
     "name": "stdout",
     "output_type": "stream",
     "text": [
      "Successful S3 get_object response. Status - 200\n"
     ]
    },
    {
     "data": {
      "text/plain": [
       "{'paths': ['s3://humana-data/rawdata/original_pq_files/Credit.pq'],\n",
       " 'partitions_values': {}}"
      ]
     },
     "execution_count": 70,
     "metadata": {},
     "output_type": "execute_result"
    }
   ],
   "source": [
    "response = conn.get_object(Bucket=bucket, Key=prefix+'/Credit.csv')\n",
    "status = response.get(\"ResponseMetadata\", {}).get(\"HTTPStatusCode\")\n",
    "\n",
    "\n",
    "if status == 200:\n",
    "    print(f\"Successful S3 get_object response. Status - {status}\")\n",
    "    df = pd.read_csv(response.get(\"Body\")\n",
    "                    )\n",
    "wr.s3.to_parquet(df,\n",
    "                path = f's3://{bucket}/{prefix_pq}/Credit.pq', compression='gzip')"
   ]
  },
  {
   "cell_type": "code",
   "execution_count": null,
   "id": "f2fd7384",
   "metadata": {},
   "outputs": [],
   "source": []
  },
  {
   "cell_type": "code",
   "execution_count": null,
   "id": "09618d2b",
   "metadata": {},
   "outputs": [],
   "source": []
  },
  {
   "cell_type": "code",
   "execution_count": null,
   "id": "d6bae087",
   "metadata": {},
   "outputs": [],
   "source": []
  },
  {
   "cell_type": "code",
   "execution_count": 3,
   "id": "2991531f",
   "metadata": {},
   "outputs": [
    {
     "data": {
      "text/plain": [
       "'C:\\\\Users\\\\mohad\\\\OneDrive - University of South Florida\\\\Studies\\\\USF\\\\Humana-Github\\\\Humana_Challenge\\\\notebooks\\\\scrap_code'"
      ]
     },
     "execution_count": 3,
     "metadata": {},
     "output_type": "execute_result"
    }
   ],
   "source": [
    "import os\n",
    "import pandas as pd\n",
    "os.getcwd()"
   ]
  },
  {
   "cell_type": "code",
   "execution_count": 4,
   "id": "a531c03c",
   "metadata": {},
   "outputs": [],
   "source": [
    "file_names = os.listdir('../../../data/broken_categories/')"
   ]
  },
  {
   "cell_type": "code",
   "execution_count": 14,
   "id": "7bc1f7b6",
   "metadata": {
    "scrolled": true
   },
   "outputs": [
    {
     "name": "stdout",
     "output_type": "stream",
     "text": [
      "CMS.csv (69572, 14)\n",
      "Condition.csv (69572, 339)\n",
      "Credit.csv (69572, 100)\n",
      "Demo.csv (69572, 26)\n",
      "Lab.csv (69572, 9)\n",
      "Medical Claims.csv (69572, 73)\n",
      "Not sure.csv (69572, 30)\n",
      "Others.csv (69572, 33)\n",
      "Pharm.csv (69572, 210)\n"
     ]
    }
   ],
   "source": [
    "for file in file_names:\n",
    "    df = pd.read_csv('C:\\\\Users\\\\mohad\\\\OneDrive - University of South Florida\\\\Studies\\\\USF\\\\Humana-Github\\\\data\\\\broken_categories\\\\{}'.format(file))\n",
    "    df.to_parquet(\"C:/Users/mohad/OneDrive - University of South Florida/Studies/USF/Humana-Github/data/broken_categories/{}\".format(file.split('.')[0] + '.pq'))\n",
    "    print(file, df.shape)"
   ]
  },
  {
   "cell_type": "code",
   "execution_count": 18,
   "id": "8faaefa4",
   "metadata": {},
   "outputs": [],
   "source": [
    "# pd.read_parquet(\"C:/Users/mohad/OneDrive - University of South Florida/Studies/USF/Humana-Github/data/broken_categories/{}\".format(file.split('.')[0] + '.pq'))\n",
    "    "
   ]
  },
  {
   "cell_type": "code",
   "execution_count": null,
   "id": "7f884ee0",
   "metadata": {},
   "outputs": [],
   "source": []
  },
  {
   "cell_type": "code",
   "execution_count": 13,
   "id": "3d5fe641",
   "metadata": {},
   "outputs": [],
   "source": []
  },
  {
   "cell_type": "code",
   "execution_count": null,
   "id": "361d9866",
   "metadata": {},
   "outputs": [],
   "source": []
  },
  {
   "cell_type": "code",
   "execution_count": null,
   "id": "03dd035e",
   "metadata": {},
   "outputs": [],
   "source": []
  },
  {
   "cell_type": "code",
   "execution_count": null,
   "id": "2fcfee5b",
   "metadata": {},
   "outputs": [],
   "source": []
  },
  {
   "cell_type": "code",
   "execution_count": null,
   "id": "a797a552",
   "metadata": {},
   "outputs": [],
   "source": []
  },
  {
   "cell_type": "code",
   "execution_count": null,
   "id": "41697292",
   "metadata": {},
   "outputs": [],
   "source": []
  },
  {
   "cell_type": "code",
   "execution_count": null,
   "id": "4c215d8b",
   "metadata": {},
   "outputs": [],
   "source": []
  }
 ],
 "metadata": {
  "kernelspec": {
   "display_name": "Python 3",
   "language": "python",
   "name": "python3"
  },
  "language_info": {
   "codemirror_mode": {
    "name": "ipython",
    "version": 3
   },
   "file_extension": ".py",
   "mimetype": "text/x-python",
   "name": "python",
   "nbconvert_exporter": "python",
   "pygments_lexer": "ipython3",
   "version": "3.7.6"
  }
 },
 "nbformat": 4,
 "nbformat_minor": 5
}
